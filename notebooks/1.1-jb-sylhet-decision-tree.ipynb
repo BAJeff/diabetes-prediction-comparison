{
 "cells": [
  {
   "cell_type": "markdown",
   "id": "5dca6ff0",
   "metadata": {},
   "source": [
    "# Intro\n",
    "https://link.springer.com/chapter/10.1007/978-981-13-8798-2_12\n",
    "\n",
    "The dataset referenced in this paper contains 520 observations and 17 attributes that are collected\n",
    "using direct questionnaires and diagnosis results from the patients in the Sylhet Diabetes Hospital\n",
    "in Sylhet, Bangladesh. There are 2 demographic features, Age & Gender; the other 15 attributes\n",
    "are binary features that indicate whether the patient experienced a symptom\n",
    "\n",
    "By the due date of milestone report on 10/23, we should be able to reproduce the results from the first\n",
    "paper. For the milestone report, we will each tackle an algorithm and attempt to reproduce the results\n",
    "from (Islam et al. 2020). With the exception of Decision Tree/Random Forest, this corresponds with\n",
    "the material taught on the syllabus.\n",
    "\n",
    "## Explore"
   ]
  },
  {
   "cell_type": "code",
   "execution_count": 1,
   "id": "1b68e5e8-8baf-43c1-8f87-aeead5effddb",
   "metadata": {
    "execution": {
     "iopub.execute_input": "2022-12-08T04:42:08.177333Z",
     "iopub.status.busy": "2022-12-08T04:42:08.176960Z",
     "iopub.status.idle": "2022-12-08T04:42:08.182408Z",
     "shell.execute_reply": "2022-12-08T04:42:08.180777Z",
     "shell.execute_reply.started": "2022-12-08T04:42:08.177227Z"
    },
    "tags": []
   },
   "outputs": [],
   "source": [
    "# pip install sklearn-pandas"
   ]
  },
  {
   "cell_type": "code",
   "execution_count": 2,
   "id": "78679d10-16fe-4dbe-b1b2-2673ae98cd19",
   "metadata": {
    "execution": {
     "iopub.execute_input": "2022-12-08T04:42:08.184539Z",
     "iopub.status.busy": "2022-12-08T04:42:08.184039Z",
     "iopub.status.idle": "2022-12-08T04:42:08.188727Z",
     "shell.execute_reply": "2022-12-08T04:42:08.188060Z",
     "shell.execute_reply.started": "2022-12-08T04:42:08.184509Z"
    },
    "tags": []
   },
   "outputs": [],
   "source": [
    "# %pip install --user pandas_profiling"
   ]
  },
  {
   "cell_type": "code",
   "execution_count": 3,
   "id": "3ac80436-22cc-4222-aa8e-319e3949548e",
   "metadata": {
    "execution": {
     "iopub.execute_input": "2022-12-08T04:42:08.192635Z",
     "iopub.status.busy": "2022-12-08T04:42:08.192144Z",
     "iopub.status.idle": "2022-12-08T04:42:10.199533Z",
     "shell.execute_reply": "2022-12-08T04:42:10.199047Z",
     "shell.execute_reply.started": "2022-12-08T04:42:08.192605Z"
    },
    "tags": []
   },
   "outputs": [],
   "source": [
    "import graphviz\n",
    "import matplotlib.pyplot as plt\n",
    "import numpy as np\n",
    "import pandas as pd\n",
    "import seaborn as sns\n",
    "import sklearn\n",
    "\n",
    "###sklearn\n",
    "from sklearn import (\n",
    "    ensemble,\n",
    "    feature_selection,\n",
    "    linear_model,\n",
    "    metrics,\n",
    "    model_selection,\n",
    "    naive_bayes,\n",
    "    tree,\n",
    ")\n",
    "from sklearn.compose import ColumnTransformer\n",
    "from sklearn.pipeline import Pipeline\n",
    "from sklearn.preprocessing import KBinsDiscretizer, LabelEncoder, OneHotEncoder\n",
    "from sklearn.tree import export_graphviz\n",
    "from sklearn.model_selection import GridSearchCV\n",
    "\n",
    "# from pandas_profiling import ProfileReport\n",
    "\n",
    "\n",
    "sns.set(rc={\"axes.facecolor\": \"white\", \"figure.facecolor\": \"white\"})"
   ]
  },
  {
   "cell_type": "code",
   "execution_count": 4,
   "id": "75931b7a-10da-465c-b423-1b55c8b5f40a",
   "metadata": {
    "execution": {
     "iopub.execute_input": "2022-12-08T04:42:10.200644Z",
     "iopub.status.busy": "2022-12-08T04:42:10.200402Z",
     "iopub.status.idle": "2022-12-08T04:42:10.208657Z",
     "shell.execute_reply": "2022-12-08T04:42:10.208133Z",
     "shell.execute_reply.started": "2022-12-08T04:42:10.200621Z"
    },
    "tags": []
   },
   "outputs": [],
   "source": [
    "sylhet_raw = pd.read_csv(\"../data/sylhet-dataset.csv\")\n",
    "sylhet_copy = sylhet_raw.copy(deep=True)"
   ]
  },
  {
   "cell_type": "code",
   "execution_count": 5,
   "id": "24641e6d",
   "metadata": {
    "execution": {
     "iopub.execute_input": "2022-12-08T04:42:10.209907Z",
     "iopub.status.busy": "2022-12-08T04:42:10.209441Z",
     "iopub.status.idle": "2022-12-08T04:42:10.221890Z",
     "shell.execute_reply": "2022-12-08T04:42:10.221239Z",
     "shell.execute_reply.started": "2022-12-08T04:42:10.209880Z"
    },
    "tags": []
   },
   "outputs": [
    {
     "name": "stdout",
     "output_type": "stream",
     "text": [
      "<class 'pandas.core.frame.DataFrame'>\n",
      "RangeIndex: 520 entries, 0 to 519\n",
      "Data columns (total 17 columns):\n",
      " #   Column              Non-Null Count  Dtype \n",
      "---  ------              --------------  ----- \n",
      " 0   Age                 520 non-null    int64 \n",
      " 1   Gender              520 non-null    object\n",
      " 2   Polyuria            520 non-null    object\n",
      " 3   Polydipsia          520 non-null    object\n",
      " 4   sudden weight loss  520 non-null    object\n",
      " 5   weakness            520 non-null    object\n",
      " 6   Polyphagia          520 non-null    object\n",
      " 7   Genital thrush      520 non-null    object\n",
      " 8   visual blurring     520 non-null    object\n",
      " 9   Itching             520 non-null    object\n",
      " 10  Irritability        520 non-null    object\n",
      " 11  delayed healing     520 non-null    object\n",
      " 12  partial paresis     520 non-null    object\n",
      " 13  muscle stiffness    520 non-null    object\n",
      " 14  Alopecia            520 non-null    object\n",
      " 15  Obesity             520 non-null    object\n",
      " 16  class               520 non-null    object\n",
      "dtypes: int64(1), object(16)\n",
      "memory usage: 69.2+ KB\n"
     ]
    }
   ],
   "source": [
    "sylhet_copy.info()"
   ]
  },
  {
   "cell_type": "code",
   "execution_count": 6,
   "id": "6979d00d-ae64-4d65-ba14-6d2b85c67b6e",
   "metadata": {
    "execution": {
     "iopub.execute_input": "2022-12-08T04:42:10.223279Z",
     "iopub.status.busy": "2022-12-08T04:42:10.223009Z",
     "iopub.status.idle": "2022-12-08T04:42:10.226686Z",
     "shell.execute_reply": "2022-12-08T04:42:10.225895Z",
     "shell.execute_reply.started": "2022-12-08T04:42:10.223256Z"
    },
    "tags": []
   },
   "outputs": [],
   "source": [
    "# profile = ProfileReport(sylhet_copy)"
   ]
  },
  {
   "cell_type": "code",
   "execution_count": 7,
   "id": "10be8188-58ae-4351-ae26-1178ce76ed21",
   "metadata": {
    "execution": {
     "iopub.execute_input": "2022-12-08T04:42:10.228054Z",
     "iopub.status.busy": "2022-12-08T04:42:10.227547Z",
     "iopub.status.idle": "2022-12-08T04:42:10.230934Z",
     "shell.execute_reply": "2022-12-08T04:42:10.230364Z",
     "shell.execute_reply.started": "2022-12-08T04:42:10.228028Z"
    },
    "tags": []
   },
   "outputs": [],
   "source": [
    "# profile.to_widgets()"
   ]
  },
  {
   "cell_type": "code",
   "execution_count": 8,
   "id": "cdd89cab-64f4-4f49-bb3d-97d904e41c23",
   "metadata": {
    "execution": {
     "iopub.execute_input": "2022-12-08T04:42:10.232103Z",
     "iopub.status.busy": "2022-12-08T04:42:10.231889Z",
     "iopub.status.idle": "2022-12-08T04:42:10.236783Z",
     "shell.execute_reply": "2022-12-08T04:42:10.235973Z",
     "shell.execute_reply.started": "2022-12-08T04:42:10.232081Z"
    },
    "tags": []
   },
   "outputs": [
    {
     "name": "stdout",
     "output_type": "stream",
     "text": [
      "['age', 'gender', 'polyuria', 'polydipsia', 'sudden_weight_loss', 'weakness', 'polyphagia', 'genital_thrush', 'visual_blurring', 'itching', 'irritability', 'delayed_healing', 'partial_paresis', 'muscle_stiffness', 'alopecia', 'obesity', 'class']\n"
     ]
    }
   ],
   "source": [
    "col_names = [x.lower().replace(\" \", \"_\") for x in sylhet_copy.columns]\n",
    "\n",
    "print(col_names)\n",
    "\n",
    "sylhet_copy.set_axis(col_names, axis=1, inplace=True)"
   ]
  },
  {
   "cell_type": "code",
   "execution_count": 9,
   "id": "e231ee0f-f21a-466f-b836-12207453b69f",
   "metadata": {
    "execution": {
     "iopub.execute_input": "2022-12-08T04:42:10.238072Z",
     "iopub.status.busy": "2022-12-08T04:42:10.237784Z",
     "iopub.status.idle": "2022-12-08T04:42:10.242383Z",
     "shell.execute_reply": "2022-12-08T04:42:10.241482Z",
     "shell.execute_reply.started": "2022-12-08T04:42:10.238051Z"
    },
    "tags": []
   },
   "outputs": [],
   "source": [
    "y = sylhet_copy[\"class\"].apply(lambda z: 0 if z == \"Negative\" else 1)\n",
    "y = y.to_numpy()"
   ]
  },
  {
   "cell_type": "code",
   "execution_count": 10,
   "id": "f1e15114-fdd3-4923-83f4-38878fa7eee2",
   "metadata": {
    "execution": {
     "iopub.execute_input": "2022-12-08T04:42:10.243724Z",
     "iopub.status.busy": "2022-12-08T04:42:10.243290Z",
     "iopub.status.idle": "2022-12-08T04:42:10.247698Z",
     "shell.execute_reply": "2022-12-08T04:42:10.246936Z",
     "shell.execute_reply.started": "2022-12-08T04:42:10.243690Z"
    },
    "tags": []
   },
   "outputs": [],
   "source": [
    "sylhet_copy = sylhet_copy.loc[:, :\"obesity\"]"
   ]
  },
  {
   "cell_type": "code",
   "execution_count": 11,
   "id": "c34afa0d",
   "metadata": {
    "execution": {
     "iopub.execute_input": "2022-12-08T04:42:10.248989Z",
     "iopub.status.busy": "2022-12-08T04:42:10.248773Z",
     "iopub.status.idle": "2022-12-08T04:42:10.502153Z",
     "shell.execute_reply": "2022-12-08T04:42:10.501362Z",
     "shell.execute_reply.started": "2022-12-08T04:42:10.248967Z"
    },
    "tags": []
   },
   "outputs": [
    {
     "data": {
      "image/png": "[encoded data removed]",
      "text/plain": [
       "<Figure size 432x288 with 1 Axes>"
      ]
     },
     "metadata": {},
     "output_type": "display_data"
    }
   ],
   "source": [
    "sns.histplot(sylhet_copy, x=\"age\").figure.savefig(\"age_distribution_histogram.png\")"
   ]
  },
  {
   "cell_type": "code",
   "execution_count": 12,
   "id": "4bd7bd84-3c92-4f5a-a5ab-e72f9fb3e35b",
   "metadata": {
    "execution": {
     "iopub.execute_input": "2022-12-08T04:42:10.506867Z",
     "iopub.status.busy": "2022-12-08T04:42:10.506501Z",
     "iopub.status.idle": "2022-12-08T04:42:10.512348Z",
     "shell.execute_reply": "2022-12-08T04:42:10.511797Z",
     "shell.execute_reply.started": "2022-12-08T04:42:10.506843Z"
    },
    "tags": []
   },
   "outputs": [],
   "source": [
    "age_binned = pd.qcut(sylhet_copy[\"age\"], q=6)"
   ]
  },
  {
   "cell_type": "code",
   "execution_count": 13,
   "id": "7e4cea5f-c749-4a68-8e78-b3134d1e6e9b",
   "metadata": {
    "execution": {
     "iopub.execute_input": "2022-12-08T04:42:10.513382Z",
     "iopub.status.busy": "2022-12-08T04:42:10.513089Z",
     "iopub.status.idle": "2022-12-08T04:42:10.519927Z",
     "shell.execute_reply": "2022-12-08T04:42:10.519334Z",
     "shell.execute_reply.started": "2022-12-08T04:42:10.513361Z"
    },
    "tags": []
   },
   "outputs": [
    {
     "data": {
      "text/plain": [
       "0        (35.0, 42.0]\n",
       "1        (54.0, 60.0]\n",
       "2        (35.0, 42.0]\n",
       "3        (42.0, 47.5]\n",
       "4        (54.0, 60.0]\n",
       "            ...      \n",
       "515      (35.0, 42.0]\n",
       "516      (47.5, 54.0]\n",
       "517      (54.0, 60.0]\n",
       "518    (15.999, 35.0]\n",
       "519      (35.0, 42.0]\n",
       "Name: age, Length: 520, dtype: category\n",
       "Categories (6, interval[float64, right]): [(15.999, 35.0] < (35.0, 42.0] < (42.0, 47.5] < (47.5, 54.0] < (54.0, 60.0] < (60.0, 90.0]]"
      ]
     },
     "execution_count": 13,
     "metadata": {},
     "output_type": "execute_result"
    }
   ],
   "source": [
    "age_binned"
   ]
  },
  {
   "cell_type": "code",
   "execution_count": 14,
   "id": "7e3b6674-0b3d-4396-9b00-81e38cea7c83",
   "metadata": {
    "execution": {
     "iopub.execute_input": "2022-12-08T04:42:10.520961Z",
     "iopub.status.busy": "2022-12-08T04:42:10.520752Z",
     "iopub.status.idle": "2022-12-08T04:42:10.525115Z",
     "shell.execute_reply": "2022-12-08T04:42:10.524499Z",
     "shell.execute_reply.started": "2022-12-08T04:42:10.520940Z"
    },
    "tags": []
   },
   "outputs": [],
   "source": [
    "age_cts = pd.DataFrame(age_binned.value_counts(sort=False, ascending=True))"
   ]
  },
  {
   "cell_type": "code",
   "execution_count": 15,
   "id": "1bf371c6-3830-462a-8a7c-b929c8971601",
   "metadata": {
    "execution": {
     "iopub.execute_input": "2022-12-08T04:42:10.526344Z",
     "iopub.status.busy": "2022-12-08T04:42:10.526132Z",
     "iopub.status.idle": "2022-12-08T04:42:10.536225Z",
     "shell.execute_reply": "2022-12-08T04:42:10.535631Z",
     "shell.execute_reply.started": "2022-12-08T04:42:10.526322Z"
    },
    "tags": []
   },
   "outputs": [
    {
     "data": {
      "text/html": [
       "<div>\n",
       "<style scoped>\n",
       "    .dataframe tbody tr th:only-of-type {\n",
       "        vertical-align: middle;\n",
       "    }\n",
       "\n",
       "    .dataframe tbody tr th {\n",
       "        vertical-align: top;\n",
       "    }\n",
       "\n",
       "    .dataframe thead th {\n",
       "        text-align: right;\n",
       "    }\n",
       "</style>\n",
       "<table border=\"1\" class=\"dataframe\">\n",
       "  <thead>\n",
       "    <tr style=\"text-align: right;\">\n",
       "      <th></th>\n",
       "      <th>record_count</th>\n",
       "    </tr>\n",
       "  </thead>\n",
       "  <tbody>\n",
       "    <tr>\n",
       "      <th>(15.999, 35.0]</th>\n",
       "      <td>93</td>\n",
       "    </tr>\n",
       "    <tr>\n",
       "      <th>(35.0, 42.0]</th>\n",
       "      <td>88</td>\n",
       "    </tr>\n",
       "    <tr>\n",
       "      <th>(42.0, 47.5]</th>\n",
       "      <td>79</td>\n",
       "    </tr>\n",
       "    <tr>\n",
       "      <th>(47.5, 54.0]</th>\n",
       "      <td>98</td>\n",
       "    </tr>\n",
       "    <tr>\n",
       "      <th>(54.0, 60.0]</th>\n",
       "      <td>82</td>\n",
       "    </tr>\n",
       "    <tr>\n",
       "      <th>(60.0, 90.0]</th>\n",
       "      <td>80</td>\n",
       "    </tr>\n",
       "  </tbody>\n",
       "</table>\n",
       "</div>"
      ],
      "text/plain": [
       "                record_count\n",
       "(15.999, 35.0]            93\n",
       "(35.0, 42.0]              88\n",
       "(42.0, 47.5]              79\n",
       "(47.5, 54.0]              98\n",
       "(54.0, 60.0]              82\n",
       "(60.0, 90.0]              80"
      ]
     },
     "execution_count": 15,
     "metadata": {},
     "output_type": "execute_result"
    }
   ],
   "source": [
    "age_cts.rename(columns={\"age\": \"record_count\"})"
   ]
  },
  {
   "cell_type": "code",
   "execution_count": 16,
   "id": "76478caa-78d4-46f7-80a9-d0e72f3ccbc2",
   "metadata": {
    "execution": {
     "iopub.execute_input": "2022-12-08T04:42:10.537392Z",
     "iopub.status.busy": "2022-12-08T04:42:10.537087Z",
     "iopub.status.idle": "2022-12-08T04:42:10.541495Z",
     "shell.execute_reply": "2022-12-08T04:42:10.540588Z",
     "shell.execute_reply.started": "2022-12-08T04:42:10.537368Z"
    },
    "tags": []
   },
   "outputs": [],
   "source": [
    "age_cts = age_cts.reset_index()"
   ]
  },
  {
   "cell_type": "code",
   "execution_count": 17,
   "id": "ffbd7786-7dd7-4d80-b4cd-e724b625f8c4",
   "metadata": {
    "execution": {
     "iopub.execute_input": "2022-12-08T04:42:10.542889Z",
     "iopub.status.busy": "2022-12-08T04:42:10.542620Z",
     "iopub.status.idle": "2022-12-08T04:42:10.546795Z",
     "shell.execute_reply": "2022-12-08T04:42:10.546078Z",
     "shell.execute_reply.started": "2022-12-08T04:42:10.542859Z"
    },
    "tags": []
   },
   "outputs": [],
   "source": [
    "sylhet_copy[\"age\"] = age_binned"
   ]
  },
  {
   "cell_type": "code",
   "execution_count": 18,
   "id": "a6d5b2ae-2d5b-41f4-a832-cb6d9fdc150c",
   "metadata": {
    "execution": {
     "iopub.execute_input": "2022-12-08T04:42:10.548255Z",
     "iopub.status.busy": "2022-12-08T04:42:10.547927Z",
     "iopub.status.idle": "2022-12-08T04:42:10.551298Z",
     "shell.execute_reply": "2022-12-08T04:42:10.550658Z",
     "shell.execute_reply.started": "2022-12-08T04:42:10.548227Z"
    },
    "tags": []
   },
   "outputs": [],
   "source": [
    "# column_trans = ColumnTransformer(\n",
    "#     [('age_bins', KBinsDiscretizer(n_bins=6, encode='onehot-dense', strategy='quantile'),['age']),\n",
    "#       ('one_hot', OneHotEncoder(), list(sylhet_copy.columns[1:-1].values))\n",
    "#     ],remainder='passthrough'\n",
    "# )"
   ]
  },
  {
   "cell_type": "code",
   "execution_count": 19,
   "id": "21a9e08b-02f4-4b24-92a5-a20be0b4363e",
   "metadata": {
    "execution": {
     "iopub.execute_input": "2022-12-08T04:42:10.552590Z",
     "iopub.status.busy": "2022-12-08T04:42:10.552345Z",
     "iopub.status.idle": "2022-12-08T04:42:10.555667Z",
     "shell.execute_reply": "2022-12-08T04:42:10.555056Z",
     "shell.execute_reply.started": "2022-12-08T04:42:10.552568Z"
    },
    "tags": []
   },
   "outputs": [],
   "source": [
    "column_trans = ColumnTransformer(\n",
    "    [(\"one_hot\", OneHotEncoder(drop=\"if_binary\"), list(sylhet_copy.columns.values))],\n",
    "    remainder=\"passthrough\",\n",
    ")"
   ]
  },
  {
   "cell_type": "code",
   "execution_count": 20,
   "id": "f3928eed-bf8c-4b65-b88f-ed091adc9b8a",
   "metadata": {
    "execution": {
     "iopub.execute_input": "2022-12-08T04:42:10.556943Z",
     "iopub.status.busy": "2022-12-08T04:42:10.556529Z",
     "iopub.status.idle": "2022-12-08T04:42:10.562483Z",
     "shell.execute_reply": "2022-12-08T04:42:10.561981Z",
     "shell.execute_reply.started": "2022-12-08T04:42:10.556921Z"
    },
    "tags": []
   },
   "outputs": [
    {
     "data": {
      "text/plain": [
       "ColumnTransformer(remainder='passthrough',\n",
       "                  transformers=[('one_hot', OneHotEncoder(drop='if_binary'),\n",
       "                                 ['age', 'gender', 'polyuria', 'polydipsia',\n",
       "                                  'sudden_weight_loss', 'weakness',\n",
       "                                  'polyphagia', 'genital_thrush',\n",
       "                                  'visual_blurring', 'itching', 'irritability',\n",
       "                                  'delayed_healing', 'partial_paresis',\n",
       "                                  'muscle_stiffness', 'alopecia', 'obesity'])])"
      ]
     },
     "execution_count": 20,
     "metadata": {},
     "output_type": "execute_result"
    }
   ],
   "source": [
    "column_trans"
   ]
  },
  {
   "cell_type": "code",
   "execution_count": 21,
   "id": "7ac29917-b78a-4f76-aef4-b24ccd901b96",
   "metadata": {
    "execution": {
     "iopub.execute_input": "2022-12-08T04:42:10.563561Z",
     "iopub.status.busy": "2022-12-08T04:42:10.563365Z",
     "iopub.status.idle": "2022-12-08T04:42:10.567876Z",
     "shell.execute_reply": "2022-12-08T04:42:10.567322Z",
     "shell.execute_reply.started": "2022-12-08T04:42:10.563540Z"
    },
    "tags": []
   },
   "outputs": [
    {
     "data": {
      "text/plain": [
       "Index(['age', 'gender', 'polyuria', 'polydipsia', 'sudden_weight_loss',\n",
       "       'weakness', 'polyphagia', 'genital_thrush', 'visual_blurring',\n",
       "       'itching', 'irritability', 'delayed_healing', 'partial_paresis',\n",
       "       'muscle_stiffness', 'alopecia', 'obesity'],\n",
       "      dtype='object')"
      ]
     },
     "execution_count": 21,
     "metadata": {},
     "output_type": "execute_result"
    }
   ],
   "source": [
    "sylhet_copy.columns"
   ]
  },
  {
   "cell_type": "code",
   "execution_count": 22,
   "id": "2606cf81-0d5b-4d90-9eb0-d6dbbbedc4e2",
   "metadata": {
    "execution": {
     "iopub.execute_input": "2022-12-08T04:42:10.569059Z",
     "iopub.status.busy": "2022-12-08T04:42:10.568829Z",
     "iopub.status.idle": "2022-12-08T04:42:10.583371Z",
     "shell.execute_reply": "2022-12-08T04:42:10.582523Z",
     "shell.execute_reply.started": "2022-12-08T04:42:10.569039Z"
    },
    "tags": []
   },
   "outputs": [
    {
     "data": {
      "text/html": [
       "<div>\n",
       "<style scoped>\n",
       "    .dataframe tbody tr th:only-of-type {\n",
       "        vertical-align: middle;\n",
       "    }\n",
       "\n",
       "    .dataframe tbody tr th {\n",
       "        vertical-align: top;\n",
       "    }\n",
       "\n",
       "    .dataframe thead th {\n",
       "        text-align: right;\n",
       "    }\n",
       "</style>\n",
       "<table border=\"1\" class=\"dataframe\">\n",
       "  <thead>\n",
       "    <tr style=\"text-align: right;\">\n",
       "      <th></th>\n",
       "      <th>age</th>\n",
       "      <th>gender</th>\n",
       "      <th>polyuria</th>\n",
       "      <th>polydipsia</th>\n",
       "      <th>sudden_weight_loss</th>\n",
       "      <th>weakness</th>\n",
       "      <th>polyphagia</th>\n",
       "      <th>genital_thrush</th>\n",
       "      <th>visual_blurring</th>\n",
       "      <th>itching</th>\n",
       "      <th>irritability</th>\n",
       "      <th>delayed_healing</th>\n",
       "      <th>partial_paresis</th>\n",
       "      <th>muscle_stiffness</th>\n",
       "      <th>alopecia</th>\n",
       "      <th>obesity</th>\n",
       "    </tr>\n",
       "  </thead>\n",
       "  <tbody>\n",
       "    <tr>\n",
       "      <th>0</th>\n",
       "      <td>(35.0, 42.0]</td>\n",
       "      <td>Male</td>\n",
       "      <td>No</td>\n",
       "      <td>Yes</td>\n",
       "      <td>No</td>\n",
       "      <td>Yes</td>\n",
       "      <td>No</td>\n",
       "      <td>No</td>\n",
       "      <td>No</td>\n",
       "      <td>Yes</td>\n",
       "      <td>No</td>\n",
       "      <td>Yes</td>\n",
       "      <td>No</td>\n",
       "      <td>Yes</td>\n",
       "      <td>Yes</td>\n",
       "      <td>Yes</td>\n",
       "    </tr>\n",
       "    <tr>\n",
       "      <th>1</th>\n",
       "      <td>(54.0, 60.0]</td>\n",
       "      <td>Male</td>\n",
       "      <td>No</td>\n",
       "      <td>No</td>\n",
       "      <td>No</td>\n",
       "      <td>Yes</td>\n",
       "      <td>No</td>\n",
       "      <td>No</td>\n",
       "      <td>Yes</td>\n",
       "      <td>No</td>\n",
       "      <td>No</td>\n",
       "      <td>No</td>\n",
       "      <td>Yes</td>\n",
       "      <td>No</td>\n",
       "      <td>Yes</td>\n",
       "      <td>No</td>\n",
       "    </tr>\n",
       "  </tbody>\n",
       "</table>\n",
       "</div>"
      ],
      "text/plain": [
       "            age gender polyuria polydipsia sudden_weight_loss weakness  \\\n",
       "0  (35.0, 42.0]   Male       No        Yes                 No      Yes   \n",
       "1  (54.0, 60.0]   Male       No         No                 No      Yes   \n",
       "\n",
       "  polyphagia genital_thrush visual_blurring itching irritability  \\\n",
       "0         No             No              No     Yes           No   \n",
       "1         No             No             Yes      No           No   \n",
       "\n",
       "  delayed_healing partial_paresis muscle_stiffness alopecia obesity  \n",
       "0             Yes              No              Yes      Yes     Yes  \n",
       "1              No             Yes               No      Yes      No  "
      ]
     },
     "execution_count": 22,
     "metadata": {},
     "output_type": "execute_result"
    }
   ],
   "source": [
    "sylhet_copy.head(2)"
   ]
  },
  {
   "cell_type": "code",
   "execution_count": 23,
   "id": "c1d770be-25c5-4b57-a80a-9fb1ae599b23",
   "metadata": {
    "execution": {
     "iopub.execute_input": "2022-12-08T04:42:10.585192Z",
     "iopub.status.busy": "2022-12-08T04:42:10.584902Z",
     "iopub.status.idle": "2022-12-08T04:42:10.603632Z",
     "shell.execute_reply": "2022-12-08T04:42:10.603111Z",
     "shell.execute_reply.started": "2022-12-08T04:42:10.585163Z"
    },
    "tags": []
   },
   "outputs": [
    {
     "data": {
      "text/plain": [
       "ColumnTransformer(remainder='passthrough',\n",
       "                  transformers=[('one_hot', OneHotEncoder(drop='if_binary'),\n",
       "                                 ['age', 'gender', 'polyuria', 'polydipsia',\n",
       "                                  'sudden_weight_loss', 'weakness',\n",
       "                                  'polyphagia', 'genital_thrush',\n",
       "                                  'visual_blurring', 'itching', 'irritability',\n",
       "                                  'delayed_healing', 'partial_paresis',\n",
       "                                  'muscle_stiffness', 'alopecia', 'obesity'])])"
      ]
     },
     "execution_count": 23,
     "metadata": {},
     "output_type": "execute_result"
    }
   ],
   "source": [
    "column_trans.fit(sylhet_copy)"
   ]
  },
  {
   "cell_type": "code",
   "execution_count": 24,
   "id": "efe643c6-fdf6-4f8f-8428-a1985781a0d0",
   "metadata": {
    "execution": {
     "iopub.execute_input": "2022-12-08T04:42:10.604774Z",
     "iopub.status.busy": "2022-12-08T04:42:10.604545Z",
     "iopub.status.idle": "2022-12-08T04:42:10.610003Z",
     "shell.execute_reply": "2022-12-08T04:42:10.609342Z",
     "shell.execute_reply.started": "2022-12-08T04:42:10.604749Z"
    },
    "tags": []
   },
   "outputs": [
    {
     "data": {
      "text/plain": [
       "array(['one_hot__age_(15.999, 35.0]', 'one_hot__age_(35.0, 42.0]',\n",
       "       'one_hot__age_(42.0, 47.5]', 'one_hot__age_(47.5, 54.0]',\n",
       "       'one_hot__age_(54.0, 60.0]', 'one_hot__age_(60.0, 90.0]',\n",
       "       'one_hot__gender_Male', 'one_hot__polyuria_Yes',\n",
       "       'one_hot__polydipsia_Yes', 'one_hot__sudden_weight_loss_Yes',\n",
       "       'one_hot__weakness_Yes', 'one_hot__polyphagia_Yes',\n",
       "       'one_hot__genital_thrush_Yes', 'one_hot__visual_blurring_Yes',\n",
       "       'one_hot__itching_Yes', 'one_hot__irritability_Yes',\n",
       "       'one_hot__delayed_healing_Yes', 'one_hot__partial_paresis_Yes',\n",
       "       'one_hot__muscle_stiffness_Yes', 'one_hot__alopecia_Yes',\n",
       "       'one_hot__obesity_Yes'], dtype=object)"
      ]
     },
     "execution_count": 24,
     "metadata": {},
     "output_type": "execute_result"
    }
   ],
   "source": [
    "column_trans.get_feature_names_out()"
   ]
  },
  {
   "cell_type": "code",
   "execution_count": null,
   "id": "e9c97ee7-011a-4028-9688-c7bf7e5228d9",
   "metadata": {},
   "outputs": [],
   "source": []
  },
  {
   "cell_type": "code",
   "execution_count": 25,
   "id": "c970e522-822d-4f30-b2a3-63d3830dbf3f",
   "metadata": {
    "execution": {
     "iopub.execute_input": "2022-12-08T04:42:10.611199Z",
     "iopub.status.busy": "2022-12-08T04:42:10.610943Z",
     "iopub.status.idle": "2022-12-08T04:42:10.622398Z",
     "shell.execute_reply": "2022-12-08T04:42:10.621798Z",
     "shell.execute_reply.started": "2022-12-08T04:42:10.611174Z"
    },
    "tags": []
   },
   "outputs": [],
   "source": [
    "X = column_trans.transform(sylhet_copy)"
   ]
  },
  {
   "cell_type": "code",
   "execution_count": 26,
   "id": "8202692f-0f34-41e1-815b-1509194ef905",
   "metadata": {
    "execution": {
     "iopub.execute_input": "2022-12-08T04:42:10.623650Z",
     "iopub.status.busy": "2022-12-08T04:42:10.623393Z",
     "iopub.status.idle": "2022-12-08T04:42:10.628551Z",
     "shell.execute_reply": "2022-12-08T04:42:10.627699Z",
     "shell.execute_reply.started": "2022-12-08T04:42:10.623621Z"
    },
    "tags": []
   },
   "outputs": [
    {
     "data": {
      "text/plain": [
       "(520, 21)"
      ]
     },
     "execution_count": 26,
     "metadata": {},
     "output_type": "execute_result"
    }
   ],
   "source": [
    "X.shape"
   ]
  },
  {
   "cell_type": "code",
   "execution_count": null,
   "id": "3619da10-5963-4fca-bc77-700210553d2b",
   "metadata": {
    "tags": []
   },
   "outputs": [],
   "source": []
  },
  {
   "cell_type": "code",
   "execution_count": 27,
   "id": "e4eaa0a2-3388-4a82-82b0-88569922ed13",
   "metadata": {
    "execution": {
     "iopub.execute_input": "2022-12-08T04:42:10.629944Z",
     "iopub.status.busy": "2022-12-08T04:42:10.629649Z",
     "iopub.status.idle": "2022-12-08T04:42:10.633824Z",
     "shell.execute_reply": "2022-12-08T04:42:10.633018Z",
     "shell.execute_reply.started": "2022-12-08T04:42:10.629919Z"
    },
    "tags": []
   },
   "outputs": [],
   "source": [
    "MLA = [\n",
    "    naive_bayes.BernoulliNB(),\n",
    "    naive_bayes.GaussianNB(),\n",
    "    linear_model.LogisticRegression(),\n",
    "    tree.DecisionTreeClassifier(),\n",
    "    ensemble.RandomForestClassifier(),\n",
    "]"
   ]
  },
  {
   "cell_type": "code",
   "execution_count": 28,
   "id": "75314d6d-b26a-48ed-ac6d-144bd5a7fa8e",
   "metadata": {
    "execution": {
     "iopub.execute_input": "2022-12-08T04:42:10.635343Z",
     "iopub.status.busy": "2022-12-08T04:42:10.634945Z",
     "iopub.status.idle": "2022-12-08T04:42:10.639917Z",
     "shell.execute_reply": "2022-12-08T04:42:10.639169Z",
     "shell.execute_reply.started": "2022-12-08T04:42:10.635316Z"
    },
    "tags": []
   },
   "outputs": [],
   "source": [
    "MLA = [\n",
    "    naive_bayes.BernoulliNB(),\n",
    "    naive_bayes.GaussianNB(),\n",
    "    linear_model.LogisticRegression(),\n",
    "    tree.DecisionTreeClassifier(min_samples_split=5, min_samples_leaf=10, max_depth=3),\n",
    "    ensemble.RandomForestClassifier(max_depth=3, min_samples_split=5, min_samples_leaf=10\n",
    "    ),\n",
    "]"
   ]
  },
  {
   "cell_type": "code",
   "execution_count": 29,
   "id": "ef884f88-34d3-42aa-aff7-6918e0785570",
   "metadata": {
    "execution": {
     "iopub.execute_input": "2022-12-08T04:42:10.641416Z",
     "iopub.status.busy": "2022-12-08T04:42:10.640973Z",
     "iopub.status.idle": "2022-12-08T04:42:10.645988Z",
     "shell.execute_reply": "2022-12-08T04:42:10.645318Z",
     "shell.execute_reply.started": "2022-12-08T04:42:10.641391Z"
    },
    "tags": []
   },
   "outputs": [],
   "source": [
    "train1_x, test1_x, train1_y, test1_y = model_selection.train_test_split(\n",
    "    X, y, random_state=42, train_size=0.8, test_size=0.2\n",
    ")"
   ]
  },
  {
   "cell_type": "code",
   "execution_count": 30,
   "id": "cd0d259b-751e-4046-98d1-c6804d20c175",
   "metadata": {
    "execution": {
     "iopub.execute_input": "2022-12-08T04:42:10.647326Z",
     "iopub.status.busy": "2022-12-08T04:42:10.646842Z",
     "iopub.status.idle": "2022-12-08T04:42:10.653710Z",
     "shell.execute_reply": "2022-12-08T04:42:10.652845Z",
     "shell.execute_reply.started": "2022-12-08T04:42:10.647301Z"
    },
    "tags": []
   },
   "outputs": [
    {
     "name": "stdout",
     "output_type": "stream",
     "text": [
      "(416, 21) (416,)\n",
      "(104, 21) (104,)\n"
     ]
    },
    {
     "data": {
      "text/plain": [
       "(array([0, 1]), array([33, 71]))"
      ]
     },
     "execution_count": 30,
     "metadata": {},
     "output_type": "execute_result"
    }
   ],
   "source": [
    "print(train1_x.shape, train1_y.shape)\n",
    "print(test1_x.shape, test1_y.shape)\n",
    "np.unique(test1_y, return_counts=True)"
   ]
  },
  {
   "cell_type": "code",
   "execution_count": 31,
   "id": "ecef7be5-97a8-4e44-80fd-d45b2042f1ad",
   "metadata": {
    "execution": {
     "iopub.execute_input": "2022-12-08T04:42:10.655169Z",
     "iopub.status.busy": "2022-12-08T04:42:10.654920Z",
     "iopub.status.idle": "2022-12-08T04:42:10.660558Z",
     "shell.execute_reply": "2022-12-08T04:42:10.659967Z",
     "shell.execute_reply.started": "2022-12-08T04:42:10.655147Z"
    },
    "tags": []
   },
   "outputs": [],
   "source": [
    "train1_x, test1_x, train1_y, test1_y = model_selection.train_test_split(\n",
    "    X, y, random_state=42, train_size=0.8, test_size=0.2, stratify=y\n",
    ")"
   ]
  },
  {
   "cell_type": "code",
   "execution_count": 32,
   "id": "1eb50fe1-7752-48e4-a9ee-ba21866a9bed",
   "metadata": {
    "execution": {
     "iopub.execute_input": "2022-12-08T04:42:10.661821Z",
     "iopub.status.busy": "2022-12-08T04:42:10.661565Z",
     "iopub.status.idle": "2022-12-08T04:42:10.665953Z",
     "shell.execute_reply": "2022-12-08T04:42:10.665184Z",
     "shell.execute_reply.started": "2022-12-08T04:42:10.661800Z"
    },
    "tags": []
   },
   "outputs": [
    {
     "name": "stdout",
     "output_type": "stream",
     "text": [
      "(416, 21) (416,)\n",
      "(104, 21) (104,)\n"
     ]
    }
   ],
   "source": [
    "print(train1_x.shape, train1_y.shape)\n",
    "print(test1_x.shape, test1_y.shape)"
   ]
  },
  {
   "cell_type": "code",
   "execution_count": 33,
   "id": "a86b2720-6495-4445-90ed-ea0a42d9e9c6",
   "metadata": {
    "execution": {
     "iopub.execute_input": "2022-12-08T04:42:10.667599Z",
     "iopub.status.busy": "2022-12-08T04:42:10.667224Z",
     "iopub.status.idle": "2022-12-08T04:42:10.673267Z",
     "shell.execute_reply": "2022-12-08T04:42:10.672412Z",
     "shell.execute_reply.started": "2022-12-08T04:42:10.667574Z"
    },
    "tags": []
   },
   "outputs": [
    {
     "data": {
      "text/plain": [
       "(array([0, 1]), array([40, 64]))"
      ]
     },
     "execution_count": 33,
     "metadata": {},
     "output_type": "execute_result"
    }
   ],
   "source": [
    "np.unique(test1_y, return_counts=True)"
   ]
  },
  {
   "cell_type": "code",
   "execution_count": 34,
   "id": "e20d5539-db0e-452d-97ea-7f39b08e518f",
   "metadata": {
    "execution": {
     "iopub.execute_input": "2022-12-08T04:42:10.675178Z",
     "iopub.status.busy": "2022-12-08T04:42:10.674860Z",
     "iopub.status.idle": "2022-12-08T04:42:10.681988Z",
     "shell.execute_reply": "2022-12-08T04:42:10.680893Z",
     "shell.execute_reply.started": "2022-12-08T04:42:10.675154Z"
    },
    "tags": []
   },
   "outputs": [],
   "source": [
    "score_cols = [\n",
    "    \"Model Name\",\n",
    "    \"Precision\",\n",
    "    \"Recall\",\n",
    "    \"F1\",\n",
    "    \"Train Accuracy\",\n",
    "    \"Test Accuracy\",\n",
    "]\n",
    "model_compare = pd.DataFrame(columns=score_cols)"
   ]
  },
  {
   "cell_type": "code",
   "execution_count": 35,
   "id": "0ec1110f-0e79-49f8-b1a2-c533aaeec54a",
   "metadata": {
    "execution": {
     "iopub.execute_input": "2022-12-08T04:42:10.684261Z",
     "iopub.status.busy": "2022-12-08T04:42:10.683752Z",
     "iopub.status.idle": "2022-12-08T04:42:10.897435Z",
     "shell.execute_reply": "2022-12-08T04:42:10.896826Z",
     "shell.execute_reply.started": "2022-12-08T04:42:10.684226Z"
    },
    "tags": []
   },
   "outputs": [
    {
     "name": "stdout",
     "output_type": "stream",
     "text": [
      "BernoulliNB\n",
      "[[39  1]\n",
      " [ 8 56]] \n",
      "\n",
      "GaussianNB\n",
      "[[38  2]\n",
      " [ 5 59]] \n",
      "\n",
      "LogisticRegression\n",
      "[[39  1]\n",
      " [ 4 60]] \n",
      "\n",
      "DecisionTreeClassifier\n",
      "[[37  3]\n",
      " [ 3 61]] \n",
      "\n",
      "RandomForestClassifier\n",
      "[[38  2]\n",
      " [ 4 60]] \n",
      "\n"
     ]
    }
   ],
   "source": [
    "results_conf = pd.DataFrame(\n",
    "    columns=[\n",
    "        \"true_negative\",\n",
    "        \"false_positive\",\n",
    "        \"false_negative\",\n",
    "        \"true_positive\",\n",
    "        \"model\",\n",
    "    ]\n",
    ")\n",
    "results = pd.DataFrame(\n",
    "    index=[\"negative\", \"positive\", \"model\"],\n",
    "    columns=[\"precision\", \"recall\", \"fbeta\", \"support\"],\n",
    ")\n",
    "row_index = 0\n",
    "for alg in MLA:\n",
    "    print(alg.__class__.__name__)\n",
    "    MLA_name = alg.__class__.__name__\n",
    "    model = alg.fit(train1_x, train1_y)\n",
    "    y_pred = model.predict(test1_x)\n",
    "    print(sklearn.metrics.confusion_matrix(test1_y, y_pred), \"\\n\")\n",
    "    flattened = sklearn.metrics.confusion_matrix(test1_y, y_pred).ravel()\n",
    "    confusion = pd.DataFrame(\n",
    "        [flattened],\n",
    "        columns=[\"true_negative\", \"false_positive\", \"false_negative\", \"true_positive\"],\n",
    "    )\n",
    "    confusion[\"model\"] = MLA_name\n",
    "    results_conf = pd.concat([results_conf, confusion])\n",
    "    prec, recall, f1, support = sklearn.metrics.precision_recall_fscore_support(\n",
    "        test1_y, y_pred, average=\"weighted\"\n",
    "    )\n",
    "    class_stats = sklearn.metrics.precision_recall_fscore_support(\n",
    "        test1_y, y_pred, labels=[0, 1], pos_label=1\n",
    "    )\n",
    "    class_stats = np.array(class_stats).T\n",
    "    stats = pd.DataFrame(\n",
    "        class_stats,\n",
    "        index=[\"negative\", \"positive\"],\n",
    "        columns=[\"precision\", \"recall\", \"fbeta\", \"support\"],\n",
    "    )\n",
    "    stats[\"model\"] = MLA_name\n",
    "    results = pd.concat([results, stats], ignore_index=False)\n",
    "    model_compare.loc[row_index, \"Model Name\"] = MLA_name\n",
    "    model_compare.loc[row_index, \"Precision\"] = prec\n",
    "    model_compare.loc[row_index, \"Recall\"] = recall\n",
    "    model_compare.loc[row_index, \"F1\"] = f1\n",
    "    model_compare.loc[row_index, \"Train Accuracy\"] = model.score(train1_x, train1_y)\n",
    "    model_compare.loc[row_index, \"Test Accuracy\"] = model.score(test1_x, test1_y)\n",
    "\n",
    "    row_index += 1\n",
    "results = results.dropna()\n",
    "results_conf = results_conf.dropna()"
   ]
  },
  {
   "cell_type": "code",
   "execution_count": 43,
   "id": "e64eb416-d518-45a1-b292-0a6061345310",
   "metadata": {
    "execution": {
     "iopub.execute_input": "2022-12-08T04:46:07.727612Z",
     "iopub.status.busy": "2022-12-08T04:46:07.727329Z",
     "iopub.status.idle": "2022-12-08T04:46:07.739671Z",
     "shell.execute_reply": "2022-12-08T04:46:07.738960Z",
     "shell.execute_reply.started": "2022-12-08T04:46:07.727584Z"
    },
    "tags": []
   },
   "outputs": [
    {
     "name": "stdout",
     "output_type": "stream",
     "text": [
      "non-stratified target\n"
     ]
    },
    {
     "data": {
      "text/html": [
       "<div>\n",
       "<style scoped>\n",
       "    .dataframe tbody tr th:only-of-type {\n",
       "        vertical-align: middle;\n",
       "    }\n",
       "\n",
       "    .dataframe tbody tr th {\n",
       "        vertical-align: top;\n",
       "    }\n",
       "\n",
       "    .dataframe thead th {\n",
       "        text-align: right;\n",
       "    }\n",
       "</style>\n",
       "<table border=\"1\" class=\"dataframe\">\n",
       "  <thead>\n",
       "    <tr style=\"text-align: right;\">\n",
       "      <th></th>\n",
       "      <th>Model Name</th>\n",
       "      <th>Precision</th>\n",
       "      <th>Recall</th>\n",
       "      <th>F1</th>\n",
       "      <th>Train Accuracy</th>\n",
       "      <th>Test Accuracy</th>\n",
       "    </tr>\n",
       "  </thead>\n",
       "  <tbody>\n",
       "    <tr>\n",
       "      <th>3</th>\n",
       "      <td>DecisionTreeClassifier</td>\n",
       "      <td>0.942308</td>\n",
       "      <td>0.942308</td>\n",
       "      <td>0.942308</td>\n",
       "      <td>0.90625</td>\n",
       "      <td>0.942308</td>\n",
       "    </tr>\n",
       "  </tbody>\n",
       "</table>\n",
       "</div>"
      ],
      "text/plain": [
       "               Model Name Precision    Recall        F1 Train Accuracy  \\\n",
       "3  DecisionTreeClassifier  0.942308  0.942308  0.942308        0.90625   \n",
       "\n",
       "  Test Accuracy  \n",
       "3      0.942308  "
      ]
     },
     "execution_count": 43,
     "metadata": {},
     "output_type": "execute_result"
    }
   ],
   "source": [
    "print('non-stratified target')\n",
    "model_compare.loc[model_compare['Model Name']=='DecisionTreeClassifier']"
   ]
  },
  {
   "cell_type": "code",
   "execution_count": 37,
   "id": "d695ef2d-f89a-419d-b673-1b9a41728307",
   "metadata": {
    "execution": {
     "iopub.execute_input": "2022-12-08T04:42:15.377418Z",
     "iopub.status.busy": "2022-12-08T04:42:15.376989Z",
     "iopub.status.idle": "2022-12-08T04:42:15.386808Z",
     "shell.execute_reply": "2022-12-08T04:42:15.386141Z",
     "shell.execute_reply.started": "2022-12-08T04:42:15.377391Z"
    },
    "tags": []
   },
   "outputs": [
    {
     "name": "stdout",
     "output_type": "stream",
     "text": [
      "stratified target\n"
     ]
    },
    {
     "data": {
      "text/html": [
       "<div>\n",
       "<style scoped>\n",
       "    .dataframe tbody tr th:only-of-type {\n",
       "        vertical-align: middle;\n",
       "    }\n",
       "\n",
       "    .dataframe tbody tr th {\n",
       "        vertical-align: top;\n",
       "    }\n",
       "\n",
       "    .dataframe thead th {\n",
       "        text-align: right;\n",
       "    }\n",
       "</style>\n",
       "<table border=\"1\" class=\"dataframe\">\n",
       "  <thead>\n",
       "    <tr style=\"text-align: right;\">\n",
       "      <th></th>\n",
       "      <th>Model Name</th>\n",
       "      <th>Precision</th>\n",
       "      <th>Recall</th>\n",
       "      <th>F1</th>\n",
       "      <th>Train Accuracy</th>\n",
       "      <th>Test Accuracy</th>\n",
       "    </tr>\n",
       "  </thead>\n",
       "  <tbody>\n",
       "    <tr>\n",
       "      <th>0</th>\n",
       "      <td>BernoulliNB</td>\n",
       "      <td>0.923737</td>\n",
       "      <td>0.913462</td>\n",
       "      <td>0.91444</td>\n",
       "      <td>0.867788</td>\n",
       "      <td>0.913462</td>\n",
       "    </tr>\n",
       "    <tr>\n",
       "      <th>1</th>\n",
       "      <td>GaussianNB</td>\n",
       "      <td>0.935101</td>\n",
       "      <td>0.932692</td>\n",
       "      <td>0.933101</td>\n",
       "      <td>0.877404</td>\n",
       "      <td>0.932692</td>\n",
       "    </tr>\n",
       "    <tr>\n",
       "      <th>2</th>\n",
       "      <td>LogisticRegression</td>\n",
       "      <td>0.954134</td>\n",
       "      <td>0.951923</td>\n",
       "      <td>0.952215</td>\n",
       "      <td>0.949519</td>\n",
       "      <td>0.951923</td>\n",
       "    </tr>\n",
       "    <tr>\n",
       "      <th>3</th>\n",
       "      <td>DecisionTreeClassifier</td>\n",
       "      <td>0.942308</td>\n",
       "      <td>0.942308</td>\n",
       "      <td>0.942308</td>\n",
       "      <td>0.90625</td>\n",
       "      <td>0.942308</td>\n",
       "    </tr>\n",
       "    <tr>\n",
       "      <th>4</th>\n",
       "      <td>RandomForestClassifier</td>\n",
       "      <td>0.943519</td>\n",
       "      <td>0.942308</td>\n",
       "      <td>0.942553</td>\n",
       "      <td>0.908654</td>\n",
       "      <td>0.942308</td>\n",
       "    </tr>\n",
       "  </tbody>\n",
       "</table>\n",
       "</div>"
      ],
      "text/plain": [
       "               Model Name Precision    Recall        F1 Train Accuracy  \\\n",
       "0             BernoulliNB  0.923737  0.913462   0.91444       0.867788   \n",
       "1              GaussianNB  0.935101  0.932692  0.933101       0.877404   \n",
       "2      LogisticRegression  0.954134  0.951923  0.952215       0.949519   \n",
       "3  DecisionTreeClassifier  0.942308  0.942308  0.942308        0.90625   \n",
       "4  RandomForestClassifier  0.943519  0.942308  0.942553       0.908654   \n",
       "\n",
       "  Test Accuracy  \n",
       "0      0.913462  \n",
       "1      0.932692  \n",
       "2      0.951923  \n",
       "3      0.942308  \n",
       "4      0.942308  "
      ]
     },
     "execution_count": 37,
     "metadata": {},
     "output_type": "execute_result"
    }
   ],
   "source": [
    "print('stratified target')\n",
    "model_compare"
   ]
  },
  {
   "cell_type": "code",
   "execution_count": 38,
   "id": "d217fd45-f637-4e56-b2e0-8ea5a558a227",
   "metadata": {
    "execution": {
     "iopub.execute_input": "2022-12-08T04:42:17.829959Z",
     "iopub.status.busy": "2022-12-08T04:42:17.829661Z",
     "iopub.status.idle": "2022-12-08T04:42:17.838016Z",
     "shell.execute_reply": "2022-12-08T04:42:17.837101Z",
     "shell.execute_reply.started": "2022-12-08T04:42:17.829917Z"
    },
    "tags": []
   },
   "outputs": [],
   "source": [
    "results_conf[\"Correctly Classified\"] = (\n",
    "    results_conf[\"true_negative\"] + results_conf[\"true_positive\"]\n",
    ")\n",
    "results_conf[\"Incorrectly Classified\"] = (\n",
    "    test1_y.shape[0] - results_conf[\"Correctly Classified\"]\n",
    ")\n",
    "\n",
    "cm_data = results_conf[\n",
    "    [\"model\", \"Correctly Classified\", \"Incorrectly Classified\"]\n",
    "].melt(\"model\", var_name=\"cols\", value_name=\"vals\")"
   ]
  },
  {
   "cell_type": "code",
   "execution_count": 39,
   "id": "85f34370-b137-4f6f-ac5f-cb8a57edb7fa",
   "metadata": {
    "execution": {
     "iopub.execute_input": "2022-12-08T04:42:20.131817Z",
     "iopub.status.busy": "2022-12-08T04:42:20.131512Z",
     "iopub.status.idle": "2022-12-08T04:42:20.140906Z",
     "shell.execute_reply": "2022-12-08T04:42:20.140116Z",
     "shell.execute_reply.started": "2022-12-08T04:42:20.131785Z"
    },
    "tags": []
   },
   "outputs": [
    {
     "data": {
      "text/html": [
       "<div>\n",
       "<style scoped>\n",
       "    .dataframe tbody tr th:only-of-type {\n",
       "        vertical-align: middle;\n",
       "    }\n",
       "\n",
       "    .dataframe tbody tr th {\n",
       "        vertical-align: top;\n",
       "    }\n",
       "\n",
       "    .dataframe thead th {\n",
       "        text-align: right;\n",
       "    }\n",
       "</style>\n",
       "<table border=\"1\" class=\"dataframe\">\n",
       "  <thead>\n",
       "    <tr style=\"text-align: right;\">\n",
       "      <th></th>\n",
       "      <th>model</th>\n",
       "      <th>cols</th>\n",
       "      <th>vals</th>\n",
       "    </tr>\n",
       "  </thead>\n",
       "  <tbody>\n",
       "    <tr>\n",
       "      <th>0</th>\n",
       "      <td>BernoulliNB</td>\n",
       "      <td>Correctly Classified</td>\n",
       "      <td>95</td>\n",
       "    </tr>\n",
       "    <tr>\n",
       "      <th>1</th>\n",
       "      <td>GaussianNB</td>\n",
       "      <td>Correctly Classified</td>\n",
       "      <td>97</td>\n",
       "    </tr>\n",
       "    <tr>\n",
       "      <th>2</th>\n",
       "      <td>LogisticRegression</td>\n",
       "      <td>Correctly Classified</td>\n",
       "      <td>99</td>\n",
       "    </tr>\n",
       "    <tr>\n",
       "      <th>3</th>\n",
       "      <td>DecisionTreeClassifier</td>\n",
       "      <td>Correctly Classified</td>\n",
       "      <td>98</td>\n",
       "    </tr>\n",
       "    <tr>\n",
       "      <th>4</th>\n",
       "      <td>RandomForestClassifier</td>\n",
       "      <td>Correctly Classified</td>\n",
       "      <td>98</td>\n",
       "    </tr>\n",
       "    <tr>\n",
       "      <th>5</th>\n",
       "      <td>BernoulliNB</td>\n",
       "      <td>Incorrectly Classified</td>\n",
       "      <td>9</td>\n",
       "    </tr>\n",
       "    <tr>\n",
       "      <th>6</th>\n",
       "      <td>GaussianNB</td>\n",
       "      <td>Incorrectly Classified</td>\n",
       "      <td>7</td>\n",
       "    </tr>\n",
       "    <tr>\n",
       "      <th>7</th>\n",
       "      <td>LogisticRegression</td>\n",
       "      <td>Incorrectly Classified</td>\n",
       "      <td>5</td>\n",
       "    </tr>\n",
       "    <tr>\n",
       "      <th>8</th>\n",
       "      <td>DecisionTreeClassifier</td>\n",
       "      <td>Incorrectly Classified</td>\n",
       "      <td>6</td>\n",
       "    </tr>\n",
       "    <tr>\n",
       "      <th>9</th>\n",
       "      <td>RandomForestClassifier</td>\n",
       "      <td>Incorrectly Classified</td>\n",
       "      <td>6</td>\n",
       "    </tr>\n",
       "  </tbody>\n",
       "</table>\n",
       "</div>"
      ],
      "text/plain": [
       "                    model                    cols vals\n",
       "0             BernoulliNB    Correctly Classified   95\n",
       "1              GaussianNB    Correctly Classified   97\n",
       "2      LogisticRegression    Correctly Classified   99\n",
       "3  DecisionTreeClassifier    Correctly Classified   98\n",
       "4  RandomForestClassifier    Correctly Classified   98\n",
       "5             BernoulliNB  Incorrectly Classified    9\n",
       "6              GaussianNB  Incorrectly Classified    7\n",
       "7      LogisticRegression  Incorrectly Classified    5\n",
       "8  DecisionTreeClassifier  Incorrectly Classified    6\n",
       "9  RandomForestClassifier  Incorrectly Classified    6"
      ]
     },
     "execution_count": 39,
     "metadata": {},
     "output_type": "execute_result"
    }
   ],
   "source": [
    "cm_data"
   ]
  },
  {
   "cell_type": "code",
   "execution_count": 40,
   "id": "94cf9078-e725-4f68-b9fc-e2ce3260ef01",
   "metadata": {
    "execution": {
     "iopub.execute_input": "2022-12-08T04:42:20.142992Z",
     "iopub.status.busy": "2022-12-08T04:42:20.142716Z",
     "iopub.status.idle": "2022-12-08T04:42:20.155765Z",
     "shell.execute_reply": "2022-12-08T04:42:20.155099Z",
     "shell.execute_reply.started": "2022-12-08T04:42:20.142969Z"
    },
    "tags": []
   },
   "outputs": [
    {
     "data": {
      "text/html": [
       "<div>\n",
       "<style scoped>\n",
       "    .dataframe tbody tr th:only-of-type {\n",
       "        vertical-align: middle;\n",
       "    }\n",
       "\n",
       "    .dataframe tbody tr th {\n",
       "        vertical-align: top;\n",
       "    }\n",
       "\n",
       "    .dataframe thead th {\n",
       "        text-align: right;\n",
       "    }\n",
       "</style>\n",
       "<table border=\"1\" class=\"dataframe\">\n",
       "  <thead>\n",
       "    <tr style=\"text-align: right;\">\n",
       "      <th></th>\n",
       "      <th>model</th>\n",
       "      <th>cols</th>\n",
       "      <th>vals</th>\n",
       "    </tr>\n",
       "  </thead>\n",
       "  <tbody>\n",
       "    <tr>\n",
       "      <th>0</th>\n",
       "      <td>BernoulliNB</td>\n",
       "      <td>Correctly Classified</td>\n",
       "      <td>91.3</td>\n",
       "    </tr>\n",
       "    <tr>\n",
       "      <th>1</th>\n",
       "      <td>GaussianNB</td>\n",
       "      <td>Correctly Classified</td>\n",
       "      <td>93.3</td>\n",
       "    </tr>\n",
       "    <tr>\n",
       "      <th>2</th>\n",
       "      <td>LogisticRegression</td>\n",
       "      <td>Correctly Classified</td>\n",
       "      <td>95.2</td>\n",
       "    </tr>\n",
       "    <tr>\n",
       "      <th>3</th>\n",
       "      <td>DecisionTreeClassifier</td>\n",
       "      <td>Correctly Classified</td>\n",
       "      <td>94.2</td>\n",
       "    </tr>\n",
       "    <tr>\n",
       "      <th>4</th>\n",
       "      <td>RandomForestClassifier</td>\n",
       "      <td>Correctly Classified</td>\n",
       "      <td>94.2</td>\n",
       "    </tr>\n",
       "    <tr>\n",
       "      <th>5</th>\n",
       "      <td>BernoulliNB</td>\n",
       "      <td>Incorrectly Classified</td>\n",
       "      <td>8.7</td>\n",
       "    </tr>\n",
       "    <tr>\n",
       "      <th>6</th>\n",
       "      <td>GaussianNB</td>\n",
       "      <td>Incorrectly Classified</td>\n",
       "      <td>6.7</td>\n",
       "    </tr>\n",
       "    <tr>\n",
       "      <th>7</th>\n",
       "      <td>LogisticRegression</td>\n",
       "      <td>Incorrectly Classified</td>\n",
       "      <td>4.8</td>\n",
       "    </tr>\n",
       "    <tr>\n",
       "      <th>8</th>\n",
       "      <td>DecisionTreeClassifier</td>\n",
       "      <td>Incorrectly Classified</td>\n",
       "      <td>5.8</td>\n",
       "    </tr>\n",
       "    <tr>\n",
       "      <th>9</th>\n",
       "      <td>RandomForestClassifier</td>\n",
       "      <td>Incorrectly Classified</td>\n",
       "      <td>5.8</td>\n",
       "    </tr>\n",
       "  </tbody>\n",
       "</table>\n",
       "</div>"
      ],
      "text/plain": [
       "                    model                    cols  vals\n",
       "0             BernoulliNB    Correctly Classified  91.3\n",
       "1              GaussianNB    Correctly Classified  93.3\n",
       "2      LogisticRegression    Correctly Classified  95.2\n",
       "3  DecisionTreeClassifier    Correctly Classified  94.2\n",
       "4  RandomForestClassifier    Correctly Classified  94.2\n",
       "5             BernoulliNB  Incorrectly Classified   8.7\n",
       "6              GaussianNB  Incorrectly Classified   6.7\n",
       "7      LogisticRegression  Incorrectly Classified   4.8\n",
       "8  DecisionTreeClassifier  Incorrectly Classified   5.8\n",
       "9  RandomForestClassifier  Incorrectly Classified   5.8"
      ]
     },
     "execution_count": 40,
     "metadata": {},
     "output_type": "execute_result"
    }
   ],
   "source": [
    "cm_data[\"vals\"] = cm_data[\"vals\"] / test1_y.shape[0] * 100\n",
    "\n",
    "cm_data[\"vals\"] = cm_data[\"vals\"].apply(lambda x: round(x, 1))\n",
    "\n",
    "cm_data"
   ]
  },
  {
   "cell_type": "code",
   "execution_count": 41,
   "id": "29d2d6a1-7f58-4981-ad3e-5b0fce5dd652",
   "metadata": {
    "execution": {
     "iopub.execute_input": "2022-12-08T04:42:20.156947Z",
     "iopub.status.busy": "2022-12-08T04:42:20.156714Z",
     "iopub.status.idle": "2022-12-08T04:42:20.297619Z",
     "shell.execute_reply": "2022-12-08T04:42:20.296397Z",
     "shell.execute_reply.started": "2022-12-08T04:42:20.156920Z"
    },
    "tags": []
   },
   "outputs": [
    {
     "name": "stdout",
     "output_type": "stream",
     "text": [
      "/Users/c92680/Documents/GitHub/diabetes-prediction-comparison/notebooks\n"
     ]
    }
   ],
   "source": [
    "!pwd"
   ]
  },
  {
   "cell_type": "code",
   "execution_count": 42,
   "id": "71592c52-44f0-4d83-955a-4112e284e8cb",
   "metadata": {
    "execution": {
     "iopub.execute_input": "2022-12-08T04:42:20.299671Z",
     "iopub.status.busy": "2022-12-08T04:42:20.299255Z",
     "iopub.status.idle": "2022-12-08T04:42:20.673053Z",
     "shell.execute_reply": "2022-12-08T04:42:20.672328Z",
     "shell.execute_reply.started": "2022-12-08T04:42:20.299640Z"
    },
    "tags": []
   },
   "outputs": [
    {
     "data": {
      "image/png": "[encoded data removed]",
      "text/plain": [
       "<Figure size 1044x324 with 1 Axes>"
      ]
     },
     "metadata": {},
     "output_type": "display_data"
    }
   ],
   "source": [
    "# plt.figure(figsize=(10,5))\n",
    "g = sns.catplot(data=cm_data, y=\"vals\", x=\"model\", hue=\"cols\", kind=\"bar\")\n",
    "g.despine(left=True)\n",
    "g.set_axis_labels(\"\", \"Percent Classified\")\n",
    "g.legend.set_title(\"\")\n",
    "sns.move_legend(g, \"lower left\")\n",
    "g.figure.set_size_inches(14.5, 4.5)\n",
    "\n",
    "# sns.barplot(data=results_conf,y='incorrectly_classified',x='model')\n",
    "# extract the matplotlib axes_subplot objects from the FacetGrid\n",
    "ax = g.facet_axis(0, 0)\n",
    "\n",
    "# iterate through the axes containers\n",
    "for c in ax.containers:\n",
    "    labels = [f\"{(v.get_height()):.0f}\" for v in c]\n",
    "    ax.bar_label(c, labels=labels, label_type=\"edge\")\n",
    "# g.legend(bbox_to_anchor=(1.05, 1), loc='upper left', borderaxespad=0)\n",
    "# g.fig.suptitle(\n",
    "#     \"Figure3 - classification with percentage split (80:20) technique and default hyperparameters\",\n",
    "#     horizontalalignment=\"left\",\n",
    "#     x=0.1,\n",
    "#     y=1.1,\n",
    "# )\n",
    "g.savefig(\n",
    "    \"Figure3 - classification with percentage split technique and default hyperparameters.png\"\n",
    ")"
   ]
  },
  {
   "cell_type": "code",
   "execution_count": null,
   "id": "783bb76b-f4bb-4cc4-b911-bcd6b1b12b1e",
   "metadata": {
    "tags": []
   },
   "outputs": [],
   "source": [
    "print(\"class_stats_percentage_split\")\n",
    "results"
   ]
  },
  {
   "cell_type": "code",
   "execution_count": null,
   "id": "facc3323-54ef-4df7-9bc2-8b35d1c46868",
   "metadata": {
    "tags": []
   },
   "outputs": [],
   "source": [
    "results = results.reset_index()"
   ]
  },
  {
   "cell_type": "code",
   "execution_count": null,
   "id": "22b49edc-a12f-40d4-9d24-0228c8cb2a9d",
   "metadata": {
    "tags": []
   },
   "outputs": [],
   "source": [
    "results = results.rename(columns={\"index\": \"class\"})"
   ]
  },
  {
   "cell_type": "code",
   "execution_count": null,
   "id": "2d8b35dc-f5cd-4cf6-9321-87ee4bdf6230",
   "metadata": {
    "tags": []
   },
   "outputs": [],
   "source": [
    "results = results[[\"class\", \"precision\", \"recall\", \"fbeta\", \"model\"]]"
   ]
  },
  {
   "cell_type": "code",
   "execution_count": null,
   "id": "8859c319-e164-461c-8bc1-1103fc6f0f3c",
   "metadata": {
    "tags": []
   },
   "outputs": [],
   "source": [
    "results = results.rename(\n",
    "    columns={\n",
    "        \"precision\": \"Precision\",\n",
    "        \"recall\": \"Recall\",\n",
    "        \"fbeta\": \"F1\",\n",
    "        \"model\": \"Model Name\",\n",
    "    }\n",
    ")"
   ]
  },
  {
   "cell_type": "code",
   "execution_count": null,
   "id": "9a1ba6f7-7a68-490d-9f0c-e53eeb9ef199",
   "metadata": {
    "tags": []
   },
   "outputs": [],
   "source": [
    "print(\"model_compare\")\n",
    "model_compare[\"class\"] = \"weighted\""
   ]
  },
  {
   "cell_type": "code",
   "execution_count": null,
   "id": "e0e5d2c6-5b65-4db0-8edf-673bd467f09f",
   "metadata": {
    "tags": []
   },
   "outputs": [],
   "source": [
    "model_compare = model_compare[[\"class\", \"Precision\", \"Recall\", \"F1\", \"Model Name\"]]"
   ]
  },
  {
   "cell_type": "code",
   "execution_count": null,
   "id": "65fe2f3a-095a-4182-be50-8a105996c2ab",
   "metadata": {
    "tags": []
   },
   "outputs": [],
   "source": [
    "pd.concat([results, model_compare], ignore_index=True, axis=0)"
   ]
  },
  {
   "cell_type": "code",
   "execution_count": null,
   "id": "d2d6315b-06b8-4a4f-aa3c-78789926018d",
   "metadata": {
    "tags": []
   },
   "outputs": [],
   "source": [
    "print(X.shape, y.shape)"
   ]
  },
  {
   "cell_type": "code",
   "execution_count": null,
   "id": "a95238e8-e72a-4931-b7a6-5a02b2289b56",
   "metadata": {
    "tags": []
   },
   "outputs": [],
   "source": [
    "# split dataset in cross-validation with this splitter class:\n",
    "# http://scikit-learn.org/stable/modules/generated/sklearn.model_selection.ShuffleSplit.html#sklearn.model_selection.ShuffleSplit\n",
    "# note: this is an alternative to train_test_split\n",
    "cv_split = model_selection.ShuffleSplit(\n",
    "    n_splits=10, test_size=0.3, train_size=0.7, random_state=0\n",
    ")\n",
    "\n",
    "# create table to compare MLA metrics\n",
    "MLA_columns = [\n",
    "    \"MLA Name\",\n",
    "    \"MLA Parameters\",\n",
    "    \"MLA Train Accuracy Mean\",\n",
    "    \"MLA Test Accuracy Mean\",\n",
    "    \"MLA Test Accuracy 3*STD\",\n",
    "    \"MLA Time\",\n",
    "]\n",
    "MLA_compare = pd.DataFrame(columns=MLA_columns)\n",
    "\n",
    "# create table to compare MLA predictions\n",
    "MLA_predict = y"
   ]
  },
  {
   "cell_type": "code",
   "execution_count": null,
   "id": "635adfa6-209c-4373-9ab7-8daffecff20c",
   "metadata": {
    "tags": []
   },
   "outputs": [],
   "source": [
    "for train, test in cv_split.split(X, y):\n",
    "    # print('train -  {}   |   test -  {}'.format(\n",
    "    #     np.bincount(y[train]), np.bincount(y[test])))\n",
    "    print('train -  {0}   |   test -  {1}'.format(\n",
    "        np.round(np.bincount(y[train])/np.bincount(y[train]).sum(),2),\n",
    "        np.round(np.bincount(y[test])/np.bincount(y[test]).sum(),2)))"
   ]
  },
  {
   "cell_type": "code",
   "execution_count": null,
   "id": "b6a785ee-2928-42a1-ade9-0986adddf993",
   "metadata": {
    "tags": []
   },
   "outputs": [],
   "source": [
    "for train, test in skf.split(X, y):\n",
    "    # print('train -  {}   |   test -  {}'.format(\n",
    "    #     np.bincount(y[train]), np.bincount(y[test])))\n",
    "    print('train -  {t1} |   test - {t2} '.format(\n",
    "        t1=np.round(np.bincount(y[train])/np.bincount(y[train]).sum(),2),\n",
    "        t2=np.round(np.bincount(y[test])/np.bincount(y[test]).sum(),2)))"
   ]
  },
  {
   "cell_type": "code",
   "execution_count": null,
   "id": "e4f8868c-b8b4-4b2b-853e-c8178edbb5a2",
   "metadata": {},
   "outputs": [],
   "source": []
  },
  {
   "cell_type": "code",
   "execution_count": null,
   "id": "593c25b7-3d72-4b58-80ab-b4b686785f62",
   "metadata": {},
   "outputs": [],
   "source": [
    "fig, ax = plt.subplots()\n",
    "cv = KFold(10)\n",
    "plot_cv_indices(cv, X, y, groups, ax, n_splits)"
   ]
  },
  {
   "cell_type": "code",
   "execution_count": null,
   "id": "cb06fc99-d403-42cc-adc7-65eef5505c51",
   "metadata": {
    "tags": []
   },
   "outputs": [],
   "source": [
    "from sklearn.model_selection import StratifiedKFold"
   ]
  },
  {
   "cell_type": "code",
   "execution_count": null,
   "id": "44356785-9f62-4862-84b1-18cd00942e88",
   "metadata": {
    "tags": []
   },
   "outputs": [],
   "source": [
    "skf = StratifiedKFold(n_splits=5)"
   ]
  },
  {
   "cell_type": "code",
   "execution_count": null,
   "id": "b497287d-3498-4fd2-a039-cf6b5f6f57c9",
   "metadata": {
    "tags": []
   },
   "outputs": [],
   "source": [
    "for train, test in skf.split(X, y):\n",
    "    print('train -  {}   |   test -  {}'.format(\n",
    "        np.bincount(y[train]), np.bincount(y[test])))"
   ]
  },
  {
   "cell_type": "code",
   "execution_count": null,
   "id": "0848c077-666d-47da-b9e2-5985f99d77c6",
   "metadata": {
    "tags": []
   },
   "outputs": [],
   "source": [
    "cv_split = model_selection.ShuffleSplit(\n",
    "    n_splits=10, train_size=0.8, test_size=0.2, random_state=42\n",
    ")"
   ]
  },
  {
   "cell_type": "code",
   "execution_count": null,
   "id": "9d032bd7-82c5-4782-be2d-11a9fa68150e",
   "metadata": {
    "tags": []
   },
   "outputs": [],
   "source": [
    "cv_split = StratifiedKFold(n_splits=10,shuffle=True,random_state=42)"
   ]
  },
  {
   "cell_type": "code",
   "execution_count": null,
   "id": "17337d8e-9e30-44f8-a4c3-315a5036542c",
   "metadata": {
    "tags": []
   },
   "outputs": [],
   "source": [
    "cv_split"
   ]
  },
  {
   "cell_type": "code",
   "execution_count": null,
   "id": "6fff1db3-e528-42fa-a3e1-eb8d518a45e3",
   "metadata": {
    "tags": []
   },
   "outputs": [],
   "source": [
    "\n",
    "\n",
    "results_conf = pd.DataFrame(\n",
    "    columns=[\n",
    "        \"true_negative\",\n",
    "        \"false_positive\",\n",
    "        \"false_negative\",\n",
    "        \"true_positive\",\n",
    "        \"model\",\n",
    "    ]\n",
    ")\n",
    "results_conf2 = pd.DataFrame(\n",
    "    index=[\"negative\", \"positive\", \"model\"],\n",
    "    columns=[\"precision\", \"recall\", \"fbeta\", \"support\"],\n",
    ")\n",
    "# index through MLA and save performance to table\n",
    "row_index = 0\n",
    "for alg in MLA:\n",
    "\n",
    "    # set name and parameters\n",
    "    MLA_name = alg.__class__.__name__\n",
    "    MLA_compare.loc[row_index, \"MLA Name\"] = MLA_name\n",
    "    MLA_compare.loc[row_index, \"MLA Parameters\"] = str(alg.get_params())\n",
    "\n",
    "    # score model with cross validation:\n",
    "    # http://scikit-learn.org/stable/modules/generated/sklearn.model_selection.cross_validate.html#sklearn.model_selection.cross_validate\n",
    "    cv_results = model_selection.cross_validate(\n",
    "        alg, X, y, cv=cv_split, return_train_score=True, scoring=\"f1_macro\",\n",
    "    )\n",
    "\n",
    "    MLA_compare.loc[row_index, \"MLA Time\"] = cv_results[\"fit_time\"].mean()\n",
    "    MLA_compare.loc[row_index, \"MLA Train Accuracy Mean\"] = cv_results[\n",
    "        \"train_score\"\n",
    "    ].mean()\n",
    "    MLA_compare.loc[row_index, \"MLA Test Accuracy Mean\"] = cv_results[\n",
    "        \"test_score\"\n",
    "    ].mean()\n",
    "    # if this is a non-bias random sample, then +/-3 standard deviations (std) from the mean, should statistically capture 99.7% of the subsets\n",
    "    MLA_compare.loc[row_index, \"MLA Test Accuracy 3*STD\"] = (\n",
    "        cv_results[\"test_score\"].std() * 3\n",
    "    )  # let's know the worst that can happen!\n",
    "\n",
    "    # save MLA predictions - see section 6 for usage\n",
    "    model = alg.fit(X, y)\n",
    "    y_pred = alg.predict(X)\n",
    "\n",
    "    print(\n",
    "        sklearn.metrics.precision_recall_fscore_support(y, y_pred, average=\"binary\"),\n",
    "        \"\\n\",\n",
    "    )\n",
    "    prec, recall, f1, support = sklearn.metrics.precision_recall_fscore_support(\n",
    "        y, y_pred, average=\"binary\"\n",
    "    )\n",
    "\n",
    "    flattened = sklearn.metrics.confusion_matrix(y, y_pred).ravel()\n",
    "\n",
    "    confusion = pd.DataFrame(\n",
    "        [flattened],\n",
    "        columns=[\"true_negative\", \"false_positive\", \"false_negative\", \"true_positive\"],\n",
    "    )\n",
    "    confusion[\"model\"] = MLA_name\n",
    "    results_conf = pd.concat([results_conf, confusion])\n",
    "\n",
    "    #\n",
    "    weighted_stats = sklearn.metrics.precision_recall_fscore_support(\n",
    "        y, y_pred, average=\"binary\"\n",
    "    )\n",
    "    weighted_stats = np.array(weighted_stats).T\n",
    "    weighted_stats = weighted_stats.reshape(1, -1)\n",
    "    class_stats = sklearn.metrics.precision_recall_fscore_support(\n",
    "        y, y_pred, labels=[0, 1], pos_label=1\n",
    "    )\n",
    "    class_stats = np.array(class_stats).T\n",
    "    weighted = pd.DataFrame(\n",
    "        weighted_stats,\n",
    "        index=[\"weighted\"],\n",
    "        columns=[\"precision\", \"recall\", \"fbeta\", \"support\"],\n",
    "    )\n",
    "    weighted[\"model\"] = MLA_name\n",
    "    weighted[\"support\"] = 520\n",
    "\n",
    "    stats = pd.DataFrame(\n",
    "        class_stats,\n",
    "        index=[\"negative\", \"positive\"],\n",
    "        columns=[\"precision\", \"recall\", \"fbeta\", \"support\"],\n",
    "    )\n",
    "    stats[\"model\"] = MLA_name\n",
    "\n",
    "    results_conf2 = pd.concat([results_conf2, weighted, stats], ignore_index=False)\n",
    "\n",
    "    model_compare.loc[row_index, \"Model Name\"] = MLA_name\n",
    "    model_compare.loc[row_index, \"Precision\"] = prec\n",
    "    model_compare.loc[row_index, \"Recall\"] = recall\n",
    "    model_compare.loc[row_index, \"F1\"] = f1\n",
    "    model_compare.loc[row_index, \"Train Accuracy\"] = cv_results[\"train_score\"].mean()\n",
    "    model_compare.loc[row_index, \"Test Accuracy\"] = cv_results[\"test_score\"].mean()\n",
    "\n",
    "    row_index += 1\n",
    "\n",
    "\n",
    "results_conf = results_conf.dropna()\n",
    "results_conf2 = results_conf2.dropna()\n",
    "# print and sort table: https://pandas.pydata.org/pandas-docs/stable/generated/pandas.DataFrame.sort_values.html\n",
    "MLA_compare.sort_values(by=[\"MLA Test Accuracy Mean\"], ascending=False, inplace=True)\n",
    "MLA_compare\n",
    "# MLA_predict"
   ]
  },
  {
   "cell_type": "code",
   "execution_count": null,
   "id": "99ae56f4-4a74-4530-a15d-97c133cc8aed",
   "metadata": {
    "tags": []
   },
   "outputs": [],
   "source": [
    "results_conf2"
   ]
  },
  {
   "cell_type": "code",
   "execution_count": null,
   "id": "1d2a2dde-f448-4c32-a100-de79db769cb1",
   "metadata": {
    "tags": []
   },
   "outputs": [],
   "source": [
    "for train, test in cv_split.split(X, y):\n",
    "    print('train -  {}   |   test -  {}'.format(\n",
    "        np.bincount(y[train]), np.bincount(y[test])))"
   ]
  },
  {
   "cell_type": "code",
   "execution_count": null,
   "id": "3d66b3d7-8acb-409f-84e4-f700a6a6b8e3",
   "metadata": {
    "tags": []
   },
   "outputs": [],
   "source": [
    "model_compare #(STRATIFIED)"
   ]
  },
  {
   "cell_type": "code",
   "execution_count": null,
   "id": "fca947bc-beac-4d61-b627-9a6cb49776b7",
   "metadata": {
    "tags": []
   },
   "outputs": [],
   "source": [
    "for train, test in cv_split.split(X, y):\n",
    "    print('train -  {}   |   test -  {}'.format(\n",
    "        np.bincount(y[train]), np.bincount(y[test])))"
   ]
  },
  {
   "cell_type": "code",
   "execution_count": null,
   "id": "b5ac4382-0c42-4cab-83b6-b5700f232a76",
   "metadata": {
    "tags": []
   },
   "outputs": [],
   "source": [
    "180+288"
   ]
  },
  {
   "cell_type": "code",
   "execution_count": null,
   "id": "eb742559-b696-483a-bd94-ace53df004a2",
   "metadata": {
    "tags": []
   },
   "outputs": [],
   "source": [
    "468/520"
   ]
  },
  {
   "cell_type": "code",
   "execution_count": null,
   "id": "12e227f9-b57f-42aa-88b4-085ba4a2b812",
   "metadata": {},
   "outputs": [],
   "source": []
  },
  {
   "cell_type": "code",
   "execution_count": null,
   "id": "4439adc0-7d06-4f13-9b8b-16e966bc2c83",
   "metadata": {
    "tags": []
   },
   "outputs": [],
   "source": [
    "468+52"
   ]
  },
  {
   "cell_type": "code",
   "execution_count": null,
   "id": "61baf309-32bb-4c13-8100-128fd5dfe861",
   "metadata": {
    "tags": []
   },
   "outputs": [],
   "source": [
    "print(\"10fold class stats\")\n",
    "results_conf2"
   ]
  },
  {
   "cell_type": "code",
   "execution_count": null,
   "id": "68276ed3-199c-43ff-ab62-744f55b06669",
   "metadata": {
    "tags": []
   },
   "outputs": [],
   "source": [
    "results_conf2.dropna()"
   ]
  },
  {
   "cell_type": "code",
   "execution_count": null,
   "id": "f5cbac1b-31e5-40f3-9a37-0f9459d3f408",
   "metadata": {
    "tags": []
   },
   "outputs": [],
   "source": [
    "weighted_stats"
   ]
  },
  {
   "cell_type": "code",
   "execution_count": null,
   "id": "7511ae18-d4c6-4b35-8227-5b8f3cc24284",
   "metadata": {
    "tags": []
   },
   "outputs": [],
   "source": [
    "results_conf"
   ]
  },
  {
   "cell_type": "code",
   "execution_count": null,
   "id": "4353b563-3faa-43ba-a28b-b54ca0553a8b",
   "metadata": {
    "tags": []
   },
   "outputs": [],
   "source": [
    "stats"
   ]
  },
  {
   "cell_type": "code",
   "execution_count": null,
   "id": "fadddf49-7f77-459e-ac03-d04b84dc8438",
   "metadata": {},
   "outputs": [],
   "source": [
    "# class_stats = sklearn.metrics.precision_recall_fscore_support(\n",
    "#     test1_y, y_pred, labels=[0, 1], pos_label=1\n",
    "# )\n",
    "# class_stats = np.array(class_stats).T\n",
    "# stats = pd.DataFrame(\n",
    "#     class_stats,\n",
    "#     index=[\"negative\", \"positive\"],\n",
    "#     columns=[\"precision\", \"recall\", \"fbeta\", \"support\"],\n",
    "# )"
   ]
  },
  {
   "cell_type": "code",
   "execution_count": null,
   "id": "8eaf7439-e363-40fd-8839-4cbcec9facd7",
   "metadata": {
    "tags": []
   },
   "outputs": [],
   "source": [
    "results_conf[\"Correctly Classified\"] = (\n",
    "    results_conf[\"true_negative\"] + results_conf[\"true_positive\"]\n",
    ")\n",
    "results_conf[\"Incorrectly Classified\"] = (\n",
    "    y.shape[0] - results_conf[\"Correctly Classified\"]\n",
    ")\n",
    "\n",
    "cm_data = results_conf[\n",
    "    [\"model\", \"Correctly Classified\", \"Incorrectly Classified\"]\n",
    "].melt(\"model\", var_name=\"cols\", value_name=\"vals\")"
   ]
  },
  {
   "cell_type": "code",
   "execution_count": null,
   "id": "059edad2-a5dc-433e-9340-dc59544bdc8b",
   "metadata": {
    "tags": []
   },
   "outputs": [],
   "source": [
    "results_conf"
   ]
  },
  {
   "cell_type": "code",
   "execution_count": null,
   "id": "f0dcf108-7a03-48c9-b168-e222da5877e5",
   "metadata": {
    "tags": []
   },
   "outputs": [],
   "source": [
    "cm_data"
   ]
  },
  {
   "cell_type": "code",
   "execution_count": null,
   "id": "72b00453-bcd4-4be5-aeff-ed697bbbd94f",
   "metadata": {
    "tags": []
   },
   "outputs": [],
   "source": [
    "cm_data[\"vals\"] = cm_data[\"vals\"] / y.shape[0] * 100\n",
    "\n",
    "cm_data[\"vals\"] = cm_data[\"vals\"].apply(lambda x: round(x, 1))\n",
    "\n",
    "cm_data"
   ]
  },
  {
   "cell_type": "code",
   "execution_count": null,
   "id": "18b8985d-fa7f-452f-8654-e5036bce696d",
   "metadata": {
    "tags": []
   },
   "outputs": [],
   "source": [
    "# plt.figure(figsize=(10,5))\n",
    "g = sns.catplot(data=cm_data, y=\"vals\", x=\"model\", hue=\"cols\", kind=\"bar\")\n",
    "g.despine(left=True)\n",
    "g.set_axis_labels(\"\", \"Percent Classified\")\n",
    "g.legend.set_title(\"\")\n",
    "sns.move_legend(g, \"lower left\")\n",
    "g.figure.set_size_inches(14.5, 4.5)\n",
    "\n",
    "# sns.barplot(data=results_conf,y='incorrectly_classified',x='model')\n",
    "# extract the matplotlib axes_subplot objects from the FacetGrid\n",
    "ax = g.facet_axis(0, 0)\n",
    "\n",
    "# iterate through the axes containers\n",
    "for c in ax.containers:\n",
    "    labels = [f\"{(v.get_height()):.0f}\" for v in c]\n",
    "    ax.bar_label(c, labels=labels, label_type=\"edge\")\n",
    "# g.fig.suptitle(\n",
    "#     \"Figure2 - Classification with 10-fold cross validation technique and default hyperparameter\",\n",
    "#     horizontalalignment=\"left\",\n",
    "#     x=0.1,\n",
    "#     y=1.1,\n",
    "# )\n",
    "g.savefig(\n",
    "    \"figure2 - classification with cross validation technique and default hyperparameter.png\"\n",
    ")"
   ]
  },
  {
   "cell_type": "code",
   "execution_count": null,
   "id": "618f17d1-7b36-4950-9b5f-96f6bf1c28fc",
   "metadata": {
    "tags": []
   },
   "outputs": [],
   "source": [
    "print(\"10-Fold CV Results\")\n",
    "model_compare"
   ]
  },
  {
   "cell_type": "markdown",
   "id": "eb2857aa-4360-44c1-81bf-358d6736ebc7",
   "metadata": {},
   "source": [
    "## Variable Importance stuff"
   ]
  },
  {
   "cell_type": "code",
   "execution_count": 20,
   "id": "c8ed16d7-8bf4-426e-b320-4380e2b8d736",
   "metadata": {
    "execution": {
     "iopub.execute_input": "2022-12-08T04:31:24.657843Z",
     "iopub.status.busy": "2022-12-08T04:31:24.657617Z",
     "iopub.status.idle": "2022-12-08T04:31:24.660941Z",
     "shell.execute_reply": "2022-12-08T04:31:24.660211Z",
     "shell.execute_reply.started": "2022-12-08T04:31:24.657822Z"
    },
    "tags": []
   },
   "outputs": [],
   "source": [
    "from sklearn.pipeline import Pipeline"
   ]
  },
  {
   "cell_type": "code",
   "execution_count": 21,
   "id": "7083ffcf-0d6b-4ea8-95b4-173f7645f229",
   "metadata": {
    "execution": {
     "iopub.execute_input": "2022-12-08T04:31:26.155474Z",
     "iopub.status.busy": "2022-12-08T04:31:26.155065Z",
     "iopub.status.idle": "2022-12-08T04:31:26.168281Z",
     "shell.execute_reply": "2022-12-08T04:31:26.167666Z",
     "shell.execute_reply.started": "2022-12-08T04:31:26.155444Z"
    },
    "tags": []
   },
   "outputs": [],
   "source": [
    "sylhet_raw = pd.read_csv(\"../data/sylhet-dataset.csv\")\n",
    "sylhet_copy = sylhet_raw.copy(deep=True)\n",
    "col_names = [x.lower().replace(\" \", \"_\") for x in sylhet_copy.columns]\n",
    "sylhet_copy.set_axis(col_names, axis=1, inplace=True)\n",
    "age_binned = pd.qcut(sylhet_copy[\"age\"], q=6)\n",
    "sylhet_copy[\"age\"] = age_binned\n",
    "# sylhet_copy['age'] = sylhet_copy['age'].astype('float')\n",
    "y = sylhet_copy[\"class\"].apply(lambda z: 0 if z == \"Negative\" else 1)"
   ]
  },
  {
   "cell_type": "code",
   "execution_count": 22,
   "id": "aa3a53b1-2cbf-4381-93b9-5063aed9d1c4",
   "metadata": {
    "execution": {
     "iopub.execute_input": "2022-12-08T04:31:26.170358Z",
     "iopub.status.busy": "2022-12-08T04:31:26.170127Z",
     "iopub.status.idle": "2022-12-08T04:31:26.173548Z",
     "shell.execute_reply": "2022-12-08T04:31:26.172954Z",
     "shell.execute_reply.started": "2022-12-08T04:31:26.170333Z"
    },
    "tags": []
   },
   "outputs": [],
   "source": [
    "dt = tree.DecisionTreeClassifier(random_state=42)"
   ]
  },
  {
   "cell_type": "code",
   "execution_count": 23,
   "id": "dfb6a123-5b96-4764-b04c-96b853f66f94",
   "metadata": {
    "execution": {
     "iopub.execute_input": "2022-12-08T04:31:26.174666Z",
     "iopub.status.busy": "2022-12-08T04:31:26.174431Z",
     "iopub.status.idle": "2022-12-08T04:31:26.180207Z",
     "shell.execute_reply": "2022-12-08T04:31:26.179264Z",
     "shell.execute_reply.started": "2022-12-08T04:31:26.174644Z"
    },
    "tags": []
   },
   "outputs": [
    {
     "data": {
      "text/plain": [
       "array([0. , 0.1, 0.2, 0.3, 0.4, 0.5, 0.6, 0.7, 0.8, 0.9, 1. ])"
      ]
     },
     "execution_count": 23,
     "metadata": {},
     "output_type": "execute_result"
    }
   ],
   "source": [
    "np.linspace(0,1.0,num=11)"
   ]
  },
  {
   "cell_type": "code",
   "execution_count": 24,
   "id": "b3c58001-224e-4b75-86ed-34ba02630d4a",
   "metadata": {
    "execution": {
     "iopub.execute_input": "2022-12-08T04:31:26.181678Z",
     "iopub.status.busy": "2022-12-08T04:31:26.181142Z",
     "iopub.status.idle": "2022-12-08T04:31:26.185358Z",
     "shell.execute_reply": "2022-12-08T04:31:26.184508Z",
     "shell.execute_reply.started": "2022-12-08T04:31:26.181650Z"
    },
    "tags": []
   },
   "outputs": [],
   "source": [
    "param_grid = {\n",
    "    \"dt__max_depth\": [1,3,5],\n",
    "    \"dt__min_samples_leaf\" :[5,10,20,30],\n",
    "    \"dt__min_samples_split\" :[5,10,20,30]\n",
    "}"
   ]
  },
  {
   "cell_type": "code",
   "execution_count": 25,
   "id": "1d8d74ba-5792-43eb-a044-bde64c76b5e8",
   "metadata": {
    "execution": {
     "iopub.execute_input": "2022-12-08T04:31:26.738527Z",
     "iopub.status.busy": "2022-12-08T04:31:26.738295Z",
     "iopub.status.idle": "2022-12-08T04:31:26.743326Z",
     "shell.execute_reply": "2022-12-08T04:31:26.742730Z",
     "shell.execute_reply.started": "2022-12-08T04:31:26.738505Z"
    },
    "tags": []
   },
   "outputs": [
    {
     "data": {
      "text/plain": [
       "dict_keys(['ccp_alpha', 'class_weight', 'criterion', 'max_depth', 'max_features', 'max_leaf_nodes', 'min_impurity_decrease', 'min_samples_leaf', 'min_samples_split', 'min_weight_fraction_leaf', 'random_state', 'splitter'])"
      ]
     },
     "execution_count": 25,
     "metadata": {},
     "output_type": "execute_result"
    }
   ],
   "source": [
    "tree.DecisionTreeClassifier().get_params().keys()"
   ]
  },
  {
   "cell_type": "code",
   "execution_count": 26,
   "id": "245700a3-c2f0-40d1-bd82-56b8173d3bbf",
   "metadata": {
    "execution": {
     "iopub.execute_input": "2022-12-08T04:31:27.269231Z",
     "iopub.status.busy": "2022-12-08T04:31:27.268977Z",
     "iopub.status.idle": "2022-12-08T04:31:27.273041Z",
     "shell.execute_reply": "2022-12-08T04:31:27.272349Z",
     "shell.execute_reply.started": "2022-12-08T04:31:27.269203Z"
    },
    "tags": []
   },
   "outputs": [],
   "source": [
    "column_trans = ColumnTransformer(\n",
    "    [(\"one_hot\", OneHotEncoder(drop=\"if_binary\"), list(sylhet_copy.columns.values),)],\n",
    "    remainder=\"drop\",\n",
    ")"
   ]
  },
  {
   "cell_type": "code",
   "execution_count": 27,
   "id": "9f3b6a0b-c0ed-412c-a879-05e5c8c5ad7f",
   "metadata": {
    "execution": {
     "iopub.execute_input": "2022-12-08T04:31:27.834041Z",
     "iopub.status.busy": "2022-12-08T04:31:27.833757Z",
     "iopub.status.idle": "2022-12-08T04:31:27.838254Z",
     "shell.execute_reply": "2022-12-08T04:31:27.837453Z",
     "shell.execute_reply.started": "2022-12-08T04:31:27.834012Z"
    },
    "tags": []
   },
   "outputs": [],
   "source": [
    "dt = Pipeline(\n",
    "    [\n",
    "        (\"column_trans\", column_trans),\n",
    "        (\"dt\",tree.DecisionTreeClassifier(random_state=42)),\n",
    "    ]\n",
    ")\n",
    "\n",
    "# dt.fit(X_train, y_train)"
   ]
  },
  {
   "cell_type": "code",
   "execution_count": 28,
   "id": "c8a561c6-89e8-4ddb-a440-f71e6458a47c",
   "metadata": {
    "execution": {
     "iopub.execute_input": "2022-12-08T04:31:29.543556Z",
     "iopub.status.busy": "2022-12-08T04:31:29.543270Z",
     "iopub.status.idle": "2022-12-08T04:31:29.547151Z",
     "shell.execute_reply": "2022-12-08T04:31:29.546446Z",
     "shell.execute_reply.started": "2022-12-08T04:31:29.543526Z"
    },
    "tags": []
   },
   "outputs": [],
   "source": [
    "clf = GridSearchCV(dt, param_grid,return_train_score=True)"
   ]
  },
  {
   "cell_type": "code",
   "execution_count": 29,
   "id": "fe041d40-c6a5-4472-ab47-8566ec61337e",
   "metadata": {
    "execution": {
     "iopub.execute_input": "2022-12-08T04:31:30.893952Z",
     "iopub.status.busy": "2022-12-08T04:31:30.893560Z",
     "iopub.status.idle": "2022-12-08T04:31:30.899185Z",
     "shell.execute_reply": "2022-12-08T04:31:30.898506Z",
     "shell.execute_reply.started": "2022-12-08T04:31:30.893926Z"
    },
    "tags": []
   },
   "outputs": [
    {
     "data": {
      "text/plain": [
       "(520, 17)"
      ]
     },
     "execution_count": 29,
     "metadata": {},
     "output_type": "execute_result"
    }
   ],
   "source": [
    "sylhet_copy.shape"
   ]
  },
  {
   "cell_type": "code",
   "execution_count": 30,
   "id": "464d0fba-0c18-4faf-b327-beaa06db4279",
   "metadata": {
    "execution": {
     "iopub.execute_input": "2022-12-08T04:31:31.621307Z",
     "iopub.status.busy": "2022-12-08T04:31:31.621018Z",
     "iopub.status.idle": "2022-12-08T04:31:35.710103Z",
     "shell.execute_reply": "2022-12-08T04:31:35.709495Z",
     "shell.execute_reply.started": "2022-12-08T04:31:31.621273Z"
    },
    "tags": []
   },
   "outputs": [
    {
     "data": {
      "text/plain": [
       "GridSearchCV(estimator=Pipeline(steps=[('column_trans',\n",
       "                                        ColumnTransformer(transformers=[('one_hot',\n",
       "                                                                         OneHotEncoder(drop='if_binary'),\n",
       "                                                                         ['age',\n",
       "                                                                          'gender',\n",
       "                                                                          'polyuria',\n",
       "                                                                          'polydipsia',\n",
       "                                                                          'sudden_weight_loss',\n",
       "                                                                          'weakness',\n",
       "                                                                          'polyphagia',\n",
       "                                                                          'genital_thrush',\n",
       "                                                                          'visual_blurring',\n",
       "                                                                          'itching',\n",
       "                                                                          'irritability',\n",
       "                                                                          'delayed_healing',\n",
       "                                                                          'partial_paresis',\n",
       "                                                                          'muscle_stiffness',\n",
       "                                                                          'alopecia',\n",
       "                                                                          'obesity',\n",
       "                                                                          'class'])])),\n",
       "                                       ('dt',\n",
       "                                        DecisionTreeClassifier(random_state=42))]),\n",
       "             param_grid={'dt__max_depth': [1, 3, 5],\n",
       "                         'dt__min_samples_leaf': [5, 10, 20, 30],\n",
       "                         'dt__min_samples_split': [5, 10, 20, 30]},\n",
       "             return_train_score=True)"
      ]
     },
     "execution_count": 30,
     "metadata": {},
     "output_type": "execute_result"
    }
   ],
   "source": [
    "clf.fit(sylhet_copy, y)"
   ]
  },
  {
   "cell_type": "code",
   "execution_count": 31,
   "id": "d31018c1-ca3c-4bec-9b03-22383ad2dab5",
   "metadata": {
    "execution": {
     "iopub.execute_input": "2022-12-08T04:31:35.712336Z",
     "iopub.status.busy": "2022-12-08T04:31:35.712075Z",
     "iopub.status.idle": "2022-12-08T04:31:35.715946Z",
     "shell.execute_reply": "2022-12-08T04:31:35.715382Z",
     "shell.execute_reply.started": "2022-12-08T04:31:35.712276Z"
    },
    "tags": []
   },
   "outputs": [
    {
     "data": {
      "text/plain": [
       "{'dt__max_depth': 1, 'dt__min_samples_leaf': 5, 'dt__min_samples_split': 5}"
      ]
     },
     "execution_count": 31,
     "metadata": {},
     "output_type": "execute_result"
    }
   ],
   "source": [
    "clf.best_score_\n",
    "clf.best_params_"
   ]
  },
  {
   "cell_type": "code",
   "execution_count": 32,
   "id": "1eca7179-42f0-4282-9e3a-d0f28239e44e",
   "metadata": {
    "execution": {
     "iopub.execute_input": "2022-12-08T04:31:35.717042Z",
     "iopub.status.busy": "2022-12-08T04:31:35.716683Z",
     "iopub.status.idle": "2022-12-08T04:31:35.720292Z",
     "shell.execute_reply": "2022-12-08T04:31:35.719889Z",
     "shell.execute_reply.started": "2022-12-08T04:31:35.717023Z"
    },
    "tags": []
   },
   "outputs": [
    {
     "data": {
      "text/plain": [
       "dict_keys(['mean_fit_time', 'std_fit_time', 'mean_score_time', 'std_score_time', 'param_dt__max_depth', 'param_dt__min_samples_leaf', 'param_dt__min_samples_split', 'params', 'split0_test_score', 'split1_test_score', 'split2_test_score', 'split3_test_score', 'split4_test_score', 'mean_test_score', 'std_test_score', 'rank_test_score', 'split0_train_score', 'split1_train_score', 'split2_train_score', 'split3_train_score', 'split4_train_score', 'mean_train_score', 'std_train_score'])"
      ]
     },
     "execution_count": 32,
     "metadata": {},
     "output_type": "execute_result"
    }
   ],
   "source": [
    "clf.cv_results_.keys()"
   ]
  },
  {
   "cell_type": "code",
   "execution_count": 33,
   "id": "5626ec38-e321-438e-9880-4ace574ccc06",
   "metadata": {
    "execution": {
     "iopub.execute_input": "2022-12-08T04:31:35.721771Z",
     "iopub.status.busy": "2022-12-08T04:31:35.721603Z",
     "iopub.status.idle": "2022-12-08T04:31:35.739565Z",
     "shell.execute_reply": "2022-12-08T04:31:35.738833Z",
     "shell.execute_reply.started": "2022-12-08T04:31:35.721753Z"
    },
    "tags": []
   },
   "outputs": [
    {
     "data": {
      "text/plain": [
       "{'mean_fit_time': array([0.01114335, 0.00840988, 0.00843978, 0.01027803, 0.00961661,\n",
       "        0.00727658, 0.00728464, 0.00867805, 0.00737729, 0.00831718,\n",
       "        0.00857878, 0.00924602, 0.0073761 , 0.00834045, 0.0080205 ,\n",
       "        0.00708451, 0.00714688, 0.00883441, 0.00730844, 0.00740824,\n",
       "        0.00801735, 0.00734911, 0.00717545, 0.00723529, 0.00706897,\n",
       "        0.00725946, 0.0070343 , 0.00747266, 0.00725088, 0.00718198,\n",
       "        0.00750828, 0.00758405, 0.0073791 , 0.00732121, 0.00754161,\n",
       "        0.0078805 , 0.01026821, 0.00829992, 0.00724359, 0.00694594,\n",
       "        0.00720401, 0.00759225, 0.00784402, 0.00820222, 0.00942235,\n",
       "        0.00744338, 0.00716257, 0.00732374]),\n",
       " 'std_fit_time': array([7.74597426e-04, 1.02114931e-03, 1.06472495e-03, 3.85081756e-04,\n",
       "        1.04506756e-03, 1.84202657e-04, 7.95292336e-05, 1.27686365e-03,\n",
       "        5.07886879e-04, 1.13490149e-03, 9.52283740e-04, 1.22426911e-03,\n",
       "        1.21006822e-04, 1.44917590e-03, 1.26375529e-03, 1.58526132e-04,\n",
       "        1.96254751e-04, 1.40495287e-03, 1.83453539e-04, 1.97562019e-04,\n",
       "        9.88438751e-04, 3.33254070e-04, 1.02327299e-04, 6.52199242e-05,\n",
       "        8.54848943e-05, 4.86071544e-04, 1.50142536e-04, 7.30585062e-04,\n",
       "        3.59719821e-04, 7.69616651e-05, 4.21345682e-04, 2.24737020e-04,\n",
       "        3.12145922e-05, 7.09110885e-05, 4.66459925e-04, 1.06382991e-03,\n",
       "        4.96435117e-04, 1.06088297e-03, 1.24282682e-04, 1.18578731e-04,\n",
       "        4.08169026e-04, 3.84067760e-04, 3.54637628e-04, 7.56955005e-04,\n",
       "        1.04025294e-03, 2.60585220e-04, 6.17674395e-05, 7.12402167e-04]),\n",
       " 'mean_score_time': array([0.00483208, 0.00362773, 0.00383468, 0.00463572, 0.00402641,\n",
       "        0.00337029, 0.00318198, 0.00374513, 0.00327463, 0.00373793,\n",
       "        0.00381761, 0.0039866 , 0.00323005, 0.00387435, 0.00331845,\n",
       "        0.00311489, 0.00323787, 0.00384378, 0.00324116, 0.00320153,\n",
       "        0.00359778, 0.00313959, 0.00310097, 0.00319953, 0.00310068,\n",
       "        0.00310278, 0.00307078, 0.00313597, 0.00334783, 0.00312724,\n",
       "        0.00337377, 0.00331039, 0.00328641, 0.00316463, 0.00317192,\n",
       "        0.00351653, 0.00445666, 0.00351214, 0.00310869, 0.00301509,\n",
       "        0.00302882, 0.00344343, 0.0035295 , 0.00378442, 0.00397391,\n",
       "        0.00316544, 0.00310636, 0.00310826]),\n",
       " 'std_score_time': array([3.45642426e-04, 5.18197994e-04, 5.50132454e-04, 1.73116622e-04,\n",
       "        5.72219829e-04, 4.90580395e-04, 1.33976817e-05, 6.16968420e-04,\n",
       "        2.48354004e-04, 5.27356416e-04, 6.16753029e-04, 6.19254540e-04,\n",
       "        2.78320990e-05, 7.37525058e-04, 2.12164545e-04, 1.14919476e-04,\n",
       "        3.94080874e-04, 6.33377917e-04, 1.88390064e-04, 8.12127177e-05,\n",
       "        5.87436835e-04, 8.73606277e-05, 1.40497947e-05, 1.07748359e-04,\n",
       "        3.07245241e-05, 1.12755504e-04, 6.12115546e-05, 8.73313164e-05,\n",
       "        3.97427120e-04, 3.50596932e-06, 2.46238662e-04, 1.42774346e-04,\n",
       "        1.09164408e-04, 3.27468070e-05, 4.23561862e-05, 3.56373322e-04,\n",
       "        3.53990611e-04, 4.36181457e-04, 6.67799162e-05, 3.47925826e-05,\n",
       "        2.85292114e-05, 3.09553171e-04, 1.55687836e-04, 4.74975959e-04,\n",
       "        4.82989918e-04, 4.60560026e-05, 2.40923124e-05, 6.72615955e-05]),\n",
       " 'param_dt__max_depth': masked_array(data=[1, 1, 1, 1, 1, 1, 1, 1, 1, 1, 1, 1, 1, 1, 1, 1, 3, 3,\n",
       "                    3, 3, 3, 3, 3, 3, 3, 3, 3, 3, 3, 3, 3, 3, 5, 5, 5, 5,\n",
       "                    5, 5, 5, 5, 5, 5, 5, 5, 5, 5, 5, 5],\n",
       "              mask=[False, False, False, False, False, False, False, False,\n",
       "                    False, False, False, False, False, False, False, False,\n",
       "                    False, False, False, False, False, False, False, False,\n",
       "                    False, False, False, False, False, False, False, False,\n",
       "                    False, False, False, False, False, False, False, False,\n",
       "                    False, False, False, False, False, False, False, False],\n",
       "        fill_value='?',\n",
       "             dtype=object),\n",
       " 'param_dt__min_samples_leaf': masked_array(data=[5, 5, 5, 5, 10, 10, 10, 10, 20, 20, 20, 20, 30, 30, 30,\n",
       "                    30, 5, 5, 5, 5, 10, 10, 10, 10, 20, 20, 20, 20, 30, 30,\n",
       "                    30, 30, 5, 5, 5, 5, 10, 10, 10, 10, 20, 20, 20, 20, 30,\n",
       "                    30, 30, 30],\n",
       "              mask=[False, False, False, False, False, False, False, False,\n",
       "                    False, False, False, False, False, False, False, False,\n",
       "                    False, False, False, False, False, False, False, False,\n",
       "                    False, False, False, False, False, False, False, False,\n",
       "                    False, False, False, False, False, False, False, False,\n",
       "                    False, False, False, False, False, False, False, False],\n",
       "        fill_value='?',\n",
       "             dtype=object),\n",
       " 'param_dt__min_samples_split': masked_array(data=[5, 10, 20, 30, 5, 10, 20, 30, 5, 10, 20, 30, 5, 10, 20,\n",
       "                    30, 5, 10, 20, 30, 5, 10, 20, 30, 5, 10, 20, 30, 5, 10,\n",
       "                    20, 30, 5, 10, 20, 30, 5, 10, 20, 30, 5, 10, 20, 30, 5,\n",
       "                    10, 20, 30],\n",
       "              mask=[False, False, False, False, False, False, False, False,\n",
       "                    False, False, False, False, False, False, False, False,\n",
       "                    False, False, False, False, False, False, False, False,\n",
       "                    False, False, False, False, False, False, False, False,\n",
       "                    False, False, False, False, False, False, False, False,\n",
       "                    False, False, False, False, False, False, False, False],\n",
       "        fill_value='?',\n",
       "             dtype=object),\n",
       " 'params': [{'dt__max_depth': 1,\n",
       "   'dt__min_samples_leaf': 5,\n",
       "   'dt__min_samples_split': 5},\n",
       "  {'dt__max_depth': 1, 'dt__min_samples_leaf': 5, 'dt__min_samples_split': 10},\n",
       "  {'dt__max_depth': 1, 'dt__min_samples_leaf': 5, 'dt__min_samples_split': 20},\n",
       "  {'dt__max_depth': 1, 'dt__min_samples_leaf': 5, 'dt__min_samples_split': 30},\n",
       "  {'dt__max_depth': 1, 'dt__min_samples_leaf': 10, 'dt__min_samples_split': 5},\n",
       "  {'dt__max_depth': 1,\n",
       "   'dt__min_samples_leaf': 10,\n",
       "   'dt__min_samples_split': 10},\n",
       "  {'dt__max_depth': 1,\n",
       "   'dt__min_samples_leaf': 10,\n",
       "   'dt__min_samples_split': 20},\n",
       "  {'dt__max_depth': 1,\n",
       "   'dt__min_samples_leaf': 10,\n",
       "   'dt__min_samples_split': 30},\n",
       "  {'dt__max_depth': 1, 'dt__min_samples_leaf': 20, 'dt__min_samples_split': 5},\n",
       "  {'dt__max_depth': 1,\n",
       "   'dt__min_samples_leaf': 20,\n",
       "   'dt__min_samples_split': 10},\n",
       "  {'dt__max_depth': 1,\n",
       "   'dt__min_samples_leaf': 20,\n",
       "   'dt__min_samples_split': 20},\n",
       "  {'dt__max_depth': 1,\n",
       "   'dt__min_samples_leaf': 20,\n",
       "   'dt__min_samples_split': 30},\n",
       "  {'dt__max_depth': 1, 'dt__min_samples_leaf': 30, 'dt__min_samples_split': 5},\n",
       "  {'dt__max_depth': 1,\n",
       "   'dt__min_samples_leaf': 30,\n",
       "   'dt__min_samples_split': 10},\n",
       "  {'dt__max_depth': 1,\n",
       "   'dt__min_samples_leaf': 30,\n",
       "   'dt__min_samples_split': 20},\n",
       "  {'dt__max_depth': 1,\n",
       "   'dt__min_samples_leaf': 30,\n",
       "   'dt__min_samples_split': 30},\n",
       "  {'dt__max_depth': 3, 'dt__min_samples_leaf': 5, 'dt__min_samples_split': 5},\n",
       "  {'dt__max_depth': 3, 'dt__min_samples_leaf': 5, 'dt__min_samples_split': 10},\n",
       "  {'dt__max_depth': 3, 'dt__min_samples_leaf': 5, 'dt__min_samples_split': 20},\n",
       "  {'dt__max_depth': 3, 'dt__min_samples_leaf': 5, 'dt__min_samples_split': 30},\n",
       "  {'dt__max_depth': 3, 'dt__min_samples_leaf': 10, 'dt__min_samples_split': 5},\n",
       "  {'dt__max_depth': 3,\n",
       "   'dt__min_samples_leaf': 10,\n",
       "   'dt__min_samples_split': 10},\n",
       "  {'dt__max_depth': 3,\n",
       "   'dt__min_samples_leaf': 10,\n",
       "   'dt__min_samples_split': 20},\n",
       "  {'dt__max_depth': 3,\n",
       "   'dt__min_samples_leaf': 10,\n",
       "   'dt__min_samples_split': 30},\n",
       "  {'dt__max_depth': 3, 'dt__min_samples_leaf': 20, 'dt__min_samples_split': 5},\n",
       "  {'dt__max_depth': 3,\n",
       "   'dt__min_samples_leaf': 20,\n",
       "   'dt__min_samples_split': 10},\n",
       "  {'dt__max_depth': 3,\n",
       "   'dt__min_samples_leaf': 20,\n",
       "   'dt__min_samples_split': 20},\n",
       "  {'dt__max_depth': 3,\n",
       "   'dt__min_samples_leaf': 20,\n",
       "   'dt__min_samples_split': 30},\n",
       "  {'dt__max_depth': 3, 'dt__min_samples_leaf': 30, 'dt__min_samples_split': 5},\n",
       "  {'dt__max_depth': 3,\n",
       "   'dt__min_samples_leaf': 30,\n",
       "   'dt__min_samples_split': 10},\n",
       "  {'dt__max_depth': 3,\n",
       "   'dt__min_samples_leaf': 30,\n",
       "   'dt__min_samples_split': 20},\n",
       "  {'dt__max_depth': 3,\n",
       "   'dt__min_samples_leaf': 30,\n",
       "   'dt__min_samples_split': 30},\n",
       "  {'dt__max_depth': 5, 'dt__min_samples_leaf': 5, 'dt__min_samples_split': 5},\n",
       "  {'dt__max_depth': 5, 'dt__min_samples_leaf': 5, 'dt__min_samples_split': 10},\n",
       "  {'dt__max_depth': 5, 'dt__min_samples_leaf': 5, 'dt__min_samples_split': 20},\n",
       "  {'dt__max_depth': 5, 'dt__min_samples_leaf': 5, 'dt__min_samples_split': 30},\n",
       "  {'dt__max_depth': 5, 'dt__min_samples_leaf': 10, 'dt__min_samples_split': 5},\n",
       "  {'dt__max_depth': 5,\n",
       "   'dt__min_samples_leaf': 10,\n",
       "   'dt__min_samples_split': 10},\n",
       "  {'dt__max_depth': 5,\n",
       "   'dt__min_samples_leaf': 10,\n",
       "   'dt__min_samples_split': 20},\n",
       "  {'dt__max_depth': 5,\n",
       "   'dt__min_samples_leaf': 10,\n",
       "   'dt__min_samples_split': 30},\n",
       "  {'dt__max_depth': 5, 'dt__min_samples_leaf': 20, 'dt__min_samples_split': 5},\n",
       "  {'dt__max_depth': 5,\n",
       "   'dt__min_samples_leaf': 20,\n",
       "   'dt__min_samples_split': 10},\n",
       "  {'dt__max_depth': 5,\n",
       "   'dt__min_samples_leaf': 20,\n",
       "   'dt__min_samples_split': 20},\n",
       "  {'dt__max_depth': 5,\n",
       "   'dt__min_samples_leaf': 20,\n",
       "   'dt__min_samples_split': 30},\n",
       "  {'dt__max_depth': 5, 'dt__min_samples_leaf': 30, 'dt__min_samples_split': 5},\n",
       "  {'dt__max_depth': 5,\n",
       "   'dt__min_samples_leaf': 30,\n",
       "   'dt__min_samples_split': 10},\n",
       "  {'dt__max_depth': 5,\n",
       "   'dt__min_samples_leaf': 30,\n",
       "   'dt__min_samples_split': 20},\n",
       "  {'dt__max_depth': 5,\n",
       "   'dt__min_samples_leaf': 30,\n",
       "   'dt__min_samples_split': 30}],\n",
       " 'split0_test_score': array([1., 1., 1., 1., 1., 1., 1., 1., 1., 1., 1., 1., 1., 1., 1., 1., 1.,\n",
       "        1., 1., 1., 1., 1., 1., 1., 1., 1., 1., 1., 1., 1., 1., 1., 1., 1.,\n",
       "        1., 1., 1., 1., 1., 1., 1., 1., 1., 1., 1., 1., 1., 1.]),\n",
       " 'split1_test_score': array([1., 1., 1., 1., 1., 1., 1., 1., 1., 1., 1., 1., 1., 1., 1., 1., 1.,\n",
       "        1., 1., 1., 1., 1., 1., 1., 1., 1., 1., 1., 1., 1., 1., 1., 1., 1.,\n",
       "        1., 1., 1., 1., 1., 1., 1., 1., 1., 1., 1., 1., 1., 1.]),\n",
       " 'split2_test_score': array([1., 1., 1., 1., 1., 1., 1., 1., 1., 1., 1., 1., 1., 1., 1., 1., 1.,\n",
       "        1., 1., 1., 1., 1., 1., 1., 1., 1., 1., 1., 1., 1., 1., 1., 1., 1.,\n",
       "        1., 1., 1., 1., 1., 1., 1., 1., 1., 1., 1., 1., 1., 1.]),\n",
       " 'split3_test_score': array([1., 1., 1., 1., 1., 1., 1., 1., 1., 1., 1., 1., 1., 1., 1., 1., 1.,\n",
       "        1., 1., 1., 1., 1., 1., 1., 1., 1., 1., 1., 1., 1., 1., 1., 1., 1.,\n",
       "        1., 1., 1., 1., 1., 1., 1., 1., 1., 1., 1., 1., 1., 1.]),\n",
       " 'split4_test_score': array([1., 1., 1., 1., 1., 1., 1., 1., 1., 1., 1., 1., 1., 1., 1., 1., 1.,\n",
       "        1., 1., 1., 1., 1., 1., 1., 1., 1., 1., 1., 1., 1., 1., 1., 1., 1.,\n",
       "        1., 1., 1., 1., 1., 1., 1., 1., 1., 1., 1., 1., 1., 1.]),\n",
       " 'mean_test_score': array([1., 1., 1., 1., 1., 1., 1., 1., 1., 1., 1., 1., 1., 1., 1., 1., 1.,\n",
       "        1., 1., 1., 1., 1., 1., 1., 1., 1., 1., 1., 1., 1., 1., 1., 1., 1.,\n",
       "        1., 1., 1., 1., 1., 1., 1., 1., 1., 1., 1., 1., 1., 1.]),\n",
       " 'std_test_score': array([0., 0., 0., 0., 0., 0., 0., 0., 0., 0., 0., 0., 0., 0., 0., 0., 0.,\n",
       "        0., 0., 0., 0., 0., 0., 0., 0., 0., 0., 0., 0., 0., 0., 0., 0., 0.,\n",
       "        0., 0., 0., 0., 0., 0., 0., 0., 0., 0., 0., 0., 0., 0.]),\n",
       " 'rank_test_score': array([1, 1, 1, 1, 1, 1, 1, 1, 1, 1, 1, 1, 1, 1, 1, 1, 1, 1, 1, 1, 1, 1,\n",
       "        1, 1, 1, 1, 1, 1, 1, 1, 1, 1, 1, 1, 1, 1, 1, 1, 1, 1, 1, 1, 1, 1,\n",
       "        1, 1, 1, 1], dtype=int32),\n",
       " 'split0_train_score': array([1., 1., 1., 1., 1., 1., 1., 1., 1., 1., 1., 1., 1., 1., 1., 1., 1.,\n",
       "        1., 1., 1., 1., 1., 1., 1., 1., 1., 1., 1., 1., 1., 1., 1., 1., 1.,\n",
       "        1., 1., 1., 1., 1., 1., 1., 1., 1., 1., 1., 1., 1., 1.]),\n",
       " 'split1_train_score': array([1., 1., 1., 1., 1., 1., 1., 1., 1., 1., 1., 1., 1., 1., 1., 1., 1.,\n",
       "        1., 1., 1., 1., 1., 1., 1., 1., 1., 1., 1., 1., 1., 1., 1., 1., 1.,\n",
       "        1., 1., 1., 1., 1., 1., 1., 1., 1., 1., 1., 1., 1., 1.]),\n",
       " 'split2_train_score': array([1., 1., 1., 1., 1., 1., 1., 1., 1., 1., 1., 1., 1., 1., 1., 1., 1.,\n",
       "        1., 1., 1., 1., 1., 1., 1., 1., 1., 1., 1., 1., 1., 1., 1., 1., 1.,\n",
       "        1., 1., 1., 1., 1., 1., 1., 1., 1., 1., 1., 1., 1., 1.]),\n",
       " 'split3_train_score': array([1., 1., 1., 1., 1., 1., 1., 1., 1., 1., 1., 1., 1., 1., 1., 1., 1.,\n",
       "        1., 1., 1., 1., 1., 1., 1., 1., 1., 1., 1., 1., 1., 1., 1., 1., 1.,\n",
       "        1., 1., 1., 1., 1., 1., 1., 1., 1., 1., 1., 1., 1., 1.]),\n",
       " 'split4_train_score': array([1., 1., 1., 1., 1., 1., 1., 1., 1., 1., 1., 1., 1., 1., 1., 1., 1.,\n",
       "        1., 1., 1., 1., 1., 1., 1., 1., 1., 1., 1., 1., 1., 1., 1., 1., 1.,\n",
       "        1., 1., 1., 1., 1., 1., 1., 1., 1., 1., 1., 1., 1., 1.]),\n",
       " 'mean_train_score': array([1., 1., 1., 1., 1., 1., 1., 1., 1., 1., 1., 1., 1., 1., 1., 1., 1.,\n",
       "        1., 1., 1., 1., 1., 1., 1., 1., 1., 1., 1., 1., 1., 1., 1., 1., 1.,\n",
       "        1., 1., 1., 1., 1., 1., 1., 1., 1., 1., 1., 1., 1., 1.]),\n",
       " 'std_train_score': array([0., 0., 0., 0., 0., 0., 0., 0., 0., 0., 0., 0., 0., 0., 0., 0., 0.,\n",
       "        0., 0., 0., 0., 0., 0., 0., 0., 0., 0., 0., 0., 0., 0., 0., 0., 0.,\n",
       "        0., 0., 0., 0., 0., 0., 0., 0., 0., 0., 0., 0., 0., 0.])}"
      ]
     },
     "execution_count": 33,
     "metadata": {},
     "output_type": "execute_result"
    }
   ],
   "source": [
    "clf.cv_results_"
   ]
  },
  {
   "cell_type": "code",
   "execution_count": null,
   "id": "562a159e-740f-4c87-b49d-e268fffa12b6",
   "metadata": {
    "tags": []
   },
   "outputs": [],
   "source": [
    "X_train.columns.values"
   ]
  },
  {
   "cell_type": "code",
   "execution_count": 35,
   "id": "dc254a17-0c0e-4d76-922e-c3704494c6b4",
   "metadata": {
    "execution": {
     "iopub.execute_input": "2022-12-08T04:32:08.649147Z",
     "iopub.status.busy": "2022-12-08T04:32:08.648903Z",
     "iopub.status.idle": "2022-12-08T04:32:08.655124Z",
     "shell.execute_reply": "2022-12-08T04:32:08.654534Z",
     "shell.execute_reply.started": "2022-12-08T04:32:08.649121Z"
    },
    "tags": []
   },
   "outputs": [],
   "source": [
    "X_train, X_test, y_train, y_test = model_selection.train_test_split(\n",
    "    sylhet_copy.iloc[:, :-1],\n",
    "    y,\n",
    "    stratify=y,\n",
    "    random_state=42,\n",
    "    train_size=0.8,\n",
    "    test_size=0.2,\n",
    ")"
   ]
  },
  {
   "cell_type": "code",
   "execution_count": 36,
   "id": "803fd7c0-a4dd-437b-9f39-84001507db8a",
   "metadata": {
    "execution": {
     "iopub.execute_input": "2022-12-08T04:32:11.935425Z",
     "iopub.status.busy": "2022-12-08T04:32:11.935129Z",
     "iopub.status.idle": "2022-12-08T04:32:11.939364Z",
     "shell.execute_reply": "2022-12-08T04:32:11.938529Z",
     "shell.execute_reply.started": "2022-12-08T04:32:11.935396Z"
    },
    "tags": []
   },
   "outputs": [],
   "source": [
    "column_trans = ColumnTransformer(\n",
    "    [(\"one_hot\", OneHotEncoder(drop=\"if_binary\"), list(X_train.columns.values),)],\n",
    "    remainder=\"drop\",\n",
    ")"
   ]
  },
  {
   "cell_type": "code",
   "execution_count": 37,
   "id": "4d2142c4-b937-4bc0-8328-88223dfa5c1c",
   "metadata": {
    "execution": {
     "iopub.execute_input": "2022-12-08T04:32:11.941574Z",
     "iopub.status.busy": "2022-12-08T04:32:11.941120Z",
     "iopub.status.idle": "2022-12-08T04:32:11.962717Z",
     "shell.execute_reply": "2022-12-08T04:32:11.962096Z",
     "shell.execute_reply.started": "2022-12-08T04:32:11.941545Z"
    },
    "tags": []
   },
   "outputs": [],
   "source": [
    "dt = Pipeline(\n",
    "    [\n",
    "        (\"column_trans\", column_trans),\n",
    "        (\"classifier\",tree.DecisionTreeClassifier(random_state=42)),\n",
    "    ]\n",
    ")\n",
    "\n",
    "dt.fit(X_train, y_train)\n",
    "\n",
    "feature_names = dt[:-1].get_feature_names_out()\n",
    "mdi_importances = pd.Series(\n",
    "    dt[-1].feature_importances_, index=feature_names\n",
    ").sort_values(ascending=True)"
   ]
  },
  {
   "cell_type": "code",
   "execution_count": 38,
   "id": "07fcc500-c6fb-4e06-889d-d353e050f36b",
   "metadata": {
    "execution": {
     "iopub.execute_input": "2022-12-08T04:32:11.964108Z",
     "iopub.status.busy": "2022-12-08T04:32:11.963575Z",
     "iopub.status.idle": "2022-12-08T04:32:14.448666Z",
     "shell.execute_reply": "2022-12-08T04:32:14.448180Z",
     "shell.execute_reply.started": "2022-12-08T04:32:11.964082Z"
    },
    "tags": []
   },
   "outputs": [
    {
     "name": "stdout",
     "output_type": "stream",
     "text": [
      "Best parameter (CV score=0.925):\n",
      "{'classifier__max_depth': 5, 'classifier__min_samples_leaf': 10, 'classifier__min_samples_split': 5}\n"
     ]
    }
   ],
   "source": [
    "# Parameters of pipelines can be set using '__' separated parameter names:\n",
    "param_grid = {\n",
    "    \"classifier__max_depth\": [1, 3, 5],\n",
    "    \"classifier__min_samples_leaf\": [5,10,15,20],\n",
    "    \"classifier__min_samples_split\": [5,10,15,20]\n",
    "}\n",
    "search = GridSearchCV(dt, param_grid, n_jobs=2)\n",
    "search.fit(sylhet_copy, y)\n",
    "print(\"Best parameter (CV score=%0.3f):\" % search.best_score_)\n",
    "print(search.best_params_)"
   ]
  },
  {
   "cell_type": "code",
   "execution_count": 46,
   "id": "09507666-93ca-45d3-9f55-3353a5aa9b07",
   "metadata": {
    "execution": {
     "iopub.execute_input": "2022-12-08T04:32:54.906886Z",
     "iopub.status.busy": "2022-12-08T04:32:54.906585Z",
     "iopub.status.idle": "2022-12-08T04:32:54.924890Z",
     "shell.execute_reply": "2022-12-08T04:32:54.924298Z",
     "shell.execute_reply.started": "2022-12-08T04:32:54.906856Z"
    },
    "tags": []
   },
   "outputs": [],
   "source": [
    "dt2 = Pipeline(\n",
    "    [\n",
    "        (\"column_trans\", column_trans),\n",
    "        (\"classifier\", tree.DecisionTreeClassifier(random_state=42,max_depth=3, min_samples_leaf=10, min_samples_split=5)),\n",
    "    ]\n",
    ")\n",
    "\n",
    "dt2.fit(X_train, y_train)\n",
    "\n",
    "feature_names = dt2[:-1].get_feature_names_out()\n",
    "mdi_importances2 = pd.Series(\n",
    "    dt2[-1].feature_importances_, index=feature_names\n",
    ").sort_values(ascending=True)"
   ]
  },
  {
   "cell_type": "code",
   "execution_count": 47,
   "id": "9af4d3d6-d82f-4649-b93f-17f5c79b9515",
   "metadata": {
    "execution": {
     "iopub.execute_input": "2022-12-08T04:32:56.495880Z",
     "iopub.status.busy": "2022-12-08T04:32:56.495584Z",
     "iopub.status.idle": "2022-12-08T04:32:56.502211Z",
     "shell.execute_reply": "2022-12-08T04:32:56.501450Z",
     "shell.execute_reply.started": "2022-12-08T04:32:56.495849Z"
    },
    "tags": []
   },
   "outputs": [
    {
     "data": {
      "text/plain": [
       "array([0.        , 0.        , 0.        , 0.        , 0.        ,\n",
       "       0.        , 0.16289508, 0.58283066, 0.14471094, 0.        ,\n",
       "       0.        , 0.        , 0.        , 0.        , 0.04359373,\n",
       "       0.        , 0.        , 0.        , 0.        , 0.0659696 ,\n",
       "       0.        ])"
      ]
     },
     "execution_count": 47,
     "metadata": {},
     "output_type": "execute_result"
    }
   ],
   "source": [
    "dt2[-1].feature_importances_"
   ]
  },
  {
   "cell_type": "code",
   "execution_count": 48,
   "id": "919f9515-30e4-44c7-9bdd-30eef6b3c702",
   "metadata": {
    "execution": {
     "iopub.execute_input": "2022-12-08T04:32:56.506924Z",
     "iopub.status.busy": "2022-12-08T04:32:56.506628Z",
     "iopub.status.idle": "2022-12-08T04:32:57.066673Z",
     "shell.execute_reply": "2022-12-08T04:32:57.066140Z",
     "shell.execute_reply.started": "2022-12-08T04:32:56.506889Z"
    },
    "tags": []
   },
   "outputs": [
    {
     "data": {
      "image/png": "[encoded data removed]",
      "text/plain": [
       "<Figure size 720x432 with 2 Axes>"
      ]
     },
     "metadata": {},
     "output_type": "display_data"
    }
   ],
   "source": [
    "fig, (ax1, ax2) = plt.subplots(1, 2, figsize=(10,6))\n",
    "ax1.barh(y=mdi_importances.index, width=mdi_importances)\n",
    "ax1.set_title(\"Feature Importances (MDI) Default Parameter\")\n",
    "ax1.figure.tight_layout()\n",
    "\n",
    "ax2.barh(y=mdi_importances2.index, width=mdi_importances2)\n",
    "ax2.set_title(\"Feature Importances (MDI) Tuned Parameter\")\n",
    "ax2.figure.tight_layout()\n",
    "fig.savefig('compare-trees.png')"
   ]
  },
  {
   "cell_type": "code",
   "execution_count": null,
   "id": "16979c93-9eec-44f4-9088-09c4640c0f58",
   "metadata": {
    "tags": []
   },
   "outputs": [],
   "source": [
    "dot_data = tree.export_graphviz(\n",
    "    dt2[-1],\n",
    "    filled=True,\n",
    "    rounded=True,\n",
    "    special_characters=True,\n",
    "    out_file=\"bigtree.dot\",\n",
    "    feature_names=column_trans.get_feature_names_out(),\n",
    "    class_names=[\"No Diabetes\", \"Diabetes\"],\n",
    ")"
   ]
  },
  {
   "cell_type": "code",
   "execution_count": null,
   "id": "1eec9265-b4c4-4ae4-b4d6-2820d83d39aa",
   "metadata": {
    "tags": []
   },
   "outputs": [],
   "source": [
    "graph = graphviz.render(\n",
    "    \"dot\", filepath=\"bigtree.dot\", outfile=\"final_tree.png\"\n",
    ").replace(\"\\\\\", \"/\")\n",
    "graph"
   ]
  },
  {
   "cell_type": "code",
   "execution_count": null,
   "id": "212d1d88-57e9-46a6-921c-53904f79c3dd",
   "metadata": {
    "tags": []
   },
   "outputs": [],
   "source": [
    "rf = Pipeline(\n",
    "    [\n",
    "        (\"column_trans\", column_trans),\n",
    "        (\"classifier\", ensemble.RandomForestClassifier(random_state=42)),\n",
    "    ]\n",
    ")"
   ]
  },
  {
   "cell_type": "code",
   "execution_count": null,
   "id": "2783fe07-14a9-4ac2-93a0-23db9c709b8c",
   "metadata": {
    "tags": []
   },
   "outputs": [],
   "source": [
    "rf.fit(X_train, y_train)"
   ]
  },
  {
   "cell_type": "code",
   "execution_count": null,
   "id": "a66bd8bb-4bbb-43a5-b1bc-866a9cc88bfc",
   "metadata": {
    "tags": []
   },
   "outputs": [],
   "source": [
    "print(f\"{rf.score(X_train, y_train):.3f}\")\n",
    "print(f\"{rf.score(X_test, y_test):.3f}\")"
   ]
  },
  {
   "cell_type": "code",
   "execution_count": null,
   "id": "7939041f-d79f-4ed6-bd3c-9c5810f442e2",
   "metadata": {
    "tags": []
   },
   "outputs": [],
   "source": [
    "feature_names = rf[:-1].get_feature_names_out()\n",
    "\n",
    "mdi_importances = pd.Series(\n",
    "    rf[-1].feature_importances_, index=feature_names\n",
    ").sort_values(ascending=True)"
   ]
  },
  {
   "cell_type": "code",
   "execution_count": null,
   "id": "97b5c651-a959-4521-8932-55f219ced730",
   "metadata": {
    "tags": []
   },
   "outputs": [],
   "source": [
    "ax = mdi_importances.plot.barh()\n",
    "ax.set_title(\"Random Forest Feature Importances (MDI)\")\n",
    "ax.figure.tight_layout()"
   ]
  },
  {
   "cell_type": "code",
   "execution_count": null,
   "id": "7e785c00-23ec-4ef1-8486-6257e2b39f3e",
   "metadata": {
    "tags": []
   },
   "outputs": [],
   "source": [
    "cv_results = model_selection.cross_validate(\n",
    "    alg, X, y, cv=cv_split, return_train_score=True, scoring=\"f1_macro\",\n",
    ")\n",
    "\n",
    "# rf_model = rf.fit(train1_x, train1_y)\n",
    "# rf_pred = rf.predict(X)\n",
    "# save MLA predictions - see section 6 for usage\n",
    "model = alg.fit(X, y)\n",
    "y_pred = alg.predict(X)"
   ]
  },
  {
   "cell_type": "code",
   "execution_count": null,
   "id": "970b4107-da92-4e40-bb81-79d6588d55af",
   "metadata": {
    "tags": []
   },
   "outputs": [],
   "source": [
    "feature_names = rf[:-1].get_feature_names_out()\n",
    "\n",
    "mdi_importances = pd.Series(\n",
    "    rf[-1].feature_importances_, index=feature_names\n",
    ").sort_values(ascending=True)"
   ]
  },
  {
   "cell_type": "code",
   "execution_count": null,
   "id": "f9438ff5-a9e3-4080-90b0-112aad79c3b5",
   "metadata": {
    "tags": []
   },
   "outputs": [],
   "source": [
    "sklearn.metrics.precision_recall_fscore_support(y, y_pred, average=\"binary\")"
   ]
  },
  {
   "cell_type": "code",
   "execution_count": null,
   "id": "d5839902-f425-45f3-9fbe-e9f82ac5e7f7",
   "metadata": {
    "tags": []
   },
   "outputs": [],
   "source": [
    "prec, recall, f1, support = sklearn.metrics.precision_recall_fscore_support(\n",
    "    y, y_pred, average=\"binary\"\n",
    ")"
   ]
  },
  {
   "cell_type": "code",
   "execution_count": null,
   "id": "2dc811bc-1046-44e2-af68-27dcaf9643ac",
   "metadata": {
    "tags": []
   },
   "outputs": [],
   "source": [
    "variable_importance = pd.DataFrame(\n",
    "    model.feature_importances_,\n",
    "    index=column_trans.get_feature_names_out().tolist(),\n",
    "    columns=[\"importance\"],\n",
    ")"
   ]
  },
  {
   "cell_type": "code",
   "execution_count": null,
   "id": "e5aeef13-359e-4520-9652-b0ba108b7183",
   "metadata": {
    "tags": []
   },
   "outputs": [],
   "source": [
    "variable_importance.sort_values(\"importance\", ascending=False)"
   ]
  },
  {
   "cell_type": "code",
   "execution_count": null,
   "id": "bbdd9f13-b250-4cf5-9e96-f47af3de28f0",
   "metadata": {
    "tags": []
   },
   "outputs": [],
   "source": [
    "from sklearn.inspection import permutation_importance"
   ]
  },
  {
   "cell_type": "code",
   "execution_count": null,
   "id": "56f7e10f-e9bb-42b3-bec4-1742194e9f8a",
   "metadata": {
    "tags": []
   },
   "outputs": [],
   "source": [
    "r = permutation_importance(alg, X, y, n_repeats=10, random_state=0)"
   ]
  },
  {
   "cell_type": "code",
   "execution_count": null,
   "id": "96245e65-bff5-4e80-9ea0-ae019e130b00",
   "metadata": {
    "tags": []
   },
   "outputs": [],
   "source": [
    "r"
   ]
  },
  {
   "cell_type": "code",
   "execution_count": null,
   "id": "82a23b04-5dd5-488a-83b3-235a034bff2f",
   "metadata": {
    "tags": []
   },
   "outputs": [],
   "source": [
    "for i in r.importances_mean.argsort()[::-1]:\n",
    "    if r.importances_mean[i] - 2 * r.importances_std[i] > 0:\n",
    "        print(i, f\"{r.importances_mean[i]:.3f}\", f\" +/- {r.importances_std[i]:.3f}\")"
   ]
  },
  {
   "cell_type": "code",
   "execution_count": null,
   "id": "5911fa50-f827-4d30-85c3-9d369dd64b8e",
   "metadata": {
    "tags": []
   },
   "outputs": [],
   "source": [
    "import graphviz"
   ]
  },
  {
   "cell_type": "code",
   "execution_count": null,
   "id": "5fe3d42d-d78d-414b-b3d7-4ee7abdb8f4a",
   "metadata": {
    "tags": []
   },
   "outputs": [],
   "source": [
    "dot_data = tree.export_graphviz(\n",
    "    model,\n",
    "    filled=True,\n",
    "    rounded=True,\n",
    "    special_characters=True,\n",
    "    out_file=\"bigtree.dot\",\n",
    "    feature_names=column_trans.get_feature_names_out(),\n",
    "    class_names=[\"No Diabetes\", \"Diabetes\"],\n",
    ")"
   ]
  },
  {
   "cell_type": "code",
   "execution_count": null,
   "id": "4647e34b-9331-43ce-b204-9be6d7155e14",
   "metadata": {
    "tags": []
   },
   "outputs": [],
   "source": [
    "graph = graphviz.render(\n",
    "    \"dot\", filepath=\"bigtree.dot\", outfile=\"final_tree.png\"\n",
    ").replace(\"\\\\\", \"/\")\n",
    "graph"
   ]
  },
  {
   "cell_type": "code",
   "execution_count": null,
   "id": "ace81569-0ed2-4b88-a42b-80fd7fe55291",
   "metadata": {
    "tags": []
   },
   "outputs": [],
   "source": [
    "graphviz.Source(dot_data)"
   ]
  },
  {
   "cell_type": "code",
   "execution_count": null,
   "id": "b14da126-2dfd-4ef2-b3b4-08932f1111bd",
   "metadata": {
    "tags": []
   },
   "outputs": [],
   "source": [
    "graph"
   ]
  },
  {
   "cell_type": "code",
   "execution_count": null,
   "id": "7e515da4-f97a-466a-ae45-6e78aef9c208",
   "metadata": {
    "tags": []
   },
   "outputs": [],
   "source": [
    "dot_data = sklearn.tree.export_graphviz(\n",
    "    model,\n",
    "    out_file=\"tree.dot\",\n",
    "    filled=True,\n",
    "    rounded=True,\n",
    "    special_characters=True\n",
    "    # feature_names=column_trans.get_feature_names_out(),\n",
    "    # class_names=[\"No Diabetes\", \"Diabetes\"],\n",
    ")"
   ]
  },
  {
   "cell_type": "code",
   "execution_count": null,
   "id": "63a70e12-b297-46b5-8aa5-316348978340",
   "metadata": {
    "tags": []
   },
   "outputs": [],
   "source": [
    "graph = graphviz.Source(dot_data)"
   ]
  },
  {
   "cell_type": "code",
   "execution_count": null,
   "id": "b00f852b-b931-4735-bce6-32206858c7df",
   "metadata": {
    "tags": []
   },
   "outputs": [],
   "source": [
    "graph"
   ]
  },
  {
   "cell_type": "code",
   "execution_count": null,
   "id": "45ebc04a-c396-47b1-b2e7-ec9ce36e161c",
   "metadata": {
    "tags": []
   },
   "outputs": [],
   "source": [
    "model.estimators_[0]"
   ]
  },
  {
   "cell_type": "code",
   "execution_count": null,
   "id": "2f2f58c5-4b04-4efc-8e1a-dcb893da69e6",
   "metadata": {
    "tags": []
   },
   "outputs": [],
   "source": [
    "dot_data = export_graphviz(\n",
    "    model.estimators_[0],\n",
    "    out_file=\"tree.dot\",\n",
    "    feature_names=column_trans.get_feature_names_out(),\n",
    "    class_names=[\"Diabetes\", \"No Diabetes\"],\n",
    "    rounded=True,\n",
    "    proportion=False,\n",
    "    precision=2,\n",
    "    filled=True,\n",
    ")"
   ]
  },
  {
   "cell_type": "code",
   "execution_count": null,
   "id": "57d42e56-e07f-4a66-99ca-7a8d8c49b9bd",
   "metadata": {
    "tags": []
   },
   "outputs": [],
   "source": [
    "!dot -V"
   ]
  },
  {
   "cell_type": "code",
   "execution_count": null,
   "id": "797aeec0-3b8c-4a76-80ad-066af244f900",
   "metadata": {
    "tags": []
   },
   "outputs": [],
   "source": [
    "from subprocess import call\n",
    "\n",
    "call([\"dot\", \"-Tpng\", \"tree.dot\", \"-o\", \"tree.png\", \"-Gdpi=600\"])"
   ]
  },
  {
   "cell_type": "code",
   "execution_count": null,
   "id": "6c5a3a74-0af7-4131-ae61-c97cfa34a93d",
   "metadata": {
    "tags": []
   },
   "outputs": [],
   "source": [
    "import graphviz"
   ]
  },
  {
   "cell_type": "code",
   "execution_count": null,
   "id": "f566d7f3-c5d8-4e79-99c5-d3599fd04a14",
   "metadata": {
    "tags": []
   },
   "outputs": [],
   "source": [
    "graph = graphviz.Source(dot_data)"
   ]
  },
  {
   "cell_type": "code",
   "execution_count": null,
   "id": "ec572712-a70f-45a6-aa88-9a68a02baf59",
   "metadata": {
    "tags": []
   },
   "outputs": [],
   "source": [
    "graph"
   ]
  },
  {
   "cell_type": "code",
   "execution_count": null,
   "id": "e81f7f99-8c68-4ab2-968d-52061cfdc667",
   "metadata": {
    "tags": []
   },
   "outputs": [],
   "source": [
    "import shap"
   ]
  },
  {
   "cell_type": "code",
   "execution_count": null,
   "id": "718f850d-304d-4a7b-9c37-f5b1c29a5698",
   "metadata": {
    "tags": []
   },
   "outputs": [],
   "source": [
    "# load JS visualization code to notebook\n",
    "shap.initjs()"
   ]
  },
  {
   "cell_type": "code",
   "execution_count": null,
   "id": "0d6dedac-fb03-4ee5-a5d4-d7418e625153",
   "metadata": {
    "tags": []
   },
   "outputs": [],
   "source": [
    "explainer = shap.TreeExplainer(model)\n",
    "shap_values = explainer.shap_values(X)"
   ]
  },
  {
   "cell_type": "code",
   "execution_count": null,
   "id": "366f780e-2562-4b43-ad50-f36395125845",
   "metadata": {
    "tags": []
   },
   "outputs": [],
   "source": [
    "len(shap_values)"
   ]
  },
  {
   "cell_type": "code",
   "execution_count": null,
   "id": "12ed5ad8-0ae0-4482-9d3c-e9519ec59ef4",
   "metadata": {
    "tags": []
   },
   "outputs": [],
   "source": [
    "sylhet_copy.columns"
   ]
  },
  {
   "cell_type": "code",
   "execution_count": null,
   "id": "36f4b933-753d-49df-946a-46483548950c",
   "metadata": {
    "tags": []
   },
   "outputs": [],
   "source": [
    "my_fig = shap.summary_plot(\n",
    "    shap_values, features=X, feature_names=column_trans.get_feature_names_out(),\n",
    ")"
   ]
  },
  {
   "cell_type": "code",
   "execution_count": null,
   "id": "d7fa3783-fe69-4cae-8f25-711cec04a459",
   "metadata": {
    "tags": []
   },
   "outputs": [],
   "source": [
    "alg = linear_model.LogisticRegression(penalty=\"l1\", solver=\"liblinear\")"
   ]
  },
  {
   "cell_type": "code",
   "execution_count": null,
   "id": "f72670bd-0edc-4cf2-8cbc-fa05c5f05f6f",
   "metadata": {
    "tags": []
   },
   "outputs": [],
   "source": [
    "cv_results = model_selection.cross_validate(\n",
    "    alg, X, y, cv=cv_split, return_train_score=True, scoring=\"f1_macro\",\n",
    ")\n",
    "\n",
    "# save MLA predictions - see section 6 for usage\n",
    "model = alg.fit(X, y)\n",
    "y_pred = alg.predict(X)"
   ]
  },
  {
   "cell_type": "code",
   "execution_count": null,
   "id": "bc9605a7-8bf5-4c7b-81e2-bea6cd0a57cf",
   "metadata": {
    "tags": []
   },
   "outputs": [],
   "source": [
    "sklearn.metrics.precision_recall_fscore_support(y, y_pred, average=\"binary\")"
   ]
  },
  {
   "cell_type": "code",
   "execution_count": null,
   "id": "27adfd04-ce87-47b6-a4aa-82d76f05c629",
   "metadata": {
    "tags": []
   },
   "outputs": [],
   "source": [
    "np.set_printoptions(suppress=True)"
   ]
  },
  {
   "cell_type": "code",
   "execution_count": null,
   "id": "1554c7d5-b527-4f3a-b463-f6c5dc48ba59",
   "metadata": {
    "tags": []
   },
   "outputs": [],
   "source": [
    "pd.set_option(\"display.float_format\", lambda x: \"%.5f\" % x)"
   ]
  },
  {
   "cell_type": "code",
   "execution_count": null,
   "id": "cdeb0c28-a255-401f-9b53-8c26bec0576a",
   "metadata": {
    "tags": []
   },
   "outputs": [],
   "source": [
    "model.coef_"
   ]
  },
  {
   "cell_type": "code",
   "execution_count": null,
   "id": "6a16e2da-acb9-4509-b80f-954005fa1006",
   "metadata": {
    "tags": []
   },
   "outputs": [],
   "source": [
    "np.exp(model.coef_)"
   ]
  },
  {
   "cell_type": "code",
   "execution_count": null,
   "id": "b00b5dfe-c9e6-4460-bc2a-3c191d111e57",
   "metadata": {
    "tags": []
   },
   "outputs": [],
   "source": [
    "var_coef = pd.DataFrame(\n",
    "    np.exp(model.coef_)[0],\n",
    "    index=column_trans.get_feature_names_out().tolist(),\n",
    "    columns=[\"lr_coefficient\"],\n",
    ")"
   ]
  },
  {
   "cell_type": "code",
   "execution_count": null,
   "id": "c85debae-a6e0-4b03-b00b-c5ea9bcc08df",
   "metadata": {
    "tags": []
   },
   "outputs": [],
   "source": [
    "var_coef.sort_values(\"lr_coefficient\", ascending=False)"
   ]
  },
  {
   "cell_type": "code",
   "execution_count": null,
   "id": "a6a1cfa8-50e2-43d0-b811-9d08b4836abe",
   "metadata": {
    "tags": []
   },
   "outputs": [],
   "source": [
    "explainer = shap.LinearExplainer(model, X)\n",
    "shap_values = explainer.shap_values(X)"
   ]
  },
  {
   "cell_type": "code",
   "execution_count": null,
   "id": "5eb9f7cd-1169-4dbe-8396-c169aaa15ed4",
   "metadata": {
    "tags": []
   },
   "outputs": [],
   "source": [
    "shap.summary_plot(shap_values, X, feature_names=column_trans.get_feature_names_out())"
   ]
  },
  {
   "cell_type": "code",
   "execution_count": null,
   "id": "d0907491-37bb-4732-ad25-f8f5ca767450",
   "metadata": {
    "tags": []
   },
   "outputs": [],
   "source": [
    "# barplot using https://seaborn.pydata.org/generated/seaborn.barplot.html\n",
    "sns.barplot(x=\"MLA Test Accuracy Mean\", y=\"MLA Name\", data=MLA_compare, color=\"m\")\n",
    "\n",
    "# prettify using pyplot: https://matplotlib.org/api/pyplot_api.html\n",
    "plt.title(\"Machine Learning Algorithm Accuracy Score \\n\")\n",
    "plt.xlabel(\"Accuracy Score (%)\")\n",
    "plt.ylabel(\"Algorithm\")"
   ]
  },
  {
   "cell_type": "code",
   "execution_count": null,
   "id": "df4cad5a-2e4d-4b61-b91a-d4b73d44fb21",
   "metadata": {
    "tags": []
   },
   "outputs": [],
   "source": [
    "MLA_compare"
   ]
  }
 ],
 "metadata": {
  "kernelspec": {
   "display_name": "Python 3 (ipykernel)",
   "language": "python",
   "name": "python3"
  },
  "language_info": {
   "codemirror_mode": {
    "name": "ipython",
    "version": 3
   },
   "file_extension": ".py",
   "mimetype": "text/x-python",
   "name": "python",
   "nbconvert_exporter": "python",
   "pygments_lexer": "ipython3",
   "version": "3.8.8"
  },
  "vscode": {
   "interpreter": {
    "hash": "444a8d1db4ac198decc2e344d5350eaffd6d9cb6a404dfd0e0baeca17f89aec5"
   }
  }
 },
 "nbformat": 4,
 "nbformat_minor": 5
}
