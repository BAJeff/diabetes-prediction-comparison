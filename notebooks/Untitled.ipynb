{
 "cells": [
  {
   "cell_type": "code",
   "execution_count": 2,
   "id": "7be4108d-e185-4b8c-a66d-0f0b89983996",
   "metadata": {
    "execution": {
     "iopub.execute_input": "2022-10-18T00:52:31.716089Z",
     "iopub.status.busy": "2022-10-18T00:52:31.715761Z",
     "iopub.status.idle": "2022-10-18T00:52:31.858683Z",
     "shell.execute_reply": "2022-10-18T00:52:31.857984Z",
     "shell.execute_reply.started": "2022-10-18T00:52:31.716058Z"
    },
    "tags": []
   },
   "outputs": [
    {
     "name": "stdout",
     "output_type": "stream",
     "text": [
      "/Users/c92680/opt/anaconda3/bin/python\n"
     ]
    }
   ],
   "source": [
    "!which python"
   ]
  },
  {
   "cell_type": "code",
   "execution_count": 3,
   "id": "eca822b7-6e7b-4600-b6d0-831080c075a4",
   "metadata": {
    "execution": {
     "iopub.execute_input": "2022-10-18T00:52:37.078495Z",
     "iopub.status.busy": "2022-10-18T00:52:37.078179Z",
     "iopub.status.idle": "2022-10-18T00:52:37.224187Z",
     "shell.execute_reply": "2022-10-18T00:52:37.223163Z",
     "shell.execute_reply.started": "2022-10-18T00:52:37.078466Z"
    },
    "tags": []
   },
   "outputs": [
    {
     "name": "stdout",
     "output_type": "stream",
     "text": [
      "Python 3.8.8\n"
     ]
    }
   ],
   "source": [
    "!python --version"
   ]
  }
 ],
 "metadata": {
  "kernelspec": {
   "display_name": "Python 3 (ipykernel)",
   "language": "python",
   "name": "python3"
  },
  "language_info": {
   "codemirror_mode": {
    "name": "ipython",
    "version": 3
   },
   "file_extension": ".py",
   "mimetype": "text/x-python",
   "name": "python",
   "nbconvert_exporter": "python",
   "pygments_lexer": "ipython3",
   "version": "3.8.8"
  }
 },
 "nbformat": 4,
 "nbformat_minor": 5
}
