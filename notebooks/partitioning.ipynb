{
 "cells": [
  {
   "cell_type": "code",
   "execution_count": 36,
   "id": "945e0d27-4598-4dd6-b0bf-b848461c0315",
   "metadata": {
    "execution": {
     "iopub.execute_input": "2022-12-08T04:02:44.497910Z",
     "iopub.status.busy": "2022-12-08T04:02:44.497657Z",
     "iopub.status.idle": "2022-12-08T04:02:44.504149Z",
     "shell.execute_reply": "2022-12-08T04:02:44.503180Z",
     "shell.execute_reply.started": "2022-12-08T04:02:44.497884Z"
    },
    "tags": []
   },
   "outputs": [],
   "source": [
    "import graphviz\n",
    "import matplotlib.pyplot as plt\n",
    "import numpy as np\n",
    "import pandas as pd\n",
    "import seaborn as sns\n",
    "import sklearn\n",
    "\n",
    "###sklearn\n",
    "from sklearn import (\n",
    "    ensemble,\n",
    "    feature_selection,\n",
    "    linear_model,\n",
    "    metrics,\n",
    "    model_selection,\n",
    "    naive_bayes,\n",
    "    tree,\n",
    "    pipeline\n",
    ")\n",
    "from sklearn.compose import ColumnTransformer\n",
    "from sklearn.model_selection import GridSearchCV, StratifiedKFold\n",
    "from sklearn.pipeline import Pipeline\n",
    "from sklearn.preprocessing import KBinsDiscretizer, LabelEncoder, OneHotEncoder\n",
    "from sklearn.tree import export_graphviz\n",
    "from sklearn_evaluation import plot\n",
    "\n",
    "# from pandas_profiling import ProfileReport\n",
    "\n",
    "\n",
    "sns.set(rc={\"axes.facecolor\": \"white\", \"figure.facecolor\": \"white\"})"
   ]
  },
  {
   "cell_type": "code",
   "execution_count": 2,
   "id": "40387347-1a49-42f0-9a23-09ef07a124bd",
   "metadata": {
    "execution": {
     "iopub.execute_input": "2022-12-08T04:01:38.478998Z",
     "iopub.status.busy": "2022-12-08T04:01:38.478787Z",
     "iopub.status.idle": "2022-12-08T04:01:38.492143Z",
     "shell.execute_reply": "2022-12-08T04:01:38.491632Z",
     "shell.execute_reply.started": "2022-12-08T04:01:38.478973Z"
    },
    "tags": []
   },
   "outputs": [],
   "source": [
    "sylhet_raw = pd.read_csv(\"../data/sylhet-dataset.csv\")\n",
    "sylhet_copy = sylhet_raw.copy(deep=True)\n",
    "col_names = [x.lower().replace(\" \", \"_\") for x in sylhet_copy.columns]\n",
    "sylhet_copy.set_axis(col_names, axis=1, inplace=True)\n",
    "\n",
    "age_binned = pd.qcut(sylhet_copy[\"age\"], q=6)\n",
    "sylhet_copy[\"age\"] = age_binned\n",
    "\n",
    "y = sylhet_copy[\"class\"].apply(lambda z: 0 if z == \"Negative\" else 1)\n",
    "# y = y.to_numpy()"
   ]
  },
  {
   "cell_type": "code",
   "execution_count": 3,
   "id": "eceb6cb8-cb1f-4ba8-8a02-1356a81cc106",
   "metadata": {
    "execution": {
     "iopub.execute_input": "2022-12-08T04:01:38.494495Z",
     "iopub.status.busy": "2022-12-08T04:01:38.494294Z",
     "iopub.status.idle": "2022-12-08T04:01:38.512695Z",
     "shell.execute_reply": "2022-12-08T04:01:38.512117Z",
     "shell.execute_reply.started": "2022-12-08T04:01:38.494473Z"
    },
    "tags": []
   },
   "outputs": [
    {
     "data": {
      "text/html": [
       "<div>\n",
       "<style scoped>\n",
       "    .dataframe tbody tr th:only-of-type {\n",
       "        vertical-align: middle;\n",
       "    }\n",
       "\n",
       "    .dataframe tbody tr th {\n",
       "        vertical-align: top;\n",
       "    }\n",
       "\n",
       "    .dataframe thead th {\n",
       "        text-align: right;\n",
       "    }\n",
       "</style>\n",
       "<table border=\"1\" class=\"dataframe\">\n",
       "  <thead>\n",
       "    <tr style=\"text-align: right;\">\n",
       "      <th></th>\n",
       "      <th>age</th>\n",
       "      <th>gender</th>\n",
       "      <th>polyuria</th>\n",
       "      <th>polydipsia</th>\n",
       "      <th>sudden_weight_loss</th>\n",
       "      <th>weakness</th>\n",
       "      <th>polyphagia</th>\n",
       "      <th>genital_thrush</th>\n",
       "      <th>visual_blurring</th>\n",
       "      <th>itching</th>\n",
       "      <th>irritability</th>\n",
       "      <th>delayed_healing</th>\n",
       "      <th>partial_paresis</th>\n",
       "      <th>muscle_stiffness</th>\n",
       "      <th>alopecia</th>\n",
       "      <th>obesity</th>\n",
       "      <th>class</th>\n",
       "    </tr>\n",
       "  </thead>\n",
       "  <tbody>\n",
       "    <tr>\n",
       "      <th>0</th>\n",
       "      <td>(35.0, 42.0]</td>\n",
       "      <td>Male</td>\n",
       "      <td>No</td>\n",
       "      <td>Yes</td>\n",
       "      <td>No</td>\n",
       "      <td>Yes</td>\n",
       "      <td>No</td>\n",
       "      <td>No</td>\n",
       "      <td>No</td>\n",
       "      <td>Yes</td>\n",
       "      <td>No</td>\n",
       "      <td>Yes</td>\n",
       "      <td>No</td>\n",
       "      <td>Yes</td>\n",
       "      <td>Yes</td>\n",
       "      <td>Yes</td>\n",
       "      <td>Positive</td>\n",
       "    </tr>\n",
       "    <tr>\n",
       "      <th>1</th>\n",
       "      <td>(54.0, 60.0]</td>\n",
       "      <td>Male</td>\n",
       "      <td>No</td>\n",
       "      <td>No</td>\n",
       "      <td>No</td>\n",
       "      <td>Yes</td>\n",
       "      <td>No</td>\n",
       "      <td>No</td>\n",
       "      <td>Yes</td>\n",
       "      <td>No</td>\n",
       "      <td>No</td>\n",
       "      <td>No</td>\n",
       "      <td>Yes</td>\n",
       "      <td>No</td>\n",
       "      <td>Yes</td>\n",
       "      <td>No</td>\n",
       "      <td>Positive</td>\n",
       "    </tr>\n",
       "    <tr>\n",
       "      <th>2</th>\n",
       "      <td>(35.0, 42.0]</td>\n",
       "      <td>Male</td>\n",
       "      <td>Yes</td>\n",
       "      <td>No</td>\n",
       "      <td>No</td>\n",
       "      <td>Yes</td>\n",
       "      <td>Yes</td>\n",
       "      <td>No</td>\n",
       "      <td>No</td>\n",
       "      <td>Yes</td>\n",
       "      <td>No</td>\n",
       "      <td>Yes</td>\n",
       "      <td>No</td>\n",
       "      <td>Yes</td>\n",
       "      <td>Yes</td>\n",
       "      <td>No</td>\n",
       "      <td>Positive</td>\n",
       "    </tr>\n",
       "    <tr>\n",
       "      <th>3</th>\n",
       "      <td>(42.0, 47.5]</td>\n",
       "      <td>Male</td>\n",
       "      <td>No</td>\n",
       "      <td>No</td>\n",
       "      <td>Yes</td>\n",
       "      <td>Yes</td>\n",
       "      <td>Yes</td>\n",
       "      <td>Yes</td>\n",
       "      <td>No</td>\n",
       "      <td>Yes</td>\n",
       "      <td>No</td>\n",
       "      <td>Yes</td>\n",
       "      <td>No</td>\n",
       "      <td>No</td>\n",
       "      <td>No</td>\n",
       "      <td>No</td>\n",
       "      <td>Positive</td>\n",
       "    </tr>\n",
       "    <tr>\n",
       "      <th>4</th>\n",
       "      <td>(54.0, 60.0]</td>\n",
       "      <td>Male</td>\n",
       "      <td>Yes</td>\n",
       "      <td>Yes</td>\n",
       "      <td>Yes</td>\n",
       "      <td>Yes</td>\n",
       "      <td>Yes</td>\n",
       "      <td>No</td>\n",
       "      <td>Yes</td>\n",
       "      <td>Yes</td>\n",
       "      <td>Yes</td>\n",
       "      <td>Yes</td>\n",
       "      <td>Yes</td>\n",
       "      <td>Yes</td>\n",
       "      <td>Yes</td>\n",
       "      <td>Yes</td>\n",
       "      <td>Positive</td>\n",
       "    </tr>\n",
       "  </tbody>\n",
       "</table>\n",
       "</div>"
      ],
      "text/plain": [
       "            age gender polyuria polydipsia sudden_weight_loss weakness  \\\n",
       "0  (35.0, 42.0]   Male       No        Yes                 No      Yes   \n",
       "1  (54.0, 60.0]   Male       No         No                 No      Yes   \n",
       "2  (35.0, 42.0]   Male      Yes         No                 No      Yes   \n",
       "3  (42.0, 47.5]   Male       No         No                Yes      Yes   \n",
       "4  (54.0, 60.0]   Male      Yes        Yes                Yes      Yes   \n",
       "\n",
       "  polyphagia genital_thrush visual_blurring itching irritability  \\\n",
       "0         No             No              No     Yes           No   \n",
       "1         No             No             Yes      No           No   \n",
       "2        Yes             No              No     Yes           No   \n",
       "3        Yes            Yes              No     Yes           No   \n",
       "4        Yes             No             Yes     Yes          Yes   \n",
       "\n",
       "  delayed_healing partial_paresis muscle_stiffness alopecia obesity     class  \n",
       "0             Yes              No              Yes      Yes     Yes  Positive  \n",
       "1              No             Yes               No      Yes      No  Positive  \n",
       "2             Yes              No              Yes      Yes      No  Positive  \n",
       "3             Yes              No               No       No      No  Positive  \n",
       "4             Yes             Yes              Yes      Yes     Yes  Positive  "
      ]
     },
     "execution_count": 3,
     "metadata": {},
     "output_type": "execute_result"
    }
   ],
   "source": [
    "sylhet_copy.head()"
   ]
  },
  {
   "cell_type": "code",
   "execution_count": 4,
   "id": "e70ee062-f2ea-4f46-914a-6f57edb8a9af",
   "metadata": {
    "execution": {
     "iopub.execute_input": "2022-12-08T04:01:38.513805Z",
     "iopub.status.busy": "2022-12-08T04:01:38.513491Z",
     "iopub.status.idle": "2022-12-08T04:01:38.517681Z",
     "shell.execute_reply": "2022-12-08T04:01:38.517000Z",
     "shell.execute_reply.started": "2022-12-08T04:01:38.513780Z"
    },
    "tags": []
   },
   "outputs": [],
   "source": [
    "sylhet_copy = sylhet_copy.loc[:, :\"obesity\"]"
   ]
  },
  {
   "cell_type": "markdown",
   "id": "e9ac079a-3926-4d65-aa62-3fc0d9c050e5",
   "metadata": {},
   "source": [
    "## Pipeline Method"
   ]
  },
  {
   "cell_type": "code",
   "execution_count": 5,
   "id": "f880f646-fef0-47c4-b2df-1e35a6a731c6",
   "metadata": {
    "execution": {
     "iopub.execute_input": "2022-12-08T04:01:38.518878Z",
     "iopub.status.busy": "2022-12-08T04:01:38.518465Z",
     "iopub.status.idle": "2022-12-08T04:01:38.524242Z",
     "shell.execute_reply": "2022-12-08T04:01:38.523549Z",
     "shell.execute_reply.started": "2022-12-08T04:01:38.518852Z"
    },
    "tags": []
   },
   "outputs": [],
   "source": [
    "train1_x, test1_x, train1_y, test1_y = model_selection.train_test_split(\n",
    "    sylhet_copy, y, random_state=42, train_size=0.8, test_size=0.2, stratify=y\n",
    ")"
   ]
  },
  {
   "cell_type": "code",
   "execution_count": 6,
   "id": "9b70c9d7-5c5a-4bc1-a2d7-748b878b77a9",
   "metadata": {
    "execution": {
     "iopub.execute_input": "2022-12-08T04:01:38.525410Z",
     "iopub.status.busy": "2022-12-08T04:01:38.525104Z",
     "iopub.status.idle": "2022-12-08T04:01:38.540486Z",
     "shell.execute_reply": "2022-12-08T04:01:38.539932Z",
     "shell.execute_reply.started": "2022-12-08T04:01:38.525377Z"
    },
    "tags": []
   },
   "outputs": [],
   "source": [
    "column_trans = ColumnTransformer(\n",
    "    [(\"one_hot\", OneHotEncoder(drop=\"if_binary\"), list(sylhet_copy.columns.values),)],\n",
    "    remainder=\"drop\",\n",
    ")\n",
    "\n",
    "X = column_trans.fit_transform(sylhet_copy)"
   ]
  },
  {
   "cell_type": "markdown",
   "id": "51bc70bb-1734-4f1d-89e7-086aa119b433",
   "metadata": {},
   "source": [
    "### Numpy array version of the data"
   ]
  },
  {
   "cell_type": "code",
   "execution_count": 7,
   "id": "e7200ada-efbe-4244-9aae-0ce8e28c05a9",
   "metadata": {
    "execution": {
     "iopub.execute_input": "2022-12-08T04:01:38.541748Z",
     "iopub.status.busy": "2022-12-08T04:01:38.541488Z",
     "iopub.status.idle": "2022-12-08T04:01:38.545586Z",
     "shell.execute_reply": "2022-12-08T04:01:38.544883Z",
     "shell.execute_reply.started": "2022-12-08T04:01:38.541723Z"
    },
    "tags": []
   },
   "outputs": [],
   "source": [
    "clf1 = naive_bayes.BernoulliNB()\n",
    "clf2 = naive_bayes.GaussianNB()\n",
    "clf3 = linear_model.LogisticRegression(random_state=42)\n",
    "clf4 = tree.DecisionTreeClassifier(random_state=42)\n",
    "clf5 = ensemble.RandomForestClassifier(random_state=42)"
   ]
  },
  {
   "cell_type": "code",
   "execution_count": 8,
   "id": "1dd5ef8c-8c3b-42ee-9e50-bf5eb53c2407",
   "metadata": {
    "execution": {
     "iopub.execute_input": "2022-12-08T04:01:38.546790Z",
     "iopub.status.busy": "2022-12-08T04:01:38.546587Z",
     "iopub.status.idle": "2022-12-08T04:01:38.550816Z",
     "shell.execute_reply": "2022-12-08T04:01:38.550206Z",
     "shell.execute_reply.started": "2022-12-08T04:01:38.546768Z"
    },
    "tags": []
   },
   "outputs": [],
   "source": [
    "param1 = {}\n",
    "param2 = {}\n",
    "param3 = {}\n",
    "param4 = {}\n",
    "param5 = {}\n",
    "\n",
    "param1[\"classifier\"] = [clf1]\n",
    "param2[\"classifier\"] = [clf2]\n",
    "param3[\"classifier\"] = [clf3]\n",
    "param4[\"classifier\"] = [clf4]\n",
    "param5[\"classifier\"] = [clf5]"
   ]
  },
  {
   "cell_type": "code",
   "execution_count": 9,
   "id": "d7581b71-2c8d-4b0e-9160-6f5a33833b0a",
   "metadata": {
    "execution": {
     "iopub.execute_input": "2022-12-08T04:01:38.551999Z",
     "iopub.status.busy": "2022-12-08T04:01:38.551792Z",
     "iopub.status.idle": "2022-12-08T04:01:38.554729Z",
     "shell.execute_reply": "2022-12-08T04:01:38.554107Z",
     "shell.execute_reply.started": "2022-12-08T04:01:38.551978Z"
    },
    "tags": []
   },
   "outputs": [],
   "source": [
    "# param2['classifier__n_estimators'] = [1, 25, 50, 100]\n",
    "# param2['classifier__criterion'] = ['gini', 'entropy']\n",
    "# param2['classifier__max_features'] = ['sqrt', 'log2']\n",
    "# param2['classifier__max_depth'] = [3, 5]"
   ]
  },
  {
   "cell_type": "code",
   "execution_count": null,
   "id": "64da66b7-13cd-4884-a4d4-d3577fb97f0b",
   "metadata": {},
   "outputs": [],
   "source": []
  },
  {
   "cell_type": "code",
   "execution_count": 10,
   "id": "428c446d-af8c-4d58-8d2a-2854461ddeff",
   "metadata": {
    "execution": {
     "iopub.execute_input": "2022-12-08T04:01:38.556153Z",
     "iopub.status.busy": "2022-12-08T04:01:38.555817Z",
     "iopub.status.idle": "2022-12-08T04:01:38.561040Z",
     "shell.execute_reply": "2022-12-08T04:01:38.560442Z",
     "shell.execute_reply.started": "2022-12-08T04:01:38.556128Z"
    },
    "tags": []
   },
   "outputs": [],
   "source": [
    "pipeline1 = Pipeline([(\"column_trans\", column_trans), (\"classifier\", clf1)])\n",
    "pipeline2 = Pipeline([(\"column_trans\", column_trans), (\"classifier\", clf2)])\n",
    "pipeline3 = Pipeline([(\"column_trans\", column_trans), (\"classifier\", clf3)])\n",
    "pipeline4 = Pipeline([(\"column_trans\", column_trans), (\"classifier\", clf4)])\n",
    "pipeline5 = Pipeline([(\"column_trans\", column_trans), (\"classifier\", clf5)])\n",
    "\n",
    "params = [param1, param2, param3, param4, param5]"
   ]
  },
  {
   "cell_type": "code",
   "execution_count": 11,
   "id": "933bb438-ab81-484b-a446-9a8fe968cc2a",
   "metadata": {
    "execution": {
     "iopub.execute_input": "2022-12-08T04:01:38.562232Z",
     "iopub.status.busy": "2022-12-08T04:01:38.562037Z",
     "iopub.status.idle": "2022-12-08T04:01:38.565348Z",
     "shell.execute_reply": "2022-12-08T04:01:38.564707Z",
     "shell.execute_reply.started": "2022-12-08T04:01:38.562212Z"
    },
    "tags": []
   },
   "outputs": [],
   "source": [
    "skf = StratifiedKFold(n_splits=5, shuffle=True, random_state=42)"
   ]
  },
  {
   "cell_type": "code",
   "execution_count": 12,
   "id": "3f49d7c0-4cdf-485f-9e6d-88da92b99417",
   "metadata": {
    "execution": {
     "iopub.execute_input": "2022-12-08T04:01:38.569889Z",
     "iopub.status.busy": "2022-12-08T04:01:38.569488Z",
     "iopub.status.idle": "2022-12-08T04:01:38.574471Z",
     "shell.execute_reply": "2022-12-08T04:01:38.573897Z",
     "shell.execute_reply.started": "2022-12-08T04:01:38.569861Z"
    },
    "tags": []
   },
   "outputs": [],
   "source": [
    "grid1 = GridSearchCV(\n",
    "    estimator=pipeline1, param_grid=param1, scoring=\"f1_macro\", cv=skf\n",
    ")\n",
    "grid2 = GridSearchCV(\n",
    "    estimator=pipeline2, param_grid=param2, scoring=\"f1_macro\", cv=skf\n",
    ")\n",
    "grid3 = GridSearchCV(\n",
    "    estimator=pipeline3, param_grid=param3, scoring=\"f1_macro\", cv=skf\n",
    ")\n",
    "grid4 = GridSearchCV(\n",
    "    estimator=pipeline4, param_grid=param4, scoring=\"f1_macro\", cv=skf\n",
    ")\n",
    "grid5 = GridSearchCV(\n",
    "    estimator=pipeline5, param_grid=param5, scoring=\"f1_macro\", cv=skf\n",
    ")"
   ]
  },
  {
   "cell_type": "code",
   "execution_count": 13,
   "id": "a37d83df-1800-45cc-9700-44dca8501530",
   "metadata": {
    "execution": {
     "iopub.execute_input": "2022-12-08T04:01:38.575523Z",
     "iopub.status.busy": "2022-12-08T04:01:38.575221Z",
     "iopub.status.idle": "2022-12-08T04:01:39.742689Z",
     "shell.execute_reply": "2022-12-08T04:01:39.742091Z",
     "shell.execute_reply.started": "2022-12-08T04:01:38.575499Z"
    },
    "tags": []
   },
   "outputs": [],
   "source": [
    "new_df = pd.DataFrame(columns=['precision','recall','fscore','support'])\n",
    "grids = [grid1,grid2,grid3,grid4,grid5]\n",
    "for pipe in grids:\n",
    "    pipe.fit(sylhet_copy,y)\n",
    "    y_pred = pipe.predict(sylhet_copy)\n",
    "    class_stats = sklearn.metrics.precision_recall_fscore_support(y, y_pred, labels=[0, 1], pos_label=1)\n",
    "    \n",
    "    my_df = pd.DataFrame(class_stats).T\n",
    "\n",
    "    my_df = my_df.rename(columns={0:'precision',1:'recall',2:'fscore',3:'support'})\n",
    "\n",
    "    my_df['model'] = pipe.best_estimator_[-1].__class__.__name__\n",
    "    \n",
    "    new_df = pd.concat([new_df,my_df],ignore_index=True)\n",
    "    cw = sklearn.metrics.precision_recall_fscore_support(y, y_pred, labels=[0, 1], average='binary')"
   ]
  },
  {
   "cell_type": "code",
   "execution_count": 14,
   "id": "3acaadde-1ecf-4eb0-a251-2c1afe87616f",
   "metadata": {
    "execution": {
     "iopub.execute_input": "2022-12-08T04:01:39.743862Z",
     "iopub.status.busy": "2022-12-08T04:01:39.743541Z",
     "iopub.status.idle": "2022-12-08T04:01:39.747667Z",
     "shell.execute_reply": "2022-12-08T04:01:39.747121Z",
     "shell.execute_reply.started": "2022-12-08T04:01:39.743840Z"
    },
    "tags": []
   },
   "outputs": [
    {
     "data": {
      "text/plain": [
       "'GridSearchCV'"
      ]
     },
     "execution_count": 14,
     "metadata": {},
     "output_type": "execute_result"
    }
   ],
   "source": [
    "grid1.__class__.__name__"
   ]
  },
  {
   "cell_type": "code",
   "execution_count": 15,
   "id": "cc7b5e89-b508-4c8b-ad4b-500deba953a1",
   "metadata": {
    "execution": {
     "iopub.execute_input": "2022-12-08T04:01:39.748887Z",
     "iopub.status.busy": "2022-12-08T04:01:39.748543Z",
     "iopub.status.idle": "2022-12-08T04:01:39.753819Z",
     "shell.execute_reply": "2022-12-08T04:01:39.753232Z",
     "shell.execute_reply.started": "2022-12-08T04:01:39.748863Z"
    },
    "tags": []
   },
   "outputs": [
    {
     "data": {
      "text/plain": [
       "'RandomForestClassifier'"
      ]
     },
     "execution_count": 15,
     "metadata": {},
     "output_type": "execute_result"
    }
   ],
   "source": [
    "pipe.best_estimator_[-1].__class__.__name__"
   ]
  },
  {
   "cell_type": "code",
   "execution_count": 16,
   "id": "25d46221-6650-48d0-afa8-4b113dea1a80",
   "metadata": {
    "execution": {
     "iopub.execute_input": "2022-12-08T04:01:39.754947Z",
     "iopub.status.busy": "2022-12-08T04:01:39.754571Z",
     "iopub.status.idle": "2022-12-08T04:01:39.760594Z",
     "shell.execute_reply": "2022-12-08T04:01:39.759800Z",
     "shell.execute_reply.started": "2022-12-08T04:01:39.754922Z"
    },
    "tags": []
   },
   "outputs": [
    {
     "data": {
      "text/plain": [
       "(array([1.        , 0.99071207]),\n",
       " array([0.985, 1.   ]),\n",
       " array([0.99244332, 0.99533437]),\n",
       " array([200, 320]))"
      ]
     },
     "execution_count": 16,
     "metadata": {},
     "output_type": "execute_result"
    }
   ],
   "source": [
    "class_stats"
   ]
  },
  {
   "cell_type": "code",
   "execution_count": 17,
   "id": "acdb19f3-005a-4383-b5eb-af521a474fae",
   "metadata": {
    "execution": {
     "iopub.execute_input": "2022-12-08T04:01:39.762048Z",
     "iopub.status.busy": "2022-12-08T04:01:39.761656Z",
     "iopub.status.idle": "2022-12-08T04:01:39.772840Z",
     "shell.execute_reply": "2022-12-08T04:01:39.772285Z",
     "shell.execute_reply.started": "2022-12-08T04:01:39.762022Z"
    },
    "tags": []
   },
   "outputs": [
    {
     "data": {
      "text/html": [
       "<div>\n",
       "<style scoped>\n",
       "    .dataframe tbody tr th:only-of-type {\n",
       "        vertical-align: middle;\n",
       "    }\n",
       "\n",
       "    .dataframe tbody tr th {\n",
       "        vertical-align: top;\n",
       "    }\n",
       "\n",
       "    .dataframe thead th {\n",
       "        text-align: right;\n",
       "    }\n",
       "</style>\n",
       "<table border=\"1\" class=\"dataframe\">\n",
       "  <thead>\n",
       "    <tr style=\"text-align: right;\">\n",
       "      <th></th>\n",
       "      <th>precision</th>\n",
       "      <th>recall</th>\n",
       "      <th>fscore</th>\n",
       "      <th>support</th>\n",
       "      <th>model</th>\n",
       "    </tr>\n",
       "  </thead>\n",
       "  <tbody>\n",
       "    <tr>\n",
       "      <th>0</th>\n",
       "      <td>1.000000</td>\n",
       "      <td>0.985</td>\n",
       "      <td>0.992443</td>\n",
       "      <td>200.0</td>\n",
       "      <td>RandomForestClassifier</td>\n",
       "    </tr>\n",
       "    <tr>\n",
       "      <th>1</th>\n",
       "      <td>0.990712</td>\n",
       "      <td>1.000</td>\n",
       "      <td>0.995334</td>\n",
       "      <td>320.0</td>\n",
       "      <td>RandomForestClassifier</td>\n",
       "    </tr>\n",
       "  </tbody>\n",
       "</table>\n",
       "</div>"
      ],
      "text/plain": [
       "   precision  recall    fscore  support                   model\n",
       "0   1.000000   0.985  0.992443    200.0  RandomForestClassifier\n",
       "1   0.990712   1.000  0.995334    320.0  RandomForestClassifier"
      ]
     },
     "execution_count": 17,
     "metadata": {},
     "output_type": "execute_result"
    }
   ],
   "source": [
    "my_df = pd.DataFrame(class_stats).T\n",
    "\n",
    "my_df = my_df.rename(columns={0:'precision',1:'recall',2:'fscore',3:'support'})\n",
    "\n",
    "my_df['model'] = pipe.best_estimator_[-1].__class__.__name__\n",
    "\n",
    "my_df"
   ]
  },
  {
   "cell_type": "code",
   "execution_count": 18,
   "id": "1eb71746-f95b-42e5-b392-9d13d9723e96",
   "metadata": {
    "execution": {
     "iopub.execute_input": "2022-12-08T04:01:39.774114Z",
     "iopub.status.busy": "2022-12-08T04:01:39.773873Z",
     "iopub.status.idle": "2022-12-08T04:01:39.782643Z",
     "shell.execute_reply": "2022-12-08T04:01:39.781902Z",
     "shell.execute_reply.started": "2022-12-08T04:01:39.774091Z"
    },
    "tags": []
   },
   "outputs": [
    {
     "data": {
      "text/html": [
       "<div>\n",
       "<style scoped>\n",
       "    .dataframe tbody tr th:only-of-type {\n",
       "        vertical-align: middle;\n",
       "    }\n",
       "\n",
       "    .dataframe tbody tr th {\n",
       "        vertical-align: top;\n",
       "    }\n",
       "\n",
       "    .dataframe thead th {\n",
       "        text-align: right;\n",
       "    }\n",
       "</style>\n",
       "<table border=\"1\" class=\"dataframe\">\n",
       "  <thead>\n",
       "    <tr style=\"text-align: right;\">\n",
       "      <th></th>\n",
       "      <th>precision</th>\n",
       "      <th>recall</th>\n",
       "      <th>fscore</th>\n",
       "      <th>support</th>\n",
       "      <th>model</th>\n",
       "    </tr>\n",
       "  </thead>\n",
       "  <tbody>\n",
       "    <tr>\n",
       "      <th>0</th>\n",
       "      <td>0.796537</td>\n",
       "      <td>0.92</td>\n",
       "      <td>0.853828</td>\n",
       "      <td>200.0</td>\n",
       "      <td>BernoulliNB</td>\n",
       "    </tr>\n",
       "    <tr>\n",
       "      <th>1</th>\n",
       "      <td>0.944637</td>\n",
       "      <td>0.853125</td>\n",
       "      <td>0.896552</td>\n",
       "      <td>320.0</td>\n",
       "      <td>BernoulliNB</td>\n",
       "    </tr>\n",
       "    <tr>\n",
       "      <th>2</th>\n",
       "      <td>0.818182</td>\n",
       "      <td>0.855</td>\n",
       "      <td>0.836186</td>\n",
       "      <td>200.0</td>\n",
       "      <td>GaussianNB</td>\n",
       "    </tr>\n",
       "    <tr>\n",
       "      <th>3</th>\n",
       "      <td>0.906752</td>\n",
       "      <td>0.88125</td>\n",
       "      <td>0.893819</td>\n",
       "      <td>320.0</td>\n",
       "      <td>GaussianNB</td>\n",
       "    </tr>\n",
       "    <tr>\n",
       "      <th>4</th>\n",
       "      <td>0.912195</td>\n",
       "      <td>0.935</td>\n",
       "      <td>0.923457</td>\n",
       "      <td>200.0</td>\n",
       "      <td>LogisticRegression</td>\n",
       "    </tr>\n",
       "    <tr>\n",
       "      <th>5</th>\n",
       "      <td>0.95873</td>\n",
       "      <td>0.94375</td>\n",
       "      <td>0.951181</td>\n",
       "      <td>320.0</td>\n",
       "      <td>LogisticRegression</td>\n",
       "    </tr>\n",
       "    <tr>\n",
       "      <th>6</th>\n",
       "      <td>1.0</td>\n",
       "      <td>0.985</td>\n",
       "      <td>0.992443</td>\n",
       "      <td>200.0</td>\n",
       "      <td>DecisionTreeClassifier</td>\n",
       "    </tr>\n",
       "    <tr>\n",
       "      <th>7</th>\n",
       "      <td>0.990712</td>\n",
       "      <td>1.0</td>\n",
       "      <td>0.995334</td>\n",
       "      <td>320.0</td>\n",
       "      <td>DecisionTreeClassifier</td>\n",
       "    </tr>\n",
       "    <tr>\n",
       "      <th>8</th>\n",
       "      <td>1.0</td>\n",
       "      <td>0.985</td>\n",
       "      <td>0.992443</td>\n",
       "      <td>200.0</td>\n",
       "      <td>RandomForestClassifier</td>\n",
       "    </tr>\n",
       "    <tr>\n",
       "      <th>9</th>\n",
       "      <td>0.990712</td>\n",
       "      <td>1.0</td>\n",
       "      <td>0.995334</td>\n",
       "      <td>320.0</td>\n",
       "      <td>RandomForestClassifier</td>\n",
       "    </tr>\n",
       "  </tbody>\n",
       "</table>\n",
       "</div>"
      ],
      "text/plain": [
       "  precision    recall    fscore support                   model\n",
       "0  0.796537      0.92  0.853828   200.0             BernoulliNB\n",
       "1  0.944637  0.853125  0.896552   320.0             BernoulliNB\n",
       "2  0.818182     0.855  0.836186   200.0              GaussianNB\n",
       "3  0.906752   0.88125  0.893819   320.0              GaussianNB\n",
       "4  0.912195     0.935  0.923457   200.0      LogisticRegression\n",
       "5   0.95873   0.94375  0.951181   320.0      LogisticRegression\n",
       "6       1.0     0.985  0.992443   200.0  DecisionTreeClassifier\n",
       "7  0.990712       1.0  0.995334   320.0  DecisionTreeClassifier\n",
       "8       1.0     0.985  0.992443   200.0  RandomForestClassifier\n",
       "9  0.990712       1.0  0.995334   320.0  RandomForestClassifier"
      ]
     },
     "execution_count": 18,
     "metadata": {},
     "output_type": "execute_result"
    }
   ],
   "source": [
    "new_df"
   ]
  },
  {
   "cell_type": "code",
   "execution_count": 19,
   "id": "d43d3a14-931c-48bf-8144-dabcf8e3738e",
   "metadata": {
    "execution": {
     "iopub.execute_input": "2022-12-08T04:01:39.784201Z",
     "iopub.status.busy": "2022-12-08T04:01:39.783921Z",
     "iopub.status.idle": "2022-12-08T04:01:40.231505Z",
     "shell.execute_reply": "2022-12-08T04:01:40.226461Z",
     "shell.execute_reply.started": "2022-12-08T04:01:39.784177Z"
    }
   },
   "outputs": [
    {
     "ename": "NameError",
     "evalue": "name 'prec' is not defined",
     "output_type": "error",
     "traceback": [
      "\u001b[0;31m---------------------------------------------------------------------------\u001b[0m",
      "\u001b[0;31mNameError\u001b[0m                                 Traceback (most recent call last)",
      "Input \u001b[0;32mIn [19]\u001b[0m, in \u001b[0;36m<cell line: 6>\u001b[0;34m()\u001b[0m\n\u001b[1;32m      1\u001b[0m results_conf2 \u001b[38;5;241m=\u001b[39m pd\u001b[38;5;241m.\u001b[39mDataFrame(\n\u001b[1;32m      2\u001b[0m     index\u001b[38;5;241m=\u001b[39m[\u001b[38;5;124m\"\u001b[39m\u001b[38;5;124mnegative\u001b[39m\u001b[38;5;124m\"\u001b[39m, \u001b[38;5;124m\"\u001b[39m\u001b[38;5;124mpositive\u001b[39m\u001b[38;5;124m\"\u001b[39m, \u001b[38;5;124m\"\u001b[39m\u001b[38;5;124mmodel\u001b[39m\u001b[38;5;124m\"\u001b[39m],\n\u001b[1;32m      3\u001b[0m     columns\u001b[38;5;241m=\u001b[39m[\u001b[38;5;124m\"\u001b[39m\u001b[38;5;124mprecision\u001b[39m\u001b[38;5;124m\"\u001b[39m, \u001b[38;5;124m\"\u001b[39m\u001b[38;5;124mrecall\u001b[39m\u001b[38;5;124m\"\u001b[39m, \u001b[38;5;124m\"\u001b[39m\u001b[38;5;124mf1\u001b[39m\u001b[38;5;124m\"\u001b[39m, \u001b[38;5;124m\"\u001b[39m\u001b[38;5;124msupport\u001b[39m\u001b[38;5;124m\"\u001b[39m],\n\u001b[1;32m      4\u001b[0m )\n\u001b[0;32m----> 6\u001b[0m model_compare\u001b[38;5;241m.\u001b[39mloc[row_index, \u001b[38;5;124m\"\u001b[39m\u001b[38;5;124mPrecision\u001b[39m\u001b[38;5;124m\"\u001b[39m] \u001b[38;5;241m=\u001b[39m \u001b[43mprec\u001b[49m\n\u001b[1;32m      7\u001b[0m model_compare\u001b[38;5;241m.\u001b[39mloc[row_index, \u001b[38;5;124m\"\u001b[39m\u001b[38;5;124mRecall\u001b[39m\u001b[38;5;124m\"\u001b[39m] \u001b[38;5;241m=\u001b[39m recall\n\u001b[1;32m      8\u001b[0m model_compare\u001b[38;5;241m.\u001b[39mloc[row_index, \u001b[38;5;124m\"\u001b[39m\u001b[38;5;124mF1\u001b[39m\u001b[38;5;124m\"\u001b[39m] \u001b[38;5;241m=\u001b[39m f1\n",
      "\u001b[0;31mNameError\u001b[0m: name 'prec' is not defined"
     ]
    }
   ],
   "source": [
    "# results_conf2 = pd.DataFrame(\n",
    "#     index=[\"negative\", \"positive\", \"model\"],\n",
    "#     columns=[\"precision\", \"recall\", \"f1\", \"support\"],\n",
    "# )\n",
    "\n",
    "# model_compare.loc[row_index, \"Precision\"] = prec\n",
    "# model_compare.loc[row_index, \"Recall\"] = recall\n",
    "# model_compare.loc[row_index, \"F1\"] = f1"
   ]
  },
  {
   "cell_type": "code",
   "execution_count": 20,
   "id": "82d24da7-c2e1-4f88-8642-fc46c2e4e78c",
   "metadata": {
    "execution": {
     "iopub.execute_input": "2022-12-08T04:01:51.555339Z",
     "iopub.status.busy": "2022-12-08T04:01:51.555067Z",
     "iopub.status.idle": "2022-12-08T04:01:51.565821Z",
     "shell.execute_reply": "2022-12-08T04:01:51.564739Z",
     "shell.execute_reply.started": "2022-12-08T04:01:51.555314Z"
    },
    "tags": []
   },
   "outputs": [
    {
     "data": {
      "text/html": [
       "<div>\n",
       "<style scoped>\n",
       "    .dataframe tbody tr th:only-of-type {\n",
       "        vertical-align: middle;\n",
       "    }\n",
       "\n",
       "    .dataframe tbody tr th {\n",
       "        vertical-align: top;\n",
       "    }\n",
       "\n",
       "    .dataframe thead th {\n",
       "        text-align: right;\n",
       "    }\n",
       "</style>\n",
       "<table border=\"1\" class=\"dataframe\">\n",
       "  <thead>\n",
       "    <tr style=\"text-align: right;\">\n",
       "      <th></th>\n",
       "      <th>0</th>\n",
       "      <th>1</th>\n",
       "      <th>2</th>\n",
       "      <th>3</th>\n",
       "    </tr>\n",
       "  </thead>\n",
       "  <tbody>\n",
       "    <tr>\n",
       "      <th>0</th>\n",
       "      <td>1.000000</td>\n",
       "      <td>0.985</td>\n",
       "      <td>0.992443</td>\n",
       "      <td>200.0</td>\n",
       "    </tr>\n",
       "    <tr>\n",
       "      <th>1</th>\n",
       "      <td>0.990712</td>\n",
       "      <td>1.000</td>\n",
       "      <td>0.995334</td>\n",
       "      <td>320.0</td>\n",
       "    </tr>\n",
       "  </tbody>\n",
       "</table>\n",
       "</div>"
      ],
      "text/plain": [
       "          0      1         2      3\n",
       "0  1.000000  0.985  0.992443  200.0\n",
       "1  0.990712  1.000  0.995334  320.0"
      ]
     },
     "execution_count": 20,
     "metadata": {},
     "output_type": "execute_result"
    }
   ],
   "source": [
    "columns = ['negative','positive']\n",
    "\n",
    "pd.DataFrame(class_stats).T"
   ]
  },
  {
   "cell_type": "code",
   "execution_count": 21,
   "id": "6dedca7f-30ba-450a-b210-990c5516eab7",
   "metadata": {
    "execution": {
     "iopub.execute_input": "2022-12-08T04:01:52.962804Z",
     "iopub.status.busy": "2022-12-08T04:01:52.962549Z",
     "iopub.status.idle": "2022-12-08T04:01:52.971275Z",
     "shell.execute_reply": "2022-12-08T04:01:52.970653Z",
     "shell.execute_reply.started": "2022-12-08T04:01:52.962775Z"
    },
    "tags": []
   },
   "outputs": [
    {
     "data": {
      "text/html": [
       "<div>\n",
       "<style scoped>\n",
       "    .dataframe tbody tr th:only-of-type {\n",
       "        vertical-align: middle;\n",
       "    }\n",
       "\n",
       "    .dataframe tbody tr th {\n",
       "        vertical-align: top;\n",
       "    }\n",
       "\n",
       "    .dataframe thead th {\n",
       "        text-align: right;\n",
       "    }\n",
       "</style>\n",
       "<table border=\"1\" class=\"dataframe\">\n",
       "  <thead>\n",
       "    <tr style=\"text-align: right;\">\n",
       "      <th></th>\n",
       "      <th>0</th>\n",
       "      <th>1</th>\n",
       "      <th>2</th>\n",
       "      <th>3</th>\n",
       "    </tr>\n",
       "  </thead>\n",
       "  <tbody>\n",
       "    <tr>\n",
       "      <th>0</th>\n",
       "      <td>1.000000</td>\n",
       "      <td>0.985</td>\n",
       "      <td>0.992443</td>\n",
       "      <td>200.0</td>\n",
       "    </tr>\n",
       "    <tr>\n",
       "      <th>1</th>\n",
       "      <td>0.990712</td>\n",
       "      <td>1.000</td>\n",
       "      <td>0.995334</td>\n",
       "      <td>320.0</td>\n",
       "    </tr>\n",
       "  </tbody>\n",
       "</table>\n",
       "</div>"
      ],
      "text/plain": [
       "          0      1         2      3\n",
       "0  1.000000  0.985  0.992443  200.0\n",
       "1  0.990712  1.000  0.995334  320.0"
      ]
     },
     "execution_count": 21,
     "metadata": {},
     "output_type": "execute_result"
    }
   ],
   "source": [
    "pd.DataFrame(class_stats).T"
   ]
  },
  {
   "cell_type": "code",
   "execution_count": 22,
   "id": "00f6f5e1-428d-44b6-bf1e-981769f6919c",
   "metadata": {
    "execution": {
     "iopub.execute_input": "2022-12-08T04:01:55.862114Z",
     "iopub.status.busy": "2022-12-08T04:01:55.861878Z",
     "iopub.status.idle": "2022-12-08T04:01:55.865336Z",
     "shell.execute_reply": "2022-12-08T04:01:55.864690Z",
     "shell.execute_reply.started": "2022-12-08T04:01:55.862091Z"
    },
    "tags": []
   },
   "outputs": [],
   "source": [
    "grid_dict = {0: 'BNB', 1: 'GNB', \n",
    "             2: 'LR', 3: 'DT', \n",
    "             4: 'RF'}"
   ]
  },
  {
   "cell_type": "code",
   "execution_count": 23,
   "id": "c809456c-9ecd-4436-9fcf-ea3c8ab2eff4",
   "metadata": {
    "execution": {
     "iopub.execute_input": "2022-12-08T04:01:56.390888Z",
     "iopub.status.busy": "2022-12-08T04:01:56.390601Z",
     "iopub.status.idle": "2022-12-08T04:01:56.459236Z",
     "shell.execute_reply": "2022-12-08T04:01:56.458643Z",
     "shell.execute_reply.started": "2022-12-08T04:01:56.390857Z"
    },
    "tags": []
   },
   "outputs": [
    {
     "name": "stdout",
     "output_type": "stream",
     "text": [
      "BNB Test Accuracy: 0.8751900152012161\n",
      "BNB Best Params: {'classifier': BernoulliNB()}\n",
      "GNB Test Accuracy: 0.8650025767303811\n",
      "GNB Best Params: {'classifier': GaussianNB()}\n",
      "LR Test Accuracy: 0.9373189462428309\n",
      "LR Best Params: {'classifier': LogisticRegression(random_state=42)}\n",
      "DT Test Accuracy: 0.9938888475384984\n",
      "DT Best Params: {'classifier': DecisionTreeClassifier(random_state=42)}\n",
      "RF Test Accuracy: 0.9938888475384984\n",
      "RF Best Params: {'classifier': RandomForestClassifier(random_state=42)}\n"
     ]
    }
   ],
   "source": [
    "for i, model in enumerate(grids):\n",
    "    print('{} Test Accuracy: {}'.format(grid_dict[i],\n",
    "    model.score(sylhet_copy,y)))\n",
    "    print('{} Best Params: {}'.format(grid_dict[i],          model.best_params_))"
   ]
  },
  {
   "cell_type": "code",
   "execution_count": 24,
   "id": "7c2442ff-c76b-4733-94f8-d51172644755",
   "metadata": {
    "execution": {
     "iopub.execute_input": "2022-12-08T04:01:58.224732Z",
     "iopub.status.busy": "2022-12-08T04:01:58.224439Z",
     "iopub.status.idle": "2022-12-08T04:01:58.575063Z",
     "shell.execute_reply": "2022-12-08T04:01:58.574548Z",
     "shell.execute_reply.started": "2022-12-08T04:01:58.224703Z"
    },
    "tags": []
   },
   "outputs": [
    {
     "ename": "TypeError",
     "evalue": "'NoneType' object is not iterable",
     "output_type": "error",
     "traceback": [
      "\u001b[0;31m---------------------------------------------------------------------------\u001b[0m",
      "\u001b[0;31mTypeError\u001b[0m                                 Traceback (most recent call last)",
      "File \u001b[0;32m<timed exec>:2\u001b[0m, in \u001b[0;36m<module>\u001b[0;34m\u001b[0m\n",
      "File \u001b[0;32m~/opt/anaconda3/lib/python3.8/site-packages/sklearn/model_selection/_search.py:1388\u001b[0m, in \u001b[0;36mGridSearchCV.__init__\u001b[0;34m(self, estimator, param_grid, scoring, n_jobs, refit, cv, verbose, pre_dispatch, error_score, return_train_score)\u001b[0m\n\u001b[1;32m   1376\u001b[0m \u001b[38;5;28msuper\u001b[39m()\u001b[38;5;241m.\u001b[39m\u001b[38;5;21m__init__\u001b[39m(\n\u001b[1;32m   1377\u001b[0m     estimator\u001b[38;5;241m=\u001b[39mestimator,\n\u001b[1;32m   1378\u001b[0m     scoring\u001b[38;5;241m=\u001b[39mscoring,\n\u001b[0;32m   (...)\u001b[0m\n\u001b[1;32m   1385\u001b[0m     return_train_score\u001b[38;5;241m=\u001b[39mreturn_train_score,\n\u001b[1;32m   1386\u001b[0m )\n\u001b[1;32m   1387\u001b[0m \u001b[38;5;28mself\u001b[39m\u001b[38;5;241m.\u001b[39mparam_grid \u001b[38;5;241m=\u001b[39m param_grid\n\u001b[0;32m-> 1388\u001b[0m \u001b[43m_check_param_grid\u001b[49m\u001b[43m(\u001b[49m\u001b[43mparam_grid\u001b[49m\u001b[43m)\u001b[49m\n",
      "File \u001b[0;32m~/opt/anaconda3/lib/python3.8/site-packages/sklearn/model_selection/_search.py:328\u001b[0m, in \u001b[0;36m_check_param_grid\u001b[0;34m(param_grid)\u001b[0m\n\u001b[1;32m    325\u001b[0m \u001b[38;5;28;01mif\u001b[39;00m \u001b[38;5;28mhasattr\u001b[39m(param_grid, \u001b[38;5;124m\"\u001b[39m\u001b[38;5;124mitems\u001b[39m\u001b[38;5;124m\"\u001b[39m):\n\u001b[1;32m    326\u001b[0m     param_grid \u001b[38;5;241m=\u001b[39m [param_grid]\n\u001b[0;32m--> 328\u001b[0m \u001b[38;5;28;01mfor\u001b[39;00m p \u001b[38;5;129;01min\u001b[39;00m param_grid:\n\u001b[1;32m    329\u001b[0m     \u001b[38;5;28;01mfor\u001b[39;00m name, v \u001b[38;5;129;01min\u001b[39;00m p\u001b[38;5;241m.\u001b[39mitems():\n\u001b[1;32m    330\u001b[0m         \u001b[38;5;28;01mif\u001b[39;00m \u001b[38;5;28misinstance\u001b[39m(v, np\u001b[38;5;241m.\u001b[39mndarray) \u001b[38;5;129;01mand\u001b[39;00m v\u001b[38;5;241m.\u001b[39mndim \u001b[38;5;241m>\u001b[39m \u001b[38;5;241m1\u001b[39m:\n",
      "\u001b[0;31mTypeError\u001b[0m: 'NoneType' object is not iterable"
     ]
    }
   ],
   "source": [
    "%%time\n",
    "# Train the grid search model\n",
    "gs = GridSearchCV(\n",
    "    model,\n",
    "    param_grid=,\n",
    "    cv=skf,\n",
    "    n_jobs=-1,\n",
    "    scoring=\"f1_macro\",\n",
    "    return_train_score=False,\n",
    ").fit(X, y)"
   ]
  },
  {
   "cell_type": "code",
   "execution_count": null,
   "id": "bc0ccd5c-8ee9-4870-8370-e214f053f6fa",
   "metadata": {
    "execution": {
     "iopub.status.busy": "2022-12-08T04:01:40.237814Z",
     "iopub.status.idle": "2022-12-08T04:01:40.238029Z",
     "shell.execute_reply": "2022-12-08T04:01:40.237915Z",
     "shell.execute_reply.started": "2022-12-08T04:01:40.237904Z"
    },
    "tags": []
   },
   "outputs": [],
   "source": [
    "y_pred = gs.best_estimator_.predict(sylhet_copy)"
   ]
  },
  {
   "cell_type": "code",
   "execution_count": null,
   "id": "89a44f0e-1298-483b-840e-daab5fe81072",
   "metadata": {
    "execution": {
     "iopub.status.busy": "2022-12-08T04:01:40.238728Z",
     "iopub.status.idle": "2022-12-08T04:01:40.239042Z",
     "shell.execute_reply": "2022-12-08T04:01:40.238914Z",
     "shell.execute_reply.started": "2022-12-08T04:01:40.238902Z"
    }
   },
   "outputs": [],
   "source": [
    "class_stats = sklearn.metrics.precision_recall_fscore_support(\n",
    "    y, y_pred, labels=[0, 1], pos_label=1\n",
    ")"
   ]
  },
  {
   "cell_type": "code",
   "execution_count": null,
   "id": "1699d0bc-de18-4687-bed1-795720a02e54",
   "metadata": {
    "execution": {
     "iopub.status.busy": "2022-12-08T04:01:40.239802Z",
     "iopub.status.idle": "2022-12-08T04:01:40.240011Z",
     "shell.execute_reply": "2022-12-08T04:01:40.239900Z",
     "shell.execute_reply.started": "2022-12-08T04:01:40.239889Z"
    },
    "tags": []
   },
   "outputs": [],
   "source": [
    "scoring = [\"accuracy\", \"precision\", \"recall\", \"f1_macro\"]\n",
    "scores = model_selection.cross_validate(\n",
    "    clf1, X, y, scoring=scoring, cv=skf, return_train_score=True, return_estimator=False\n",
    ")"
   ]
  },
  {
   "cell_type": "code",
   "execution_count": 25,
   "id": "93b946a2-ed85-4484-8bc8-698ebf272191",
   "metadata": {
    "execution": {
     "iopub.execute_input": "2022-12-08T04:02:04.566611Z",
     "iopub.status.busy": "2022-12-08T04:02:04.566299Z",
     "iopub.status.idle": "2022-12-08T04:02:04.569929Z",
     "shell.execute_reply": "2022-12-08T04:02:04.569109Z",
     "shell.execute_reply.started": "2022-12-08T04:02:04.566582Z"
    },
    "tags": []
   },
   "outputs": [],
   "source": [
    "from sklearn.model_selection import cross_val_score"
   ]
  },
  {
   "cell_type": "markdown",
   "id": "73cb2226-f809-482f-98c4-2041be432982",
   "metadata": {},
   "source": [
    "### Train-test split\n",
    "80/20"
   ]
  },
  {
   "cell_type": "code",
   "execution_count": 37,
   "id": "1a4a036c-a8c1-4394-a594-b6cec1bc9fec",
   "metadata": {
    "execution": {
     "iopub.execute_input": "2022-12-08T04:02:56.315728Z",
     "iopub.status.busy": "2022-12-08T04:02:56.315445Z",
     "iopub.status.idle": "2022-12-08T04:02:56.320518Z",
     "shell.execute_reply": "2022-12-08T04:02:56.319853Z",
     "shell.execute_reply.started": "2022-12-08T04:02:56.315698Z"
    },
    "tags": []
   },
   "outputs": [],
   "source": [
    "train1_x, test1_x, train1_y, test1_y = model_selection.train_test_split(\n",
    "    X, y, random_state=42, train_size=0.8, test_size=0.2\n",
    ")"
   ]
  },
  {
   "cell_type": "code",
   "execution_count": 38,
   "id": "a5e8a81b-617e-40c2-912c-0efd93f8ff06",
   "metadata": {
    "execution": {
     "iopub.execute_input": "2022-12-08T04:02:58.414484Z",
     "iopub.status.busy": "2022-12-08T04:02:58.414190Z",
     "iopub.status.idle": "2022-12-08T04:02:58.420626Z",
     "shell.execute_reply": "2022-12-08T04:02:58.419640Z",
     "shell.execute_reply.started": "2022-12-08T04:02:58.414453Z"
    },
    "tags": []
   },
   "outputs": [
    {
     "data": {
      "text/plain": [
       "(array([167, 249]), array([33, 71]))"
      ]
     },
     "execution_count": 38,
     "metadata": {},
     "output_type": "execute_result"
    }
   ],
   "source": [
    "np.bincount(train1_y), np.bincount(test1_y)"
   ]
  },
  {
   "cell_type": "code",
   "execution_count": 39,
   "id": "6c7a7dd5-55be-403c-af27-a202a7253e94",
   "metadata": {
    "execution": {
     "iopub.execute_input": "2022-12-08T04:02:58.422698Z",
     "iopub.status.busy": "2022-12-08T04:02:58.422390Z",
     "iopub.status.idle": "2022-12-08T04:02:58.428828Z",
     "shell.execute_reply": "2022-12-08T04:02:58.428135Z",
     "shell.execute_reply.started": "2022-12-08T04:02:58.422667Z"
    },
    "tags": []
   },
   "outputs": [],
   "source": [
    "train1_x, test1_x, train1_y, test1_y = model_selection.train_test_split(\n",
    "    X, y, random_state=42, train_size=0.8, test_size=0.2, stratify=y\n",
    ")"
   ]
  },
  {
   "cell_type": "code",
   "execution_count": 40,
   "id": "1a9ddfc3-753d-4a47-a49c-64d9f6128f93",
   "metadata": {
    "execution": {
     "iopub.execute_input": "2022-12-08T04:02:58.430294Z",
     "iopub.status.busy": "2022-12-08T04:02:58.429735Z",
     "iopub.status.idle": "2022-12-08T04:02:58.435692Z",
     "shell.execute_reply": "2022-12-08T04:02:58.434849Z",
     "shell.execute_reply.started": "2022-12-08T04:02:58.430263Z"
    },
    "tags": []
   },
   "outputs": [
    {
     "data": {
      "text/plain": [
       "(array([160, 256]), array([40, 64]))"
      ]
     },
     "execution_count": 40,
     "metadata": {},
     "output_type": "execute_result"
    }
   ],
   "source": [
    "np.bincount(train1_y), np.bincount(test1_y)\n",
    "np.bincount(train1_y), np.bincount(test1_y)"
   ]
  },
  {
   "cell_type": "code",
   "execution_count": 41,
   "id": "d9632d57-c7f3-49f3-b540-c592e9af9c7a",
   "metadata": {
    "execution": {
     "iopub.execute_input": "2022-12-08T04:02:58.438247Z",
     "iopub.status.busy": "2022-12-08T04:02:58.437976Z",
     "iopub.status.idle": "2022-12-08T04:02:58.441500Z",
     "shell.execute_reply": "2022-12-08T04:02:58.440776Z",
     "shell.execute_reply.started": "2022-12-08T04:02:58.438223Z"
    },
    "tags": []
   },
   "outputs": [],
   "source": [
    "cv_split = model_selection.ShuffleSplit(\n",
    "    n_splits=5, train_size=0.8, test_size=0.2, random_state=42\n",
    ")"
   ]
  },
  {
   "cell_type": "code",
   "execution_count": 42,
   "id": "c8ca5caf-eaca-40b2-b9d2-68b23d6ceb66",
   "metadata": {
    "execution": {
     "iopub.execute_input": "2022-12-08T04:02:58.442937Z",
     "iopub.status.busy": "2022-12-08T04:02:58.442545Z",
     "iopub.status.idle": "2022-12-08T04:02:58.453793Z",
     "shell.execute_reply": "2022-12-08T04:02:58.453162Z",
     "shell.execute_reply.started": "2022-12-08T04:02:58.442913Z"
    },
    "tags": []
   },
   "outputs": [
    {
     "name": "stdout",
     "output_type": "stream",
     "text": [
      "train -  [167 249]   |   test -  [33 71]\n",
      "train -  [155 261]   |   test -  [45 59]\n",
      "train -  [159 257]   |   test -  [41 63]\n",
      "train -  [158 258]   |   test -  [42 62]\n",
      "train -  [167 249]   |   test -  [33 71]\n"
     ]
    }
   ],
   "source": [
    "for train, test in cv_split.split(X, y):\n",
    "    print(\n",
    "        \"train -  {}   |   test -  {}\".format(\n",
    "            np.bincount(y[train]), np.bincount(y[test])\n",
    "        )\n",
    "    )"
   ]
  },
  {
   "cell_type": "code",
   "execution_count": 43,
   "id": "7eb393c1-e325-4e5d-8c3f-c92b0b0c274a",
   "metadata": {
    "execution": {
     "iopub.execute_input": "2022-12-08T04:02:58.455174Z",
     "iopub.status.busy": "2022-12-08T04:02:58.454816Z",
     "iopub.status.idle": "2022-12-08T04:02:58.458332Z",
     "shell.execute_reply": "2022-12-08T04:02:58.457710Z",
     "shell.execute_reply.started": "2022-12-08T04:02:58.455152Z"
    },
    "tags": []
   },
   "outputs": [],
   "source": [
    "skf = StratifiedKFold(n_splits=5, shuffle=True, random_state=42)"
   ]
  },
  {
   "cell_type": "code",
   "execution_count": 44,
   "id": "9bb79ad3-2cad-4777-a720-d1cf2107cb88",
   "metadata": {
    "execution": {
     "iopub.execute_input": "2022-12-08T04:02:58.459620Z",
     "iopub.status.busy": "2022-12-08T04:02:58.459314Z",
     "iopub.status.idle": "2022-12-08T04:02:58.471377Z",
     "shell.execute_reply": "2022-12-08T04:02:58.470809Z",
     "shell.execute_reply.started": "2022-12-08T04:02:58.459594Z"
    },
    "tags": []
   },
   "outputs": [
    {
     "name": "stdout",
     "output_type": "stream",
     "text": [
      "train -  [160 256]   |   test -  [40 64]\n",
      "train -  [160 256]   |   test -  [40 64]\n",
      "train -  [160 256]   |   test -  [40 64]\n",
      "train -  [160 256]   |   test -  [40 64]\n",
      "train -  [160 256]   |   test -  [40 64]\n"
     ]
    }
   ],
   "source": [
    "for train, test in skf.split(X, y):\n",
    "    print(\n",
    "        \"train -  {}   |   test -  {}\".format(\n",
    "            np.bincount(y[train]), np.bincount(y[test])\n",
    "        )\n",
    "    )"
   ]
  },
  {
   "cell_type": "code",
   "execution_count": 60,
   "id": "68d0ade5-ee7e-44e6-959b-4cb7e2f56fc1",
   "metadata": {
    "execution": {
     "iopub.execute_input": "2022-12-08T04:05:15.245142Z",
     "iopub.status.busy": "2022-12-08T04:05:15.244881Z",
     "iopub.status.idle": "2022-12-08T04:05:15.286709Z",
     "shell.execute_reply": "2022-12-08T04:05:15.285948Z",
     "shell.execute_reply.started": "2022-12-08T04:05:15.245116Z"
    },
    "tags": []
   },
   "outputs": [
    {
     "ename": "TypeError",
     "evalue": "estimator should be an estimator implementing 'fit' method, <module 'sklearn.pipeline' from '/Users/c92680/opt/anaconda3/lib/python3.8/site-packages/sklearn/pipeline.py'> was passed",
     "output_type": "error",
     "traceback": [
      "\u001b[0;31m---------------------------------------------------------------------------\u001b[0m",
      "\u001b[0;31mTypeError\u001b[0m                                 Traceback (most recent call last)",
      "File \u001b[0;32m<timed exec>:2\u001b[0m, in \u001b[0;36m<module>\u001b[0;34m\u001b[0m\n",
      "File \u001b[0;32m~/opt/anaconda3/lib/python3.8/site-packages/sklearn/model_selection/_search.py:793\u001b[0m, in \u001b[0;36mBaseSearchCV.fit\u001b[0;34m(self, X, y, groups, **fit_params)\u001b[0m\n\u001b[1;32m    791\u001b[0m     scorers \u001b[38;5;241m=\u001b[39m \u001b[38;5;28mself\u001b[39m\u001b[38;5;241m.\u001b[39mscoring\n\u001b[1;32m    792\u001b[0m \u001b[38;5;28;01melif\u001b[39;00m \u001b[38;5;28mself\u001b[39m\u001b[38;5;241m.\u001b[39mscoring \u001b[38;5;129;01mis\u001b[39;00m \u001b[38;5;28;01mNone\u001b[39;00m \u001b[38;5;129;01mor\u001b[39;00m \u001b[38;5;28misinstance\u001b[39m(\u001b[38;5;28mself\u001b[39m\u001b[38;5;241m.\u001b[39mscoring, \u001b[38;5;28mstr\u001b[39m):\n\u001b[0;32m--> 793\u001b[0m     scorers \u001b[38;5;241m=\u001b[39m \u001b[43mcheck_scoring\u001b[49m\u001b[43m(\u001b[49m\u001b[38;5;28;43mself\u001b[39;49m\u001b[38;5;241;43m.\u001b[39;49m\u001b[43mestimator\u001b[49m\u001b[43m,\u001b[49m\u001b[43m \u001b[49m\u001b[38;5;28;43mself\u001b[39;49m\u001b[38;5;241;43m.\u001b[39;49m\u001b[43mscoring\u001b[49m\u001b[43m)\u001b[49m\n\u001b[1;32m    794\u001b[0m \u001b[38;5;28;01melse\u001b[39;00m:\n\u001b[1;32m    795\u001b[0m     scorers \u001b[38;5;241m=\u001b[39m _check_multimetric_scoring(\u001b[38;5;28mself\u001b[39m\u001b[38;5;241m.\u001b[39mestimator, \u001b[38;5;28mself\u001b[39m\u001b[38;5;241m.\u001b[39mscoring)\n",
      "File \u001b[0;32m~/opt/anaconda3/lib/python3.8/site-packages/sklearn/metrics/_scorer.py:448\u001b[0m, in \u001b[0;36mcheck_scoring\u001b[0;34m(estimator, scoring, allow_none)\u001b[0m\n\u001b[1;32m    422\u001b[0m \u001b[38;5;124;03m\"\"\"Determine scorer from user options.\u001b[39;00m\n\u001b[1;32m    423\u001b[0m \n\u001b[1;32m    424\u001b[0m \u001b[38;5;124;03mA TypeError will be thrown if the estimator cannot be scored.\u001b[39;00m\n\u001b[0;32m   (...)\u001b[0m\n\u001b[1;32m    445\u001b[0m \u001b[38;5;124;03m    ``scorer(estimator, X, y)``.\u001b[39;00m\n\u001b[1;32m    446\u001b[0m \u001b[38;5;124;03m\"\"\"\u001b[39;00m\n\u001b[1;32m    447\u001b[0m \u001b[38;5;28;01mif\u001b[39;00m \u001b[38;5;129;01mnot\u001b[39;00m \u001b[38;5;28mhasattr\u001b[39m(estimator, \u001b[38;5;124m\"\u001b[39m\u001b[38;5;124mfit\u001b[39m\u001b[38;5;124m\"\u001b[39m):\n\u001b[0;32m--> 448\u001b[0m     \u001b[38;5;28;01mraise\u001b[39;00m \u001b[38;5;167;01mTypeError\u001b[39;00m(\n\u001b[1;32m    449\u001b[0m         \u001b[38;5;124m\"\u001b[39m\u001b[38;5;124mestimator should be an estimator implementing \u001b[39m\u001b[38;5;124m'\u001b[39m\u001b[38;5;124mfit\u001b[39m\u001b[38;5;124m'\u001b[39m\u001b[38;5;124m method, \u001b[39m\u001b[38;5;132;01m%r\u001b[39;00m\u001b[38;5;124m was passed\u001b[39m\u001b[38;5;124m\"\u001b[39m\n\u001b[1;32m    450\u001b[0m         \u001b[38;5;241m%\u001b[39m estimator\n\u001b[1;32m    451\u001b[0m     )\n\u001b[1;32m    452\u001b[0m \u001b[38;5;28;01mif\u001b[39;00m \u001b[38;5;28misinstance\u001b[39m(scoring, \u001b[38;5;28mstr\u001b[39m):\n\u001b[1;32m    453\u001b[0m     \u001b[38;5;28;01mreturn\u001b[39;00m get_scorer(scoring)\n",
      "\u001b[0;31mTypeError\u001b[0m: estimator should be an estimator implementing 'fit' method, <module 'sklearn.pipeline' from '/Users/c92680/opt/anaconda3/lib/python3.8/site-packages/sklearn/pipeline.py'> was passed"
     ]
    }
   ],
   "source": [
    "%%time\n",
    "# Train the grid search model\n",
    "gs = GridSearchCV(\n",
    "    pipeline, params, cv=skf, n_jobs=-1, scoring=\"recall\", return_train_score=False,\n",
    ").fit(sylhet_copy, y)"
   ]
  },
  {
   "cell_type": "code",
   "execution_count": 46,
   "id": "a536dcaa-a74c-4f79-a883-9a7254daa72b",
   "metadata": {
    "execution": {
     "iopub.execute_input": "2022-12-08T04:03:06.611688Z",
     "iopub.status.busy": "2022-12-08T04:03:06.611369Z",
     "iopub.status.idle": "2022-12-08T04:03:06.627101Z",
     "shell.execute_reply": "2022-12-08T04:03:06.626230Z",
     "shell.execute_reply.started": "2022-12-08T04:03:06.611658Z"
    },
    "tags": []
   },
   "outputs": [
    {
     "ename": "NameError",
     "evalue": "name 'gs' is not defined",
     "output_type": "error",
     "traceback": [
      "\u001b[0;31m---------------------------------------------------------------------------\u001b[0m",
      "\u001b[0;31mNameError\u001b[0m                                 Traceback (most recent call last)",
      "Input \u001b[0;32mIn [46]\u001b[0m, in \u001b[0;36m<cell line: 1>\u001b[0;34m()\u001b[0m\n\u001b[0;32m----> 1\u001b[0m \u001b[43mgs\u001b[49m\u001b[38;5;241m.\u001b[39mestimator\n",
      "\u001b[0;31mNameError\u001b[0m: name 'gs' is not defined"
     ]
    }
   ],
   "source": [
    "gs.estimator"
   ]
  },
  {
   "cell_type": "code",
   "execution_count": 47,
   "id": "b5f9fbba-4e83-4a63-a8c1-ff43d75fa27e",
   "metadata": {
    "execution": {
     "iopub.execute_input": "2022-12-08T04:03:09.728229Z",
     "iopub.status.busy": "2022-12-08T04:03:09.727978Z",
     "iopub.status.idle": "2022-12-08T04:03:09.744175Z",
     "shell.execute_reply": "2022-12-08T04:03:09.742743Z",
     "shell.execute_reply.started": "2022-12-08T04:03:09.728203Z"
    },
    "tags": []
   },
   "outputs": [
    {
     "ename": "NameError",
     "evalue": "name 'gs' is not defined",
     "output_type": "error",
     "traceback": [
      "\u001b[0;31m---------------------------------------------------------------------------\u001b[0m",
      "\u001b[0;31mNameError\u001b[0m                                 Traceback (most recent call last)",
      "Input \u001b[0;32mIn [47]\u001b[0m, in \u001b[0;36m<cell line: 1>\u001b[0;34m()\u001b[0m\n\u001b[0;32m----> 1\u001b[0m \u001b[43mgs\u001b[49m\u001b[38;5;241m.\u001b[39mcv_results_\u001b[38;5;241m.\u001b[39mkeys()\n",
      "\u001b[0;31mNameError\u001b[0m: name 'gs' is not defined"
     ]
    }
   ],
   "source": [
    "gs.cv_results_.keys()"
   ]
  },
  {
   "cell_type": "code",
   "execution_count": null,
   "id": "063b6425-d8d4-42bc-8102-838615cd5b62",
   "metadata": {
    "execution": {
     "iopub.status.busy": "2022-12-08T04:03:09.744685Z",
     "iopub.status.idle": "2022-12-08T04:03:09.744951Z",
     "shell.execute_reply": "2022-12-08T04:03:09.744809Z",
     "shell.execute_reply.started": "2022-12-08T04:03:09.744795Z"
    },
    "tags": []
   },
   "outputs": [],
   "source": [
    "grid_scores = gs.cv_results_"
   ]
  },
  {
   "cell_type": "code",
   "execution_count": null,
   "id": "f088eed7-639d-4d43-b25f-ebfd19494470",
   "metadata": {
    "execution": {
     "iopub.status.busy": "2022-12-08T04:03:09.746495Z",
     "iopub.status.idle": "2022-12-08T04:03:09.746884Z",
     "shell.execute_reply": "2022-12-08T04:03:09.746719Z",
     "shell.execute_reply.started": "2022-12-08T04:03:09.746700Z"
    },
    "tags": []
   },
   "outputs": [],
   "source": [
    "pd.DataFrame(grid_scores)"
   ]
  },
  {
   "cell_type": "code",
   "execution_count": null,
   "id": "131647d4-d5bd-43f0-9f5c-be9dba9f82e9",
   "metadata": {
    "execution": {
     "iopub.status.busy": "2022-12-08T04:03:09.747754Z",
     "iopub.status.idle": "2022-12-08T04:03:09.748205Z",
     "shell.execute_reply": "2022-12-08T04:03:09.748039Z",
     "shell.execute_reply.started": "2022-12-08T04:03:09.748020Z"
    },
    "tags": []
   },
   "outputs": [],
   "source": [
    "grid_scores"
   ]
  },
  {
   "cell_type": "code",
   "execution_count": 61,
   "id": "9def47e0-615e-41b4-b051-6a2845a1ec5a",
   "metadata": {
    "execution": {
     "iopub.execute_input": "2022-12-08T04:05:28.874470Z",
     "iopub.status.busy": "2022-12-08T04:05:28.874211Z",
     "iopub.status.idle": "2022-12-08T04:05:28.878092Z",
     "shell.execute_reply": "2022-12-08T04:05:28.877287Z",
     "shell.execute_reply.started": "2022-12-08T04:05:28.874443Z"
    },
    "tags": []
   },
   "outputs": [],
   "source": [
    "my_models = [clf1, clf2, clf3, clf4, clf5]"
   ]
  },
  {
   "cell_type": "code",
   "execution_count": null,
   "id": "0cac4aaf-db16-4ce1-82ee-ab20c5d0a8a2",
   "metadata": {
    "tags": []
   },
   "outputs": [],
   "source": []
  },
  {
   "cell_type": "code",
   "execution_count": 62,
   "id": "0bbc34ce-49d7-4e67-8734-1d7c580ea8dc",
   "metadata": {
    "execution": {
     "iopub.execute_input": "2022-12-08T04:05:31.488704Z",
     "iopub.status.busy": "2022-12-08T04:05:31.488413Z",
     "iopub.status.idle": "2022-12-08T04:05:31.494658Z",
     "shell.execute_reply": "2022-12-08T04:05:31.493817Z",
     "shell.execute_reply.started": "2022-12-08T04:05:31.488674Z"
    },
    "tags": []
   },
   "outputs": [
    {
     "data": {
      "text/plain": [
       "['BernoulliNB',\n",
       " 'GaussianNB',\n",
       " 'LogisticRegression',\n",
       " 'DecisionTreeClassifier',\n",
       " 'RandomForestClassifier']"
      ]
     },
     "execution_count": 62,
     "metadata": {},
     "output_type": "execute_result"
    }
   ],
   "source": [
    "[alg.__class__.__name__ for alg in my_models]"
   ]
  },
  {
   "cell_type": "code",
   "execution_count": null,
   "id": "fd028736-4d5a-4bb7-95ae-5c761088cefb",
   "metadata": {},
   "outputs": [],
   "source": []
  },
  {
   "cell_type": "code",
   "execution_count": 63,
   "id": "36ba9145-2ba9-464e-888f-1eb2165378e6",
   "metadata": {
    "execution": {
     "iopub.execute_input": "2022-12-08T04:05:32.848468Z",
     "iopub.status.busy": "2022-12-08T04:05:32.848180Z",
     "iopub.status.idle": "2022-12-08T04:05:32.866200Z",
     "shell.execute_reply": "2022-12-08T04:05:32.865133Z",
     "shell.execute_reply.started": "2022-12-08T04:05:32.848438Z"
    },
    "tags": []
   },
   "outputs": [
    {
     "ename": "NameError",
     "evalue": "name 'grid_scores' is not defined",
     "output_type": "error",
     "traceback": [
      "\u001b[0;31m---------------------------------------------------------------------------\u001b[0m",
      "\u001b[0;31mNameError\u001b[0m                                 Traceback (most recent call last)",
      "Input \u001b[0;32mIn [63]\u001b[0m, in \u001b[0;36m<cell line: 1>\u001b[0;34m()\u001b[0m\n\u001b[0;32m----> 1\u001b[0m \u001b[43mgrid_scores\u001b[49m[\u001b[38;5;124m\"\u001b[39m\u001b[38;5;124mmean_train_score\u001b[39m\u001b[38;5;124m\"\u001b[39m]\n\u001b[1;32m      2\u001b[0m grid_scores[\u001b[38;5;124m\"\u001b[39m\u001b[38;5;124mmean_test_score\u001b[39m\u001b[38;5;124m\"\u001b[39m]\n",
      "\u001b[0;31mNameError\u001b[0m: name 'grid_scores' is not defined"
     ]
    }
   ],
   "source": [
    "grid_scores[\"mean_train_score\"]\n",
    "grid_scores[\"mean_test_score\"]"
   ]
  },
  {
   "cell_type": "code",
   "execution_count": 64,
   "id": "6b75da5e-d2f9-42c2-9e97-1661fa733030",
   "metadata": {
    "execution": {
     "iopub.execute_input": "2022-12-08T04:05:34.037777Z",
     "iopub.status.busy": "2022-12-08T04:05:34.037490Z",
     "iopub.status.idle": "2022-12-08T04:05:34.054560Z",
     "shell.execute_reply": "2022-12-08T04:05:34.053825Z",
     "shell.execute_reply.started": "2022-12-08T04:05:34.037751Z"
    },
    "tags": []
   },
   "outputs": [
    {
     "name": "stdout",
     "output_type": "stream",
     "text": [
      "train -  [179 289]   |   test -  [21 31]\n",
      "train -  [178 290]   |   test -  [22 30]\n",
      "train -  [185 283]   |   test -  [15 37]\n",
      "train -  [179 289]   |   test -  [21 31]\n",
      "train -  [180 288]   |   test -  [20 32]\n",
      "train -  [186 282]   |   test -  [14 38]\n",
      "train -  [180 288]   |   test -  [20 32]\n",
      "train -  [181 287]   |   test -  [19 33]\n",
      "train -  [187 281]   |   test -  [13 39]\n",
      "train -  [174 294]   |   test -  [26 26]\n"
     ]
    }
   ],
   "source": [
    "for train, test in cv_split.split(X, y):\n",
    "    print(\n",
    "        \"train -  {}   |   test -  {}\".format(\n",
    "            np.bincount(y[train]), np.bincount(y[test])\n",
    "        )\n",
    "    )"
   ]
  },
  {
   "cell_type": "code",
   "execution_count": 48,
   "id": "30dae515-0430-4000-893d-428e299900ab",
   "metadata": {
    "execution": {
     "iopub.execute_input": "2022-12-08T04:03:11.620590Z",
     "iopub.status.busy": "2022-12-08T04:03:11.620347Z",
     "iopub.status.idle": "2022-12-08T04:03:11.626942Z",
     "shell.execute_reply": "2022-12-08T04:03:11.626302Z",
     "shell.execute_reply.started": "2022-12-08T04:03:11.620567Z"
    },
    "tags": []
   },
   "outputs": [
    {
     "data": {
      "text/plain": [
       "(0.9907120743034056, 1.0, 0.995334370139969, None)"
      ]
     },
     "execution_count": 48,
     "metadata": {},
     "output_type": "execute_result"
    }
   ],
   "source": [
    "sklearn.metrics.precision_recall_fscore_support(y, y_pred, average=\"binary\")"
   ]
  },
  {
   "cell_type": "code",
   "execution_count": 65,
   "id": "6ea67a45-d159-4ab4-a343-5880d633d5d1",
   "metadata": {
    "execution": {
     "iopub.execute_input": "2022-12-08T04:05:37.352512Z",
     "iopub.status.busy": "2022-12-08T04:05:37.352219Z",
     "iopub.status.idle": "2022-12-08T04:05:37.395805Z",
     "shell.execute_reply": "2022-12-08T04:05:37.394673Z",
     "shell.execute_reply.started": "2022-12-08T04:05:37.352480Z"
    },
    "tags": []
   },
   "outputs": [
    {
     "ename": "TypeError",
     "evalue": "estimator should be an estimator implementing 'fit' method, <module 'sklearn.pipeline' from '/Users/c92680/opt/anaconda3/lib/python3.8/site-packages/sklearn/pipeline.py'> was passed",
     "output_type": "error",
     "traceback": [
      "\u001b[0;31m---------------------------------------------------------------------------\u001b[0m",
      "\u001b[0;31mTypeError\u001b[0m                                 Traceback (most recent call last)",
      "File \u001b[0;32m<timed exec>:2\u001b[0m, in \u001b[0;36m<module>\u001b[0;34m\u001b[0m\n",
      "File \u001b[0;32m~/opt/anaconda3/lib/python3.8/site-packages/sklearn/model_selection/_search.py:793\u001b[0m, in \u001b[0;36mBaseSearchCV.fit\u001b[0;34m(self, X, y, groups, **fit_params)\u001b[0m\n\u001b[1;32m    791\u001b[0m     scorers \u001b[38;5;241m=\u001b[39m \u001b[38;5;28mself\u001b[39m\u001b[38;5;241m.\u001b[39mscoring\n\u001b[1;32m    792\u001b[0m \u001b[38;5;28;01melif\u001b[39;00m \u001b[38;5;28mself\u001b[39m\u001b[38;5;241m.\u001b[39mscoring \u001b[38;5;129;01mis\u001b[39;00m \u001b[38;5;28;01mNone\u001b[39;00m \u001b[38;5;129;01mor\u001b[39;00m \u001b[38;5;28misinstance\u001b[39m(\u001b[38;5;28mself\u001b[39m\u001b[38;5;241m.\u001b[39mscoring, \u001b[38;5;28mstr\u001b[39m):\n\u001b[0;32m--> 793\u001b[0m     scorers \u001b[38;5;241m=\u001b[39m \u001b[43mcheck_scoring\u001b[49m\u001b[43m(\u001b[49m\u001b[38;5;28;43mself\u001b[39;49m\u001b[38;5;241;43m.\u001b[39;49m\u001b[43mestimator\u001b[49m\u001b[43m,\u001b[49m\u001b[43m \u001b[49m\u001b[38;5;28;43mself\u001b[39;49m\u001b[38;5;241;43m.\u001b[39;49m\u001b[43mscoring\u001b[49m\u001b[43m)\u001b[49m\n\u001b[1;32m    794\u001b[0m \u001b[38;5;28;01melse\u001b[39;00m:\n\u001b[1;32m    795\u001b[0m     scorers \u001b[38;5;241m=\u001b[39m _check_multimetric_scoring(\u001b[38;5;28mself\u001b[39m\u001b[38;5;241m.\u001b[39mestimator, \u001b[38;5;28mself\u001b[39m\u001b[38;5;241m.\u001b[39mscoring)\n",
      "File \u001b[0;32m~/opt/anaconda3/lib/python3.8/site-packages/sklearn/metrics/_scorer.py:448\u001b[0m, in \u001b[0;36mcheck_scoring\u001b[0;34m(estimator, scoring, allow_none)\u001b[0m\n\u001b[1;32m    422\u001b[0m \u001b[38;5;124;03m\"\"\"Determine scorer from user options.\u001b[39;00m\n\u001b[1;32m    423\u001b[0m \n\u001b[1;32m    424\u001b[0m \u001b[38;5;124;03mA TypeError will be thrown if the estimator cannot be scored.\u001b[39;00m\n\u001b[0;32m   (...)\u001b[0m\n\u001b[1;32m    445\u001b[0m \u001b[38;5;124;03m    ``scorer(estimator, X, y)``.\u001b[39;00m\n\u001b[1;32m    446\u001b[0m \u001b[38;5;124;03m\"\"\"\u001b[39;00m\n\u001b[1;32m    447\u001b[0m \u001b[38;5;28;01mif\u001b[39;00m \u001b[38;5;129;01mnot\u001b[39;00m \u001b[38;5;28mhasattr\u001b[39m(estimator, \u001b[38;5;124m\"\u001b[39m\u001b[38;5;124mfit\u001b[39m\u001b[38;5;124m\"\u001b[39m):\n\u001b[0;32m--> 448\u001b[0m     \u001b[38;5;28;01mraise\u001b[39;00m \u001b[38;5;167;01mTypeError\u001b[39;00m(\n\u001b[1;32m    449\u001b[0m         \u001b[38;5;124m\"\u001b[39m\u001b[38;5;124mestimator should be an estimator implementing \u001b[39m\u001b[38;5;124m'\u001b[39m\u001b[38;5;124mfit\u001b[39m\u001b[38;5;124m'\u001b[39m\u001b[38;5;124m method, \u001b[39m\u001b[38;5;132;01m%r\u001b[39;00m\u001b[38;5;124m was passed\u001b[39m\u001b[38;5;124m\"\u001b[39m\n\u001b[1;32m    450\u001b[0m         \u001b[38;5;241m%\u001b[39m estimator\n\u001b[1;32m    451\u001b[0m     )\n\u001b[1;32m    452\u001b[0m \u001b[38;5;28;01mif\u001b[39;00m \u001b[38;5;28misinstance\u001b[39m(scoring, \u001b[38;5;28mstr\u001b[39m):\n\u001b[1;32m    453\u001b[0m     \u001b[38;5;28;01mreturn\u001b[39;00m get_scorer(scoring)\n",
      "\u001b[0;31mTypeError\u001b[0m: estimator should be an estimator implementing 'fit' method, <module 'sklearn.pipeline' from '/Users/c92680/opt/anaconda3/lib/python3.8/site-packages/sklearn/pipeline.py'> was passed"
     ]
    }
   ],
   "source": [
    "%%time\n",
    "# Train the grid search model\n",
    "gs = GridSearchCV(\n",
    "    pipeline,\n",
    "    params,\n",
    "    cv=cv_split,\n",
    "    n_jobs=-1,\n",
    "    scoring=\"f1_macro\",\n",
    "    return_train_score=True,\n",
    ").fit(sylhet_copy, y)"
   ]
  },
  {
   "cell_type": "code",
   "execution_count": 66,
   "id": "ef41e539-d593-4efb-b52c-60188fc71348",
   "metadata": {
    "execution": {
     "iopub.execute_input": "2022-12-08T04:05:39.421423Z",
     "iopub.status.busy": "2022-12-08T04:05:39.421163Z",
     "iopub.status.idle": "2022-12-08T04:05:39.435510Z",
     "shell.execute_reply": "2022-12-08T04:05:39.434925Z",
     "shell.execute_reply.started": "2022-12-08T04:05:39.421394Z"
    },
    "tags": []
   },
   "outputs": [],
   "source": [
    "column_trans = ColumnTransformer(\n",
    "    [(\"one_hot\", OneHotEncoder(drop=\"if_binary\"), list(sylhet_copy.columns.values),)],\n",
    "    remainder=\"drop\",\n",
    ")\n",
    "\n",
    "X = column_trans.fit_transform(sylhet_copy)"
   ]
  },
  {
   "cell_type": "code",
   "execution_count": 67,
   "id": "461cfe1e-7cfd-4f8e-b4c5-a85ead88976a",
   "metadata": {
    "execution": {
     "iopub.execute_input": "2022-12-08T04:05:42.241946Z",
     "iopub.status.busy": "2022-12-08T04:05:42.241663Z",
     "iopub.status.idle": "2022-12-08T04:05:42.246272Z",
     "shell.execute_reply": "2022-12-08T04:05:42.245491Z",
     "shell.execute_reply.started": "2022-12-08T04:05:42.241915Z"
    },
    "tags": []
   },
   "outputs": [],
   "source": [
    "clf1 = naive_bayes.BernoulliNB()\n",
    "clf2 = naive_bayes.GaussianNB()\n",
    "clf3 = linear_model.LogisticRegression()\n",
    "clf4 = tree.DecisionTreeClassifier(random_state=42)\n",
    "clf5 = ensemble.RandomForestClassifier(random_state=42)"
   ]
  },
  {
   "cell_type": "code",
   "execution_count": 68,
   "id": "71312623-9774-4ced-9deb-326a73231a05",
   "metadata": {
    "execution": {
     "iopub.execute_input": "2022-12-08T04:05:42.248231Z",
     "iopub.status.busy": "2022-12-08T04:05:42.247970Z",
     "iopub.status.idle": "2022-12-08T04:05:42.251762Z",
     "shell.execute_reply": "2022-12-08T04:05:42.251011Z",
     "shell.execute_reply.started": "2022-12-08T04:05:42.248201Z"
    },
    "tags": []
   },
   "outputs": [],
   "source": [
    "my_models = [clf1, clf2, clf3, clf4, clf5]"
   ]
  },
  {
   "cell_type": "code",
   "execution_count": 69,
   "id": "06d865c7-886c-43fd-a9d1-883fe6f058cd",
   "metadata": {
    "execution": {
     "iopub.execute_input": "2022-12-08T04:05:42.253829Z",
     "iopub.status.busy": "2022-12-08T04:05:42.253426Z",
     "iopub.status.idle": "2022-12-08T04:05:42.343950Z",
     "shell.execute_reply": "2022-12-08T04:05:42.343199Z",
     "shell.execute_reply.started": "2022-12-08T04:05:42.253801Z"
    },
    "tags": []
   },
   "outputs": [],
   "source": [
    "def getScores(estimator, X, y):\n",
    "    yPred = estimator.predict(X)\n",
    "    prec, recall, f1, support = sklearn.metrics.precision_recall_fscore_support(\n",
    "        y, y_pred, average=\"binary\"\n",
    "    )\n",
    "\n",
    "\n",
    "from sklearn.datasets import load_iris\n",
    "from sklearn.model_selection import cross_validate\n",
    "from sklearn.svm import SVC\n",
    "\n",
    "cv_split = model_selection.ShuffleSplit(n_splits=10, random_state=42)\n",
    "\n",
    "# scoring = {'acc': 'accuracy',\n",
    "#            'prec_macro': 'precision_macro',\n",
    "#            'rec_micro': 'recall_macro',\n",
    "#            'f1': 'f1_macro'\n",
    "#           }\n",
    "\n",
    "scoring = [\"accuracy\", \"precision\", \"recall\", \"f1_macro\"]\n",
    "scores = cross_validate(\n",
    "    clf1, X, y, scoring=scoring, cv=cv_split, return_train_score=False\n",
    ")\n",
    "\n",
    "scoring = [\"accuracy\", \"precision\", \"recall\", \"f1_macro\"]\n",
    "scores = cross_validate(clf1, X, y, scoring=scoring, cv=5, return_train_score=True)"
   ]
  },
  {
   "cell_type": "code",
   "execution_count": 70,
   "id": "0c942687-9c9d-4c4f-9356-cbfe2e4df443",
   "metadata": {
    "execution": {
     "iopub.execute_input": "2022-12-08T04:05:44.230535Z",
     "iopub.status.busy": "2022-12-08T04:05:44.230259Z",
     "iopub.status.idle": "2022-12-08T04:05:44.235956Z",
     "shell.execute_reply": "2022-12-08T04:05:44.235177Z",
     "shell.execute_reply.started": "2022-12-08T04:05:44.230505Z"
    },
    "tags": []
   },
   "outputs": [],
   "source": [
    "score_cols = [\n",
    "    \"Model Name\",\n",
    "    \"Precision\",\n",
    "    \"Recall\",\n",
    "    \"F1-macro\",\n",
    "    \"F1-weighted\",\n",
    "    \"Train Accuracy\",\n",
    "    \"Test Accuracy\",\n",
    "    \"CV-Method\",\n",
    "]\n",
    "model_compare = pd.DataFrame(columns=score_cols)"
   ]
  },
  {
   "cell_type": "code",
   "execution_count": 71,
   "id": "b685b855-3c53-4ebc-bf4d-df99f5599b0e",
   "metadata": {
    "execution": {
     "iopub.execute_input": "2022-12-08T04:05:44.862600Z",
     "iopub.status.busy": "2022-12-08T04:05:44.862354Z",
     "iopub.status.idle": "2022-12-08T04:05:44.865954Z",
     "shell.execute_reply": "2022-12-08T04:05:44.865197Z",
     "shell.execute_reply.started": "2022-12-08T04:05:44.862577Z"
    },
    "tags": []
   },
   "outputs": [],
   "source": [
    "skf = StratifiedKFold(n_splits=10, shuffle=True, random_state=42)"
   ]
  },
  {
   "cell_type": "code",
   "execution_count": 72,
   "id": "f7e09a65-7e00-4934-87c7-18682b53b5a0",
   "metadata": {
    "execution": {
     "iopub.execute_input": "2022-12-08T04:05:45.436317Z",
     "iopub.status.busy": "2022-12-08T04:05:45.436020Z",
     "iopub.status.idle": "2022-12-08T04:05:45.443022Z",
     "shell.execute_reply": "2022-12-08T04:05:45.442271Z",
     "shell.execute_reply.started": "2022-12-08T04:05:45.436285Z"
    },
    "tags": []
   },
   "outputs": [
    {
     "data": {
      "text/plain": [
       "[{'classifier': [BernoulliNB()]},\n",
       " {'classifier': [GaussianNB()]},\n",
       " {'classifier': [LogisticRegression(random_state=42)]},\n",
       " {'classifier': [DecisionTreeClassifier(random_state=42)]},\n",
       " {'classifier': [RandomForestClassifier(random_state=42)]}]"
      ]
     },
     "execution_count": 72,
     "metadata": {},
     "output_type": "execute_result"
    }
   ],
   "source": [
    "params"
   ]
  },
  {
   "cell_type": "code",
   "execution_count": 75,
   "id": "9d56a8db-eb95-4741-adc2-55ace6bad3a3",
   "metadata": {
    "execution": {
     "iopub.execute_input": "2022-12-08T04:06:18.833850Z",
     "iopub.status.busy": "2022-12-08T04:06:18.833559Z",
     "iopub.status.idle": "2022-12-08T04:06:18.930461Z",
     "shell.execute_reply": "2022-12-08T04:06:18.928974Z",
     "shell.execute_reply.started": "2022-12-08T04:06:18.833822Z"
    },
    "tags": []
   },
   "outputs": [
    {
     "ename": "TypeError",
     "evalue": "estimator should be an estimator implementing 'fit' method, <module 'sklearn.pipeline' from '/Users/c92680/opt/anaconda3/lib/python3.8/site-packages/sklearn/pipeline.py'> was passed",
     "output_type": "error",
     "traceback": [
      "\u001b[0;31m---------------------------------------------------------------------------\u001b[0m",
      "\u001b[0;31mTypeError\u001b[0m                                 Traceback (most recent call last)",
      "Input \u001b[0;32mIn [75]\u001b[0m, in \u001b[0;36m<cell line: 2>\u001b[0;34m()\u001b[0m\n\u001b[1;32m      6\u001b[0m scoring \u001b[38;5;241m=\u001b[39m [\u001b[38;5;124m\"\u001b[39m\u001b[38;5;124maccuracy\u001b[39m\u001b[38;5;124m\"\u001b[39m, \u001b[38;5;124m\"\u001b[39m\u001b[38;5;124mprecision\u001b[39m\u001b[38;5;124m\"\u001b[39m, \u001b[38;5;124m\"\u001b[39m\u001b[38;5;124mrecall\u001b[39m\u001b[38;5;124m\"\u001b[39m, \u001b[38;5;124m\"\u001b[39m\u001b[38;5;124mf1_macro\u001b[39m\u001b[38;5;124m\"\u001b[39m, \u001b[38;5;124m\"\u001b[39m\u001b[38;5;124mf1_weighted\u001b[39m\u001b[38;5;124m\"\u001b[39m]\n\u001b[1;32m      7\u001b[0m \u001b[38;5;66;03m# scores = cross_validate(alg, X,y, scoring=scoring, cv=skf, return_train_score=True)\u001b[39;00m\n\u001b[0;32m----> 9\u001b[0m gs \u001b[38;5;241m=\u001b[39m \u001b[43mGridSearchCV\u001b[49m\u001b[43m(\u001b[49m\n\u001b[1;32m     10\u001b[0m \u001b[43m    \u001b[49m\u001b[43mpipeline\u001b[49m\u001b[43m,\u001b[49m\n\u001b[1;32m     11\u001b[0m \u001b[43m    \u001b[49m\u001b[43mparam_grid\u001b[49m\u001b[38;5;241;43m=\u001b[39;49m\u001b[43mparams\u001b[49m\u001b[43m[\u001b[49m\u001b[38;5;241;43m3\u001b[39;49m\u001b[43m]\u001b[49m\u001b[43m,\u001b[49m\n\u001b[1;32m     12\u001b[0m \u001b[43m    \u001b[49m\u001b[43mcv\u001b[49m\u001b[38;5;241;43m=\u001b[39;49m\u001b[43mskf\u001b[49m\u001b[43m,\u001b[49m\n\u001b[1;32m     13\u001b[0m \u001b[43m    \u001b[49m\u001b[43mn_jobs\u001b[49m\u001b[38;5;241;43m=\u001b[39;49m\u001b[38;5;241;43m-\u001b[39;49m\u001b[38;5;241;43m1\u001b[39;49m\u001b[43m,\u001b[49m\n\u001b[1;32m     14\u001b[0m \u001b[43m    \u001b[49m\u001b[43mscoring\u001b[49m\u001b[38;5;241;43m=\u001b[39;49m\u001b[38;5;124;43m\"\u001b[39;49m\u001b[38;5;124;43mf1_macro\u001b[39;49m\u001b[38;5;124;43m\"\u001b[39;49m\u001b[43m,\u001b[49m\n\u001b[1;32m     15\u001b[0m \u001b[43m    \u001b[49m\u001b[43mreturn_train_score\u001b[49m\u001b[38;5;241;43m=\u001b[39;49m\u001b[38;5;28;43;01mFalse\u001b[39;49;00m\u001b[43m,\u001b[49m\n\u001b[1;32m     16\u001b[0m \u001b[43m\u001b[49m\u001b[43m)\u001b[49m\u001b[38;5;241;43m.\u001b[39;49m\u001b[43mfit\u001b[49m\u001b[43m(\u001b[49m\u001b[43msylhet_copy\u001b[49m\u001b[43m,\u001b[49m\u001b[43m \u001b[49m\u001b[43my\u001b[49m\u001b[43m)\u001b[49m\n\u001b[1;32m     18\u001b[0m scores2 \u001b[38;5;241m=\u001b[39m pd\u001b[38;5;241m.\u001b[39mDataFrame(scores)\u001b[38;5;241m.\u001b[39mmean()\n\u001b[1;32m     19\u001b[0m model_compare\u001b[38;5;241m.\u001b[39mloc[row_index, \u001b[38;5;124m\"\u001b[39m\u001b[38;5;124mPrecision\u001b[39m\u001b[38;5;124m\"\u001b[39m] \u001b[38;5;241m=\u001b[39m scores2[\u001b[38;5;124m\"\u001b[39m\u001b[38;5;124mtest_precision\u001b[39m\u001b[38;5;124m\"\u001b[39m]\n",
      "File \u001b[0;32m~/opt/anaconda3/lib/python3.8/site-packages/sklearn/model_selection/_search.py:793\u001b[0m, in \u001b[0;36mBaseSearchCV.fit\u001b[0;34m(self, X, y, groups, **fit_params)\u001b[0m\n\u001b[1;32m    791\u001b[0m     scorers \u001b[38;5;241m=\u001b[39m \u001b[38;5;28mself\u001b[39m\u001b[38;5;241m.\u001b[39mscoring\n\u001b[1;32m    792\u001b[0m \u001b[38;5;28;01melif\u001b[39;00m \u001b[38;5;28mself\u001b[39m\u001b[38;5;241m.\u001b[39mscoring \u001b[38;5;129;01mis\u001b[39;00m \u001b[38;5;28;01mNone\u001b[39;00m \u001b[38;5;129;01mor\u001b[39;00m \u001b[38;5;28misinstance\u001b[39m(\u001b[38;5;28mself\u001b[39m\u001b[38;5;241m.\u001b[39mscoring, \u001b[38;5;28mstr\u001b[39m):\n\u001b[0;32m--> 793\u001b[0m     scorers \u001b[38;5;241m=\u001b[39m \u001b[43mcheck_scoring\u001b[49m\u001b[43m(\u001b[49m\u001b[38;5;28;43mself\u001b[39;49m\u001b[38;5;241;43m.\u001b[39;49m\u001b[43mestimator\u001b[49m\u001b[43m,\u001b[49m\u001b[43m \u001b[49m\u001b[38;5;28;43mself\u001b[39;49m\u001b[38;5;241;43m.\u001b[39;49m\u001b[43mscoring\u001b[49m\u001b[43m)\u001b[49m\n\u001b[1;32m    794\u001b[0m \u001b[38;5;28;01melse\u001b[39;00m:\n\u001b[1;32m    795\u001b[0m     scorers \u001b[38;5;241m=\u001b[39m _check_multimetric_scoring(\u001b[38;5;28mself\u001b[39m\u001b[38;5;241m.\u001b[39mestimator, \u001b[38;5;28mself\u001b[39m\u001b[38;5;241m.\u001b[39mscoring)\n",
      "File \u001b[0;32m~/opt/anaconda3/lib/python3.8/site-packages/sklearn/metrics/_scorer.py:448\u001b[0m, in \u001b[0;36mcheck_scoring\u001b[0;34m(estimator, scoring, allow_none)\u001b[0m\n\u001b[1;32m    422\u001b[0m \u001b[38;5;124;03m\"\"\"Determine scorer from user options.\u001b[39;00m\n\u001b[1;32m    423\u001b[0m \n\u001b[1;32m    424\u001b[0m \u001b[38;5;124;03mA TypeError will be thrown if the estimator cannot be scored.\u001b[39;00m\n\u001b[0;32m   (...)\u001b[0m\n\u001b[1;32m    445\u001b[0m \u001b[38;5;124;03m    ``scorer(estimator, X, y)``.\u001b[39;00m\n\u001b[1;32m    446\u001b[0m \u001b[38;5;124;03m\"\"\"\u001b[39;00m\n\u001b[1;32m    447\u001b[0m \u001b[38;5;28;01mif\u001b[39;00m \u001b[38;5;129;01mnot\u001b[39;00m \u001b[38;5;28mhasattr\u001b[39m(estimator, \u001b[38;5;124m\"\u001b[39m\u001b[38;5;124mfit\u001b[39m\u001b[38;5;124m\"\u001b[39m):\n\u001b[0;32m--> 448\u001b[0m     \u001b[38;5;28;01mraise\u001b[39;00m \u001b[38;5;167;01mTypeError\u001b[39;00m(\n\u001b[1;32m    449\u001b[0m         \u001b[38;5;124m\"\u001b[39m\u001b[38;5;124mestimator should be an estimator implementing \u001b[39m\u001b[38;5;124m'\u001b[39m\u001b[38;5;124mfit\u001b[39m\u001b[38;5;124m'\u001b[39m\u001b[38;5;124m method, \u001b[39m\u001b[38;5;132;01m%r\u001b[39;00m\u001b[38;5;124m was passed\u001b[39m\u001b[38;5;124m\"\u001b[39m\n\u001b[1;32m    450\u001b[0m         \u001b[38;5;241m%\u001b[39m estimator\n\u001b[1;32m    451\u001b[0m     )\n\u001b[1;32m    452\u001b[0m \u001b[38;5;28;01mif\u001b[39;00m \u001b[38;5;28misinstance\u001b[39m(scoring, \u001b[38;5;28mstr\u001b[39m):\n\u001b[1;32m    453\u001b[0m     \u001b[38;5;28;01mreturn\u001b[39;00m get_scorer(scoring)\n",
      "\u001b[0;31mTypeError\u001b[0m: estimator should be an estimator implementing 'fit' method, <module 'sklearn.pipeline' from '/Users/c92680/opt/anaconda3/lib/python3.8/site-packages/sklearn/pipeline.py'> was passed"
     ]
    }
   ],
   "source": [
    "row_index = 0\n",
    "for alg in my_models:\n",
    "    MLA_name = alg.__class__.__name__\n",
    "    model_compare.loc[row_index, \"Model Name\"] = MLA_name\n",
    "    model_compare.loc[row_index, \"Model Parameters\"] = str(alg.get_params())\n",
    "    scoring = [\"accuracy\", \"precision\", \"recall\", \"f1_macro\", \"f1_weighted\"]\n",
    "    # scores = cross_validate(alg, X,y, scoring=scoring, cv=skf, return_train_score=True)\n",
    "\n",
    "    gs = GridSearchCV(\n",
    "        pipeline,\n",
    "        param_grid=params[3],\n",
    "        cv=skf,\n",
    "        n_jobs=-1,\n",
    "        scoring=\"f1_macro\",\n",
    "        return_train_score=False,\n",
    "    ).fit(sylhet_copy, y)\n",
    "\n",
    "    scores2 = pd.DataFrame(scores).mean()\n",
    "    model_compare.loc[row_index, \"Precision\"] = scores2[\"test_precision\"]\n",
    "    model_compare.loc[row_index, \"Recall\"] = scores2[\"test_recall\"]\n",
    "    model_compare.loc[row_index, \"F1-macro\"] = scores2[\"test_f1_macro\"]\n",
    "    model_compare.loc[row_index, \"F1-weighted\"] = scores2[\"test_f1_weighted\"]\n",
    "    model_compare.loc[row_index, \"Train Accuracy\"] = scores2[\"train_accuracy\"]\n",
    "    model_compare.loc[row_index, \"Test Accuracy\"] = scores2[\"test_accuracy\"]\n",
    "    model_compare.loc[row_index, \"CV-Method\"] = \"StratifiedKFold\"\n",
    "\n",
    "    # class_stats = sklearn.metrics.precision_recall_fscore_support(\n",
    "    # y, y_pred, labels=[0, 1], pos_label=1)\n",
    "    row_index += 1"
   ]
  },
  {
   "cell_type": "code",
   "execution_count": null,
   "id": "1c4b40e6-71e6-4b9d-98ff-bda09e1021cd",
   "metadata": {
    "execution": {
     "iopub.status.busy": "2022-12-08T04:03:18.697157Z",
     "iopub.status.idle": "2022-12-08T04:03:18.697668Z",
     "shell.execute_reply": "2022-12-08T04:03:18.697498Z",
     "shell.execute_reply.started": "2022-12-08T04:03:18.697479Z"
    },
    "tags": []
   },
   "outputs": [],
   "source": [
    "model_compare"
   ]
  },
  {
   "cell_type": "code",
   "execution_count": null,
   "id": "2238c013-3596-4cad-ac92-72f92e4297c5",
   "metadata": {
    "execution": {
     "iopub.status.busy": "2022-12-08T04:02:08.998187Z",
     "iopub.status.idle": "2022-12-08T04:02:08.998411Z",
     "shell.execute_reply": "2022-12-08T04:02:08.998289Z",
     "shell.execute_reply.started": "2022-12-08T04:02:08.998278Z"
    },
    "tags": []
   },
   "outputs": [],
   "source": [
    "for train, test in skf.split(X, y):\n",
    "    print(\n",
    "        \"train -  {}   |   test -  {}\".format(\n",
    "            np.bincount(y[train]), np.bincount(y[test])\n",
    "        )\n",
    "    )"
   ]
  },
  {
   "cell_type": "code",
   "execution_count": null,
   "id": "87d48ca3-ca77-4d7b-8785-9c510b23e2a0",
   "metadata": {
    "execution": {
     "iopub.status.busy": "2022-12-08T04:02:08.999090Z",
     "iopub.status.idle": "2022-12-08T04:02:08.999383Z",
     "shell.execute_reply": "2022-12-08T04:02:08.999256Z",
     "shell.execute_reply.started": "2022-12-08T04:02:08.999243Z"
    },
    "tags": []
   },
   "outputs": [],
   "source": [
    "cv_split = model_selection.ShuffleSplit(\n",
    "    n_splits=10, random_state=42, train_size=0.8, test_size=0.2\n",
    ")"
   ]
  },
  {
   "cell_type": "code",
   "execution_count": null,
   "id": "8ddb1d6f-9796-4fc4-9b7a-70078eeb3fd4",
   "metadata": {
    "execution": {
     "iopub.status.busy": "2022-12-08T04:02:09.000050Z",
     "iopub.status.idle": "2022-12-08T04:02:09.000291Z",
     "shell.execute_reply": "2022-12-08T04:02:09.000163Z",
     "shell.execute_reply.started": "2022-12-08T04:02:09.000152Z"
    },
    "tags": []
   },
   "outputs": [],
   "source": [
    "for train, test in cv_split.split(X, y):\n",
    "    print(\n",
    "        \"train -  {}   |   test -  {}\".format(\n",
    "            np.bincount(y[train]), np.bincount(y[test])\n",
    "        )\n",
    "    )"
   ]
  },
  {
   "cell_type": "code",
   "execution_count": 76,
   "id": "04dbaecb-68d8-4d5b-a5ae-80db1f5006ad",
   "metadata": {
    "execution": {
     "iopub.execute_input": "2022-12-08T04:06:27.110703Z",
     "iopub.status.busy": "2022-12-08T04:06:27.110426Z",
     "iopub.status.idle": "2022-12-08T04:06:27.114664Z",
     "shell.execute_reply": "2022-12-08T04:06:27.113683Z",
     "shell.execute_reply.started": "2022-12-08T04:06:27.110673Z"
    },
    "tags": []
   },
   "outputs": [],
   "source": [
    "kfold = model_selection.KFold(n_splits=10, random_state=42, shuffle=True)"
   ]
  },
  {
   "cell_type": "code",
   "execution_count": null,
   "id": "b5276f9c-1013-4f8e-999f-4cf6c35150b3",
   "metadata": {},
   "outputs": [],
   "source": []
  },
  {
   "cell_type": "code",
   "execution_count": 77,
   "id": "168a70d9-6235-44ba-a018-833892efa6cd",
   "metadata": {
    "execution": {
     "iopub.execute_input": "2022-12-08T04:06:27.935780Z",
     "iopub.status.busy": "2022-12-08T04:06:27.935479Z",
     "iopub.status.idle": "2022-12-08T04:06:29.460670Z",
     "shell.execute_reply": "2022-12-08T04:06:29.460001Z",
     "shell.execute_reply.started": "2022-12-08T04:06:27.935750Z"
    },
    "tags": []
   },
   "outputs": [],
   "source": [
    "for alg in my_models:\n",
    "    MLA_name = alg.__class__.__name__\n",
    "    model_compare.loc[row_index, \"Model Name\"] = MLA_name\n",
    "    model_compare.loc[row_index, \"Model Parameters\"] = str(alg.get_params())\n",
    "    scoring = [\"accuracy\", \"precision\", \"recall\", \"f1_macro\", \"f1_weighted\"]\n",
    "    scores = cross_validate(\n",
    "        alg, X, y, scoring=scoring, cv=kfold, return_train_score=True\n",
    "    )\n",
    "    scores2 = pd.DataFrame(scores).mean()\n",
    "    model_compare.loc[row_index, \"Precision\"] = scores2[\"test_precision\"]\n",
    "    model_compare.loc[row_index, \"Recall\"] = scores2[\"test_recall\"]\n",
    "    model_compare.loc[row_index, \"F1-macro\"] = scores2[\"test_f1_macro\"]\n",
    "    model_compare.loc[row_index, \"F1-weighted\"] = scores2[\"test_f1_weighted\"]\n",
    "    model_compare.loc[row_index, \"Train Accuracy\"] = scores2[\"train_accuracy\"]\n",
    "    model_compare.loc[row_index, \"Test Accuracy\"] = scores2[\"test_accuracy\"]\n",
    "    model_compare.loc[row_index, \"CV-Method\"] = \"KFold\"\n",
    "    row_index += 1"
   ]
  },
  {
   "cell_type": "code",
   "execution_count": 78,
   "id": "59874ff3-81bf-4211-8bd8-49038adde5c4",
   "metadata": {
    "execution": {
     "iopub.execute_input": "2022-12-08T04:06:32.142756Z",
     "iopub.status.busy": "2022-12-08T04:06:32.142502Z",
     "iopub.status.idle": "2022-12-08T04:06:32.153835Z",
     "shell.execute_reply": "2022-12-08T04:06:32.153238Z",
     "shell.execute_reply.started": "2022-12-08T04:06:32.142730Z"
    },
    "tags": []
   },
   "outputs": [
    {
     "data": {
      "text/html": [
       "<div>\n",
       "<style scoped>\n",
       "    .dataframe tbody tr th:only-of-type {\n",
       "        vertical-align: middle;\n",
       "    }\n",
       "\n",
       "    .dataframe tbody tr th {\n",
       "        vertical-align: top;\n",
       "    }\n",
       "\n",
       "    .dataframe thead th {\n",
       "        text-align: right;\n",
       "    }\n",
       "</style>\n",
       "<table border=\"1\" class=\"dataframe\">\n",
       "  <thead>\n",
       "    <tr style=\"text-align: right;\">\n",
       "      <th></th>\n",
       "      <th>Model Name</th>\n",
       "      <th>Precision</th>\n",
       "      <th>Recall</th>\n",
       "      <th>F1-macro</th>\n",
       "      <th>F1-weighted</th>\n",
       "      <th>Train Accuracy</th>\n",
       "      <th>Test Accuracy</th>\n",
       "      <th>CV-Method</th>\n",
       "      <th>Model Parameters</th>\n",
       "    </tr>\n",
       "  </thead>\n",
       "  <tbody>\n",
       "    <tr>\n",
       "      <th>0</th>\n",
       "      <td>BernoulliNB</td>\n",
       "      <td>0.938271</td>\n",
       "      <td>0.852023</td>\n",
       "      <td>0.866484</td>\n",
       "      <td>0.875056</td>\n",
       "      <td>0.878846</td>\n",
       "      <td>0.873077</td>\n",
       "      <td>KFold</td>\n",
       "      <td>{'alpha': 1.0, 'binarize': 0.0, 'class_prior':...</td>\n",
       "    </tr>\n",
       "    <tr>\n",
       "      <th>3</th>\n",
       "      <td>DecisionTreeClassifier</td>\n",
       "      <td>0.962196</td>\n",
       "      <td>0.962824</td>\n",
       "      <td>0.950518</td>\n",
       "      <td>0.953904</td>\n",
       "      <td>0.994231</td>\n",
       "      <td>0.953846</td>\n",
       "      <td>KFold</td>\n",
       "      <td>{'ccp_alpha': 0.0, 'class_weight': None, 'crit...</td>\n",
       "    </tr>\n",
       "    <tr>\n",
       "      <th>1</th>\n",
       "      <td>GaussianNB</td>\n",
       "      <td>0.90011</td>\n",
       "      <td>0.885403</td>\n",
       "      <td>0.861522</td>\n",
       "      <td>0.869904</td>\n",
       "      <td>0.881838</td>\n",
       "      <td>0.869231</td>\n",
       "      <td>KFold</td>\n",
       "      <td>{'priors': None, 'var_smoothing': 1e-09}</td>\n",
       "    </tr>\n",
       "    <tr>\n",
       "      <th>2</th>\n",
       "      <td>LogisticRegression</td>\n",
       "      <td>0.945194</td>\n",
       "      <td>0.920816</td>\n",
       "      <td>0.914172</td>\n",
       "      <td>0.919536</td>\n",
       "      <td>0.945085</td>\n",
       "      <td>0.919231</td>\n",
       "      <td>KFold</td>\n",
       "      <td>{'C': 1.0, 'class_weight': None, 'dual': False...</td>\n",
       "    </tr>\n",
       "    <tr>\n",
       "      <th>4</th>\n",
       "      <td>RandomForestClassifier</td>\n",
       "      <td>0.974924</td>\n",
       "      <td>0.987336</td>\n",
       "      <td>0.975087</td>\n",
       "      <td>0.976886</td>\n",
       "      <td>0.994231</td>\n",
       "      <td>0.976923</td>\n",
       "      <td>KFold</td>\n",
       "      <td>{'bootstrap': True, 'ccp_alpha': 0.0, 'class_w...</td>\n",
       "    </tr>\n",
       "  </tbody>\n",
       "</table>\n",
       "</div>"
      ],
      "text/plain": [
       "               Model Name Precision    Recall  F1-macro F1-weighted  \\\n",
       "0             BernoulliNB  0.938271  0.852023  0.866484    0.875056   \n",
       "3  DecisionTreeClassifier  0.962196  0.962824  0.950518    0.953904   \n",
       "1              GaussianNB   0.90011  0.885403  0.861522    0.869904   \n",
       "2      LogisticRegression  0.945194  0.920816  0.914172    0.919536   \n",
       "4  RandomForestClassifier  0.974924  0.987336  0.975087    0.976886   \n",
       "\n",
       "  Train Accuracy Test Accuracy CV-Method  \\\n",
       "0       0.878846      0.873077     KFold   \n",
       "3       0.994231      0.953846     KFold   \n",
       "1       0.881838      0.869231     KFold   \n",
       "2       0.945085      0.919231     KFold   \n",
       "4       0.994231      0.976923     KFold   \n",
       "\n",
       "                                    Model Parameters  \n",
       "0  {'alpha': 1.0, 'binarize': 0.0, 'class_prior':...  \n",
       "3  {'ccp_alpha': 0.0, 'class_weight': None, 'crit...  \n",
       "1           {'priors': None, 'var_smoothing': 1e-09}  \n",
       "2  {'C': 1.0, 'class_weight': None, 'dual': False...  \n",
       "4  {'bootstrap': True, 'ccp_alpha': 0.0, 'class_w...  "
      ]
     },
     "execution_count": 78,
     "metadata": {},
     "output_type": "execute_result"
    }
   ],
   "source": [
    "model_compare.sort_values(\"Model Name\")"
   ]
  },
  {
   "cell_type": "code",
   "execution_count": 79,
   "id": "48588564-a2ce-430e-8fd3-75ec11cd2742",
   "metadata": {
    "execution": {
     "iopub.execute_input": "2022-12-08T04:06:35.105059Z",
     "iopub.status.busy": "2022-12-08T04:06:35.104769Z",
     "iopub.status.idle": "2022-12-08T04:06:35.109456Z",
     "shell.execute_reply": "2022-12-08T04:06:35.108680Z",
     "shell.execute_reply.started": "2022-12-08T04:06:35.105028Z"
    },
    "tags": []
   },
   "outputs": [],
   "source": [
    "param = model_compare.loc[model_compare[\"Model Name\"] == \"DecisionTreeClassifier\"][\n",
    "    \"Model Parameters\"\n",
    "]"
   ]
  },
  {
   "cell_type": "code",
   "execution_count": 80,
   "id": "1da77af9-101a-4825-b6f8-cf3c86e86247",
   "metadata": {
    "execution": {
     "iopub.execute_input": "2022-12-08T04:06:37.164035Z",
     "iopub.status.busy": "2022-12-08T04:06:37.163732Z",
     "iopub.status.idle": "2022-12-08T04:06:37.169846Z",
     "shell.execute_reply": "2022-12-08T04:06:37.169048Z",
     "shell.execute_reply.started": "2022-12-08T04:06:37.164000Z"
    },
    "tags": []
   },
   "outputs": [
    {
     "data": {
      "text/plain": [
       "{3: \"{'ccp_alpha': 0.0, 'class_weight': None, 'criterion': 'gini', 'max_depth': None, 'max_features': None, 'max_leaf_nodes': None, 'min_impurity_decrease': 0.0, 'min_samples_leaf': 1, 'min_samples_split': 2, 'min_weight_fraction_leaf': 0.0, 'random_state': 42, 'splitter': 'best'}\"}"
      ]
     },
     "execution_count": 80,
     "metadata": {},
     "output_type": "execute_result"
    }
   ],
   "source": [
    "dict(param)"
   ]
  },
  {
   "cell_type": "code",
   "execution_count": 81,
   "id": "3018f409-ea00-4fdf-9f14-4d9c709d1011",
   "metadata": {
    "execution": {
     "iopub.execute_input": "2022-12-08T04:06:37.172050Z",
     "iopub.status.busy": "2022-12-08T04:06:37.171747Z",
     "iopub.status.idle": "2022-12-08T04:06:37.177053Z",
     "shell.execute_reply": "2022-12-08T04:06:37.176438Z",
     "shell.execute_reply.started": "2022-12-08T04:06:37.172023Z"
    },
    "tags": []
   },
   "outputs": [],
   "source": [
    "model = clf1.fit(X, y)"
   ]
  },
  {
   "cell_type": "code",
   "execution_count": 82,
   "id": "b7592dfd-d8ac-4014-b892-e58153a71e8e",
   "metadata": {
    "execution": {
     "iopub.execute_input": "2022-12-08T04:06:37.178558Z",
     "iopub.status.busy": "2022-12-08T04:06:37.178116Z",
     "iopub.status.idle": "2022-12-08T04:06:37.185495Z",
     "shell.execute_reply": "2022-12-08T04:06:37.184933Z",
     "shell.execute_reply.started": "2022-12-08T04:06:37.178529Z"
    },
    "tags": []
   },
   "outputs": [
    {
     "data": {
      "text/plain": [
       "(array([0.7965368 , 0.94463668]),\n",
       " array([0.92    , 0.853125]),\n",
       " array([0.85382831, 0.89655172]),\n",
       " array([200, 320]))"
      ]
     },
     "execution_count": 82,
     "metadata": {},
     "output_type": "execute_result"
    }
   ],
   "source": [
    "sklearn.metrics.precision_recall_fscore_support(\n",
    "    y, model.predict(X), labels=[0, 1], pos_label=1\n",
    ")"
   ]
  },
  {
   "cell_type": "code",
   "execution_count": 83,
   "id": "dce20a5f-5d1a-4ef3-b600-2b3f2fa47c79",
   "metadata": {
    "execution": {
     "iopub.execute_input": "2022-12-08T04:06:37.186792Z",
     "iopub.status.busy": "2022-12-08T04:06:37.186519Z",
     "iopub.status.idle": "2022-12-08T04:06:37.193685Z",
     "shell.execute_reply": "2022-12-08T04:06:37.193136Z",
     "shell.execute_reply.started": "2022-12-08T04:06:37.186765Z"
    },
    "tags": []
   },
   "outputs": [
    {
     "data": {
      "text/plain": [
       "(0.9446366782006921, 0.853125, 0.896551724137931, None)"
      ]
     },
     "execution_count": 83,
     "metadata": {},
     "output_type": "execute_result"
    }
   ],
   "source": [
    "sklearn.metrics.precision_recall_fscore_support(y, model.predict(X), average=\"binary\")"
   ]
  },
  {
   "cell_type": "code",
   "execution_count": null,
   "id": "24f49e1a-e1d6-455f-abfe-f84a5c81f9d6",
   "metadata": {
    "execution": {
     "iopub.status.busy": "2022-12-08T04:02:09.011368Z",
     "iopub.status.idle": "2022-12-08T04:02:09.011581Z",
     "shell.execute_reply": "2022-12-08T04:02:09.011467Z",
     "shell.execute_reply.started": "2022-12-08T04:02:09.011456Z"
    }
   },
   "outputs": [],
   "source": [
    "def getScores(estimator, x, y):\n",
    "    yPred = estimator.predict(x)\n",
    "    return (\n",
    "        accuracy_score(y, yPred),\n",
    "        precision_score(y, yPred, pos_label=3, average=\"macro\"),\n",
    "        recall_score(y, yPred, pos_label=3, average=\"macro\"),\n",
    "    )"
   ]
  },
  {
   "cell_type": "code",
   "execution_count": null,
   "id": "9b037a34-004b-46de-a1c6-96deb6585c9b",
   "metadata": {
    "execution": {
     "iopub.status.busy": "2022-12-08T04:02:09.012740Z",
     "iopub.status.idle": "2022-12-08T04:02:09.013047Z",
     "shell.execute_reply": "2022-12-08T04:02:09.012914Z",
     "shell.execute_reply.started": "2022-12-08T04:02:09.012900Z"
    }
   },
   "outputs": [],
   "source": [
    "def my_scorer(estimator, x, y):\n",
    "    a, p, r = getScores(estimator, x, y)\n",
    "    print a, p, r\n",
    "    return a + p + r\n",
    "\n",
    "\n",
    "for model, name in zip(models, names):\n",
    "    print name\n",
    "    start = time.time()\n",
    "    m = cross_val_score(model, iris.data, iris.target, scoring=my_scorer, cv=10).mean()\n",
    "    print \"\\nSum:\", m, \"\\n\\n\"\n",
    "    print \"time\", time.time() - start, \"\\n\\n\""
   ]
  },
  {
   "cell_type": "code",
   "execution_count": null,
   "id": "f739109c-0ce6-43a8-be37-6ada488fe21b",
   "metadata": {
    "tags": []
   },
   "outputs": [],
   "source": []
  },
  {
   "cell_type": "code",
   "execution_count": null,
   "id": "372499f0-347e-4333-a7b8-f467d9d993cf",
   "metadata": {
    "execution": {
     "iopub.status.busy": "2022-12-08T04:02:09.013990Z",
     "iopub.status.idle": "2022-12-08T04:02:09.014266Z",
     "shell.execute_reply": "2022-12-08T04:02:09.014152Z",
     "shell.execute_reply.started": "2022-12-08T04:02:09.014140Z"
    }
   },
   "outputs": [],
   "source": [
    "prec, recall, f1, support = sklearn.metrics.precision_recall_fscore_support(\n",
    "    y, y_pred, average=\"binary\"\n",
    ")"
   ]
  },
  {
   "cell_type": "code",
   "execution_count": null,
   "id": "a7d82d8a-d580-49af-961b-c3060bc2deb3",
   "metadata": {
    "execution": {
     "iopub.status.busy": "2022-12-08T04:02:09.015079Z",
     "iopub.status.idle": "2022-12-08T04:02:09.015292Z",
     "shell.execute_reply": "2022-12-08T04:02:09.015178Z",
     "shell.execute_reply.started": "2022-12-08T04:02:09.015167Z"
    },
    "tags": []
   },
   "outputs": [],
   "source": [
    "gs.cv_results_[\"params\"]"
   ]
  },
  {
   "cell_type": "code",
   "execution_count": null,
   "id": "917d1ac4-94f9-44fc-b780-49d699666601",
   "metadata": {
    "execution": {
     "iopub.status.busy": "2022-12-08T04:02:09.016336Z",
     "iopub.status.idle": "2022-12-08T04:02:09.016552Z",
     "shell.execute_reply": "2022-12-08T04:02:09.016438Z",
     "shell.execute_reply.started": "2022-12-08T04:02:09.016426Z"
    },
    "tags": []
   },
   "outputs": [],
   "source": [
    "gs.cv_results_[\"mean_train_score\"]"
   ]
  },
  {
   "cell_type": "code",
   "execution_count": null,
   "id": "edd8ccf7-4dd8-4731-8548-9fcd7ff16a79",
   "metadata": {
    "execution": {
     "iopub.status.busy": "2022-12-08T04:02:09.017259Z",
     "iopub.status.idle": "2022-12-08T04:02:09.017470Z",
     "shell.execute_reply": "2022-12-08T04:02:09.017355Z",
     "shell.execute_reply.started": "2022-12-08T04:02:09.017344Z"
    },
    "tags": []
   },
   "outputs": [],
   "source": [
    "(\n",
    "    gs.cv_results_[\"split0_train_score\"]\n",
    "    + gs.cv_results_[\"split1_train_score\"]\n",
    "    + gs.cv_results_[\"split2_train_score\"]\n",
    ") / 3"
   ]
  },
  {
   "cell_type": "code",
   "execution_count": null,
   "id": "175d5ff0-cedc-49e1-8448-73abd05dc39f",
   "metadata": {
    "execution": {
     "iopub.status.busy": "2022-12-08T04:02:09.018172Z",
     "iopub.status.idle": "2022-12-08T04:02:09.018482Z",
     "shell.execute_reply": "2022-12-08T04:02:09.018352Z",
     "shell.execute_reply.started": "2022-12-08T04:02:09.018335Z"
    },
    "tags": []
   },
   "outputs": [],
   "source": [
    "gs.cv_results_[\"mean_train_score\"]\n",
    "gs.cv_results_[\"mean_test_score\"]"
   ]
  },
  {
   "cell_type": "code",
   "execution_count": null,
   "id": "4231268d-8fae-4de3-8009-d6a6af28a0ad",
   "metadata": {
    "execution": {
     "iopub.status.busy": "2022-12-08T04:02:09.019258Z",
     "iopub.status.idle": "2022-12-08T04:02:09.019467Z",
     "shell.execute_reply": "2022-12-08T04:02:09.019355Z",
     "shell.execute_reply.started": "2022-12-08T04:02:09.019344Z"
    },
    "tags": []
   },
   "outputs": [],
   "source": [
    "gs.classes_"
   ]
  },
  {
   "cell_type": "code",
   "execution_count": null,
   "id": "d79051a8-546f-496f-a95a-b0e3ae709519",
   "metadata": {
    "execution": {
     "iopub.status.busy": "2022-12-08T04:02:09.020272Z",
     "iopub.status.idle": "2022-12-08T04:02:09.020476Z",
     "shell.execute_reply": "2022-12-08T04:02:09.020367Z",
     "shell.execute_reply.started": "2022-12-08T04:02:09.020356Z"
    },
    "tags": []
   },
   "outputs": [],
   "source": [
    "gs.get_params()"
   ]
  },
  {
   "cell_type": "code",
   "execution_count": null,
   "id": "48f53b14-9be4-4206-a90a-f6f452c92204",
   "metadata": {
    "execution": {
     "iopub.status.busy": "2022-12-08T04:02:09.021291Z",
     "iopub.status.idle": "2022-12-08T04:02:09.021620Z",
     "shell.execute_reply": "2022-12-08T04:02:09.021496Z",
     "shell.execute_reply.started": "2022-12-08T04:02:09.021483Z"
    },
    "tags": []
   },
   "outputs": [],
   "source": [
    "cv_split = model_selection.ShuffleSplit(\n",
    "    n_splits=5, train_size=0.8, test_size=0.2, random_state=42\n",
    ")"
   ]
  },
  {
   "cell_type": "code",
   "execution_count": null,
   "id": "11d83e09-4266-47d9-9918-b70151175bf0",
   "metadata": {
    "execution": {
     "iopub.status.busy": "2022-12-08T04:02:09.022457Z",
     "iopub.status.idle": "2022-12-08T04:02:09.022886Z",
     "shell.execute_reply": "2022-12-08T04:02:09.022744Z",
     "shell.execute_reply.started": "2022-12-08T04:02:09.022726Z"
    },
    "tags": []
   },
   "outputs": [],
   "source": [
    "for train, test in cv_split.split(X, y):\n",
    "    print(\n",
    "        \"train -  {}   |   test -  {}\".format(\n",
    "            np.bincount(y[train]), np.bincount(y[test])\n",
    "        )\n",
    "    )\n",
    "for train, test in cv_split.split(X, y):\n",
    "    print(\n",
    "        \"train -  {t1} |   test - {t2} \".format(\n",
    "            t1=np.round(np.bincount(y[train]) / np.bincount(y[train]).sum(), 2),\n",
    "            t2=np.round(np.bincount(y[test]) / np.bincount(y[test]).sum(), 2),\n",
    "        )\n",
    "    )"
   ]
  },
  {
   "cell_type": "code",
   "execution_count": null,
   "id": "9802807a-8d9f-457d-b146-e6a8d4aef7c2",
   "metadata": {
    "execution": {
     "iopub.status.busy": "2022-12-08T04:02:09.023757Z",
     "iopub.status.idle": "2022-12-08T04:02:09.024074Z",
     "shell.execute_reply": "2022-12-08T04:02:09.023962Z",
     "shell.execute_reply.started": "2022-12-08T04:02:09.023935Z"
    },
    "tags": []
   },
   "outputs": [],
   "source": [
    "skf = StratifiedKFold(n_splits=5, shuffle=True, random_state=42)"
   ]
  },
  {
   "cell_type": "code",
   "execution_count": null,
   "id": "a0c8e5d8-1985-449f-add3-b973ed830625",
   "metadata": {
    "execution": {
     "iopub.status.busy": "2022-12-08T04:02:09.024752Z",
     "iopub.status.idle": "2022-12-08T04:02:09.024959Z",
     "shell.execute_reply": "2022-12-08T04:02:09.024848Z",
     "shell.execute_reply.started": "2022-12-08T04:02:09.024838Z"
    },
    "tags": []
   },
   "outputs": [],
   "source": [
    "for train, test in skf.split(X, y):\n",
    "    print(\n",
    "        \"train -  {}   |   test -  {}\".format(\n",
    "            np.bincount(y[train]), np.bincount(y[test])\n",
    "        )\n",
    "    )"
   ]
  },
  {
   "cell_type": "code",
   "execution_count": null,
   "id": "31863ae9-1865-4d86-9c48-3999bb651e2a",
   "metadata": {
    "execution": {
     "iopub.status.busy": "2022-12-08T04:02:09.025690Z",
     "iopub.status.idle": "2022-12-08T04:02:09.025894Z",
     "shell.execute_reply": "2022-12-08T04:02:09.025784Z",
     "shell.execute_reply.started": "2022-12-08T04:02:09.025774Z"
    },
    "tags": []
   },
   "outputs": [],
   "source": [
    "%%time\n",
    "# Train the grid search model\n",
    "gs = GridSearchCV(\n",
    "    pipeline, params, cv=skf, n_jobs=-1, scoring=\"f1_macro\", return_train_score=True,\n",
    ").fit(sylhet_copy, y)"
   ]
  },
  {
   "cell_type": "code",
   "execution_count": null,
   "id": "c28b3016-2b26-4b4d-addd-777dd73f5084",
   "metadata": {
    "execution": {
     "iopub.status.busy": "2022-12-08T04:02:09.026688Z",
     "iopub.status.idle": "2022-12-08T04:02:09.027087Z",
     "shell.execute_reply": "2022-12-08T04:02:09.026967Z",
     "shell.execute_reply.started": "2022-12-08T04:02:09.026954Z"
    },
    "tags": []
   },
   "outputs": [],
   "source": [
    "gs.cv_results_"
   ]
  },
  {
   "cell_type": "code",
   "execution_count": null,
   "id": "5c1d6ffc-9046-4e22-b1fd-abd3ecc98476",
   "metadata": {
    "execution": {
     "iopub.status.busy": "2022-12-08T04:02:09.027698Z",
     "iopub.status.idle": "2022-12-08T04:02:09.027910Z",
     "shell.execute_reply": "2022-12-08T04:02:09.027791Z",
     "shell.execute_reply.started": "2022-12-08T04:02:09.027780Z"
    },
    "tags": []
   },
   "outputs": [],
   "source": [
    "cv_results[\"train_score\"]"
   ]
  },
  {
   "cell_type": "code",
   "execution_count": null,
   "id": "a7fa2c1d-1756-4b94-bd86-2a54b9a35024",
   "metadata": {
    "execution": {
     "iopub.status.busy": "2022-12-08T04:02:09.028677Z",
     "iopub.status.idle": "2022-12-08T04:02:09.028877Z",
     "shell.execute_reply": "2022-12-08T04:02:09.028768Z",
     "shell.execute_reply.started": "2022-12-08T04:02:09.028758Z"
    },
    "tags": []
   },
   "outputs": [],
   "source": [
    "gs.cv_results_"
   ]
  },
  {
   "cell_type": "code",
   "execution_count": null,
   "id": "b2644e3b-329f-4bb3-a2dc-3b0a8680197c",
   "metadata": {
    "execution": {
     "iopub.status.busy": "2022-12-08T04:02:09.029631Z",
     "iopub.status.idle": "2022-12-08T04:02:09.030015Z",
     "shell.execute_reply": "2022-12-08T04:02:09.029893Z",
     "shell.execute_reply.started": "2022-12-08T04:02:09.029880Z"
    },
    "tags": []
   },
   "outputs": [],
   "source": [
    "# Best performing model and its corresponding hyperparameters\n",
    "gs.best_params_"
   ]
  },
  {
   "cell_type": "code",
   "execution_count": null,
   "id": "2239d996-6df2-4259-bdd6-ec9ba3422d0c",
   "metadata": {
    "execution": {
     "iopub.status.busy": "2022-12-08T04:02:09.030868Z",
     "iopub.status.idle": "2022-12-08T04:02:09.031260Z",
     "shell.execute_reply": "2022-12-08T04:02:09.031115Z",
     "shell.execute_reply.started": "2022-12-08T04:02:09.031100Z"
    },
    "tags": []
   },
   "outputs": [],
   "source": [
    "gs.best_score_"
   ]
  },
  {
   "cell_type": "code",
   "execution_count": null,
   "id": "57be5cc8-1baa-444a-bbaa-bc015284ef9a",
   "metadata": {
    "execution": {
     "iopub.status.busy": "2022-12-08T04:02:09.032067Z",
     "iopub.status.idle": "2022-12-08T04:02:09.032397Z",
     "shell.execute_reply": "2022-12-08T04:02:09.032279Z",
     "shell.execute_reply.started": "2022-12-08T04:02:09.032267Z"
    },
    "tags": []
   },
   "outputs": [],
   "source": [
    "gs.cv_results_"
   ]
  },
  {
   "cell_type": "code",
   "execution_count": null,
   "id": "6bb22409-da9a-42d1-a7f4-0341ea909340",
   "metadata": {},
   "outputs": [],
   "source": []
  },
  {
   "cell_type": "code",
   "execution_count": null,
   "id": "82b1a284-5154-4e9e-bf0a-ca8d28972fad",
   "metadata": {
    "execution": {
     "iopub.status.busy": "2022-12-08T04:02:09.033128Z",
     "iopub.status.idle": "2022-12-08T04:02:09.033331Z",
     "shell.execute_reply": "2022-12-08T04:02:09.033222Z",
     "shell.execute_reply.started": "2022-12-08T04:02:09.033212Z"
    },
    "tags": []
   },
   "outputs": [],
   "source": [
    "gs.score(test1_x, test1_y)"
   ]
  },
  {
   "cell_type": "code",
   "execution_count": null,
   "id": "01d85ca0-5c9a-40b0-a49b-27765b89b719",
   "metadata": {
    "execution": {
     "iopub.status.busy": "2022-12-08T04:02:09.034193Z",
     "iopub.status.idle": "2022-12-08T04:02:09.034402Z",
     "shell.execute_reply": "2022-12-08T04:02:09.034290Z",
     "shell.execute_reply.started": "2022-12-08T04:02:09.034280Z"
    },
    "tags": []
   },
   "outputs": [],
   "source": [
    "# Test data performance\n",
    "print(\"Test Precision:\", precision_score(gs.predict(X_test), y_test))\n",
    "print(\"Test Recall:\", recall_score(gs.predict(X_test), y_test))\n",
    "print(\"Test ROC AUC Score:\", roc_auc_score(gs.predict(X_test), y_test))"
   ]
  },
  {
   "cell_type": "code",
   "execution_count": null,
   "id": "1f52fb07-509d-45f3-b238-2c9cfbccc8c9",
   "metadata": {
    "execution": {
     "iopub.status.busy": "2022-12-08T04:02:09.035195Z",
     "iopub.status.idle": "2022-12-08T04:02:09.035489Z",
     "shell.execute_reply": "2022-12-08T04:02:09.035372Z",
     "shell.execute_reply.started": "2022-12-08T04:02:09.035359Z"
    },
    "tags": []
   },
   "outputs": [],
   "source": [
    "dt = Pipeline([(\"column_trans\", column_trans),])"
   ]
  },
  {
   "cell_type": "code",
   "execution_count": null,
   "id": "59c0a660-cc6e-4bc3-a3ee-e3f93fceff4d",
   "metadata": {
    "execution": {
     "iopub.status.busy": "2022-12-08T04:02:09.036179Z",
     "iopub.status.idle": "2022-12-08T04:02:09.036392Z",
     "shell.execute_reply": "2022-12-08T04:02:09.036278Z",
     "shell.execute_reply.started": "2022-12-08T04:02:09.036267Z"
    }
   },
   "outputs": [],
   "source": [
    "search = GridSearchCV"
   ]
  },
  {
   "cell_type": "code",
   "execution_count": null,
   "id": "2ffe6d22-40f2-41e2-930d-0fe8b3fb7c4d",
   "metadata": {
    "execution": {
     "iopub.status.busy": "2022-12-08T04:02:09.037300Z",
     "iopub.status.idle": "2022-12-08T04:02:09.037511Z",
     "shell.execute_reply": "2022-12-08T04:02:09.037398Z",
     "shell.execute_reply.started": "2022-12-08T04:02:09.037387Z"
    },
    "tags": []
   },
   "outputs": [],
   "source": [
    "dt.fit(train1_x, train1_y)"
   ]
  },
  {
   "cell_type": "code",
   "execution_count": null,
   "id": "97b52f99-6ecd-4440-9d40-b2c7c8d8932c",
   "metadata": {
    "execution": {
     "iopub.status.busy": "2022-12-08T04:02:09.038194Z",
     "iopub.status.idle": "2022-12-08T04:02:09.038455Z",
     "shell.execute_reply": "2022-12-08T04:02:09.038341Z",
     "shell.execute_reply.started": "2022-12-08T04:02:09.038330Z"
    }
   },
   "outputs": [],
   "source": [
    "pipeline = Pipeline([(\"classifier\", clf1)])\n",
    "params = [param1, param2]"
   ]
  },
  {
   "cell_type": "code",
   "execution_count": null,
   "id": "09d22b6d-167f-47dc-8726-40fe59e66f32",
   "metadata": {
    "execution": {
     "iopub.status.busy": "2022-12-08T04:02:09.039188Z",
     "iopub.status.idle": "2022-12-08T04:02:09.039400Z",
     "shell.execute_reply": "2022-12-08T04:02:09.039288Z",
     "shell.execute_reply.started": "2022-12-08T04:02:09.039277Z"
    }
   },
   "outputs": [],
   "source": [
    "dt2 = Pipeline(\n",
    "    [\n",
    "        (\"column_trans\", column_trans),\n",
    "        (\n",
    "            \"classifier\",\n",
    "            tree.DecisionTreeClassifier(\n",
    "                random_state=42, max_depth=3, min_samples_leaf=10, min_samples_split=10\n",
    "            ),\n",
    "        ),\n",
    "    ]\n",
    ")\n",
    "\n",
    "dt2.fit(X_train, y_train)\n",
    "\n",
    "feature_names = dt2[:-1].get_feature_names_out()\n",
    "mdi_importances2 = pd.Series(\n",
    "    dt2[-1].feature_importances_, index=feature_names\n",
    ").sort_values(ascending=True)"
   ]
  },
  {
   "cell_type": "code",
   "execution_count": null,
   "id": "c0f62a36-500e-4252-bf36-7dff7a8dab3e",
   "metadata": {
    "execution": {
     "iopub.status.busy": "2022-12-08T04:02:09.040111Z",
     "iopub.status.idle": "2022-12-08T04:02:09.040316Z",
     "shell.execute_reply": "2022-12-08T04:02:09.040206Z",
     "shell.execute_reply.started": "2022-12-08T04:02:09.040195Z"
    }
   },
   "outputs": [],
   "source": [
    "# Parameters of pipelines can be set using '__' separated parameter names:\n",
    "param_grid = {\n",
    "    \"classifier__max_depth\": [1, 3, 5],\n",
    "    \"classifier__min_samples_leaf\": [5, 10, 15, 20],\n",
    "    \"classifier__min_samples_split\": [5, 10, 15, 20],\n",
    "}\n",
    "search = GridSearchCV(dt, param_grid, n_jobs=2)\n",
    "search.fit(sylhet_copy, y)\n",
    "print(\"Best parameter (CV score=%0.3f):\" % search.best_score_)\n",
    "print(search.best_params_)"
   ]
  },
  {
   "cell_type": "markdown",
   "id": "ded93dec-9526-436f-838b-eaa6f31c4abc",
   "metadata": {},
   "source": [
    "## Testing age variable"
   ]
  },
  {
   "cell_type": "code",
   "execution_count": null,
   "id": "d531fb94-8bc9-4246-bb99-7f471b7c9a97",
   "metadata": {
    "execution": {
     "iopub.status.busy": "2022-12-08T04:02:09.041028Z",
     "iopub.status.idle": "2022-12-08T04:02:09.041356Z",
     "shell.execute_reply": "2022-12-08T04:02:09.041239Z",
     "shell.execute_reply.started": "2022-12-08T04:02:09.041226Z"
    },
    "tags": []
   },
   "outputs": [],
   "source": [
    "age_binned = pd.qcut(sylhet_copy[\"age\"], q=6)\n",
    "sylhet_copy[\"age_binned\"] = age_binned\n",
    "sylhet_copy[\"age\"] = sylhet_copy[\"age\"].astype(\"float\")"
   ]
  },
  {
   "cell_type": "code",
   "execution_count": null,
   "id": "fc9308cb-c8b2-44ab-985a-35e792f73f99",
   "metadata": {
    "execution": {
     "iopub.status.busy": "2022-12-08T04:02:09.042106Z",
     "iopub.status.idle": "2022-12-08T04:02:09.042319Z",
     "shell.execute_reply": "2022-12-08T04:02:09.042205Z",
     "shell.execute_reply.started": "2022-12-08T04:02:09.042194Z"
    },
    "tags": []
   },
   "outputs": [],
   "source": [
    "print(list(sylhet_copy.columns.values)[1:])\n",
    "column_trans = ColumnTransformer(\n",
    "    [\n",
    "        (\n",
    "            \"one_hot\",\n",
    "            OneHotEncoder(drop=\"if_binary\"),\n",
    "            list(sylhet_copy.columns.values)[1:],\n",
    "        )\n",
    "    ],\n",
    "    remainder=\"drop\",\n",
    ")\n",
    "column_trans.fit(sylhet_copy)"
   ]
  },
  {
   "cell_type": "code",
   "execution_count": null,
   "id": "6683cb33-05eb-49f9-ab85-46b45ee53457",
   "metadata": {
    "execution": {
     "iopub.status.busy": "2022-12-08T04:02:09.043261Z",
     "iopub.status.idle": "2022-12-08T04:02:09.043475Z",
     "shell.execute_reply": "2022-12-08T04:02:09.043360Z",
     "shell.execute_reply.started": "2022-12-08T04:02:09.043349Z"
    },
    "tags": []
   },
   "outputs": [],
   "source": [
    "column_trans.get_feature_names_out()"
   ]
  },
  {
   "cell_type": "code",
   "execution_count": null,
   "id": "ea87fb9b-38ec-443a-b6e3-65db214f9235",
   "metadata": {
    "execution": {
     "iopub.status.busy": "2022-12-08T04:02:09.044413Z",
     "iopub.status.idle": "2022-12-08T04:02:09.044629Z",
     "shell.execute_reply": "2022-12-08T04:02:09.044514Z",
     "shell.execute_reply.started": "2022-12-08T04:02:09.044503Z"
    },
    "tags": []
   },
   "outputs": [],
   "source": [
    "X = column_trans.transform(sylhet_copy)"
   ]
  },
  {
   "cell_type": "code",
   "execution_count": null,
   "id": "44a8ac39-05cb-4734-a5bb-8d6275be0214",
   "metadata": {
    "execution": {
     "iopub.status.busy": "2022-12-08T04:02:09.045618Z",
     "iopub.status.idle": "2022-12-08T04:02:09.046015Z",
     "shell.execute_reply": "2022-12-08T04:02:09.045880Z",
     "shell.execute_reply.started": "2022-12-08T04:02:09.045866Z"
    },
    "tags": []
   },
   "outputs": [],
   "source": [
    "print(list(sylhet_copy.columns.values)[1:])\n",
    "column_trans_c = ColumnTransformer(\n",
    "    [\n",
    "        (\n",
    "            \"one_hot\",\n",
    "            OneHotEncoder(drop=\"if_binary\"),\n",
    "            list(sylhet_copy.columns.values)[1:-1],\n",
    "        )\n",
    "    ],\n",
    "    remainder=\"passthrough\",\n",
    ")\n",
    "column_trans_c.fit(sylhet_copy)\n",
    "column_trans_c.get_feature_names_out()"
   ]
  },
  {
   "cell_type": "code",
   "execution_count": null,
   "id": "1a747065-71fd-46ff-b1d1-71af77ecdd73",
   "metadata": {
    "execution": {
     "iopub.status.busy": "2022-12-08T04:02:09.046797Z",
     "iopub.status.idle": "2022-12-08T04:02:09.047012Z",
     "shell.execute_reply": "2022-12-08T04:02:09.046897Z",
     "shell.execute_reply.started": "2022-12-08T04:02:09.046886Z"
    },
    "tags": []
   },
   "outputs": [],
   "source": [
    "X_c = column_trans_c.transform(sylhet_copy)"
   ]
  },
  {
   "cell_type": "code",
   "execution_count": null,
   "id": "a4c5e5ee-34bd-4c32-8d88-19024345ad07",
   "metadata": {
    "execution": {
     "iopub.status.busy": "2022-12-08T04:02:09.048154Z",
     "iopub.status.idle": "2022-12-08T04:02:09.048558Z",
     "shell.execute_reply": "2022-12-08T04:02:09.048423Z",
     "shell.execute_reply.started": "2022-12-08T04:02:09.048409Z"
    },
    "tags": []
   },
   "outputs": [],
   "source": [
    "X_c[0]"
   ]
  },
  {
   "cell_type": "code",
   "execution_count": null,
   "id": "f5868cf6-352b-40ac-872c-34ec7ba1a81f",
   "metadata": {
    "execution": {
     "iopub.status.busy": "2022-12-08T04:02:09.049255Z",
     "iopub.status.idle": "2022-12-08T04:02:09.049467Z",
     "shell.execute_reply": "2022-12-08T04:02:09.049354Z",
     "shell.execute_reply.started": "2022-12-08T04:02:09.049343Z"
    },
    "tags": []
   },
   "outputs": [],
   "source": [
    "X_c = X_c[:, :-1]"
   ]
  },
  {
   "cell_type": "code",
   "execution_count": null,
   "id": "06ac150c-d662-44de-a843-1d43785f42b4",
   "metadata": {
    "execution": {
     "iopub.status.busy": "2022-12-08T04:02:09.050283Z",
     "iopub.status.idle": "2022-12-08T04:02:09.050492Z",
     "shell.execute_reply": "2022-12-08T04:02:09.050380Z",
     "shell.execute_reply.started": "2022-12-08T04:02:09.050370Z"
    },
    "tags": []
   },
   "outputs": [],
   "source": [
    "X_c[0]"
   ]
  },
  {
   "cell_type": "code",
   "execution_count": null,
   "id": "1a9a1caf-dcd8-4557-8ef6-4b955f7bc81c",
   "metadata": {
    "execution": {
     "iopub.status.busy": "2022-12-08T04:02:09.051470Z",
     "iopub.status.idle": "2022-12-08T04:02:09.051812Z",
     "shell.execute_reply": "2022-12-08T04:02:09.051677Z",
     "shell.execute_reply.started": "2022-12-08T04:02:09.051663Z"
    },
    "tags": []
   },
   "outputs": [],
   "source": [
    "MLA = [\n",
    "    naive_bayes.BernoulliNB(),\n",
    "    naive_bayes.GaussianNB(),\n",
    "    linear_model.LogisticRegression(),\n",
    "    tree.DecisionTreeClassifier(),\n",
    "    ensemble.RandomForestClassifier(),\n",
    "]"
   ]
  },
  {
   "cell_type": "code",
   "execution_count": null,
   "id": "cb86d7c4-84fc-445f-a545-e3e107f21e60",
   "metadata": {
    "execution": {
     "iopub.status.busy": "2022-12-08T04:02:09.052615Z",
     "iopub.status.idle": "2022-12-08T04:02:09.053002Z",
     "shell.execute_reply": "2022-12-08T04:02:09.052867Z",
     "shell.execute_reply.started": "2022-12-08T04:02:09.052852Z"
    },
    "tags": []
   },
   "outputs": [],
   "source": [
    "model_compare = pd.DataFrame(columns=score_cols)\n",
    "\n",
    "results_conf = pd.DataFrame(\n",
    "    columns=[\n",
    "        \"true_negative\",\n",
    "        \"false_positive\",\n",
    "        \"false_negative\",\n",
    "        \"true_positive\",\n",
    "        \"model\",\n",
    "        \"experiment\",\n",
    "    ]\n",
    ")\n",
    "results = pd.DataFrame(\n",
    "    index=[\"negative\", \"positive\", \"model\"],\n",
    "    columns=[\"precision\", \"recall\", \"fbeta\", \"support\", \"experiment\"],\n",
    ")\n",
    "\n",
    "for X in [X, X_c]:\n",
    "    train1_x, test1_x, train1_y, test1_y = model_selection.train_test_split(\n",
    "        X, y, random_state=42, train_size=0.8, test_size=0.2, stratify=y\n",
    "    )\n",
    "\n",
    "    score_cols = [\n",
    "        \"Model Name\",\n",
    "        \"Precision\",\n",
    "        \"Recall\",\n",
    "        \"F1\",\n",
    "        \"Train Accuracy\",\n",
    "        \"Test Accuracy\",\n",
    "    ]\n",
    "\n",
    "    row_index = 0\n",
    "    for alg in MLA:\n",
    "        print(alg.__class__.__name__)\n",
    "        MLA_name = alg.__class__.__name__\n",
    "        model = alg.fit(train1_x, train1_y)\n",
    "        y_pred = model.predict(test1_x)\n",
    "        print(sklearn.metrics.confusion_matrix(test1_y, y_pred), \"\\n\")\n",
    "        flattened = sklearn.metrics.confusion_matrix(test1_y, y_pred).ravel()\n",
    "        confusion = pd.DataFrame(\n",
    "            [flattened],\n",
    "            columns=[\n",
    "                \"true_negative\",\n",
    "                \"false_positive\",\n",
    "                \"false_negative\",\n",
    "                \"true_positive\",\n",
    "            ],\n",
    "        )\n",
    "        confusion[\"model\"] = MLA_name\n",
    "        confusion[\"experiment\"] = row_index\n",
    "        results_conf = pd.concat([results_conf, confusion])\n",
    "        prec, recall, f1, support = sklearn.metrics.precision_recall_fscore_support(\n",
    "            test1_y, y_pred, average=\"binary\"\n",
    "        )\n",
    "        class_stats = sklearn.metrics.precision_recall_fscore_support(\n",
    "            test1_y, y_pred, labels=[0, 1], pos_label=1\n",
    "        )\n",
    "        class_stats = np.array(class_stats).T\n",
    "        stats = pd.DataFrame(\n",
    "            class_stats,\n",
    "            index=[\"negative\", \"positive\"],\n",
    "            columns=[\"precision\", \"recall\", \"fbeta\", \"support\"],\n",
    "        )\n",
    "        stats[\"model\"] = MLA_name\n",
    "        stats[\"experiment\"] = row_index\n",
    "        results = pd.concat([results, stats], ignore_index=False)\n",
    "        model_compare.loc[row_index, \"Model Name\"] = MLA_name\n",
    "        model_compare.loc[row_index, \"Precision\"] = prec\n",
    "        model_compare.loc[row_index, \"Recall\"] = recall\n",
    "        model_compare.loc[row_index, \"F1\"] = f1\n",
    "        model_compare.loc[row_index, \"Train Accuracy\"] = model.score(train1_x, train1_y)\n",
    "        model_compare.loc[row_index, \"Test Accuracy\"] = model.score(test1_x, test1_y)\n",
    "\n",
    "        row_index += 1\n",
    "    results = results.dropna()\n",
    "    results_conf = results_conf.dropna()\n",
    "    print(model_compare)"
   ]
  },
  {
   "cell_type": "code",
   "execution_count": null,
   "id": "2fee691f-53b6-4712-af33-531382a0135e",
   "metadata": {
    "execution": {
     "iopub.status.busy": "2022-12-08T04:02:09.053576Z",
     "iopub.status.idle": "2022-12-08T04:02:09.053784Z",
     "shell.execute_reply": "2022-12-08T04:02:09.053672Z",
     "shell.execute_reply.started": "2022-12-08T04:02:09.053662Z"
    },
    "tags": []
   },
   "outputs": [],
   "source": [
    "results"
   ]
  },
  {
   "cell_type": "code",
   "execution_count": null,
   "id": "fe295c8c-4de5-4919-8a7a-52832e263f50",
   "metadata": {
    "execution": {
     "iopub.status.busy": "2022-12-08T04:02:09.054454Z",
     "iopub.status.idle": "2022-12-08T04:02:09.054725Z",
     "shell.execute_reply": "2022-12-08T04:02:09.054615Z",
     "shell.execute_reply.started": "2022-12-08T04:02:09.054603Z"
    }
   },
   "outputs": [],
   "source": [
    "# result_conf"
   ]
  },
  {
   "cell_type": "code",
   "execution_count": null,
   "id": "6dda97eb-324c-45e7-bd7c-d4a92aa3dfc5",
   "metadata": {
    "execution": {
     "iopub.status.busy": "2022-12-08T04:02:09.055407Z",
     "iopub.status.idle": "2022-12-08T04:02:09.055609Z",
     "shell.execute_reply": "2022-12-08T04:02:09.055500Z",
     "shell.execute_reply.started": "2022-12-08T04:02:09.055489Z"
    },
    "tags": []
   },
   "outputs": [],
   "source": [
    "model_compare"
   ]
  }
 ],
 "metadata": {
  "kernelspec": {
   "display_name": "Python 3 (ipykernel)",
   "language": "python",
   "name": "python3"
  },
  "language_info": {
   "codemirror_mode": {
    "name": "ipython",
    "version": 3
   },
   "file_extension": ".py",
   "mimetype": "text/x-python",
   "name": "python",
   "nbconvert_exporter": "python",
   "pygments_lexer": "ipython3",
   "version": "3.8.8"
  }
 },
 "nbformat": 4,
 "nbformat_minor": 5
}
