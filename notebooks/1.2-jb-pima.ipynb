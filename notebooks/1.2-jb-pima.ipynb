{
 "cells": [
  {
   "cell_type": "markdown",
   "id": "5dca6ff0",
   "metadata": {},
   "source": [
    "# Intro\n",
    "https://link.springer.com/chapter/10.1007/978-981-13-8798-2_12\n",
    "\n",
    "The dataset referenced in this paper contains 520 observations and 17 attributes that are collected\n",
    "using direct questionnaires and diagnosis results from the patients in the Sylhet Diabetes Hospital\n",
    "in Sylhet, Bangladesh. There are 2 demographic features, Age & Gender; the other 15 attributes\n",
    "are binary features that indicate whether the patient experienced a symptom\n",
    "\n",
    "By the due date of milestone report on 10/23, we should be able to reproduce the results from the first\n",
    "paper. For the milestone report, we will each tackle an algorithm and attempt to reproduce the results\n",
    "from (Islam et al. 2020). With the exception of Decision Tree/Random Forest, this corresponds with\n",
    "the material taught on the syllabus.\n",
    "\n",
    "## Explore"
   ]
  },
  {
   "cell_type": "code",
   "execution_count": null,
   "id": "78679d10-16fe-4dbe-b1b2-2673ae98cd19",
   "metadata": {
    "tags": []
   },
   "outputs": [],
   "source": [
    "# %pip install --user pandas_profiling"
   ]
  },
  {
   "cell_type": "code",
   "execution_count": 7,
   "id": "3ac80436-22cc-4222-aa8e-319e3949548e",
   "metadata": {
    "execution": {
     "iopub.execute_input": "2022-12-04T22:37:14.813765Z",
     "iopub.status.busy": "2022-12-04T22:37:14.812824Z",
     "iopub.status.idle": "2022-12-04T22:37:14.826682Z",
     "shell.execute_reply": "2022-12-04T22:37:14.825594Z",
     "shell.execute_reply.started": "2022-12-04T22:37:14.813697Z"
    },
    "tags": []
   },
   "outputs": [],
   "source": [
    "import graphviz\n",
    "import matplotlib.pyplot as plt\n",
    "import numpy as np\n",
    "import pandas as pd\n",
    "import seaborn as sns\n",
    "import sklearn\n",
    "\n",
    "###sklearn\n",
    "from sklearn import (\n",
    "    ensemble,\n",
    "    feature_selection,\n",
    "    linear_model,\n",
    "    metrics,\n",
    "    model_selection,\n",
    "    naive_bayes,\n",
    "    tree,\n",
    ")\n",
    "from sklearn.compose import ColumnTransformer\n",
    "from sklearn.pipeline import Pipeline\n",
    "from sklearn.preprocessing import KBinsDiscretizer, LabelEncoder, OneHotEncoder, MinMaxScaler\n",
    "from sklearn.tree import export_graphviz\n",
    "\n",
    "from pandas_profiling import ProfileReport\n",
    "\n",
    "\n",
    "sns.set(rc={\"axes.facecolor\": \"white\", \"figure.facecolor\": \"white\"})"
   ]
  },
  {
   "cell_type": "code",
   "execution_count": 17,
   "id": "75931b7a-10da-465c-b423-1b55c8b5f40a",
   "metadata": {
    "execution": {
     "iopub.execute_input": "2022-12-04T22:49:13.559474Z",
     "iopub.status.busy": "2022-12-04T22:49:13.558916Z",
     "iopub.status.idle": "2022-12-04T22:49:13.568249Z",
     "shell.execute_reply": "2022-12-04T22:49:13.567556Z",
     "shell.execute_reply.started": "2022-12-04T22:49:13.559432Z"
    },
    "tags": []
   },
   "outputs": [],
   "source": [
    "sylhet_raw = pd.read_csv(\"../data/pima-diabetes.csv\")\n",
    "sylhet_copy = sylhet_raw.copy(deep=True)"
   ]
  },
  {
   "cell_type": "code",
   "execution_count": 18,
   "id": "24641e6d",
   "metadata": {
    "execution": {
     "iopub.execute_input": "2022-12-04T22:49:14.302290Z",
     "iopub.status.busy": "2022-12-04T22:49:14.302004Z",
     "iopub.status.idle": "2022-12-04T22:49:14.312213Z",
     "shell.execute_reply": "2022-12-04T22:49:14.311508Z",
     "shell.execute_reply.started": "2022-12-04T22:49:14.302261Z"
    },
    "tags": []
   },
   "outputs": [
    {
     "name": "stdout",
     "output_type": "stream",
     "text": [
      "<class 'pandas.core.frame.DataFrame'>\n",
      "RangeIndex: 768 entries, 0 to 767\n",
      "Data columns (total 9 columns):\n",
      " #   Column                    Non-Null Count  Dtype  \n",
      "---  ------                    --------------  -----  \n",
      " 0   Pregnancies               768 non-null    int64  \n",
      " 1   Glucose                   768 non-null    int64  \n",
      " 2   BloodPressure             768 non-null    int64  \n",
      " 3   SkinThickness             768 non-null    int64  \n",
      " 4   Insulin                   768 non-null    int64  \n",
      " 5   BMI                       768 non-null    float64\n",
      " 6   DiabetesPedigreeFunction  768 non-null    float64\n",
      " 7   Age                       768 non-null    int64  \n",
      " 8   Outcome                   768 non-null    int64  \n",
      "dtypes: float64(2), int64(7)\n",
      "memory usage: 54.1 KB\n"
     ]
    }
   ],
   "source": [
    "sylhet_copy.info()"
   ]
  },
  {
   "cell_type": "code",
   "execution_count": 19,
   "id": "6979d00d-ae64-4d65-ba14-6d2b85c67b6e",
   "metadata": {
    "execution": {
     "iopub.execute_input": "2022-12-04T22:49:26.455010Z",
     "iopub.status.busy": "2022-12-04T22:49:26.454747Z",
     "iopub.status.idle": "2022-12-04T22:49:26.459889Z",
     "shell.execute_reply": "2022-12-04T22:49:26.459055Z",
     "shell.execute_reply.started": "2022-12-04T22:49:26.454981Z"
    },
    "tags": []
   },
   "outputs": [],
   "source": [
    "profile = ProfileReport(sylhet_copy)"
   ]
  },
  {
   "cell_type": "code",
   "execution_count": 20,
   "id": "10be8188-58ae-4351-ae26-1178ce76ed21",
   "metadata": {
    "execution": {
     "iopub.execute_input": "2022-12-04T22:49:27.790227Z",
     "iopub.status.busy": "2022-12-04T22:49:27.789832Z",
     "iopub.status.idle": "2022-12-04T22:49:52.678953Z",
     "shell.execute_reply": "2022-12-04T22:49:52.678290Z",
     "shell.execute_reply.started": "2022-12-04T22:49:27.790196Z"
    },
    "tags": []
   },
   "outputs": [
    {
     "data": {
      "application/vnd.jupyter.widget-view+json": {
       "model_id": "04dbb2aa3d5b42ceb42f136ed8deebc7",
       "version_major": 2,
       "version_minor": 0
      },
      "text/plain": [
       "Summarize dataset:   0%|          | 0/5 [00:00<?, ?it/s]"
      ]
     },
     "metadata": {},
     "output_type": "display_data"
    },
    {
     "data": {
      "application/vnd.jupyter.widget-view+json": {
       "model_id": "798a4df8bd10414b98546ea7bb3461c4",
       "version_major": 2,
       "version_minor": 0
      },
      "text/plain": [
       "Generate report structure:   0%|          | 0/1 [00:00<?, ?it/s]"
      ]
     },
     "metadata": {},
     "output_type": "display_data"
    },
    {
     "data": {
      "application/vnd.jupyter.widget-view+json": {
       "model_id": "",
       "version_major": 2,
       "version_minor": 0
      },
      "text/plain": [
       "Render widgets:   0%|          | 0/1 [00:00<?, ?it/s]"
      ]
     },
     "metadata": {},
     "output_type": "display_data"
    },
    {
     "data": {
      "application/vnd.jupyter.widget-view+json": {
       "model_id": "0e08abd6181c4a428ed774b06e55835c",
       "version_major": 2,
       "version_minor": 0
      },
      "text/plain": [
       "VBox(children=(Tab(children=(Tab(children=(GridBox(children=(VBox(children=(GridspecLayout(children=(HTML(valu…"
      ]
     },
     "metadata": {},
     "output_type": "display_data"
    }
   ],
   "source": [
    "profile.to_widgets()"
   ]
  },
  {
   "cell_type": "code",
   "execution_count": null,
   "id": "fa158fac-b897-4b07-a36c-cd848bc4310c",
   "metadata": {
    "tags": []
   },
   "outputs": [],
   "source": [
    "# profile"
   ]
  },
  {
   "cell_type": "code",
   "execution_count": 22,
   "id": "cdd89cab-64f4-4f49-bb3d-97d904e41c23",
   "metadata": {
    "execution": {
     "iopub.execute_input": "2022-12-04T22:53:09.946376Z",
     "iopub.status.busy": "2022-12-04T22:53:09.946115Z",
     "iopub.status.idle": "2022-12-04T22:53:09.951325Z",
     "shell.execute_reply": "2022-12-04T22:53:09.950682Z",
     "shell.execute_reply.started": "2022-12-04T22:53:09.946348Z"
    },
    "tags": []
   },
   "outputs": [
    {
     "name": "stdout",
     "output_type": "stream",
     "text": [
      "['pregnancies', 'glucose', 'bloodpressure', 'skinthickness', 'insulin', 'bmi', 'diabetespedigreefunction', 'age', 'outcome']\n"
     ]
    }
   ],
   "source": [
    "col_names = [x.lower().replace(\" \", \"_\") for x in sylhet_copy.columns]\n",
    "\n",
    "print(col_names)\n",
    "\n",
    "sylhet_copy.set_axis(col_names, axis=1, inplace=True)\n",
    "\n",
    "# print(sylhet_copy.columns)"
   ]
  },
  {
   "cell_type": "code",
   "execution_count": 23,
   "id": "80359cf8-0eed-476d-9c19-ee4a6e808b0b",
   "metadata": {
    "execution": {
     "iopub.execute_input": "2022-12-04T22:53:13.937080Z",
     "iopub.status.busy": "2022-12-04T22:53:13.936822Z",
     "iopub.status.idle": "2022-12-04T22:53:13.947773Z",
     "shell.execute_reply": "2022-12-04T22:53:13.947168Z",
     "shell.execute_reply.started": "2022-12-04T22:53:13.937053Z"
    },
    "tags": []
   },
   "outputs": [
    {
     "data": {
      "text/html": [
       "<div>\n",
       "<style scoped>\n",
       "    .dataframe tbody tr th:only-of-type {\n",
       "        vertical-align: middle;\n",
       "    }\n",
       "\n",
       "    .dataframe tbody tr th {\n",
       "        vertical-align: top;\n",
       "    }\n",
       "\n",
       "    .dataframe thead th {\n",
       "        text-align: right;\n",
       "    }\n",
       "</style>\n",
       "<table border=\"1\" class=\"dataframe\">\n",
       "  <thead>\n",
       "    <tr style=\"text-align: right;\">\n",
       "      <th></th>\n",
       "      <th>pregnancies</th>\n",
       "      <th>glucose</th>\n",
       "      <th>bloodpressure</th>\n",
       "      <th>skinthickness</th>\n",
       "      <th>insulin</th>\n",
       "      <th>bmi</th>\n",
       "      <th>diabetespedigreefunction</th>\n",
       "      <th>age</th>\n",
       "      <th>outcome</th>\n",
       "    </tr>\n",
       "  </thead>\n",
       "  <tbody>\n",
       "    <tr>\n",
       "      <th>0</th>\n",
       "      <td>6</td>\n",
       "      <td>148</td>\n",
       "      <td>72</td>\n",
       "      <td>35</td>\n",
       "      <td>0</td>\n",
       "      <td>33.6</td>\n",
       "      <td>0.627</td>\n",
       "      <td>50</td>\n",
       "      <td>1</td>\n",
       "    </tr>\n",
       "    <tr>\n",
       "      <th>1</th>\n",
       "      <td>1</td>\n",
       "      <td>85</td>\n",
       "      <td>66</td>\n",
       "      <td>29</td>\n",
       "      <td>0</td>\n",
       "      <td>26.6</td>\n",
       "      <td>0.351</td>\n",
       "      <td>31</td>\n",
       "      <td>0</td>\n",
       "    </tr>\n",
       "    <tr>\n",
       "      <th>2</th>\n",
       "      <td>8</td>\n",
       "      <td>183</td>\n",
       "      <td>64</td>\n",
       "      <td>0</td>\n",
       "      <td>0</td>\n",
       "      <td>23.3</td>\n",
       "      <td>0.672</td>\n",
       "      <td>32</td>\n",
       "      <td>1</td>\n",
       "    </tr>\n",
       "    <tr>\n",
       "      <th>3</th>\n",
       "      <td>1</td>\n",
       "      <td>89</td>\n",
       "      <td>66</td>\n",
       "      <td>23</td>\n",
       "      <td>94</td>\n",
       "      <td>28.1</td>\n",
       "      <td>0.167</td>\n",
       "      <td>21</td>\n",
       "      <td>0</td>\n",
       "    </tr>\n",
       "    <tr>\n",
       "      <th>4</th>\n",
       "      <td>0</td>\n",
       "      <td>137</td>\n",
       "      <td>40</td>\n",
       "      <td>35</td>\n",
       "      <td>168</td>\n",
       "      <td>43.1</td>\n",
       "      <td>2.288</td>\n",
       "      <td>33</td>\n",
       "      <td>1</td>\n",
       "    </tr>\n",
       "  </tbody>\n",
       "</table>\n",
       "</div>"
      ],
      "text/plain": [
       "   pregnancies  glucose  bloodpressure  skinthickness  insulin   bmi  \\\n",
       "0            6      148             72             35        0  33.6   \n",
       "1            1       85             66             29        0  26.6   \n",
       "2            8      183             64              0        0  23.3   \n",
       "3            1       89             66             23       94  28.1   \n",
       "4            0      137             40             35      168  43.1   \n",
       "\n",
       "   diabetespedigreefunction  age  outcome  \n",
       "0                     0.627   50        1  \n",
       "1                     0.351   31        0  \n",
       "2                     0.672   32        1  \n",
       "3                     0.167   21        0  \n",
       "4                     2.288   33        1  "
      ]
     },
     "execution_count": 23,
     "metadata": {},
     "output_type": "execute_result"
    }
   ],
   "source": [
    "sylhet_copy.head(5)"
   ]
  },
  {
   "cell_type": "code",
   "execution_count": 24,
   "id": "3b3e1ab5-35c9-4965-83b8-63c6a6b74b89",
   "metadata": {
    "execution": {
     "iopub.execute_input": "2022-12-04T22:53:25.402041Z",
     "iopub.status.busy": "2022-12-04T22:53:25.401729Z",
     "iopub.status.idle": "2022-12-04T22:53:25.408021Z",
     "shell.execute_reply": "2022-12-04T22:53:25.407012Z",
     "shell.execute_reply.started": "2022-12-04T22:53:25.402010Z"
    },
    "tags": []
   },
   "outputs": [
    {
     "data": {
      "text/plain": [
       "array([1, 0])"
      ]
     },
     "execution_count": 24,
     "metadata": {},
     "output_type": "execute_result"
    }
   ],
   "source": [
    "sylhet_copy[\"outcome\"].unique()"
   ]
  },
  {
   "cell_type": "code",
   "execution_count": 25,
   "id": "29398744-74d7-4bc5-a903-19c7df6321a4",
   "metadata": {
    "execution": {
     "iopub.execute_input": "2022-12-04T22:53:37.566038Z",
     "iopub.status.busy": "2022-12-04T22:53:37.565526Z",
     "iopub.status.idle": "2022-12-04T22:53:37.570854Z",
     "shell.execute_reply": "2022-12-04T22:53:37.569831Z",
     "shell.execute_reply.started": "2022-12-04T22:53:37.565991Z"
    },
    "tags": []
   },
   "outputs": [],
   "source": [
    "y = sylhet_copy[\"outcome\"].to_numpy()"
   ]
  },
  {
   "cell_type": "code",
   "execution_count": 26,
   "id": "f1e15114-fdd3-4923-83f4-38878fa7eee2",
   "metadata": {
    "execution": {
     "iopub.execute_input": "2022-12-04T22:53:47.115299Z",
     "iopub.status.busy": "2022-12-04T22:53:47.114922Z",
     "iopub.status.idle": "2022-12-04T22:53:47.119456Z",
     "shell.execute_reply": "2022-12-04T22:53:47.118459Z",
     "shell.execute_reply.started": "2022-12-04T22:53:47.115271Z"
    },
    "tags": []
   },
   "outputs": [],
   "source": [
    "sylhet_copy = sylhet_copy.loc[:, :\"age\"]"
   ]
  },
  {
   "cell_type": "code",
   "execution_count": 27,
   "id": "c34afa0d",
   "metadata": {
    "execution": {
     "iopub.execute_input": "2022-12-04T22:53:48.724598Z",
     "iopub.status.busy": "2022-12-04T22:53:48.724307Z",
     "iopub.status.idle": "2022-12-04T22:53:48.930089Z",
     "shell.execute_reply": "2022-12-04T22:53:48.929627Z",
     "shell.execute_reply.started": "2022-12-04T22:53:48.724568Z"
    },
    "tags": []
   },
   "outputs": [
    {
     "data": {
      "image/png": "[encoded data removed]",
      "text/plain": [
       "<Figure size 432x288 with 1 Axes>"
      ]
     },
     "metadata": {},
     "output_type": "display_data"
    }
   ],
   "source": [
    "sns.histplot(sylhet_copy, x=\"age\").figure.savefig(\"age_distribution_histogram.png\")"
   ]
  },
  {
   "cell_type": "code",
   "execution_count": 28,
   "id": "4bd7bd84-3c92-4f5a-a5ab-e72f9fb3e35b",
   "metadata": {
    "execution": {
     "iopub.execute_input": "2022-12-04T22:53:51.580233Z",
     "iopub.status.busy": "2022-12-04T22:53:51.579919Z",
     "iopub.status.idle": "2022-12-04T22:53:51.586073Z",
     "shell.execute_reply": "2022-12-04T22:53:51.585506Z",
     "shell.execute_reply.started": "2022-12-04T22:53:51.580203Z"
    },
    "tags": []
   },
   "outputs": [],
   "source": [
    "age_binned = pd.qcut(sylhet_copy[\"age\"], q=6)"
   ]
  },
  {
   "cell_type": "code",
   "execution_count": 29,
   "id": "7e3b6674-0b3d-4396-9b00-81e38cea7c83",
   "metadata": {
    "execution": {
     "iopub.execute_input": "2022-12-04T22:53:52.611548Z",
     "iopub.status.busy": "2022-12-04T22:53:52.611253Z",
     "iopub.status.idle": "2022-12-04T22:53:52.618975Z",
     "shell.execute_reply": "2022-12-04T22:53:52.618277Z",
     "shell.execute_reply.started": "2022-12-04T22:53:52.611516Z"
    },
    "tags": []
   },
   "outputs": [
    {
     "data": {
      "text/plain": [
       "(20.999, 22.0]    135\n",
       "(22.0, 25.0]      132\n",
       "(25.0, 29.0]      129\n",
       "(29.0, 36.0]      118\n",
       "(36.0, 45.0]      136\n",
       "(45.0, 81.0]      118\n",
       "Name: age, dtype: int64"
      ]
     },
     "execution_count": 29,
     "metadata": {},
     "output_type": "execute_result"
    }
   ],
   "source": [
    "age_binned.value_counts(sort=False, ascending=True)"
   ]
  },
  {
   "cell_type": "code",
   "execution_count": 30,
   "id": "ffbd7786-7dd7-4d80-b4cd-e724b625f8c4",
   "metadata": {
    "execution": {
     "iopub.execute_input": "2022-12-04T22:53:55.076348Z",
     "iopub.status.busy": "2022-12-04T22:53:55.076054Z",
     "iopub.status.idle": "2022-12-04T22:53:55.080258Z",
     "shell.execute_reply": "2022-12-04T22:53:55.079535Z",
     "shell.execute_reply.started": "2022-12-04T22:53:55.076318Z"
    },
    "tags": []
   },
   "outputs": [],
   "source": [
    "sylhet_copy[\"age\"] = age_binned"
   ]
  },
  {
   "cell_type": "code",
   "execution_count": 32,
   "id": "b0c6511d-c0f8-4f1e-9cf6-57c50200dd3e",
   "metadata": {
    "execution": {
     "iopub.execute_input": "2022-12-04T22:54:32.934036Z",
     "iopub.status.busy": "2022-12-04T22:54:32.933769Z",
     "iopub.status.idle": "2022-12-04T22:54:32.938643Z",
     "shell.execute_reply": "2022-12-04T22:54:32.938022Z",
     "shell.execute_reply.started": "2022-12-04T22:54:32.934007Z"
    },
    "tags": []
   },
   "outputs": [
    {
     "data": {
      "text/plain": [
       "Index(['pregnancies', 'glucose', 'bloodpressure', 'skinthickness', 'insulin',\n",
       "       'bmi', 'diabetespedigreefunction', 'age'],\n",
       "      dtype='object')"
      ]
     },
     "execution_count": 32,
     "metadata": {},
     "output_type": "execute_result"
    }
   ],
   "source": [
    "sylhet_copy.columns"
   ]
  },
  {
   "cell_type": "code",
   "execution_count": null,
   "id": "a6d5b2ae-2d5b-41f4-a832-cb6d9fdc150c",
   "metadata": {
    "tags": []
   },
   "outputs": [],
   "source": [
    "# column_trans = ColumnTransformer(\n",
    "#     [('age_bins', KBinsDiscretizer(n_bins=6, encode='onehot-dense', strategy='quantile'),['age']),\n",
    "#       ('one_hot', OneHotEncoder(), list(sylhet_copy.columns[1:-1].values))\n",
    "#     ],remainder='passthrough'\n",
    "# )"
   ]
  },
  {
   "cell_type": "code",
   "execution_count": 33,
   "id": "21a9e08b-02f4-4b24-92a5-a20be0b4363e",
   "metadata": {
    "execution": {
     "iopub.execute_input": "2022-12-04T22:54:54.438723Z",
     "iopub.status.busy": "2022-12-04T22:54:54.438466Z",
     "iopub.status.idle": "2022-12-04T22:54:54.443352Z",
     "shell.execute_reply": "2022-12-04T22:54:54.442348Z",
     "shell.execute_reply.started": "2022-12-04T22:54:54.438695Z"
    },
    "tags": []
   },
   "outputs": [],
   "source": [
    "column_trans = ColumnTransformer(\n",
    "    [(\"one_hot\", OneHotEncoder(drop=\"if_binary\"), ['age']),\n",
    "    ('minmax', MinMaxScaler(),['pregnancies', 'glucose', 'bloodpressure', 'skinthickness', 'insulin',\n",
    "       'bmi', 'diabetespedigreefunction'])],\n",
    "    remainder=\"passthrough\",\n",
    ")"
   ]
  },
  {
   "cell_type": "code",
   "execution_count": 34,
   "id": "c1d770be-25c5-4b57-a80a-9fb1ae599b23",
   "metadata": {
    "execution": {
     "iopub.execute_input": "2022-12-04T22:54:55.541445Z",
     "iopub.status.busy": "2022-12-04T22:54:55.541148Z",
     "iopub.status.idle": "2022-12-04T22:54:55.563188Z",
     "shell.execute_reply": "2022-12-04T22:54:55.562316Z",
     "shell.execute_reply.started": "2022-12-04T22:54:55.541415Z"
    },
    "tags": []
   },
   "outputs": [
    {
     "data": {
      "text/plain": [
       "ColumnTransformer(remainder='passthrough',\n",
       "                  transformers=[('one_hot', OneHotEncoder(drop='if_binary'),\n",
       "                                 ['age']),\n",
       "                                ('minmax', MinMaxScaler(),\n",
       "                                 ['pregnancies', 'glucose', 'bloodpressure',\n",
       "                                  'skinthickness', 'insulin', 'bmi',\n",
       "                                  'diabetespedigreefunction'])])"
      ]
     },
     "execution_count": 34,
     "metadata": {},
     "output_type": "execute_result"
    }
   ],
   "source": [
    "column_trans.fit(sylhet_copy)"
   ]
  },
  {
   "cell_type": "code",
   "execution_count": 35,
   "id": "efe643c6-fdf6-4f8f-8428-a1985781a0d0",
   "metadata": {
    "execution": {
     "iopub.execute_input": "2022-12-04T22:55:00.756526Z",
     "iopub.status.busy": "2022-12-04T22:55:00.756037Z",
     "iopub.status.idle": "2022-12-04T22:55:00.761509Z",
     "shell.execute_reply": "2022-12-04T22:55:00.760804Z",
     "shell.execute_reply.started": "2022-12-04T22:55:00.756496Z"
    },
    "tags": []
   },
   "outputs": [
    {
     "data": {
      "text/plain": [
       "array(['one_hot__age_(20.999, 22.0]', 'one_hot__age_(22.0, 25.0]',\n",
       "       'one_hot__age_(25.0, 29.0]', 'one_hot__age_(29.0, 36.0]',\n",
       "       'one_hot__age_(36.0, 45.0]', 'one_hot__age_(45.0, 81.0]',\n",
       "       'minmax__pregnancies', 'minmax__glucose', 'minmax__bloodpressure',\n",
       "       'minmax__skinthickness', 'minmax__insulin', 'minmax__bmi',\n",
       "       'minmax__diabetespedigreefunction'], dtype=object)"
      ]
     },
     "execution_count": 35,
     "metadata": {},
     "output_type": "execute_result"
    }
   ],
   "source": [
    "column_trans.get_feature_names_out()"
   ]
  },
  {
   "cell_type": "code",
   "execution_count": 36,
   "id": "c970e522-822d-4f30-b2a3-63d3830dbf3f",
   "metadata": {
    "execution": {
     "iopub.execute_input": "2022-12-04T22:56:34.136685Z",
     "iopub.status.busy": "2022-12-04T22:56:34.136410Z",
     "iopub.status.idle": "2022-12-04T22:56:34.146596Z",
     "shell.execute_reply": "2022-12-04T22:56:34.145839Z",
     "shell.execute_reply.started": "2022-12-04T22:56:34.136656Z"
    },
    "tags": []
   },
   "outputs": [],
   "source": [
    "X = column_trans.transform(sylhet_copy)"
   ]
  },
  {
   "cell_type": "code",
   "execution_count": 37,
   "id": "8202692f-0f34-41e1-815b-1509194ef905",
   "metadata": {
    "execution": {
     "iopub.execute_input": "2022-12-04T22:56:34.943374Z",
     "iopub.status.busy": "2022-12-04T22:56:34.943081Z",
     "iopub.status.idle": "2022-12-04T22:56:34.948568Z",
     "shell.execute_reply": "2022-12-04T22:56:34.947600Z",
     "shell.execute_reply.started": "2022-12-04T22:56:34.943343Z"
    },
    "tags": []
   },
   "outputs": [
    {
     "data": {
      "text/plain": [
       "(768, 13)"
      ]
     },
     "execution_count": 37,
     "metadata": {},
     "output_type": "execute_result"
    }
   ],
   "source": [
    "X.shape"
   ]
  },
  {
   "cell_type": "code",
   "execution_count": 38,
   "id": "75314d6d-b26a-48ed-ac6d-144bd5a7fa8e",
   "metadata": {
    "execution": {
     "iopub.execute_input": "2022-12-04T22:56:56.697553Z",
     "iopub.status.busy": "2022-12-04T22:56:56.697254Z",
     "iopub.status.idle": "2022-12-04T22:56:56.702285Z",
     "shell.execute_reply": "2022-12-04T22:56:56.701333Z",
     "shell.execute_reply.started": "2022-12-04T22:56:56.697520Z"
    },
    "tags": []
   },
   "outputs": [],
   "source": [
    "MLA = [\n",
    "    naive_bayes.BernoulliNB(),\n",
    "    naive_bayes.GaussianNB(),\n",
    "    linear_model.LogisticRegression(),\n",
    "    tree.DecisionTreeClassifier(min_samples_split=10, min_samples_leaf=10, max_depth=4),\n",
    "    ensemble.RandomForestClassifier(\n",
    "        max_depth=4, min_samples_split=10, min_samples_leaf=10\n",
    "    ),\n",
    "]"
   ]
  },
  {
   "cell_type": "code",
   "execution_count": 39,
   "id": "ecef7be5-97a8-4e44-80fd-d45b2042f1ad",
   "metadata": {
    "execution": {
     "iopub.execute_input": "2022-12-04T23:40:10.612685Z",
     "iopub.status.busy": "2022-12-04T23:40:10.611864Z",
     "iopub.status.idle": "2022-12-04T23:40:10.621194Z",
     "shell.execute_reply": "2022-12-04T23:40:10.620449Z",
     "shell.execute_reply.started": "2022-12-04T23:40:10.612656Z"
    },
    "tags": []
   },
   "outputs": [],
   "source": [
    "train1_x, test1_x, train1_y, test1_y = model_selection.train_test_split(\n",
    "    X, y, random_state=42, train_size=0.8, test_size=0.2\n",
    ")"
   ]
  },
  {
   "cell_type": "code",
   "execution_count": 40,
   "id": "1eb50fe1-7752-48e4-a9ee-ba21866a9bed",
   "metadata": {
    "execution": {
     "iopub.execute_input": "2022-12-04T23:40:10.623044Z",
     "iopub.status.busy": "2022-12-04T23:40:10.622804Z",
     "iopub.status.idle": "2022-12-04T23:40:10.627643Z",
     "shell.execute_reply": "2022-12-04T23:40:10.626924Z",
     "shell.execute_reply.started": "2022-12-04T23:40:10.623022Z"
    },
    "tags": []
   },
   "outputs": [
    {
     "name": "stdout",
     "output_type": "stream",
     "text": [
      "(614, 13) (614,)\n",
      "(154, 13) (154,)\n"
     ]
    }
   ],
   "source": [
    "print(train1_x.shape, train1_y.shape)\n",
    "print(test1_x.shape, test1_y.shape)"
   ]
  },
  {
   "cell_type": "code",
   "execution_count": 41,
   "id": "a86b2720-6495-4445-90ed-ea0a42d9e9c6",
   "metadata": {
    "execution": {
     "iopub.execute_input": "2022-12-04T23:40:10.629130Z",
     "iopub.status.busy": "2022-12-04T23:40:10.628726Z",
     "iopub.status.idle": "2022-12-04T23:40:10.637766Z",
     "shell.execute_reply": "2022-12-04T23:40:10.636779Z",
     "shell.execute_reply.started": "2022-12-04T23:40:10.629102Z"
    },
    "tags": []
   },
   "outputs": [
    {
     "data": {
      "text/plain": [
       "(array([0, 1]), array([99, 55]))"
      ]
     },
     "execution_count": 41,
     "metadata": {},
     "output_type": "execute_result"
    }
   ],
   "source": [
    "np.unique(test1_y, return_counts=True)"
   ]
  },
  {
   "cell_type": "code",
   "execution_count": 42,
   "id": "e20d5539-db0e-452d-97ea-7f39b08e518f",
   "metadata": {
    "execution": {
     "iopub.execute_input": "2022-12-04T23:40:10.639684Z",
     "iopub.status.busy": "2022-12-04T23:40:10.639379Z",
     "iopub.status.idle": "2022-12-04T23:40:10.651374Z",
     "shell.execute_reply": "2022-12-04T23:40:10.650567Z",
     "shell.execute_reply.started": "2022-12-04T23:40:10.639657Z"
    },
    "tags": []
   },
   "outputs": [],
   "source": [
    "score_cols = [\n",
    "    \"Model Name\",\n",
    "    \"Precision\",\n",
    "    \"Recall\",\n",
    "    \"F1\",\n",
    "    \"Train Accuracy\",\n",
    "    \"Test Accuracy\",\n",
    "]\n",
    "model_compare = pd.DataFrame(columns=score_cols)"
   ]
  },
  {
   "cell_type": "code",
   "execution_count": 45,
   "id": "0ec1110f-0e79-49f8-b1a2-c533aaeec54a",
   "metadata": {
    "execution": {
     "iopub.execute_input": "2022-12-04T23:40:26.204042Z",
     "iopub.status.busy": "2022-12-04T23:40:26.203780Z",
     "iopub.status.idle": "2022-12-04T23:40:26.419234Z",
     "shell.execute_reply": "2022-12-04T23:40:26.418597Z",
     "shell.execute_reply.started": "2022-12-04T23:40:26.204015Z"
    },
    "tags": []
   },
   "outputs": [
    {
     "name": "stdout",
     "output_type": "stream",
     "text": [
      "BernoulliNB\n",
      "[[70 29]\n",
      " [30 25]] \n",
      "\n",
      "GaussianNB\n",
      "[[67 32]\n",
      " [14 41]] \n",
      "\n",
      "LogisticRegression\n",
      "[[87 12]\n",
      " [23 32]] \n",
      "\n",
      "DecisionTreeClassifier\n",
      "[[88 11]\n",
      " [22 33]] \n",
      "\n",
      "RandomForestClassifier\n",
      "[[87 12]\n",
      " [23 32]] \n",
      "\n"
     ]
    }
   ],
   "source": [
    "results_conf = pd.DataFrame(\n",
    "    columns=[\n",
    "        \"true_negative\",\n",
    "        \"false_positive\",\n",
    "        \"false_negative\",\n",
    "        \"true_positive\",\n",
    "        \"model\",\n",
    "    ]\n",
    ")\n",
    "results = pd.DataFrame(\n",
    "    index=[\"negative\", \"positive\", \"model\"],\n",
    "    columns=[\"precision\", \"recall\", \"fbeta\", \"support\"],\n",
    ")\n",
    "row_index = 0\n",
    "for alg in MLA:\n",
    "    print(alg.__class__.__name__)\n",
    "    MLA_name = alg.__class__.__name__\n",
    "    model = alg.fit(train1_x, train1_y)\n",
    "    y_pred = model.predict(test1_x)\n",
    "    print(sklearn.metrics.confusion_matrix(test1_y, y_pred), \"\\n\")\n",
    "    flattened = sklearn.metrics.confusion_matrix(test1_y, y_pred).ravel()\n",
    "    confusion = pd.DataFrame(\n",
    "        [flattened],\n",
    "        columns=[\"true_negative\", \"false_positive\", \"false_negative\", \"true_positive\"],\n",
    "    )\n",
    "    confusion[\"model\"] = MLA_name\n",
    "    results_conf = pd.concat([results_conf, confusion])\n",
    "    prec, recall, f1, support = sklearn.metrics.precision_recall_fscore_support(\n",
    "        test1_y, y_pred, average=\"macro\"\n",
    "    )\n",
    "    class_stats = sklearn.metrics.precision_recall_fscore_support(\n",
    "        test1_y, y_pred, labels=[0, 1], pos_label=1\n",
    "    )\n",
    "    class_stats = np.array(class_stats).T\n",
    "    stats = pd.DataFrame(\n",
    "        class_stats,\n",
    "        index=[\"negative\", \"positive\"],\n",
    "        columns=[\"precision\", \"recall\", \"fbeta\", \"support\"],\n",
    "    )\n",
    "    stats[\"model\"] = MLA_name\n",
    "    results = pd.concat([results, stats], ignore_index=False)\n",
    "    model_compare.loc[row_index, \"Model Name\"] = MLA_name\n",
    "    model_compare.loc[row_index, \"Precision\"] = prec\n",
    "    model_compare.loc[row_index, \"Recall\"] = recall\n",
    "    model_compare.loc[row_index, \"F1\"] = f1\n",
    "    model_compare.loc[row_index, \"Train Accuracy\"] = model.score(train1_x, train1_y)\n",
    "    model_compare.loc[row_index, \"Test Accuracy\"] = model.score(test1_x, test1_y)\n",
    "\n",
    "    row_index += 1\n",
    "results = results.dropna()\n",
    "results_conf = results_conf.dropna()"
   ]
  },
  {
   "cell_type": "code",
   "execution_count": 46,
   "id": "dbcb2104-cf7b-4e52-8a1d-09a6665138cd",
   "metadata": {
    "execution": {
     "iopub.execute_input": "2022-12-04T23:40:28.207426Z",
     "iopub.status.busy": "2022-12-04T23:40:28.207154Z",
     "iopub.status.idle": "2022-12-04T23:40:28.223579Z",
     "shell.execute_reply": "2022-12-04T23:40:28.222642Z",
     "shell.execute_reply.started": "2022-12-04T23:40:28.207397Z"
    },
    "tags": []
   },
   "outputs": [
    {
     "data": {
      "text/html": [
       "<div>\n",
       "<style scoped>\n",
       "    .dataframe tbody tr th:only-of-type {\n",
       "        vertical-align: middle;\n",
       "    }\n",
       "\n",
       "    .dataframe tbody tr th {\n",
       "        vertical-align: top;\n",
       "    }\n",
       "\n",
       "    .dataframe thead th {\n",
       "        text-align: right;\n",
       "    }\n",
       "</style>\n",
       "<table border=\"1\" class=\"dataframe\">\n",
       "  <thead>\n",
       "    <tr style=\"text-align: right;\">\n",
       "      <th></th>\n",
       "      <th>model</th>\n",
       "      <th>cols</th>\n",
       "      <th>vals</th>\n",
       "    </tr>\n",
       "  </thead>\n",
       "  <tbody>\n",
       "    <tr>\n",
       "      <th>0</th>\n",
       "      <td>BernoulliNB</td>\n",
       "      <td>Correctly Classified</td>\n",
       "      <td>61.7</td>\n",
       "    </tr>\n",
       "    <tr>\n",
       "      <th>1</th>\n",
       "      <td>GaussianNB</td>\n",
       "      <td>Correctly Classified</td>\n",
       "      <td>70.1</td>\n",
       "    </tr>\n",
       "    <tr>\n",
       "      <th>2</th>\n",
       "      <td>LogisticRegression</td>\n",
       "      <td>Correctly Classified</td>\n",
       "      <td>77.3</td>\n",
       "    </tr>\n",
       "    <tr>\n",
       "      <th>3</th>\n",
       "      <td>DecisionTreeClassifier</td>\n",
       "      <td>Correctly Classified</td>\n",
       "      <td>78.6</td>\n",
       "    </tr>\n",
       "    <tr>\n",
       "      <th>4</th>\n",
       "      <td>RandomForestClassifier</td>\n",
       "      <td>Correctly Classified</td>\n",
       "      <td>77.3</td>\n",
       "    </tr>\n",
       "    <tr>\n",
       "      <th>5</th>\n",
       "      <td>BernoulliNB</td>\n",
       "      <td>Incorrectly Classified</td>\n",
       "      <td>38.3</td>\n",
       "    </tr>\n",
       "    <tr>\n",
       "      <th>6</th>\n",
       "      <td>GaussianNB</td>\n",
       "      <td>Incorrectly Classified</td>\n",
       "      <td>29.9</td>\n",
       "    </tr>\n",
       "    <tr>\n",
       "      <th>7</th>\n",
       "      <td>LogisticRegression</td>\n",
       "      <td>Incorrectly Classified</td>\n",
       "      <td>22.7</td>\n",
       "    </tr>\n",
       "    <tr>\n",
       "      <th>8</th>\n",
       "      <td>DecisionTreeClassifier</td>\n",
       "      <td>Incorrectly Classified</td>\n",
       "      <td>21.4</td>\n",
       "    </tr>\n",
       "    <tr>\n",
       "      <th>9</th>\n",
       "      <td>RandomForestClassifier</td>\n",
       "      <td>Incorrectly Classified</td>\n",
       "      <td>22.7</td>\n",
       "    </tr>\n",
       "  </tbody>\n",
       "</table>\n",
       "</div>"
      ],
      "text/plain": [
       "                    model                    cols  vals\n",
       "0             BernoulliNB    Correctly Classified  61.7\n",
       "1              GaussianNB    Correctly Classified  70.1\n",
       "2      LogisticRegression    Correctly Classified  77.3\n",
       "3  DecisionTreeClassifier    Correctly Classified  78.6\n",
       "4  RandomForestClassifier    Correctly Classified  77.3\n",
       "5             BernoulliNB  Incorrectly Classified  38.3\n",
       "6              GaussianNB  Incorrectly Classified  29.9\n",
       "7      LogisticRegression  Incorrectly Classified  22.7\n",
       "8  DecisionTreeClassifier  Incorrectly Classified  21.4\n",
       "9  RandomForestClassifier  Incorrectly Classified  22.7"
      ]
     },
     "execution_count": 46,
     "metadata": {},
     "output_type": "execute_result"
    }
   ],
   "source": [
    "results_conf[\"Correctly Classified\"] = (\n",
    "    results_conf[\"true_negative\"] + results_conf[\"true_positive\"]\n",
    ")\n",
    "results_conf[\"Incorrectly Classified\"] = (\n",
    "    test1_y.shape[0] - results_conf[\"Correctly Classified\"]\n",
    ")\n",
    "\n",
    "cm_data = results_conf[\n",
    "    [\"model\", \"Correctly Classified\", \"Incorrectly Classified\"]\n",
    "].melt(\"model\", var_name=\"cols\", value_name=\"vals\")\n",
    "\n",
    "cm_data\n",
    "\n",
    "cm_data[\"vals\"] = cm_data[\"vals\"] / test1_y.shape[0] * 100\n",
    "\n",
    "cm_data[\"vals\"] = cm_data[\"vals\"].apply(lambda x: round(x, 1))\n",
    "\n",
    "cm_data"
   ]
  },
  {
   "cell_type": "code",
   "execution_count": 47,
   "id": "71592c52-44f0-4d83-955a-4112e284e8cb",
   "metadata": {
    "execution": {
     "iopub.execute_input": "2022-12-04T23:40:39.717435Z",
     "iopub.status.busy": "2022-12-04T23:40:39.717189Z",
     "iopub.status.idle": "2022-12-04T23:40:40.182378Z",
     "shell.execute_reply": "2022-12-04T23:40:40.181943Z",
     "shell.execute_reply.started": "2022-12-04T23:40:39.717410Z"
    },
    "tags": []
   },
   "outputs": [
    {
     "data": {
      "image/png": "[encoded data removed]",
      "text/plain": [
       "<Figure size 1044x324 with 1 Axes>"
      ]
     },
     "metadata": {},
     "output_type": "display_data"
    }
   ],
   "source": [
    "# plt.figure(figsize=(10,5))\n",
    "g = sns.catplot(data=cm_data, y=\"vals\", x=\"model\", hue=\"cols\", kind=\"bar\")\n",
    "g.despine(left=True)\n",
    "g.set_axis_labels(\"\", \"Percent Classified\")\n",
    "g.legend.set_title(\"\")\n",
    "sns.move_legend(g, \"lower left\")\n",
    "g.figure.set_size_inches(14.5, 4.5)\n",
    "\n",
    "# sns.barplot(data=results_conf,y='incorrectly_classified',x='model')\n",
    "# extract the matplotlib axes_subplot objects from the FacetGrid\n",
    "ax = g.facet_axis(0, 0)\n",
    "\n",
    "# iterate through the axes containers\n",
    "for c in ax.containers:\n",
    "    labels = [f\"{(v.get_height()):.0f}\" for v in c]\n",
    "    ax.bar_label(c, labels=labels, label_type=\"edge\")\n",
    "# g.legend(bbox_to_anchor=(1.05, 1), loc='upper left', borderaxespad=0)\n",
    "g.fig.suptitle(\n",
    "    \"Figure3- Classification with percentage split technique\",\n",
    "    horizontalalignment=\"left\",\n",
    "    x=0.1,\n",
    "    y=1.1,\n",
    ")\n",
    "g.savefig(\"figure3-classification with percentage split technique.png\")"
   ]
  },
  {
   "cell_type": "code",
   "execution_count": 48,
   "id": "783bb76b-f4bb-4cc4-b911-bcd6b1b12b1e",
   "metadata": {
    "execution": {
     "iopub.execute_input": "2022-12-04T23:40:51.614623Z",
     "iopub.status.busy": "2022-12-04T23:40:51.614289Z",
     "iopub.status.idle": "2022-12-04T23:40:51.624405Z",
     "shell.execute_reply": "2022-12-04T23:40:51.623563Z",
     "shell.execute_reply.started": "2022-12-04T23:40:51.614594Z"
    },
    "tags": []
   },
   "outputs": [
    {
     "name": "stdout",
     "output_type": "stream",
     "text": [
      "class_stats_percentage_split\n"
     ]
    },
    {
     "data": {
      "text/html": [
       "<div>\n",
       "<style scoped>\n",
       "    .dataframe tbody tr th:only-of-type {\n",
       "        vertical-align: middle;\n",
       "    }\n",
       "\n",
       "    .dataframe tbody tr th {\n",
       "        vertical-align: top;\n",
       "    }\n",
       "\n",
       "    .dataframe thead th {\n",
       "        text-align: right;\n",
       "    }\n",
       "</style>\n",
       "<table border=\"1\" class=\"dataframe\">\n",
       "  <thead>\n",
       "    <tr style=\"text-align: right;\">\n",
       "      <th></th>\n",
       "      <th>precision</th>\n",
       "      <th>recall</th>\n",
       "      <th>fbeta</th>\n",
       "      <th>support</th>\n",
       "      <th>model</th>\n",
       "    </tr>\n",
       "  </thead>\n",
       "  <tbody>\n",
       "    <tr>\n",
       "      <th>negative</th>\n",
       "      <td>0.7</td>\n",
       "      <td>0.707071</td>\n",
       "      <td>0.703518</td>\n",
       "      <td>99.0</td>\n",
       "      <td>BernoulliNB</td>\n",
       "    </tr>\n",
       "    <tr>\n",
       "      <th>positive</th>\n",
       "      <td>0.462963</td>\n",
       "      <td>0.454545</td>\n",
       "      <td>0.458716</td>\n",
       "      <td>55.0</td>\n",
       "      <td>BernoulliNB</td>\n",
       "    </tr>\n",
       "    <tr>\n",
       "      <th>negative</th>\n",
       "      <td>0.82716</td>\n",
       "      <td>0.676768</td>\n",
       "      <td>0.744444</td>\n",
       "      <td>99.0</td>\n",
       "      <td>GaussianNB</td>\n",
       "    </tr>\n",
       "    <tr>\n",
       "      <th>positive</th>\n",
       "      <td>0.561644</td>\n",
       "      <td>0.745455</td>\n",
       "      <td>0.640625</td>\n",
       "      <td>55.0</td>\n",
       "      <td>GaussianNB</td>\n",
       "    </tr>\n",
       "    <tr>\n",
       "      <th>negative</th>\n",
       "      <td>0.790909</td>\n",
       "      <td>0.878788</td>\n",
       "      <td>0.832536</td>\n",
       "      <td>99.0</td>\n",
       "      <td>LogisticRegression</td>\n",
       "    </tr>\n",
       "    <tr>\n",
       "      <th>positive</th>\n",
       "      <td>0.727273</td>\n",
       "      <td>0.581818</td>\n",
       "      <td>0.646465</td>\n",
       "      <td>55.0</td>\n",
       "      <td>LogisticRegression</td>\n",
       "    </tr>\n",
       "    <tr>\n",
       "      <th>negative</th>\n",
       "      <td>0.8</td>\n",
       "      <td>0.888889</td>\n",
       "      <td>0.842105</td>\n",
       "      <td>99.0</td>\n",
       "      <td>DecisionTreeClassifier</td>\n",
       "    </tr>\n",
       "    <tr>\n",
       "      <th>positive</th>\n",
       "      <td>0.75</td>\n",
       "      <td>0.6</td>\n",
       "      <td>0.666667</td>\n",
       "      <td>55.0</td>\n",
       "      <td>DecisionTreeClassifier</td>\n",
       "    </tr>\n",
       "    <tr>\n",
       "      <th>negative</th>\n",
       "      <td>0.790909</td>\n",
       "      <td>0.878788</td>\n",
       "      <td>0.832536</td>\n",
       "      <td>99.0</td>\n",
       "      <td>RandomForestClassifier</td>\n",
       "    </tr>\n",
       "    <tr>\n",
       "      <th>positive</th>\n",
       "      <td>0.727273</td>\n",
       "      <td>0.581818</td>\n",
       "      <td>0.646465</td>\n",
       "      <td>55.0</td>\n",
       "      <td>RandomForestClassifier</td>\n",
       "    </tr>\n",
       "  </tbody>\n",
       "</table>\n",
       "</div>"
      ],
      "text/plain": [
       "         precision    recall     fbeta support                   model\n",
       "negative       0.7  0.707071  0.703518    99.0             BernoulliNB\n",
       "positive  0.462963  0.454545  0.458716    55.0             BernoulliNB\n",
       "negative   0.82716  0.676768  0.744444    99.0              GaussianNB\n",
       "positive  0.561644  0.745455  0.640625    55.0              GaussianNB\n",
       "negative  0.790909  0.878788  0.832536    99.0      LogisticRegression\n",
       "positive  0.727273  0.581818  0.646465    55.0      LogisticRegression\n",
       "negative       0.8  0.888889  0.842105    99.0  DecisionTreeClassifier\n",
       "positive      0.75       0.6  0.666667    55.0  DecisionTreeClassifier\n",
       "negative  0.790909  0.878788  0.832536    99.0  RandomForestClassifier\n",
       "positive  0.727273  0.581818  0.646465    55.0  RandomForestClassifier"
      ]
     },
     "execution_count": 48,
     "metadata": {},
     "output_type": "execute_result"
    }
   ],
   "source": [
    "print(\"class_stats_percentage_split\")\n",
    "results"
   ]
  },
  {
   "cell_type": "code",
   "execution_count": 49,
   "id": "4e345012-f49b-4950-bc01-4f870aae8e4d",
   "metadata": {
    "execution": {
     "iopub.execute_input": "2022-12-04T23:40:51.627062Z",
     "iopub.status.busy": "2022-12-04T23:40:51.626672Z",
     "iopub.status.idle": "2022-12-04T23:40:51.639180Z",
     "shell.execute_reply": "2022-12-04T23:40:51.638464Z",
     "shell.execute_reply.started": "2022-12-04T23:40:51.627008Z"
    },
    "tags": []
   },
   "outputs": [
    {
     "name": "stdout",
     "output_type": "stream",
     "text": [
      "model_compare\n"
     ]
    },
    {
     "data": {
      "text/html": [
       "<div>\n",
       "<style scoped>\n",
       "    .dataframe tbody tr th:only-of-type {\n",
       "        vertical-align: middle;\n",
       "    }\n",
       "\n",
       "    .dataframe tbody tr th {\n",
       "        vertical-align: top;\n",
       "    }\n",
       "\n",
       "    .dataframe thead th {\n",
       "        text-align: right;\n",
       "    }\n",
       "</style>\n",
       "<table border=\"1\" class=\"dataframe\">\n",
       "  <thead>\n",
       "    <tr style=\"text-align: right;\">\n",
       "      <th></th>\n",
       "      <th>Model Name</th>\n",
       "      <th>Precision</th>\n",
       "      <th>Recall</th>\n",
       "      <th>F1</th>\n",
       "      <th>Train Accuracy</th>\n",
       "      <th>Test Accuracy</th>\n",
       "    </tr>\n",
       "  </thead>\n",
       "  <tbody>\n",
       "    <tr>\n",
       "      <th>0</th>\n",
       "      <td>BernoulliNB</td>\n",
       "      <td>0.581481</td>\n",
       "      <td>0.580808</td>\n",
       "      <td>0.581117</td>\n",
       "      <td>0.659609</td>\n",
       "      <td>0.616883</td>\n",
       "    </tr>\n",
       "    <tr>\n",
       "      <th>1</th>\n",
       "      <td>GaussianNB</td>\n",
       "      <td>0.694402</td>\n",
       "      <td>0.711111</td>\n",
       "      <td>0.692535</td>\n",
       "      <td>0.716612</td>\n",
       "      <td>0.701299</td>\n",
       "    </tr>\n",
       "    <tr>\n",
       "      <th>2</th>\n",
       "      <td>LogisticRegression</td>\n",
       "      <td>0.759091</td>\n",
       "      <td>0.730303</td>\n",
       "      <td>0.7395</td>\n",
       "      <td>0.758958</td>\n",
       "      <td>0.772727</td>\n",
       "    </tr>\n",
       "    <tr>\n",
       "      <th>3</th>\n",
       "      <td>DecisionTreeClassifier</td>\n",
       "      <td>0.775</td>\n",
       "      <td>0.744444</td>\n",
       "      <td>0.754386</td>\n",
       "      <td>0.806189</td>\n",
       "      <td>0.785714</td>\n",
       "    </tr>\n",
       "    <tr>\n",
       "      <th>4</th>\n",
       "      <td>RandomForestClassifier</td>\n",
       "      <td>0.759091</td>\n",
       "      <td>0.730303</td>\n",
       "      <td>0.7395</td>\n",
       "      <td>0.796417</td>\n",
       "      <td>0.772727</td>\n",
       "    </tr>\n",
       "  </tbody>\n",
       "</table>\n",
       "</div>"
      ],
      "text/plain": [
       "               Model Name Precision    Recall        F1 Train Accuracy  \\\n",
       "0             BernoulliNB  0.581481  0.580808  0.581117       0.659609   \n",
       "1              GaussianNB  0.694402  0.711111  0.692535       0.716612   \n",
       "2      LogisticRegression  0.759091  0.730303    0.7395       0.758958   \n",
       "3  DecisionTreeClassifier     0.775  0.744444  0.754386       0.806189   \n",
       "4  RandomForestClassifier  0.759091  0.730303    0.7395       0.796417   \n",
       "\n",
       "  Test Accuracy  \n",
       "0      0.616883  \n",
       "1      0.701299  \n",
       "2      0.772727  \n",
       "3      0.785714  \n",
       "4      0.772727  "
      ]
     },
     "execution_count": 49,
     "metadata": {},
     "output_type": "execute_result"
    }
   ],
   "source": [
    "print(\"model_compare\")\n",
    "model_compare"
   ]
  },
  {
   "cell_type": "code",
   "execution_count": 50,
   "id": "d2d6315b-06b8-4a4f-aa3c-78789926018d",
   "metadata": {
    "execution": {
     "iopub.execute_input": "2022-12-04T23:40:51.640561Z",
     "iopub.status.busy": "2022-12-04T23:40:51.640297Z",
     "iopub.status.idle": "2022-12-04T23:40:51.644731Z",
     "shell.execute_reply": "2022-12-04T23:40:51.643592Z",
     "shell.execute_reply.started": "2022-12-04T23:40:51.640538Z"
    },
    "tags": []
   },
   "outputs": [
    {
     "name": "stdout",
     "output_type": "stream",
     "text": [
      "(768, 13) (768,)\n"
     ]
    }
   ],
   "source": [
    "print(X.shape, y.shape)"
   ]
  },
  {
   "cell_type": "code",
   "execution_count": 51,
   "id": "a95238e8-e72a-4931-b7a6-5a02b2289b56",
   "metadata": {
    "execution": {
     "iopub.execute_input": "2022-12-04T23:40:51.646511Z",
     "iopub.status.busy": "2022-12-04T23:40:51.646038Z",
     "iopub.status.idle": "2022-12-04T23:40:51.652377Z",
     "shell.execute_reply": "2022-12-04T23:40:51.651670Z",
     "shell.execute_reply.started": "2022-12-04T23:40:51.646483Z"
    },
    "tags": []
   },
   "outputs": [],
   "source": [
    "# split dataset in cross-validation with this splitter class:\n",
    "# http://scikit-learn.org/stable/modules/generated/sklearn.model_selection.ShuffleSplit.html#sklearn.model_selection.ShuffleSplit\n",
    "# note: this is an alternative to train_test_split\n",
    "cv_split = model_selection.ShuffleSplit(\n",
    "    n_splits=10, test_size=0.3, train_size=0.7, random_state=0\n",
    ")\n",
    "\n",
    "# create table to compare MLA metrics\n",
    "MLA_columns = [\n",
    "    \"MLA Name\",\n",
    "    \"MLA Parameters\",\n",
    "    \"MLA Train Accuracy Mean\",\n",
    "    \"MLA Test Accuracy Mean\",\n",
    "    \"MLA Test Accuracy 3*STD\",\n",
    "    \"MLA Time\",\n",
    "]\n",
    "MLA_compare = pd.DataFrame(columns=MLA_columns)\n",
    "\n",
    "# create table to compare MLA predictions\n",
    "MLA_predict = y"
   ]
  },
  {
   "cell_type": "code",
   "execution_count": 52,
   "id": "1857b88f-1100-4acb-aa15-a0b6d565f1d1",
   "metadata": {
    "execution": {
     "iopub.execute_input": "2022-12-04T23:41:00.150889Z",
     "iopub.status.busy": "2022-12-04T23:41:00.150578Z",
     "iopub.status.idle": "2022-12-04T23:41:00.156300Z",
     "shell.execute_reply": "2022-12-04T23:41:00.155597Z",
     "shell.execute_reply.started": "2022-12-04T23:41:00.150857Z"
    },
    "tags": []
   },
   "outputs": [
    {
     "data": {
      "text/plain": [
       "ShuffleSplit(n_splits=10, random_state=0, test_size=0.3, train_size=0.7)"
      ]
     },
     "execution_count": 52,
     "metadata": {},
     "output_type": "execute_result"
    }
   ],
   "source": [
    "cv_split"
   ]
  },
  {
   "cell_type": "code",
   "execution_count": 53,
   "id": "2585e1ab-b5b7-490f-a159-2c06b071a73d",
   "metadata": {
    "execution": {
     "iopub.execute_input": "2022-12-04T23:41:00.158485Z",
     "iopub.status.busy": "2022-12-04T23:41:00.158172Z",
     "iopub.status.idle": "2022-12-04T23:41:01.688955Z",
     "shell.execute_reply": "2022-12-04T23:41:01.688498Z",
     "shell.execute_reply.started": "2022-12-04T23:41:00.158458Z"
    },
    "tags": []
   },
   "outputs": [
    {
     "name": "stdout",
     "output_type": "stream",
     "text": [
      "(0.4672897196261682, 0.373134328358209, 0.4149377593360996, None) \n",
      "\n",
      "(0.5765765765765766, 0.7164179104477612, 0.6389351081530782, None) \n",
      "\n",
      "(0.7461928934010152, 0.5485074626865671, 0.6322580645161291, None) \n",
      "\n",
      "(0.7056603773584905, 0.6977611940298507, 0.7016885553470918, None) \n",
      "\n",
      "(0.7914438502673797, 0.5522388059701493, 0.6505494505494507, None) \n",
      "\n"
     ]
    },
    {
     "data": {
      "text/html": [
       "<div>\n",
       "<style scoped>\n",
       "    .dataframe tbody tr th:only-of-type {\n",
       "        vertical-align: middle;\n",
       "    }\n",
       "\n",
       "    .dataframe tbody tr th {\n",
       "        vertical-align: top;\n",
       "    }\n",
       "\n",
       "    .dataframe thead th {\n",
       "        text-align: right;\n",
       "    }\n",
       "</style>\n",
       "<table border=\"1\" class=\"dataframe\">\n",
       "  <thead>\n",
       "    <tr style=\"text-align: right;\">\n",
       "      <th></th>\n",
       "      <th>MLA Name</th>\n",
       "      <th>MLA Parameters</th>\n",
       "      <th>MLA Train Accuracy Mean</th>\n",
       "      <th>MLA Test Accuracy Mean</th>\n",
       "      <th>MLA Test Accuracy 3*STD</th>\n",
       "      <th>MLA Time</th>\n",
       "    </tr>\n",
       "  </thead>\n",
       "  <tbody>\n",
       "    <tr>\n",
       "      <th>2</th>\n",
       "      <td>LogisticRegression</td>\n",
       "      <td>{'C': 1.0, 'class_weight': None, 'dual': False...</td>\n",
       "      <td>0.727475</td>\n",
       "      <td>0.726236</td>\n",
       "      <td>0.094305</td>\n",
       "      <td>0.00641</td>\n",
       "    </tr>\n",
       "    <tr>\n",
       "      <th>4</th>\n",
       "      <td>RandomForestClassifier</td>\n",
       "      <td>{'bootstrap': True, 'ccp_alpha': 0.0, 'class_w...</td>\n",
       "      <td>0.751349</td>\n",
       "      <td>0.709358</td>\n",
       "      <td>0.056352</td>\n",
       "      <td>0.097658</td>\n",
       "    </tr>\n",
       "    <tr>\n",
       "      <th>1</th>\n",
       "      <td>GaussianNB</td>\n",
       "      <td>{'priors': None, 'var_smoothing': 1e-09}</td>\n",
       "      <td>0.699693</td>\n",
       "      <td>0.69567</td>\n",
       "      <td>0.098183</td>\n",
       "      <td>0.000795</td>\n",
       "    </tr>\n",
       "    <tr>\n",
       "      <th>3</th>\n",
       "      <td>DecisionTreeClassifier</td>\n",
       "      <td>{'ccp_alpha': 0.0, 'class_weight': None, 'crit...</td>\n",
       "      <td>0.755409</td>\n",
       "      <td>0.69486</td>\n",
       "      <td>0.079151</td>\n",
       "      <td>0.00109</td>\n",
       "    </tr>\n",
       "    <tr>\n",
       "      <th>0</th>\n",
       "      <td>BernoulliNB</td>\n",
       "      <td>{'alpha': 1.0, 'binarize': 0.0, 'class_prior':...</td>\n",
       "      <td>0.608856</td>\n",
       "      <td>0.577552</td>\n",
       "      <td>0.136239</td>\n",
       "      <td>0.001198</td>\n",
       "    </tr>\n",
       "  </tbody>\n",
       "</table>\n",
       "</div>"
      ],
      "text/plain": [
       "                 MLA Name                                     MLA Parameters  \\\n",
       "2      LogisticRegression  {'C': 1.0, 'class_weight': None, 'dual': False...   \n",
       "4  RandomForestClassifier  {'bootstrap': True, 'ccp_alpha': 0.0, 'class_w...   \n",
       "1              GaussianNB           {'priors': None, 'var_smoothing': 1e-09}   \n",
       "3  DecisionTreeClassifier  {'ccp_alpha': 0.0, 'class_weight': None, 'crit...   \n",
       "0             BernoulliNB  {'alpha': 1.0, 'binarize': 0.0, 'class_prior':...   \n",
       "\n",
       "  MLA Train Accuracy Mean MLA Test Accuracy Mean MLA Test Accuracy 3*STD  \\\n",
       "2                0.727475               0.726236                0.094305   \n",
       "4                0.751349               0.709358                0.056352   \n",
       "1                0.699693                0.69567                0.098183   \n",
       "3                0.755409                0.69486                0.079151   \n",
       "0                0.608856               0.577552                0.136239   \n",
       "\n",
       "   MLA Time  \n",
       "2   0.00641  \n",
       "4  0.097658  \n",
       "1  0.000795  \n",
       "3   0.00109  \n",
       "0  0.001198  "
      ]
     },
     "execution_count": 53,
     "metadata": {},
     "output_type": "execute_result"
    }
   ],
   "source": [
    "results_conf = pd.DataFrame(\n",
    "    columns=[\n",
    "        \"true_negative\",\n",
    "        \"false_positive\",\n",
    "        \"false_negative\",\n",
    "        \"true_positive\",\n",
    "        \"model\",\n",
    "    ]\n",
    ")\n",
    "# index through MLA and save performance to table\n",
    "row_index = 0\n",
    "for alg in MLA:\n",
    "\n",
    "    # set name and parameters\n",
    "    MLA_name = alg.__class__.__name__\n",
    "    MLA_compare.loc[row_index, \"MLA Name\"] = MLA_name\n",
    "    MLA_compare.loc[row_index, \"MLA Parameters\"] = str(alg.get_params())\n",
    "\n",
    "    # score model with cross validation:\n",
    "    # http://scikit-learn.org/stable/modules/generated/sklearn.model_selection.cross_validate.html#sklearn.model_selection.cross_validate\n",
    "    cv_results = model_selection.cross_validate(\n",
    "        alg, X, y, cv=cv_split, return_train_score=True, scoring=\"f1_macro\",\n",
    "    )\n",
    "\n",
    "    MLA_compare.loc[row_index, \"MLA Time\"] = cv_results[\"fit_time\"].mean()\n",
    "    MLA_compare.loc[row_index, \"MLA Train Accuracy Mean\"] = cv_results[\n",
    "        \"train_score\"\n",
    "    ].mean()\n",
    "    MLA_compare.loc[row_index, \"MLA Test Accuracy Mean\"] = cv_results[\n",
    "        \"test_score\"\n",
    "    ].mean()\n",
    "    # if this is a non-bias random sample, then +/-3 standard deviations (std) from the mean, should statistically capture 99.7% of the subsets\n",
    "    MLA_compare.loc[row_index, \"MLA Test Accuracy 3*STD\"] = (\n",
    "        cv_results[\"test_score\"].std() * 3\n",
    "    )  # let's know the worst that can happen!\n",
    "\n",
    "    # save MLA predictions - see section 6 for usage\n",
    "    model = alg.fit(X, y)\n",
    "    y_pred = alg.predict(X)\n",
    "\n",
    "    print(\n",
    "        sklearn.metrics.precision_recall_fscore_support(y, y_pred, average=\"binary\"),\n",
    "        \"\\n\",\n",
    "    )\n",
    "    prec, recall, f1, support = sklearn.metrics.precision_recall_fscore_support(\n",
    "        y, y_pred, average=\"binary\"\n",
    "    )\n",
    "\n",
    "    flattened = sklearn.metrics.confusion_matrix(y, y_pred).ravel()\n",
    "    confusion = pd.DataFrame(\n",
    "        [flattened],\n",
    "        columns=[\"true_negative\", \"false_positive\", \"false_negative\", \"true_positive\"],\n",
    "    )\n",
    "    confusion[\"model\"] = MLA_name\n",
    "    results_conf = pd.concat([results_conf, confusion])\n",
    "\n",
    "    model_compare.loc[row_index, \"Model Name\"] = MLA_name\n",
    "    model_compare.loc[row_index, \"Precision\"] = prec\n",
    "    model_compare.loc[row_index, \"Recall\"] = recall\n",
    "    model_compare.loc[row_index, \"F1\"] = f1\n",
    "    model_compare.loc[row_index, \"Train Accuracy\"] = cv_results[\"train_score\"].mean()\n",
    "    model_compare.loc[row_index, \"Test Accuracy\"] = cv_results[\"test_score\"].mean()\n",
    "\n",
    "    row_index += 1\n",
    "\n",
    "\n",
    "results_conf = results_conf.dropna()\n",
    "# print and sort table: https://pandas.pydata.org/pandas-docs/stable/generated/pandas.DataFrame.sort_values.html\n",
    "MLA_compare.sort_values(by=[\"MLA Test Accuracy Mean\"], ascending=False, inplace=True)\n",
    "MLA_compare\n",
    "# MLA_predict"
   ]
  },
  {
   "cell_type": "code",
   "execution_count": 54,
   "id": "8eaf7439-e363-40fd-8839-4cbcec9facd7",
   "metadata": {
    "execution": {
     "iopub.execute_input": "2022-12-04T23:41:08.110464Z",
     "iopub.status.busy": "2022-12-04T23:41:08.110169Z",
     "iopub.status.idle": "2022-12-04T23:41:08.119449Z",
     "shell.execute_reply": "2022-12-04T23:41:08.118606Z",
     "shell.execute_reply.started": "2022-12-04T23:41:08.110433Z"
    },
    "tags": []
   },
   "outputs": [],
   "source": [
    "results_conf[\"Correctly Classified\"] = (\n",
    "    results_conf[\"true_negative\"] + results_conf[\"true_positive\"]\n",
    ")\n",
    "results_conf[\"Incorrectly Classified\"] = (\n",
    "    y.shape[0] - results_conf[\"Correctly Classified\"]\n",
    ")\n",
    "\n",
    "cm_data = results_conf[\n",
    "    [\"model\", \"Correctly Classified\", \"Incorrectly Classified\"]\n",
    "].melt(\"model\", var_name=\"cols\", value_name=\"vals\")"
   ]
  },
  {
   "cell_type": "code",
   "execution_count": 55,
   "id": "f0dcf108-7a03-48c9-b168-e222da5877e5",
   "metadata": {
    "execution": {
     "iopub.execute_input": "2022-12-04T23:41:09.534030Z",
     "iopub.status.busy": "2022-12-04T23:41:09.533667Z",
     "iopub.status.idle": "2022-12-04T23:41:09.542204Z",
     "shell.execute_reply": "2022-12-04T23:41:09.541278Z",
     "shell.execute_reply.started": "2022-12-04T23:41:09.534003Z"
    },
    "tags": []
   },
   "outputs": [
    {
     "data": {
      "text/html": [
       "<div>\n",
       "<style scoped>\n",
       "    .dataframe tbody tr th:only-of-type {\n",
       "        vertical-align: middle;\n",
       "    }\n",
       "\n",
       "    .dataframe tbody tr th {\n",
       "        vertical-align: top;\n",
       "    }\n",
       "\n",
       "    .dataframe thead th {\n",
       "        text-align: right;\n",
       "    }\n",
       "</style>\n",
       "<table border=\"1\" class=\"dataframe\">\n",
       "  <thead>\n",
       "    <tr style=\"text-align: right;\">\n",
       "      <th></th>\n",
       "      <th>model</th>\n",
       "      <th>cols</th>\n",
       "      <th>vals</th>\n",
       "    </tr>\n",
       "  </thead>\n",
       "  <tbody>\n",
       "    <tr>\n",
       "      <th>0</th>\n",
       "      <td>BernoulliNB</td>\n",
       "      <td>Correctly Classified</td>\n",
       "      <td>486</td>\n",
       "    </tr>\n",
       "    <tr>\n",
       "      <th>1</th>\n",
       "      <td>GaussianNB</td>\n",
       "      <td>Correctly Classified</td>\n",
       "      <td>551</td>\n",
       "    </tr>\n",
       "    <tr>\n",
       "      <th>2</th>\n",
       "      <td>LogisticRegression</td>\n",
       "      <td>Correctly Classified</td>\n",
       "      <td>597</td>\n",
       "    </tr>\n",
       "    <tr>\n",
       "      <th>3</th>\n",
       "      <td>DecisionTreeClassifier</td>\n",
       "      <td>Correctly Classified</td>\n",
       "      <td>609</td>\n",
       "    </tr>\n",
       "    <tr>\n",
       "      <th>4</th>\n",
       "      <td>RandomForestClassifier</td>\n",
       "      <td>Correctly Classified</td>\n",
       "      <td>609</td>\n",
       "    </tr>\n",
       "    <tr>\n",
       "      <th>5</th>\n",
       "      <td>BernoulliNB</td>\n",
       "      <td>Incorrectly Classified</td>\n",
       "      <td>282</td>\n",
       "    </tr>\n",
       "    <tr>\n",
       "      <th>6</th>\n",
       "      <td>GaussianNB</td>\n",
       "      <td>Incorrectly Classified</td>\n",
       "      <td>217</td>\n",
       "    </tr>\n",
       "    <tr>\n",
       "      <th>7</th>\n",
       "      <td>LogisticRegression</td>\n",
       "      <td>Incorrectly Classified</td>\n",
       "      <td>171</td>\n",
       "    </tr>\n",
       "    <tr>\n",
       "      <th>8</th>\n",
       "      <td>DecisionTreeClassifier</td>\n",
       "      <td>Incorrectly Classified</td>\n",
       "      <td>159</td>\n",
       "    </tr>\n",
       "    <tr>\n",
       "      <th>9</th>\n",
       "      <td>RandomForestClassifier</td>\n",
       "      <td>Incorrectly Classified</td>\n",
       "      <td>159</td>\n",
       "    </tr>\n",
       "  </tbody>\n",
       "</table>\n",
       "</div>"
      ],
      "text/plain": [
       "                    model                    cols vals\n",
       "0             BernoulliNB    Correctly Classified  486\n",
       "1              GaussianNB    Correctly Classified  551\n",
       "2      LogisticRegression    Correctly Classified  597\n",
       "3  DecisionTreeClassifier    Correctly Classified  609\n",
       "4  RandomForestClassifier    Correctly Classified  609\n",
       "5             BernoulliNB  Incorrectly Classified  282\n",
       "6              GaussianNB  Incorrectly Classified  217\n",
       "7      LogisticRegression  Incorrectly Classified  171\n",
       "8  DecisionTreeClassifier  Incorrectly Classified  159\n",
       "9  RandomForestClassifier  Incorrectly Classified  159"
      ]
     },
     "execution_count": 55,
     "metadata": {},
     "output_type": "execute_result"
    }
   ],
   "source": [
    "cm_data"
   ]
  },
  {
   "cell_type": "code",
   "execution_count": 56,
   "id": "72b00453-bcd4-4be5-aeff-ed697bbbd94f",
   "metadata": {
    "execution": {
     "iopub.execute_input": "2022-12-04T23:41:09.545372Z",
     "iopub.status.busy": "2022-12-04T23:41:09.544697Z",
     "iopub.status.idle": "2022-12-04T23:41:09.555879Z",
     "shell.execute_reply": "2022-12-04T23:41:09.554987Z",
     "shell.execute_reply.started": "2022-12-04T23:41:09.545339Z"
    },
    "tags": []
   },
   "outputs": [
    {
     "data": {
      "text/html": [
       "<div>\n",
       "<style scoped>\n",
       "    .dataframe tbody tr th:only-of-type {\n",
       "        vertical-align: middle;\n",
       "    }\n",
       "\n",
       "    .dataframe tbody tr th {\n",
       "        vertical-align: top;\n",
       "    }\n",
       "\n",
       "    .dataframe thead th {\n",
       "        text-align: right;\n",
       "    }\n",
       "</style>\n",
       "<table border=\"1\" class=\"dataframe\">\n",
       "  <thead>\n",
       "    <tr style=\"text-align: right;\">\n",
       "      <th></th>\n",
       "      <th>model</th>\n",
       "      <th>cols</th>\n",
       "      <th>vals</th>\n",
       "    </tr>\n",
       "  </thead>\n",
       "  <tbody>\n",
       "    <tr>\n",
       "      <th>0</th>\n",
       "      <td>BernoulliNB</td>\n",
       "      <td>Correctly Classified</td>\n",
       "      <td>63.3</td>\n",
       "    </tr>\n",
       "    <tr>\n",
       "      <th>1</th>\n",
       "      <td>GaussianNB</td>\n",
       "      <td>Correctly Classified</td>\n",
       "      <td>71.7</td>\n",
       "    </tr>\n",
       "    <tr>\n",
       "      <th>2</th>\n",
       "      <td>LogisticRegression</td>\n",
       "      <td>Correctly Classified</td>\n",
       "      <td>77.7</td>\n",
       "    </tr>\n",
       "    <tr>\n",
       "      <th>3</th>\n",
       "      <td>DecisionTreeClassifier</td>\n",
       "      <td>Correctly Classified</td>\n",
       "      <td>79.3</td>\n",
       "    </tr>\n",
       "    <tr>\n",
       "      <th>4</th>\n",
       "      <td>RandomForestClassifier</td>\n",
       "      <td>Correctly Classified</td>\n",
       "      <td>79.3</td>\n",
       "    </tr>\n",
       "    <tr>\n",
       "      <th>5</th>\n",
       "      <td>BernoulliNB</td>\n",
       "      <td>Incorrectly Classified</td>\n",
       "      <td>36.7</td>\n",
       "    </tr>\n",
       "    <tr>\n",
       "      <th>6</th>\n",
       "      <td>GaussianNB</td>\n",
       "      <td>Incorrectly Classified</td>\n",
       "      <td>28.3</td>\n",
       "    </tr>\n",
       "    <tr>\n",
       "      <th>7</th>\n",
       "      <td>LogisticRegression</td>\n",
       "      <td>Incorrectly Classified</td>\n",
       "      <td>22.3</td>\n",
       "    </tr>\n",
       "    <tr>\n",
       "      <th>8</th>\n",
       "      <td>DecisionTreeClassifier</td>\n",
       "      <td>Incorrectly Classified</td>\n",
       "      <td>20.7</td>\n",
       "    </tr>\n",
       "    <tr>\n",
       "      <th>9</th>\n",
       "      <td>RandomForestClassifier</td>\n",
       "      <td>Incorrectly Classified</td>\n",
       "      <td>20.7</td>\n",
       "    </tr>\n",
       "  </tbody>\n",
       "</table>\n",
       "</div>"
      ],
      "text/plain": [
       "                    model                    cols  vals\n",
       "0             BernoulliNB    Correctly Classified  63.3\n",
       "1              GaussianNB    Correctly Classified  71.7\n",
       "2      LogisticRegression    Correctly Classified  77.7\n",
       "3  DecisionTreeClassifier    Correctly Classified  79.3\n",
       "4  RandomForestClassifier    Correctly Classified  79.3\n",
       "5             BernoulliNB  Incorrectly Classified  36.7\n",
       "6              GaussianNB  Incorrectly Classified  28.3\n",
       "7      LogisticRegression  Incorrectly Classified  22.3\n",
       "8  DecisionTreeClassifier  Incorrectly Classified  20.7\n",
       "9  RandomForestClassifier  Incorrectly Classified  20.7"
      ]
     },
     "execution_count": 56,
     "metadata": {},
     "output_type": "execute_result"
    }
   ],
   "source": [
    "cm_data[\"vals\"] = cm_data[\"vals\"] / y.shape[0] * 100\n",
    "\n",
    "cm_data[\"vals\"] = cm_data[\"vals\"].apply(lambda x: round(x, 1))\n",
    "\n",
    "cm_data"
   ]
  },
  {
   "cell_type": "code",
   "execution_count": 57,
   "id": "18b8985d-fa7f-452f-8654-e5036bce696d",
   "metadata": {
    "execution": {
     "iopub.execute_input": "2022-12-04T23:41:12.124128Z",
     "iopub.status.busy": "2022-12-04T23:41:12.123886Z",
     "iopub.status.idle": "2022-12-04T23:41:12.529306Z",
     "shell.execute_reply": "2022-12-04T23:41:12.528394Z",
     "shell.execute_reply.started": "2022-12-04T23:41:12.124103Z"
    },
    "tags": []
   },
   "outputs": [
    {
     "data": {
      "image/png": "[encoded data removed]",
      "text/plain": [
       "<Figure size 1044x324 with 1 Axes>"
      ]
     },
     "metadata": {},
     "output_type": "display_data"
    }
   ],
   "source": [
    "# plt.figure(figsize=(10,5))\n",
    "g = sns.catplot(data=cm_data, y=\"vals\", x=\"model\", hue=\"cols\", kind=\"bar\")\n",
    "g.despine(left=True)\n",
    "g.set_axis_labels(\"\", \"Percent Classified\")\n",
    "g.legend.set_title(\"\")\n",
    "sns.move_legend(g, \"lower left\")\n",
    "g.figure.set_size_inches(14.5, 4.5)\n",
    "\n",
    "# sns.barplot(data=results_conf,y='incorrectly_classified',x='model')\n",
    "# extract the matplotlib axes_subplot objects from the FacetGrid\n",
    "ax = g.facet_axis(0, 0)\n",
    "\n",
    "# iterate through the axes containers\n",
    "for c in ax.containers:\n",
    "    labels = [f\"{(v.get_height()):.0f}\" for v in c]\n",
    "    ax.bar_label(c, labels=labels, label_type=\"edge\")\n",
    "g.fig.suptitle(\n",
    "    \"Figure3 - Classification with cross validation technique\",\n",
    "    horizontalalignment=\"left\",\n",
    "    x=0.1,\n",
    "    y=1.1,\n",
    ")\n",
    "g.savefig(\"figure3-classification with cross validation technique.png\")"
   ]
  },
  {
   "cell_type": "code",
   "execution_count": 58,
   "id": "618f17d1-7b36-4950-9b5f-96f6bf1c28fc",
   "metadata": {
    "execution": {
     "iopub.execute_input": "2022-12-04T23:41:54.225747Z",
     "iopub.status.busy": "2022-12-04T23:41:54.225431Z",
     "iopub.status.idle": "2022-12-04T23:41:54.236053Z",
     "shell.execute_reply": "2022-12-04T23:41:54.235412Z",
     "shell.execute_reply.started": "2022-12-04T23:41:54.225715Z"
    },
    "tags": []
   },
   "outputs": [
    {
     "name": "stdout",
     "output_type": "stream",
     "text": [
      "10-Fold CV Results\n"
     ]
    },
    {
     "data": {
      "text/html": [
       "<div>\n",
       "<style scoped>\n",
       "    .dataframe tbody tr th:only-of-type {\n",
       "        vertical-align: middle;\n",
       "    }\n",
       "\n",
       "    .dataframe tbody tr th {\n",
       "        vertical-align: top;\n",
       "    }\n",
       "\n",
       "    .dataframe thead th {\n",
       "        text-align: right;\n",
       "    }\n",
       "</style>\n",
       "<table border=\"1\" class=\"dataframe\">\n",
       "  <thead>\n",
       "    <tr style=\"text-align: right;\">\n",
       "      <th></th>\n",
       "      <th>Model Name</th>\n",
       "      <th>Precision</th>\n",
       "      <th>Recall</th>\n",
       "      <th>F1</th>\n",
       "      <th>Train Accuracy</th>\n",
       "      <th>Test Accuracy</th>\n",
       "    </tr>\n",
       "  </thead>\n",
       "  <tbody>\n",
       "    <tr>\n",
       "      <th>0</th>\n",
       "      <td>BernoulliNB</td>\n",
       "      <td>0.46729</td>\n",
       "      <td>0.373134</td>\n",
       "      <td>0.414938</td>\n",
       "      <td>0.608856</td>\n",
       "      <td>0.577552</td>\n",
       "    </tr>\n",
       "    <tr>\n",
       "      <th>1</th>\n",
       "      <td>GaussianNB</td>\n",
       "      <td>0.576577</td>\n",
       "      <td>0.716418</td>\n",
       "      <td>0.638935</td>\n",
       "      <td>0.699693</td>\n",
       "      <td>0.69567</td>\n",
       "    </tr>\n",
       "    <tr>\n",
       "      <th>2</th>\n",
       "      <td>LogisticRegression</td>\n",
       "      <td>0.746193</td>\n",
       "      <td>0.548507</td>\n",
       "      <td>0.632258</td>\n",
       "      <td>0.727475</td>\n",
       "      <td>0.726236</td>\n",
       "    </tr>\n",
       "    <tr>\n",
       "      <th>3</th>\n",
       "      <td>DecisionTreeClassifier</td>\n",
       "      <td>0.70566</td>\n",
       "      <td>0.697761</td>\n",
       "      <td>0.701689</td>\n",
       "      <td>0.755409</td>\n",
       "      <td>0.69486</td>\n",
       "    </tr>\n",
       "    <tr>\n",
       "      <th>4</th>\n",
       "      <td>RandomForestClassifier</td>\n",
       "      <td>0.791444</td>\n",
       "      <td>0.552239</td>\n",
       "      <td>0.650549</td>\n",
       "      <td>0.751349</td>\n",
       "      <td>0.709358</td>\n",
       "    </tr>\n",
       "  </tbody>\n",
       "</table>\n",
       "</div>"
      ],
      "text/plain": [
       "               Model Name Precision    Recall        F1 Train Accuracy  \\\n",
       "0             BernoulliNB   0.46729  0.373134  0.414938       0.608856   \n",
       "1              GaussianNB  0.576577  0.716418  0.638935       0.699693   \n",
       "2      LogisticRegression  0.746193  0.548507  0.632258       0.727475   \n",
       "3  DecisionTreeClassifier   0.70566  0.697761  0.701689       0.755409   \n",
       "4  RandomForestClassifier  0.791444  0.552239  0.650549       0.751349   \n",
       "\n",
       "  Test Accuracy  \n",
       "0      0.577552  \n",
       "1       0.69567  \n",
       "2      0.726236  \n",
       "3       0.69486  \n",
       "4      0.709358  "
      ]
     },
     "execution_count": 58,
     "metadata": {},
     "output_type": "execute_result"
    }
   ],
   "source": [
    "print(\"10-Fold CV Results\")\n",
    "model_compare"
   ]
  },
  {
   "cell_type": "code",
   "execution_count": 92,
   "id": "f5c29870-1e42-4ba9-a04e-ea9d2c4ffced",
   "metadata": {
    "execution": {
     "iopub.execute_input": "2022-12-04T23:46:12.932474Z",
     "iopub.status.busy": "2022-12-04T23:46:12.932197Z",
     "iopub.status.idle": "2022-12-04T23:46:12.936235Z",
     "shell.execute_reply": "2022-12-04T23:46:12.935508Z",
     "shell.execute_reply.started": "2022-12-04T23:46:12.932446Z"
    },
    "tags": []
   },
   "outputs": [],
   "source": [
    "alg = tree.DecisionTreeClassifier(max_depth=3)"
   ]
  },
  {
   "cell_type": "code",
   "execution_count": 93,
   "id": "7e785c00-23ec-4ef1-8486-6257e2b39f3e",
   "metadata": {
    "execution": {
     "iopub.execute_input": "2022-12-04T23:46:15.876921Z",
     "iopub.status.busy": "2022-12-04T23:46:15.876612Z",
     "iopub.status.idle": "2022-12-04T23:46:15.918583Z",
     "shell.execute_reply": "2022-12-04T23:46:15.917964Z",
     "shell.execute_reply.started": "2022-12-04T23:46:15.876890Z"
    },
    "tags": []
   },
   "outputs": [],
   "source": [
    "cv_results = model_selection.cross_validate(\n",
    "    alg, X, y, cv=cv_split, return_train_score=True, scoring=\"f1_macro\",\n",
    ")\n",
    "\n",
    "# save MLA predictions - see section 6 for usage\n",
    "model = alg.fit(X, y)\n",
    "y_pred = alg.predict(X)"
   ]
  },
  {
   "cell_type": "code",
   "execution_count": 94,
   "id": "f9438ff5-a9e3-4080-90b0-112aad79c3b5",
   "metadata": {
    "execution": {
     "iopub.execute_input": "2022-12-04T23:46:15.921202Z",
     "iopub.status.busy": "2022-12-04T23:46:15.920797Z",
     "iopub.status.idle": "2022-12-04T23:46:15.928654Z",
     "shell.execute_reply": "2022-12-04T23:46:15.927985Z",
     "shell.execute_reply.started": "2022-12-04T23:46:15.921175Z"
    },
    "tags": []
   },
   "outputs": [
    {
     "data": {
      "text/plain": [
       "(0.6942148760330579, 0.6268656716417911, 0.6588235294117648, None)"
      ]
     },
     "execution_count": 94,
     "metadata": {},
     "output_type": "execute_result"
    }
   ],
   "source": [
    "sklearn.metrics.precision_recall_fscore_support(y, y_pred, average=\"binary\")"
   ]
  },
  {
   "cell_type": "code",
   "execution_count": 95,
   "id": "d5839902-f425-45f3-9fbe-e9f82ac5e7f7",
   "metadata": {
    "execution": {
     "iopub.execute_input": "2022-12-04T23:46:15.929776Z",
     "iopub.status.busy": "2022-12-04T23:46:15.929465Z",
     "iopub.status.idle": "2022-12-04T23:46:15.936282Z",
     "shell.execute_reply": "2022-12-04T23:46:15.935337Z",
     "shell.execute_reply.started": "2022-12-04T23:46:15.929752Z"
    },
    "tags": []
   },
   "outputs": [],
   "source": [
    "prec, recall, f1, support = sklearn.metrics.precision_recall_fscore_support(\n",
    "    y, y_pred, average=\"binary\"\n",
    ")"
   ]
  },
  {
   "cell_type": "code",
   "execution_count": 96,
   "id": "2dc811bc-1046-44e2-af68-27dcaf9643ac",
   "metadata": {
    "execution": {
     "iopub.execute_input": "2022-12-04T23:46:15.939053Z",
     "iopub.status.busy": "2022-12-04T23:46:15.938747Z",
     "iopub.status.idle": "2022-12-04T23:46:15.943764Z",
     "shell.execute_reply": "2022-12-04T23:46:15.943187Z",
     "shell.execute_reply.started": "2022-12-04T23:46:15.939028Z"
    },
    "tags": []
   },
   "outputs": [],
   "source": [
    "variable_importance = pd.DataFrame(\n",
    "    model.feature_importances_,\n",
    "    index=column_trans.get_feature_names_out().tolist(),\n",
    "    columns=[\"importance\"],\n",
    ")"
   ]
  },
  {
   "cell_type": "code",
   "execution_count": 97,
   "id": "e5aeef13-359e-4520-9652-b0ba108b7183",
   "metadata": {
    "execution": {
     "iopub.execute_input": "2022-12-04T23:46:15.944930Z",
     "iopub.status.busy": "2022-12-04T23:46:15.944684Z",
     "iopub.status.idle": "2022-12-04T23:46:15.953265Z",
     "shell.execute_reply": "2022-12-04T23:46:15.952651Z",
     "shell.execute_reply.started": "2022-12-04T23:46:15.944908Z"
    },
    "tags": []
   },
   "outputs": [
    {
     "data": {
      "text/html": [
       "<div>\n",
       "<style scoped>\n",
       "    .dataframe tbody tr th:only-of-type {\n",
       "        vertical-align: middle;\n",
       "    }\n",
       "\n",
       "    .dataframe tbody tr th {\n",
       "        vertical-align: top;\n",
       "    }\n",
       "\n",
       "    .dataframe thead th {\n",
       "        text-align: right;\n",
       "    }\n",
       "</style>\n",
       "<table border=\"1\" class=\"dataframe\">\n",
       "  <thead>\n",
       "    <tr style=\"text-align: right;\">\n",
       "      <th></th>\n",
       "      <th>importance</th>\n",
       "    </tr>\n",
       "  </thead>\n",
       "  <tbody>\n",
       "    <tr>\n",
       "      <th>minmax__glucose</th>\n",
       "      <td>0.735558</td>\n",
       "    </tr>\n",
       "    <tr>\n",
       "      <th>minmax__bmi</th>\n",
       "      <td>0.264442</td>\n",
       "    </tr>\n",
       "    <tr>\n",
       "      <th>one_hot__age_(20.999, 22.0]</th>\n",
       "      <td>0.000000</td>\n",
       "    </tr>\n",
       "    <tr>\n",
       "      <th>one_hot__age_(22.0, 25.0]</th>\n",
       "      <td>0.000000</td>\n",
       "    </tr>\n",
       "    <tr>\n",
       "      <th>one_hot__age_(25.0, 29.0]</th>\n",
       "      <td>0.000000</td>\n",
       "    </tr>\n",
       "    <tr>\n",
       "      <th>one_hot__age_(29.0, 36.0]</th>\n",
       "      <td>0.000000</td>\n",
       "    </tr>\n",
       "    <tr>\n",
       "      <th>one_hot__age_(36.0, 45.0]</th>\n",
       "      <td>0.000000</td>\n",
       "    </tr>\n",
       "    <tr>\n",
       "      <th>one_hot__age_(45.0, 81.0]</th>\n",
       "      <td>0.000000</td>\n",
       "    </tr>\n",
       "    <tr>\n",
       "      <th>minmax__pregnancies</th>\n",
       "      <td>0.000000</td>\n",
       "    </tr>\n",
       "    <tr>\n",
       "      <th>minmax__bloodpressure</th>\n",
       "      <td>0.000000</td>\n",
       "    </tr>\n",
       "    <tr>\n",
       "      <th>minmax__skinthickness</th>\n",
       "      <td>0.000000</td>\n",
       "    </tr>\n",
       "    <tr>\n",
       "      <th>minmax__insulin</th>\n",
       "      <td>0.000000</td>\n",
       "    </tr>\n",
       "    <tr>\n",
       "      <th>minmax__diabetespedigreefunction</th>\n",
       "      <td>0.000000</td>\n",
       "    </tr>\n",
       "  </tbody>\n",
       "</table>\n",
       "</div>"
      ],
      "text/plain": [
       "                                  importance\n",
       "minmax__glucose                     0.735558\n",
       "minmax__bmi                         0.264442\n",
       "one_hot__age_(20.999, 22.0]         0.000000\n",
       "one_hot__age_(22.0, 25.0]           0.000000\n",
       "one_hot__age_(25.0, 29.0]           0.000000\n",
       "one_hot__age_(29.0, 36.0]           0.000000\n",
       "one_hot__age_(36.0, 45.0]           0.000000\n",
       "one_hot__age_(45.0, 81.0]           0.000000\n",
       "minmax__pregnancies                 0.000000\n",
       "minmax__bloodpressure               0.000000\n",
       "minmax__skinthickness               0.000000\n",
       "minmax__insulin                     0.000000\n",
       "minmax__diabetespedigreefunction    0.000000"
      ]
     },
     "execution_count": 97,
     "metadata": {},
     "output_type": "execute_result"
    }
   ],
   "source": [
    "variable_importance.sort_values(\"importance\", ascending=False)"
   ]
  },
  {
   "cell_type": "code",
   "execution_count": 98,
   "id": "5911fa50-f827-4d30-85c3-9d369dd64b8e",
   "metadata": {
    "execution": {
     "iopub.execute_input": "2022-12-04T23:46:15.954565Z",
     "iopub.status.busy": "2022-12-04T23:46:15.954312Z",
     "iopub.status.idle": "2022-12-04T23:46:15.957464Z",
     "shell.execute_reply": "2022-12-04T23:46:15.956805Z",
     "shell.execute_reply.started": "2022-12-04T23:46:15.954540Z"
    },
    "tags": []
   },
   "outputs": [],
   "source": [
    "import graphviz "
   ]
  },
  {
   "cell_type": "code",
   "execution_count": 99,
   "id": "5fe3d42d-d78d-414b-b3d7-4ee7abdb8f4a",
   "metadata": {
    "execution": {
     "iopub.execute_input": "2022-12-04T23:46:15.958729Z",
     "iopub.status.busy": "2022-12-04T23:46:15.958336Z",
     "iopub.status.idle": "2022-12-04T23:46:15.968553Z",
     "shell.execute_reply": "2022-12-04T23:46:15.967772Z",
     "shell.execute_reply.started": "2022-12-04T23:46:15.958702Z"
    },
    "tags": []
   },
   "outputs": [],
   "source": [
    "dot_data = tree.export_graphviz(model, filled=True,rounded=True,special_characters=True,out_file='pima_tree.dot',\n",
    "                                feature_names = column_trans.get_feature_names_out(),class_names=['No Diabetes','Diabetes'])"
   ]
  },
  {
   "cell_type": "code",
   "execution_count": 101,
   "id": "4647e34b-9331-43ce-b204-9be6d7155e14",
   "metadata": {
    "execution": {
     "iopub.execute_input": "2022-12-04T23:46:22.962695Z",
     "iopub.status.busy": "2022-12-04T23:46:22.962281Z",
     "iopub.status.idle": "2022-12-04T23:46:23.313103Z",
     "shell.execute_reply": "2022-12-04T23:46:23.312492Z",
     "shell.execute_reply.started": "2022-12-04T23:46:22.962666Z"
    },
    "tags": []
   },
   "outputs": [
    {
     "data": {
      "text/plain": [
       "'pima_tree.png'"
      ]
     },
     "execution_count": 101,
     "metadata": {},
     "output_type": "execute_result"
    }
   ],
   "source": [
    "graph = graphviz.render('dot', filepath='pima_tree.dot',outfile='pima_tree.png').replace('\\\\', '/')\n",
    "graph"
   ]
  },
  {
   "cell_type": "code",
   "execution_count": null,
   "id": "7e515da4-f97a-466a-ae45-6e78aef9c208",
   "metadata": {
    "tags": []
   },
   "outputs": [],
   "source": [
    "dot_data = sklearn.tree.export_graphviz(\n",
    "    model,\n",
    "    out_file=\"tree.dot\",\n",
    "    filled=True,\n",
    "    rounded=True,\n",
    "    special_characters=True\n",
    "    # feature_names=column_trans.get_feature_names_out(),\n",
    "    # class_names=[\"No Diabetes\", \"Diabetes\"],\n",
    ")"
   ]
  },
  {
   "cell_type": "code",
   "execution_count": null,
   "id": "63a70e12-b297-46b5-8aa5-316348978340",
   "metadata": {
    "tags": []
   },
   "outputs": [],
   "source": [
    "graph = graphviz.Source(dot_data)"
   ]
  },
  {
   "cell_type": "code",
   "execution_count": null,
   "id": "b00f852b-b931-4735-bce6-32206858c7df",
   "metadata": {
    "tags": []
   },
   "outputs": [],
   "source": [
    "dot_data"
   ]
  },
  {
   "cell_type": "code",
   "execution_count": null,
   "id": "45ebc04a-c396-47b1-b2e7-ec9ce36e161c",
   "metadata": {
    "tags": []
   },
   "outputs": [],
   "source": [
    "model.estimators_[0]"
   ]
  },
  {
   "cell_type": "code",
   "execution_count": null,
   "id": "2f2f58c5-4b04-4efc-8e1a-dcb893da69e6",
   "metadata": {
    "tags": []
   },
   "outputs": [],
   "source": [
    "dot_data = export_graphviz(\n",
    "    model.estimators_[0],\n",
    "    out_file=\"tree.dot\",\n",
    "    feature_names=column_trans.get_feature_names_out(),\n",
    "    class_names=[\"Diabetes\", \"No Diabetes\"],\n",
    "    rounded=True,\n",
    "    proportion=False,\n",
    "    precision=2,\n",
    "    filled=True,\n",
    ")"
   ]
  },
  {
   "cell_type": "code",
   "execution_count": null,
   "id": "57d42e56-e07f-4a66-99ca-7a8d8c49b9bd",
   "metadata": {
    "tags": []
   },
   "outputs": [],
   "source": [
    "!dot -V"
   ]
  },
  {
   "cell_type": "code",
   "execution_count": null,
   "id": "797aeec0-3b8c-4a76-80ad-066af244f900",
   "metadata": {
    "tags": []
   },
   "outputs": [],
   "source": [
    "from subprocess import call\n",
    "\n",
    "call([\"dot\", \"-Tpng\", \"tree.dot\", \"-o\", \"tree.png\", \"-Gdpi=600\"])"
   ]
  },
  {
   "cell_type": "code",
   "execution_count": null,
   "id": "6c5a3a74-0af7-4131-ae61-c97cfa34a93d",
   "metadata": {
    "tags": []
   },
   "outputs": [],
   "source": [
    "import graphviz"
   ]
  },
  {
   "cell_type": "code",
   "execution_count": null,
   "id": "f566d7f3-c5d8-4e79-99c5-d3599fd04a14",
   "metadata": {
    "tags": []
   },
   "outputs": [],
   "source": [
    "graph = graphviz.Source(dot_data)"
   ]
  },
  {
   "cell_type": "code",
   "execution_count": null,
   "id": "ec572712-a70f-45a6-aa88-9a68a02baf59",
   "metadata": {
    "tags": []
   },
   "outputs": [],
   "source": [
    "graph"
   ]
  },
  {
   "cell_type": "code",
   "execution_count": null,
   "id": "e81f7f99-8c68-4ab2-968d-52061cfdc667",
   "metadata": {
    "tags": []
   },
   "outputs": [],
   "source": [
    "import shap"
   ]
  },
  {
   "cell_type": "code",
   "execution_count": null,
   "id": "718f850d-304d-4a7b-9c37-f5b1c29a5698",
   "metadata": {
    "tags": []
   },
   "outputs": [],
   "source": [
    "# load JS visualization code to notebook\n",
    "shap.initjs()"
   ]
  },
  {
   "cell_type": "code",
   "execution_count": null,
   "id": "0d6dedac-fb03-4ee5-a5d4-d7418e625153",
   "metadata": {
    "tags": []
   },
   "outputs": [],
   "source": [
    "explainer = shap.TreeExplainer(model)\n",
    "shap_values = explainer.shap_values(X)"
   ]
  },
  {
   "cell_type": "code",
   "execution_count": null,
   "id": "366f780e-2562-4b43-ad50-f36395125845",
   "metadata": {
    "tags": []
   },
   "outputs": [],
   "source": [
    "len(shap_values)"
   ]
  },
  {
   "cell_type": "code",
   "execution_count": null,
   "id": "12ed5ad8-0ae0-4482-9d3c-e9519ec59ef4",
   "metadata": {
    "tags": []
   },
   "outputs": [],
   "source": [
    "sylhet_copy.columns"
   ]
  },
  {
   "cell_type": "code",
   "execution_count": null,
   "id": "36f4b933-753d-49df-946a-46483548950c",
   "metadata": {
    "tags": []
   },
   "outputs": [],
   "source": [
    "my_fig = shap.summary_plot(\n",
    "    shap_values, features=X, feature_names=column_trans.get_feature_names_out(),\n",
    ")"
   ]
  },
  {
   "cell_type": "code",
   "execution_count": 102,
   "id": "d7fa3783-fe69-4cae-8f25-711cec04a459",
   "metadata": {
    "execution": {
     "iopub.execute_input": "2022-12-04T23:48:31.529275Z",
     "iopub.status.busy": "2022-12-04T23:48:31.528993Z",
     "iopub.status.idle": "2022-12-04T23:48:31.533700Z",
     "shell.execute_reply": "2022-12-04T23:48:31.532685Z",
     "shell.execute_reply.started": "2022-12-04T23:48:31.529245Z"
    },
    "tags": []
   },
   "outputs": [],
   "source": [
    "alg = linear_model.LogisticRegression(penalty='l1',solver='liblinear')"
   ]
  },
  {
   "cell_type": "code",
   "execution_count": 103,
   "id": "f72670bd-0edc-4cf2-8cbc-fa05c5f05f6f",
   "metadata": {
    "execution": {
     "iopub.execute_input": "2022-12-04T23:48:33.574329Z",
     "iopub.status.busy": "2022-12-04T23:48:33.574017Z",
     "iopub.status.idle": "2022-12-04T23:48:33.666265Z",
     "shell.execute_reply": "2022-12-04T23:48:33.665852Z",
     "shell.execute_reply.started": "2022-12-04T23:48:33.574303Z"
    },
    "tags": []
   },
   "outputs": [],
   "source": [
    "cv_results = model_selection.cross_validate(\n",
    "    alg, X, y, cv=cv_split, return_train_score=True, scoring=\"f1_macro\",\n",
    ")\n",
    "\n",
    "# save MLA predictions - see section 6 for usage\n",
    "model = alg.fit(X, y)\n",
    "y_pred = alg.predict(X)"
   ]
  },
  {
   "cell_type": "code",
   "execution_count": 104,
   "id": "bc9605a7-8bf5-4c7b-81e2-bea6cd0a57cf",
   "metadata": {
    "execution": {
     "iopub.execute_input": "2022-12-04T23:48:33.667627Z",
     "iopub.status.busy": "2022-12-04T23:48:33.667405Z",
     "iopub.status.idle": "2022-12-04T23:48:33.674851Z",
     "shell.execute_reply": "2022-12-04T23:48:33.673932Z",
     "shell.execute_reply.started": "2022-12-04T23:48:33.667600Z"
    },
    "tags": []
   },
   "outputs": [
    {
     "data": {
      "text/plain": [
       "(0.7365853658536585, 0.5634328358208955, 0.638477801268499, None)"
      ]
     },
     "execution_count": 104,
     "metadata": {},
     "output_type": "execute_result"
    }
   ],
   "source": [
    "sklearn.metrics.precision_recall_fscore_support(y, y_pred, average=\"binary\")"
   ]
  },
  {
   "cell_type": "code",
   "execution_count": 105,
   "id": "27adfd04-ce87-47b6-a4aa-82d76f05c629",
   "metadata": {
    "execution": {
     "iopub.execute_input": "2022-12-04T23:48:33.676778Z",
     "iopub.status.busy": "2022-12-04T23:48:33.676151Z",
     "iopub.status.idle": "2022-12-04T23:48:33.680795Z",
     "shell.execute_reply": "2022-12-04T23:48:33.679962Z",
     "shell.execute_reply.started": "2022-12-04T23:48:33.676736Z"
    },
    "tags": []
   },
   "outputs": [],
   "source": [
    "np.set_printoptions(suppress=True)"
   ]
  },
  {
   "cell_type": "code",
   "execution_count": 106,
   "id": "1554c7d5-b527-4f3a-b463-f6c5dc48ba59",
   "metadata": {
    "execution": {
     "iopub.execute_input": "2022-12-04T23:48:33.682196Z",
     "iopub.status.busy": "2022-12-04T23:48:33.681807Z",
     "iopub.status.idle": "2022-12-04T23:48:33.686052Z",
     "shell.execute_reply": "2022-12-04T23:48:33.685453Z",
     "shell.execute_reply.started": "2022-12-04T23:48:33.682170Z"
    },
    "tags": []
   },
   "outputs": [],
   "source": [
    "pd.set_option('display.float_format', lambda x: '%.5f' % x)"
   ]
  },
  {
   "cell_type": "code",
   "execution_count": 107,
   "id": "cdeb0c28-a255-401f-9b53-8c26bec0576a",
   "metadata": {
    "execution": {
     "iopub.execute_input": "2022-12-04T23:48:35.509421Z",
     "iopub.status.busy": "2022-12-04T23:48:35.509113Z",
     "iopub.status.idle": "2022-12-04T23:48:35.515434Z",
     "shell.execute_reply": "2022-12-04T23:48:35.514679Z",
     "shell.execute_reply.started": "2022-12-04T23:48:35.509389Z"
    },
    "tags": []
   },
   "outputs": [
    {
     "data": {
      "text/plain": [
       "array([[-1.18364997, -0.7304821 , -0.49517741,  0.14653216,  0.04096486,\n",
       "         0.        ,  1.01822555,  5.90968993, -1.15281664,  0.        ,\n",
       "        -0.05965598,  4.29305094,  1.44702792]])"
      ]
     },
     "execution_count": 107,
     "metadata": {},
     "output_type": "execute_result"
    }
   ],
   "source": [
    "model.coef_"
   ]
  },
  {
   "cell_type": "code",
   "execution_count": 108,
   "id": "6a16e2da-acb9-4509-b80f-954005fa1006",
   "metadata": {
    "execution": {
     "iopub.execute_input": "2022-12-04T23:48:36.261700Z",
     "iopub.status.busy": "2022-12-04T23:48:36.261416Z",
     "iopub.status.idle": "2022-12-04T23:48:36.267380Z",
     "shell.execute_reply": "2022-12-04T23:48:36.266650Z",
     "shell.execute_reply.started": "2022-12-04T23:48:36.261670Z"
    },
    "tags": []
   },
   "outputs": [
    {
     "data": {
      "text/plain": [
       "array([[  0.30615922,   0.48167672,   0.60946277,   1.15781217,\n",
       "          1.04181549,   1.        ,   2.76827823, 368.5918495 ,\n",
       "          0.31574617,   1.        ,   0.94208857,  73.18942486,\n",
       "          4.25046299]])"
      ]
     },
     "execution_count": 108,
     "metadata": {},
     "output_type": "execute_result"
    }
   ],
   "source": [
    "np.exp(model.coef_)"
   ]
  },
  {
   "cell_type": "code",
   "execution_count": 109,
   "id": "b00b5dfe-c9e6-4460-bc2a-3c191d111e57",
   "metadata": {
    "execution": {
     "iopub.execute_input": "2022-12-04T23:48:38.174801Z",
     "iopub.status.busy": "2022-12-04T23:48:38.174499Z",
     "iopub.status.idle": "2022-12-04T23:48:38.180578Z",
     "shell.execute_reply": "2022-12-04T23:48:38.179656Z",
     "shell.execute_reply.started": "2022-12-04T23:48:38.174770Z"
    },
    "tags": []
   },
   "outputs": [],
   "source": [
    "var_coef = pd.DataFrame(\n",
    "    np.exp(model.coef_)[0],\n",
    "    index=column_trans.get_feature_names_out().tolist(),\n",
    "    columns=[\"lr_coefficient\"],\n",
    ")"
   ]
  },
  {
   "cell_type": "code",
   "execution_count": 110,
   "id": "c85debae-a6e0-4b03-b00b-c5ea9bcc08df",
   "metadata": {
    "execution": {
     "iopub.execute_input": "2022-12-04T23:48:39.285632Z",
     "iopub.status.busy": "2022-12-04T23:48:39.285332Z",
     "iopub.status.idle": "2022-12-04T23:48:39.294602Z",
     "shell.execute_reply": "2022-12-04T23:48:39.294041Z",
     "shell.execute_reply.started": "2022-12-04T23:48:39.285599Z"
    },
    "tags": []
   },
   "outputs": [
    {
     "data": {
      "text/html": [
       "<div>\n",
       "<style scoped>\n",
       "    .dataframe tbody tr th:only-of-type {\n",
       "        vertical-align: middle;\n",
       "    }\n",
       "\n",
       "    .dataframe tbody tr th {\n",
       "        vertical-align: top;\n",
       "    }\n",
       "\n",
       "    .dataframe thead th {\n",
       "        text-align: right;\n",
       "    }\n",
       "</style>\n",
       "<table border=\"1\" class=\"dataframe\">\n",
       "  <thead>\n",
       "    <tr style=\"text-align: right;\">\n",
       "      <th></th>\n",
       "      <th>lr_coefficient</th>\n",
       "    </tr>\n",
       "  </thead>\n",
       "  <tbody>\n",
       "    <tr>\n",
       "      <th>minmax__glucose</th>\n",
       "      <td>368.59185</td>\n",
       "    </tr>\n",
       "    <tr>\n",
       "      <th>minmax__bmi</th>\n",
       "      <td>73.18942</td>\n",
       "    </tr>\n",
       "    <tr>\n",
       "      <th>minmax__diabetespedigreefunction</th>\n",
       "      <td>4.25046</td>\n",
       "    </tr>\n",
       "    <tr>\n",
       "      <th>minmax__pregnancies</th>\n",
       "      <td>2.76828</td>\n",
       "    </tr>\n",
       "    <tr>\n",
       "      <th>one_hot__age_(29.0, 36.0]</th>\n",
       "      <td>1.15781</td>\n",
       "    </tr>\n",
       "    <tr>\n",
       "      <th>one_hot__age_(36.0, 45.0]</th>\n",
       "      <td>1.04182</td>\n",
       "    </tr>\n",
       "    <tr>\n",
       "      <th>one_hot__age_(45.0, 81.0]</th>\n",
       "      <td>1.00000</td>\n",
       "    </tr>\n",
       "    <tr>\n",
       "      <th>minmax__skinthickness</th>\n",
       "      <td>1.00000</td>\n",
       "    </tr>\n",
       "    <tr>\n",
       "      <th>minmax__insulin</th>\n",
       "      <td>0.94209</td>\n",
       "    </tr>\n",
       "    <tr>\n",
       "      <th>one_hot__age_(25.0, 29.0]</th>\n",
       "      <td>0.60946</td>\n",
       "    </tr>\n",
       "    <tr>\n",
       "      <th>one_hot__age_(22.0, 25.0]</th>\n",
       "      <td>0.48168</td>\n",
       "    </tr>\n",
       "    <tr>\n",
       "      <th>minmax__bloodpressure</th>\n",
       "      <td>0.31575</td>\n",
       "    </tr>\n",
       "    <tr>\n",
       "      <th>one_hot__age_(20.999, 22.0]</th>\n",
       "      <td>0.30616</td>\n",
       "    </tr>\n",
       "  </tbody>\n",
       "</table>\n",
       "</div>"
      ],
      "text/plain": [
       "                                  lr_coefficient\n",
       "minmax__glucose                        368.59185\n",
       "minmax__bmi                             73.18942\n",
       "minmax__diabetespedigreefunction         4.25046\n",
       "minmax__pregnancies                      2.76828\n",
       "one_hot__age_(29.0, 36.0]                1.15781\n",
       "one_hot__age_(36.0, 45.0]                1.04182\n",
       "one_hot__age_(45.0, 81.0]                1.00000\n",
       "minmax__skinthickness                    1.00000\n",
       "minmax__insulin                          0.94209\n",
       "one_hot__age_(25.0, 29.0]                0.60946\n",
       "one_hot__age_(22.0, 25.0]                0.48168\n",
       "minmax__bloodpressure                    0.31575\n",
       "one_hot__age_(20.999, 22.0]              0.30616"
      ]
     },
     "execution_count": 110,
     "metadata": {},
     "output_type": "execute_result"
    }
   ],
   "source": [
    "var_coef.sort_values('lr_coefficient',ascending=False)"
   ]
  },
  {
   "cell_type": "code",
   "execution_count": null,
   "id": "a6a1cfa8-50e2-43d0-b811-9d08b4836abe",
   "metadata": {
    "tags": []
   },
   "outputs": [],
   "source": [
    "explainer = shap.LinearExplainer(model, X)\n",
    "shap_values = explainer.shap_values(X)"
   ]
  },
  {
   "cell_type": "code",
   "execution_count": null,
   "id": "5eb9f7cd-1169-4dbe-8396-c169aaa15ed4",
   "metadata": {
    "tags": []
   },
   "outputs": [],
   "source": [
    "shap.summary_plot(shap_values, X, feature_names=column_trans.get_feature_names_out())"
   ]
  },
  {
   "cell_type": "code",
   "execution_count": null,
   "id": "d0907491-37bb-4732-ad25-f8f5ca767450",
   "metadata": {
    "tags": []
   },
   "outputs": [],
   "source": [
    "# barplot using https://seaborn.pydata.org/generated/seaborn.barplot.html\n",
    "sns.barplot(x=\"MLA Test Accuracy Mean\", y=\"MLA Name\", data=MLA_compare, color=\"m\")\n",
    "\n",
    "# prettify using pyplot: https://matplotlib.org/api/pyplot_api.html\n",
    "plt.title(\"Machine Learning Algorithm Accuracy Score \\n\")\n",
    "plt.xlabel(\"Accuracy Score (%)\")\n",
    "plt.ylabel(\"Algorithm\")"
   ]
  },
  {
   "cell_type": "code",
   "execution_count": null,
   "id": "df4cad5a-2e4d-4b61-b91a-d4b73d44fb21",
   "metadata": {
    "tags": []
   },
   "outputs": [],
   "source": [
    "MLA_compare"
   ]
  }
 ],
 "metadata": {
  "kernelspec": {
   "display_name": "Python 3 (ipykernel)",
   "language": "python",
   "name": "python3"
  },
  "language_info": {
   "codemirror_mode": {
    "name": "ipython",
    "version": 3
   },
   "file_extension": ".py",
   "mimetype": "text/x-python",
   "name": "python",
   "nbconvert_exporter": "python",
   "pygments_lexer": "ipython3",
   "version": "3.8.8"
  },
  "vscode": {
   "interpreter": {
    "hash": "444a8d1db4ac198decc2e344d5350eaffd6d9cb6a404dfd0e0baeca17f89aec5"
   }
  }
 },
 "nbformat": 4,
 "nbformat_minor": 5
}
