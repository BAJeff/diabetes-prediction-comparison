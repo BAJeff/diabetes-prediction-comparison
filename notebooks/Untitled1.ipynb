{
 "cells": [
  {
   "cell_type": "code",
   "execution_count": 10,
   "id": "faa90035-ee24-42de-8da6-28433e747ba6",
   "metadata": {
    "execution": {
     "iopub.execute_input": "2022-12-07T18:05:05.247499Z",
     "iopub.status.busy": "2022-12-07T18:05:05.247219Z",
     "iopub.status.idle": "2022-12-07T18:05:05.253503Z",
     "shell.execute_reply": "2022-12-07T18:05:05.252591Z",
     "shell.execute_reply.started": "2022-12-07T18:05:05.247469Z"
    },
    "tags": []
   },
   "outputs": [],
   "source": [
    "from sklearn.model_selection import (\n",
    "    TimeSeriesSplit,\n",
    "    KFold,\n",
    "    ShuffleSplit,\n",
    "    StratifiedKFold,\n",
    "    GroupShuffleSplit,\n",
    "    GroupKFold,\n",
    "    StratifiedShuffleSplit,\n",
    "    StratifiedGroupKFold,\n",
    ")\n",
    "import numpy as np\n",
    "import matplotlib.pyplot as plt\n",
    "from matplotlib.patches import Patch\n",
    "\n",
    "rng = np.random.RandomState(1338)\n",
    "cmap_data = plt.cm.Paired\n",
    "cmap_cv = plt.cm.coolwarm\n",
    "n_splits = 10"
   ]
  },
  {
   "cell_type": "code",
   "execution_count": 11,
   "id": "3d2d13b4-bb8d-4a76-85a6-13358bc2d055",
   "metadata": {
    "execution": {
     "iopub.execute_input": "2022-12-07T18:05:08.004424Z",
     "iopub.status.busy": "2022-12-07T18:05:08.004184Z",
     "iopub.status.idle": "2022-12-07T18:05:08.093764Z",
     "shell.execute_reply": "2022-12-07T18:05:08.092413Z",
     "shell.execute_reply.started": "2022-12-07T18:05:08.004402Z"
    },
    "tags": []
   },
   "outputs": [
    {
     "data": {
      "image/png": "[encoded data removed]",
      "text/plain": [
       "<Figure size 432x288 with 1 Axes>"
      ]
     },
     "metadata": {
      "needs_background": "light"
     },
     "output_type": "display_data"
    }
   ],
   "source": [
    "# Generate the class/group data\n",
    "n_points = 100\n",
    "X = rng.randn(100, 10)\n",
    "\n",
    "percentiles_classes = [0.1, 0.3, 0.6]\n",
    "y = np.hstack([[ii] * int(100 * perc) for ii, perc in enumerate(percentiles_classes)])\n",
    "\n",
    "# Generate uneven groups\n",
    "group_prior = rng.dirichlet([2] * 10)\n",
    "groups = np.repeat(np.arange(10), rng.multinomial(100, group_prior))\n",
    "\n",
    "\n",
    "def visualize_groups(classes, groups, name):\n",
    "    # Visualize dataset groups\n",
    "    fig, ax = plt.subplots()\n",
    "    ax.scatter(\n",
    "        range(len(groups)),\n",
    "        [0.5] * len(groups),\n",
    "        c=groups,\n",
    "        marker=\"_\",\n",
    "        lw=50,\n",
    "        cmap=cmap_data,\n",
    "    )\n",
    "    ax.scatter(\n",
    "        range(len(groups)),\n",
    "        [3.5] * len(groups),\n",
    "        c=classes,\n",
    "        marker=\"_\",\n",
    "        lw=50,\n",
    "        cmap=cmap_data,\n",
    "    )\n",
    "    ax.set(\n",
    "        ylim=[-1, 5],\n",
    "        yticks=[0.5, 3.5],\n",
    "        yticklabels=[\"Data\\ngroup\", \"Data\\nclass\"],\n",
    "        xlabel=\"Sample index\",\n",
    "    )\n",
    "\n",
    "\n",
    "visualize_groups(y, groups, \"no groups\")"
   ]
  },
  {
   "cell_type": "code",
   "execution_count": 12,
   "id": "f8af3e32-ff59-4108-9a40-40d721f9d790",
   "metadata": {
    "execution": {
     "iopub.execute_input": "2022-12-07T18:05:09.375128Z",
     "iopub.status.busy": "2022-12-07T18:05:09.374864Z",
     "iopub.status.idle": "2022-12-07T18:05:09.383674Z",
     "shell.execute_reply": "2022-12-07T18:05:09.382964Z",
     "shell.execute_reply.started": "2022-12-07T18:05:09.375102Z"
    },
    "tags": []
   },
   "outputs": [],
   "source": [
    "def plot_cv_indices(cv, X, y, group, ax, n_splits, lw=10):\n",
    "    \"\"\"Create a sample plot for indices of a cross-validation object.\"\"\"\n",
    "\n",
    "    # Generate the training/testing visualizations for each CV split\n",
    "    for ii, (tr, tt) in enumerate(cv.split(X=X, y=y, groups=group)):\n",
    "        # Fill in indices with the training/test groups\n",
    "        indices = np.array([np.nan] * len(X))\n",
    "        indices[tt] = 1\n",
    "        indices[tr] = 0\n",
    "\n",
    "        # Visualize the results\n",
    "        ax.scatter(\n",
    "            range(len(indices)),\n",
    "            [ii + 0.5] * len(indices),\n",
    "            c=indices,\n",
    "            marker=\"_\",\n",
    "            lw=lw,\n",
    "            cmap=cmap_cv,\n",
    "            vmin=-0.2,\n",
    "            vmax=1.2,\n",
    "        )\n",
    "\n",
    "    # Plot the data classes and groups at the end\n",
    "    ax.scatter(\n",
    "        range(len(X)), [ii + 1.5] * len(X), c=y, marker=\"_\", lw=lw, cmap=cmap_data\n",
    "    )\n",
    "\n",
    "    ax.scatter(\n",
    "        range(len(X)), [ii + 2.5] * len(X), c=group, marker=\"_\", lw=lw, cmap=cmap_data\n",
    "    )\n",
    "\n",
    "    # Formatting\n",
    "    yticklabels = list(range(n_splits)) + [\"class\", \"group\"]\n",
    "    ax.set(\n",
    "        yticks=np.arange(n_splits + 2) + 0.5,\n",
    "        yticklabels=yticklabels,\n",
    "        xlabel=\"Sample index\",\n",
    "        ylabel=\"CV iteration\",\n",
    "        ylim=[n_splits + 2.2, -0.2],\n",
    "        xlim=[0, 100],\n",
    "    )\n",
    "    ax.set_title(\"{}\".format(type(cv).__name__), fontsize=15)\n",
    "    return ax"
   ]
  },
  {
   "cell_type": "code",
   "execution_count": 13,
   "id": "f272ebcc-c929-489b-961a-d28e17906890",
   "metadata": {
    "execution": {
     "iopub.execute_input": "2022-12-07T18:05:10.866706Z",
     "iopub.status.busy": "2022-12-07T18:05:10.866449Z",
     "iopub.status.idle": "2022-12-07T18:05:11.015628Z",
     "shell.execute_reply": "2022-12-07T18:05:11.015089Z",
     "shell.execute_reply.started": "2022-12-07T18:05:10.866681Z"
    },
    "tags": []
   },
   "outputs": [
    {
     "data": {
      "text/plain": [
       "<AxesSubplot:title={'center':'KFold'}, xlabel='Sample index', ylabel='CV iteration'>"
      ]
     },
     "execution_count": 13,
     "metadata": {},
     "output_type": "execute_result"
    },
    {
     "data": {
      "image/png": "[encoded data removed]",
      "text/plain": [
       "<Figure size 432x288 with 1 Axes>"
      ]
     },
     "metadata": {
      "needs_background": "light"
     },
     "output_type": "display_data"
    }
   ],
   "source": [
    "fig, ax = plt.subplots()\n",
    "cv = KFold(n_splits)\n",
    "plot_cv_indices(cv, X, y, groups, ax, n_splits)"
   ]
  },
  {
   "cell_type": "code",
   "execution_count": 7,
   "id": "e618735f-21d3-4175-a3d4-52d3b5c63c3c",
   "metadata": {
    "execution": {
     "iopub.execute_input": "2022-12-07T18:02:29.449662Z",
     "iopub.status.busy": "2022-12-07T18:02:29.449387Z",
     "iopub.status.idle": "2022-12-07T18:02:29.453252Z",
     "shell.execute_reply": "2022-12-07T18:02:29.452381Z",
     "shell.execute_reply.started": "2022-12-07T18:02:29.449636Z"
    },
    "tags": []
   },
   "outputs": [],
   "source": [
    "from sklearn.model_selection import ShuffleSplit"
   ]
  },
  {
   "cell_type": "code",
   "execution_count": 9,
   "id": "780a6718-863b-42e3-b775-5ef083a46498",
   "metadata": {
    "execution": {
     "iopub.execute_input": "2022-12-07T18:02:36.507535Z",
     "iopub.status.busy": "2022-12-07T18:02:36.507207Z",
     "iopub.status.idle": "2022-12-07T18:02:36.641915Z",
     "shell.execute_reply": "2022-12-07T18:02:36.641419Z",
     "shell.execute_reply.started": "2022-12-07T18:02:36.507505Z"
    },
    "tags": []
   },
   "outputs": [
    {
     "data": {
      "text/plain": [
       "<AxesSubplot:title={'center':'KFold'}, xlabel='Sample index', ylabel='CV iteration'>"
      ]
     },
     "execution_count": 9,
     "metadata": {},
     "output_type": "execute_result"
    },
    {
     "data": {
      "image/png": "[encoded data removed]",
      "text/plain": [
       "<Figure size 432x288 with 1 Axes>"
      ]
     },
     "metadata": {
      "needs_background": "light"
     },
     "output_type": "display_data"
    }
   ],
   "source": [
    "fig, ax = plt.subplots()\n",
    "cv_split = ShuffleSplit(\n",
    "    n_splits=10, test_size=0.3, train_size=0.7, random_state=0\n",
    ")\n",
    "plot_cv_indices(cv, X, y, groups, ax, n_splits=10)"
   ]
  }
 ],
 "metadata": {
  "kernelspec": {
   "display_name": "Python 3 (ipykernel)",
   "language": "python",
   "name": "python3"
  },
  "language_info": {
   "codemirror_mode": {
    "name": "ipython",
    "version": 3
   },
   "file_extension": ".py",
   "mimetype": "text/x-python",
   "name": "python",
   "nbconvert_exporter": "python",
   "pygments_lexer": "ipython3",
   "version": "3.8.8"
  }
 },
 "nbformat": 4,
 "nbformat_minor": 5
}
